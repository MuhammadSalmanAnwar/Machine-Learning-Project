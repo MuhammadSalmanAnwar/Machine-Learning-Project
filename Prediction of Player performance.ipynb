{
 "cells": [
  {
   "cell_type": "markdown",
   "id": "6455e6df",
   "metadata": {
    "papermill": {
     "duration": 0.010979,
     "end_time": "2024-09-19T09:59:50.947657",
     "exception": false,
     "start_time": "2024-09-19T09:59:50.936678",
     "status": "completed"
    },
    "tags": []
   },
   "source": []
  },
  {
   "cell_type": "code",
   "execution_count": 1,
   "id": "b8846fd0",
   "metadata": {
    "papermill": {
     "duration": 2.832386,
     "end_time": "2024-09-19T09:59:53.790280",
     "exception": false,
     "start_time": "2024-09-19T09:59:50.957894",
     "status": "completed"
    },
    "tags": []
   },
   "outputs": [],
   "source": [
    "import pandas as pd \n",
    "import numpy as np \n",
    "import plotly.express as px\n",
    "import seaborn as sns\n",
    "import matplotlib.pyplot as plt "
   ]
  },
  {
   "cell_type": "code",
   "execution_count": 2,
   "id": "21addcaf",
   "metadata": {},
   "outputs": [],
   "source": [
    "import warnings\n",
    "\n",
    "# Ignore all warnings\n",
    "warnings.filterwarnings(\"ignore\")\n",
    "\n",
    "# Example: Ignoring specific warnings\n",
    "warnings.filterwarnings(\"ignore\", category=UserWarning)"
   ]
  },
  {
   "cell_type": "markdown",
   "id": "bdeea66c",
   "metadata": {
    "papermill": {
     "duration": 0.010584,
     "end_time": "2024-09-19T09:59:53.811510",
     "exception": false,
     "start_time": "2024-09-19T09:59:53.800926",
     "status": "completed"
    },
    "tags": [
     "parameters"
    ]
   },
   "source": [
    "# Data Exploratary"
   ]
  },
  {
   "cell_type": "code",
   "execution_count": 3,
   "id": "bb7114b7",
   "metadata": {
    "papermill": {
     "duration": 0.441026,
     "end_time": "2024-09-19T09:59:54.263555",
     "exception": false,
     "start_time": "2024-09-19T09:59:53.822529",
     "status": "completed"
    },
    "tags": []
   },
   "outputs": [
    {
     "data": {
      "text/html": [
       "<div>\n",
       "<style scoped>\n",
       "    .dataframe tbody tr th:only-of-type {\n",
       "        vertical-align: middle;\n",
       "    }\n",
       "\n",
       "    .dataframe tbody tr th {\n",
       "        vertical-align: top;\n",
       "    }\n",
       "\n",
       "    .dataframe thead th {\n",
       "        text-align: right;\n",
       "    }\n",
       "</style>\n",
       "<table border=\"1\" class=\"dataframe\">\n",
       "  <thead>\n",
       "    <tr style=\"text-align: right;\">\n",
       "      <th></th>\n",
       "      <th>ID</th>\n",
       "      <th>Name</th>\n",
       "      <th>LongName</th>\n",
       "      <th>photoUrl</th>\n",
       "      <th>playerUrl</th>\n",
       "      <th>Nationality</th>\n",
       "      <th>Age</th>\n",
       "      <th>OVA</th>\n",
       "      <th>POT</th>\n",
       "      <th>Club</th>\n",
       "      <th>...</th>\n",
       "      <th>A/W</th>\n",
       "      <th>D/W</th>\n",
       "      <th>IR</th>\n",
       "      <th>PAC</th>\n",
       "      <th>SHO</th>\n",
       "      <th>PAS</th>\n",
       "      <th>DRI</th>\n",
       "      <th>DEF</th>\n",
       "      <th>PHY</th>\n",
       "      <th>Hits</th>\n",
       "    </tr>\n",
       "  </thead>\n",
       "  <tbody>\n",
       "    <tr>\n",
       "      <th>0</th>\n",
       "      <td>158023</td>\n",
       "      <td>L. Messi</td>\n",
       "      <td>Lionel Messi</td>\n",
       "      <td>https://cdn.sofifa.com/players/158/023/21_60.png</td>\n",
       "      <td>http://sofifa.com/player/158023/lionel-messi/2...</td>\n",
       "      <td>Argentina</td>\n",
       "      <td>33</td>\n",
       "      <td>93</td>\n",
       "      <td>93</td>\n",
       "      <td>\\n\\n\\n\\nFC Barcelona</td>\n",
       "      <td>...</td>\n",
       "      <td>Medium</td>\n",
       "      <td>Low</td>\n",
       "      <td>5</td>\n",
       "      <td>85</td>\n",
       "      <td>92</td>\n",
       "      <td>91</td>\n",
       "      <td>95</td>\n",
       "      <td>38</td>\n",
       "      <td>65</td>\n",
       "      <td>771</td>\n",
       "    </tr>\n",
       "    <tr>\n",
       "      <th>1</th>\n",
       "      <td>20801</td>\n",
       "      <td>Cristiano Ronaldo</td>\n",
       "      <td>C. Ronaldo dos Santos Aveiro</td>\n",
       "      <td>https://cdn.sofifa.com/players/020/801/21_60.png</td>\n",
       "      <td>http://sofifa.com/player/20801/c-ronaldo-dos-s...</td>\n",
       "      <td>Portugal</td>\n",
       "      <td>35</td>\n",
       "      <td>92</td>\n",
       "      <td>92</td>\n",
       "      <td>\\n\\n\\n\\nJuventus</td>\n",
       "      <td>...</td>\n",
       "      <td>High</td>\n",
       "      <td>Low</td>\n",
       "      <td>5</td>\n",
       "      <td>89</td>\n",
       "      <td>93</td>\n",
       "      <td>81</td>\n",
       "      <td>89</td>\n",
       "      <td>35</td>\n",
       "      <td>77</td>\n",
       "      <td>562</td>\n",
       "    </tr>\n",
       "    <tr>\n",
       "      <th>2</th>\n",
       "      <td>200389</td>\n",
       "      <td>J. Oblak</td>\n",
       "      <td>Jan Oblak</td>\n",
       "      <td>https://cdn.sofifa.com/players/200/389/21_60.png</td>\n",
       "      <td>http://sofifa.com/player/200389/jan-oblak/210006/</td>\n",
       "      <td>Slovenia</td>\n",
       "      <td>27</td>\n",
       "      <td>91</td>\n",
       "      <td>93</td>\n",
       "      <td>\\n\\n\\n\\nAtlético Madrid</td>\n",
       "      <td>...</td>\n",
       "      <td>Medium</td>\n",
       "      <td>Medium</td>\n",
       "      <td>3</td>\n",
       "      <td>87</td>\n",
       "      <td>92</td>\n",
       "      <td>78</td>\n",
       "      <td>90</td>\n",
       "      <td>52</td>\n",
       "      <td>90</td>\n",
       "      <td>150</td>\n",
       "    </tr>\n",
       "    <tr>\n",
       "      <th>3</th>\n",
       "      <td>192985</td>\n",
       "      <td>K. De Bruyne</td>\n",
       "      <td>Kevin De Bruyne</td>\n",
       "      <td>https://cdn.sofifa.com/players/192/985/21_60.png</td>\n",
       "      <td>http://sofifa.com/player/192985/kevin-de-bruyn...</td>\n",
       "      <td>Belgium</td>\n",
       "      <td>29</td>\n",
       "      <td>91</td>\n",
       "      <td>91</td>\n",
       "      <td>\\n\\n\\n\\nManchester City</td>\n",
       "      <td>...</td>\n",
       "      <td>High</td>\n",
       "      <td>High</td>\n",
       "      <td>4</td>\n",
       "      <td>76</td>\n",
       "      <td>86</td>\n",
       "      <td>93</td>\n",
       "      <td>88</td>\n",
       "      <td>64</td>\n",
       "      <td>78</td>\n",
       "      <td>207</td>\n",
       "    </tr>\n",
       "    <tr>\n",
       "      <th>4</th>\n",
       "      <td>190871</td>\n",
       "      <td>Neymar Jr</td>\n",
       "      <td>Neymar da Silva Santos Jr.</td>\n",
       "      <td>https://cdn.sofifa.com/players/190/871/21_60.png</td>\n",
       "      <td>http://sofifa.com/player/190871/neymar-da-silv...</td>\n",
       "      <td>Brazil</td>\n",
       "      <td>28</td>\n",
       "      <td>91</td>\n",
       "      <td>91</td>\n",
       "      <td>\\n\\n\\n\\nParis Saint-Germain</td>\n",
       "      <td>...</td>\n",
       "      <td>High</td>\n",
       "      <td>Medium</td>\n",
       "      <td>5</td>\n",
       "      <td>91</td>\n",
       "      <td>85</td>\n",
       "      <td>86</td>\n",
       "      <td>94</td>\n",
       "      <td>36</td>\n",
       "      <td>59</td>\n",
       "      <td>595</td>\n",
       "    </tr>\n",
       "  </tbody>\n",
       "</table>\n",
       "<p>5 rows × 77 columns</p>\n",
       "</div>"
      ],
      "text/plain": [
       "       ID               Name                      LongName  \\\n",
       "0  158023           L. Messi                  Lionel Messi   \n",
       "1   20801  Cristiano Ronaldo  C. Ronaldo dos Santos Aveiro   \n",
       "2  200389           J. Oblak                     Jan Oblak   \n",
       "3  192985       K. De Bruyne               Kevin De Bruyne   \n",
       "4  190871          Neymar Jr    Neymar da Silva Santos Jr.   \n",
       "\n",
       "                                           photoUrl  \\\n",
       "0  https://cdn.sofifa.com/players/158/023/21_60.png   \n",
       "1  https://cdn.sofifa.com/players/020/801/21_60.png   \n",
       "2  https://cdn.sofifa.com/players/200/389/21_60.png   \n",
       "3  https://cdn.sofifa.com/players/192/985/21_60.png   \n",
       "4  https://cdn.sofifa.com/players/190/871/21_60.png   \n",
       "\n",
       "                                           playerUrl Nationality  Age  OVA  \\\n",
       "0  http://sofifa.com/player/158023/lionel-messi/2...   Argentina   33   93   \n",
       "1  http://sofifa.com/player/20801/c-ronaldo-dos-s...    Portugal   35   92   \n",
       "2  http://sofifa.com/player/200389/jan-oblak/210006/    Slovenia   27   91   \n",
       "3  http://sofifa.com/player/192985/kevin-de-bruyn...     Belgium   29   91   \n",
       "4  http://sofifa.com/player/190871/neymar-da-silv...      Brazil   28   91   \n",
       "\n",
       "   POT                         Club  ...     A/W     D/W IR PAC SHO  PAS DRI  \\\n",
       "0   93         \\n\\n\\n\\nFC Barcelona  ...  Medium     Low  5  85  92   91  95   \n",
       "1   92             \\n\\n\\n\\nJuventus  ...    High     Low  5  89  93   81  89   \n",
       "2   93      \\n\\n\\n\\nAtlético Madrid  ...  Medium  Medium  3  87  92   78  90   \n",
       "3   91      \\n\\n\\n\\nManchester City  ...    High    High  4  76  86   93  88   \n",
       "4   91  \\n\\n\\n\\nParis Saint-Germain  ...    High  Medium  5  91  85   86  94   \n",
       "\n",
       "  DEF PHY Hits  \n",
       "0  38  65  771  \n",
       "1  35  77  562  \n",
       "2  52  90  150  \n",
       "3  64  78  207  \n",
       "4  36  59  595  \n",
       "\n",
       "[5 rows x 77 columns]"
      ]
     },
     "execution_count": 3,
     "metadata": {},
     "output_type": "execute_result"
    }
   ],
   "source": [
    "fifa=pd.read_csv(\"Fifa clean data.csv\")\n",
    "fifa.head()"
   ]
  },
  {
   "cell_type": "code",
   "execution_count": 4,
   "id": "02694007",
   "metadata": {
    "papermill": {
     "duration": 0.040753,
     "end_time": "2024-09-19T09:59:54.314823",
     "exception": false,
     "start_time": "2024-09-19T09:59:54.274070",
     "status": "completed"
    },
    "tags": []
   },
   "outputs": [],
   "source": [
    "fifa.drop(columns=[\"ID\",\"photoUrl\",\"Volleys\",\"Loan Date End\",\"Short Passing\",\"Curve\",\"playerUrl\",\"Contract\",\"POT\",\"Joined\",\"Crossing\",\"Attacking\",\"Heading Accuracy\",\"Finishing\",\"Movement\",\"Agility\",\"Reactions\",\"Balance\",\"Power\",\"Strength\",\"Long Shots\",\"Mentality\",\"Aggression\",\"Interceptions\",\"Positioning\",\"Composure\",\"Marking\",\"Standing Tackle\",\"Sliding Tackle\",\"GK Diving\",\"GK Handling\",\"GK Kicking\",\"GK Positioning\",\"Total Stats\",\"Hits\",\"Defending\"],axis=1,inplace=True)\n"
   ]
  },
  {
   "cell_type": "code",
   "execution_count": 5,
   "id": "3b8d6605",
   "metadata": {
    "papermill": {
     "duration": 0.055918,
     "end_time": "2024-09-19T09:59:54.381749",
     "exception": false,
     "start_time": "2024-09-19T09:59:54.325831",
     "status": "completed"
    },
    "tags": []
   },
   "outputs": [
    {
     "name": "stdout",
     "output_type": "stream",
     "text": [
      "<class 'pandas.core.frame.DataFrame'>\n",
      "RangeIndex: 18979 entries, 0 to 18978\n",
      "Data columns (total 41 columns):\n",
      " #   Column          Non-Null Count  Dtype \n",
      "---  ------          --------------  ----- \n",
      " 0   Name            18979 non-null  object\n",
      " 1   LongName        18979 non-null  object\n",
      " 2   Nationality     18979 non-null  object\n",
      " 3   Age             18979 non-null  int64 \n",
      " 4   OVA             18979 non-null  int64 \n",
      " 5   Club            18979 non-null  object\n",
      " 6   Positions       18979 non-null  object\n",
      " 7   Height          18979 non-null  object\n",
      " 8   Weight          18979 non-null  object\n",
      " 9   Preferred Foot  18979 non-null  object\n",
      " 10  BOV             18979 non-null  int64 \n",
      " 11  Best Position   18979 non-null  object\n",
      " 12  Value           18979 non-null  object\n",
      " 13  Wage            18979 non-null  object\n",
      " 14  Release Clause  18979 non-null  object\n",
      " 15  Skill           18979 non-null  int64 \n",
      " 16  Dribbling       18979 non-null  int64 \n",
      " 17  FK Accuracy     18979 non-null  int64 \n",
      " 18  Long Passing    18979 non-null  int64 \n",
      " 19  Ball Control    18979 non-null  int64 \n",
      " 20  Acceleration    18979 non-null  int64 \n",
      " 21  Sprint Speed    18979 non-null  int64 \n",
      " 22  Shot Power      18979 non-null  int64 \n",
      " 23  Jumping         18979 non-null  int64 \n",
      " 24  Stamina         18979 non-null  int64 \n",
      " 25  Vision          18979 non-null  int64 \n",
      " 26  Penalties       18979 non-null  int64 \n",
      " 27  Goalkeeping     18979 non-null  int64 \n",
      " 28  GK Reflexes     18979 non-null  int64 \n",
      " 29  Base Stats      18979 non-null  int64 \n",
      " 30  W/F             18979 non-null  int64 \n",
      " 31  SM              18979 non-null  int64 \n",
      " 32  A/W             18979 non-null  object\n",
      " 33  D/W             18979 non-null  object\n",
      " 34  IR              18979 non-null  int64 \n",
      " 35  PAC             18979 non-null  int64 \n",
      " 36  SHO             18979 non-null  int64 \n",
      " 37  PAS             18979 non-null  int64 \n",
      " 38  DRI             18979 non-null  int64 \n",
      " 39  DEF             18979 non-null  int64 \n",
      " 40  PHY             18979 non-null  int64 \n",
      "dtypes: int64(27), object(14)\n",
      "memory usage: 5.9+ MB\n"
     ]
    }
   ],
   "source": [
    "fifa.info()"
   ]
  },
  {
   "cell_type": "code",
   "execution_count": 6,
   "id": "92c4ad8d",
   "metadata": {
    "papermill": {
     "duration": 0.104873,
     "end_time": "2024-09-19T09:59:54.497359",
     "exception": false,
     "start_time": "2024-09-19T09:59:54.392486",
     "status": "completed"
    },
    "tags": []
   },
   "outputs": [
    {
     "data": {
      "text/html": [
       "<div>\n",
       "<style scoped>\n",
       "    .dataframe tbody tr th:only-of-type {\n",
       "        vertical-align: middle;\n",
       "    }\n",
       "\n",
       "    .dataframe tbody tr th {\n",
       "        vertical-align: top;\n",
       "    }\n",
       "\n",
       "    .dataframe thead th {\n",
       "        text-align: right;\n",
       "    }\n",
       "</style>\n",
       "<table border=\"1\" class=\"dataframe\">\n",
       "  <thead>\n",
       "    <tr style=\"text-align: right;\">\n",
       "      <th></th>\n",
       "      <th>count</th>\n",
       "      <th>mean</th>\n",
       "      <th>std</th>\n",
       "      <th>min</th>\n",
       "      <th>25%</th>\n",
       "      <th>50%</th>\n",
       "      <th>75%</th>\n",
       "      <th>max</th>\n",
       "    </tr>\n",
       "  </thead>\n",
       "  <tbody>\n",
       "    <tr>\n",
       "      <th>Age</th>\n",
       "      <td>18979.0</td>\n",
       "      <td>25.194109</td>\n",
       "      <td>4.710520</td>\n",
       "      <td>16.0</td>\n",
       "      <td>21.0</td>\n",
       "      <td>25.0</td>\n",
       "      <td>29.0</td>\n",
       "      <td>53.0</td>\n",
       "    </tr>\n",
       "    <tr>\n",
       "      <th>OVA</th>\n",
       "      <td>18979.0</td>\n",
       "      <td>65.718636</td>\n",
       "      <td>6.968999</td>\n",
       "      <td>47.0</td>\n",
       "      <td>61.0</td>\n",
       "      <td>66.0</td>\n",
       "      <td>70.0</td>\n",
       "      <td>93.0</td>\n",
       "    </tr>\n",
       "    <tr>\n",
       "      <th>BOV</th>\n",
       "      <td>18979.0</td>\n",
       "      <td>66.751726</td>\n",
       "      <td>6.747193</td>\n",
       "      <td>48.0</td>\n",
       "      <td>62.0</td>\n",
       "      <td>67.0</td>\n",
       "      <td>71.0</td>\n",
       "      <td>93.0</td>\n",
       "    </tr>\n",
       "    <tr>\n",
       "      <th>Skill</th>\n",
       "      <td>18979.0</td>\n",
       "      <td>256.479214</td>\n",
       "      <td>78.650601</td>\n",
       "      <td>40.0</td>\n",
       "      <td>222.0</td>\n",
       "      <td>269.0</td>\n",
       "      <td>310.0</td>\n",
       "      <td>470.0</td>\n",
       "    </tr>\n",
       "    <tr>\n",
       "      <th>Dribbling</th>\n",
       "      <td>18979.0</td>\n",
       "      <td>55.587491</td>\n",
       "      <td>18.761314</td>\n",
       "      <td>5.0</td>\n",
       "      <td>49.0</td>\n",
       "      <td>61.0</td>\n",
       "      <td>68.0</td>\n",
       "      <td>96.0</td>\n",
       "    </tr>\n",
       "    <tr>\n",
       "      <th>FK Accuracy</th>\n",
       "      <td>18979.0</td>\n",
       "      <td>42.391011</td>\n",
       "      <td>17.227947</td>\n",
       "      <td>5.0</td>\n",
       "      <td>31.0</td>\n",
       "      <td>41.0</td>\n",
       "      <td>55.0</td>\n",
       "      <td>94.0</td>\n",
       "    </tr>\n",
       "    <tr>\n",
       "      <th>Long Passing</th>\n",
       "      <td>18979.0</td>\n",
       "      <td>52.725381</td>\n",
       "      <td>15.178151</td>\n",
       "      <td>5.0</td>\n",
       "      <td>43.0</td>\n",
       "      <td>56.0</td>\n",
       "      <td>64.0</td>\n",
       "      <td>93.0</td>\n",
       "    </tr>\n",
       "    <tr>\n",
       "      <th>Ball Control</th>\n",
       "      <td>18979.0</td>\n",
       "      <td>58.528373</td>\n",
       "      <td>16.565892</td>\n",
       "      <td>5.0</td>\n",
       "      <td>54.0</td>\n",
       "      <td>63.0</td>\n",
       "      <td>69.0</td>\n",
       "      <td>96.0</td>\n",
       "    </tr>\n",
       "    <tr>\n",
       "      <th>Acceleration</th>\n",
       "      <td>18979.0</td>\n",
       "      <td>64.357553</td>\n",
       "      <td>14.889981</td>\n",
       "      <td>13.0</td>\n",
       "      <td>57.0</td>\n",
       "      <td>67.0</td>\n",
       "      <td>74.0</td>\n",
       "      <td>97.0</td>\n",
       "    </tr>\n",
       "    <tr>\n",
       "      <th>Sprint Speed</th>\n",
       "      <td>18979.0</td>\n",
       "      <td>64.412930</td>\n",
       "      <td>14.638743</td>\n",
       "      <td>12.0</td>\n",
       "      <td>57.0</td>\n",
       "      <td>67.0</td>\n",
       "      <td>74.0</td>\n",
       "      <td>96.0</td>\n",
       "    </tr>\n",
       "    <tr>\n",
       "      <th>Shot Power</th>\n",
       "      <td>18979.0</td>\n",
       "      <td>57.801676</td>\n",
       "      <td>13.308747</td>\n",
       "      <td>18.0</td>\n",
       "      <td>48.0</td>\n",
       "      <td>59.0</td>\n",
       "      <td>68.0</td>\n",
       "      <td>95.0</td>\n",
       "    </tr>\n",
       "    <tr>\n",
       "      <th>Jumping</th>\n",
       "      <td>18979.0</td>\n",
       "      <td>64.577375</td>\n",
       "      <td>11.844870</td>\n",
       "      <td>15.0</td>\n",
       "      <td>58.0</td>\n",
       "      <td>65.0</td>\n",
       "      <td>73.0</td>\n",
       "      <td>95.0</td>\n",
       "    </tr>\n",
       "    <tr>\n",
       "      <th>Stamina</th>\n",
       "      <td>18979.0</td>\n",
       "      <td>62.653986</td>\n",
       "      <td>15.804223</td>\n",
       "      <td>12.0</td>\n",
       "      <td>55.0</td>\n",
       "      <td>66.0</td>\n",
       "      <td>73.0</td>\n",
       "      <td>97.0</td>\n",
       "    </tr>\n",
       "    <tr>\n",
       "      <th>Vision</th>\n",
       "      <td>18979.0</td>\n",
       "      <td>53.857105</td>\n",
       "      <td>13.708574</td>\n",
       "      <td>9.0</td>\n",
       "      <td>45.0</td>\n",
       "      <td>55.0</td>\n",
       "      <td>64.0</td>\n",
       "      <td>95.0</td>\n",
       "    </tr>\n",
       "    <tr>\n",
       "      <th>Penalties</th>\n",
       "      <td>18979.0</td>\n",
       "      <td>48.057906</td>\n",
       "      <td>15.655999</td>\n",
       "      <td>6.0</td>\n",
       "      <td>39.0</td>\n",
       "      <td>49.0</td>\n",
       "      <td>60.0</td>\n",
       "      <td>92.0</td>\n",
       "    </tr>\n",
       "    <tr>\n",
       "      <th>Goalkeeping</th>\n",
       "      <td>18979.0</td>\n",
       "      <td>81.436693</td>\n",
       "      <td>84.665579</td>\n",
       "      <td>10.0</td>\n",
       "      <td>48.0</td>\n",
       "      <td>53.0</td>\n",
       "      <td>59.0</td>\n",
       "      <td>440.0</td>\n",
       "    </tr>\n",
       "    <tr>\n",
       "      <th>GK Reflexes</th>\n",
       "      <td>18979.0</td>\n",
       "      <td>16.519627</td>\n",
       "      <td>17.854079</td>\n",
       "      <td>2.0</td>\n",
       "      <td>8.0</td>\n",
       "      <td>11.0</td>\n",
       "      <td>14.0</td>\n",
       "      <td>90.0</td>\n",
       "    </tr>\n",
       "    <tr>\n",
       "      <th>Base Stats</th>\n",
       "      <td>18979.0</td>\n",
       "      <td>355.702197</td>\n",
       "      <td>40.761117</td>\n",
       "      <td>232.0</td>\n",
       "      <td>327.0</td>\n",
       "      <td>356.0</td>\n",
       "      <td>384.0</td>\n",
       "      <td>498.0</td>\n",
       "    </tr>\n",
       "    <tr>\n",
       "      <th>W/F</th>\n",
       "      <td>18979.0</td>\n",
       "      <td>2.940513</td>\n",
       "      <td>0.668449</td>\n",
       "      <td>1.0</td>\n",
       "      <td>3.0</td>\n",
       "      <td>3.0</td>\n",
       "      <td>3.0</td>\n",
       "      <td>5.0</td>\n",
       "    </tr>\n",
       "    <tr>\n",
       "      <th>SM</th>\n",
       "      <td>18979.0</td>\n",
       "      <td>2.364982</td>\n",
       "      <td>0.766114</td>\n",
       "      <td>1.0</td>\n",
       "      <td>2.0</td>\n",
       "      <td>2.0</td>\n",
       "      <td>3.0</td>\n",
       "      <td>5.0</td>\n",
       "    </tr>\n",
       "    <tr>\n",
       "      <th>IR</th>\n",
       "      <td>18979.0</td>\n",
       "      <td>1.091628</td>\n",
       "      <td>0.361760</td>\n",
       "      <td>1.0</td>\n",
       "      <td>1.0</td>\n",
       "      <td>1.0</td>\n",
       "      <td>1.0</td>\n",
       "      <td>5.0</td>\n",
       "    </tr>\n",
       "    <tr>\n",
       "      <th>PAC</th>\n",
       "      <td>18979.0</td>\n",
       "      <td>67.453975</td>\n",
       "      <td>10.677859</td>\n",
       "      <td>25.0</td>\n",
       "      <td>61.0</td>\n",
       "      <td>68.0</td>\n",
       "      <td>75.0</td>\n",
       "      <td>96.0</td>\n",
       "    </tr>\n",
       "    <tr>\n",
       "      <th>SHO</th>\n",
       "      <td>18979.0</td>\n",
       "      <td>53.457031</td>\n",
       "      <td>13.827425</td>\n",
       "      <td>16.0</td>\n",
       "      <td>44.0</td>\n",
       "      <td>56.0</td>\n",
       "      <td>64.0</td>\n",
       "      <td>93.0</td>\n",
       "    </tr>\n",
       "    <tr>\n",
       "      <th>PAS</th>\n",
       "      <td>18979.0</td>\n",
       "      <td>57.681016</td>\n",
       "      <td>10.081857</td>\n",
       "      <td>25.0</td>\n",
       "      <td>51.0</td>\n",
       "      <td>58.0</td>\n",
       "      <td>64.0</td>\n",
       "      <td>93.0</td>\n",
       "    </tr>\n",
       "    <tr>\n",
       "      <th>DRI</th>\n",
       "      <td>18979.0</td>\n",
       "      <td>62.875020</td>\n",
       "      <td>9.927415</td>\n",
       "      <td>25.0</td>\n",
       "      <td>57.0</td>\n",
       "      <td>64.0</td>\n",
       "      <td>69.0</td>\n",
       "      <td>95.0</td>\n",
       "    </tr>\n",
       "    <tr>\n",
       "      <th>DEF</th>\n",
       "      <td>18979.0</td>\n",
       "      <td>49.866221</td>\n",
       "      <td>16.443213</td>\n",
       "      <td>12.0</td>\n",
       "      <td>35.0</td>\n",
       "      <td>53.0</td>\n",
       "      <td>63.0</td>\n",
       "      <td>91.0</td>\n",
       "    </tr>\n",
       "    <tr>\n",
       "      <th>PHY</th>\n",
       "      <td>18979.0</td>\n",
       "      <td>64.368934</td>\n",
       "      <td>9.601883</td>\n",
       "      <td>28.0</td>\n",
       "      <td>58.0</td>\n",
       "      <td>65.0</td>\n",
       "      <td>71.0</td>\n",
       "      <td>91.0</td>\n",
       "    </tr>\n",
       "  </tbody>\n",
       "</table>\n",
       "</div>"
      ],
      "text/plain": [
       "                count        mean        std    min    25%    50%    75%  \\\n",
       "Age           18979.0   25.194109   4.710520   16.0   21.0   25.0   29.0   \n",
       "OVA           18979.0   65.718636   6.968999   47.0   61.0   66.0   70.0   \n",
       "BOV           18979.0   66.751726   6.747193   48.0   62.0   67.0   71.0   \n",
       "Skill         18979.0  256.479214  78.650601   40.0  222.0  269.0  310.0   \n",
       "Dribbling     18979.0   55.587491  18.761314    5.0   49.0   61.0   68.0   \n",
       "FK Accuracy   18979.0   42.391011  17.227947    5.0   31.0   41.0   55.0   \n",
       "Long Passing  18979.0   52.725381  15.178151    5.0   43.0   56.0   64.0   \n",
       "Ball Control  18979.0   58.528373  16.565892    5.0   54.0   63.0   69.0   \n",
       "Acceleration  18979.0   64.357553  14.889981   13.0   57.0   67.0   74.0   \n",
       "Sprint Speed  18979.0   64.412930  14.638743   12.0   57.0   67.0   74.0   \n",
       "Shot Power    18979.0   57.801676  13.308747   18.0   48.0   59.0   68.0   \n",
       "Jumping       18979.0   64.577375  11.844870   15.0   58.0   65.0   73.0   \n",
       "Stamina       18979.0   62.653986  15.804223   12.0   55.0   66.0   73.0   \n",
       "Vision        18979.0   53.857105  13.708574    9.0   45.0   55.0   64.0   \n",
       "Penalties     18979.0   48.057906  15.655999    6.0   39.0   49.0   60.0   \n",
       "Goalkeeping   18979.0   81.436693  84.665579   10.0   48.0   53.0   59.0   \n",
       "GK Reflexes   18979.0   16.519627  17.854079    2.0    8.0   11.0   14.0   \n",
       "Base Stats    18979.0  355.702197  40.761117  232.0  327.0  356.0  384.0   \n",
       "W/F           18979.0    2.940513   0.668449    1.0    3.0    3.0    3.0   \n",
       "SM            18979.0    2.364982   0.766114    1.0    2.0    2.0    3.0   \n",
       "IR            18979.0    1.091628   0.361760    1.0    1.0    1.0    1.0   \n",
       "PAC           18979.0   67.453975  10.677859   25.0   61.0   68.0   75.0   \n",
       "SHO           18979.0   53.457031  13.827425   16.0   44.0   56.0   64.0   \n",
       "PAS           18979.0   57.681016  10.081857   25.0   51.0   58.0   64.0   \n",
       "DRI           18979.0   62.875020   9.927415   25.0   57.0   64.0   69.0   \n",
       "DEF           18979.0   49.866221  16.443213   12.0   35.0   53.0   63.0   \n",
       "PHY           18979.0   64.368934   9.601883   28.0   58.0   65.0   71.0   \n",
       "\n",
       "                max  \n",
       "Age            53.0  \n",
       "OVA            93.0  \n",
       "BOV            93.0  \n",
       "Skill         470.0  \n",
       "Dribbling      96.0  \n",
       "FK Accuracy    94.0  \n",
       "Long Passing   93.0  \n",
       "Ball Control   96.0  \n",
       "Acceleration   97.0  \n",
       "Sprint Speed   96.0  \n",
       "Shot Power     95.0  \n",
       "Jumping        95.0  \n",
       "Stamina        97.0  \n",
       "Vision         95.0  \n",
       "Penalties      92.0  \n",
       "Goalkeeping   440.0  \n",
       "GK Reflexes    90.0  \n",
       "Base Stats    498.0  \n",
       "W/F             5.0  \n",
       "SM              5.0  \n",
       "IR              5.0  \n",
       "PAC            96.0  \n",
       "SHO            93.0  \n",
       "PAS            93.0  \n",
       "DRI            95.0  \n",
       "DEF            91.0  \n",
       "PHY            91.0  "
      ]
     },
     "execution_count": 6,
     "metadata": {},
     "output_type": "execute_result"
    }
   ],
   "source": [
    "fifa.describe().T"
   ]
  },
  {
   "cell_type": "code",
   "execution_count": 7,
   "id": "884a0916",
   "metadata": {
    "papermill": {
     "duration": 0.062109,
     "end_time": "2024-09-19T09:59:54.570508",
     "exception": false,
     "start_time": "2024-09-19T09:59:54.508399",
     "status": "completed"
    },
    "tags": []
   },
   "outputs": [
    {
     "data": {
      "text/plain": [
       "0"
      ]
     },
     "execution_count": 7,
     "metadata": {},
     "output_type": "execute_result"
    }
   ],
   "source": [
    "fifa.duplicated().sum()"
   ]
  },
  {
   "cell_type": "code",
   "execution_count": 8,
   "id": "e1292405",
   "metadata": {
    "papermill": {
     "duration": 0.040622,
     "end_time": "2024-09-19T09:59:54.622738",
     "exception": false,
     "start_time": "2024-09-19T09:59:54.582116",
     "status": "completed"
    },
    "tags": []
   },
   "outputs": [
    {
     "data": {
      "text/plain": [
       "Name              0\n",
       "Sprint Speed      0\n",
       "Jumping           0\n",
       "Stamina           0\n",
       "Vision            0\n",
       "Penalties         0\n",
       "Goalkeeping       0\n",
       "GK Reflexes       0\n",
       "Base Stats        0\n",
       "W/F               0\n",
       "SM                0\n",
       "A/W               0\n",
       "D/W               0\n",
       "IR                0\n",
       "PAC               0\n",
       "SHO               0\n",
       "PAS               0\n",
       "DRI               0\n",
       "DEF               0\n",
       "Shot Power        0\n",
       "Acceleration      0\n",
       "LongName          0\n",
       "Ball Control      0\n",
       "Nationality       0\n",
       "Age               0\n",
       "OVA               0\n",
       "Club              0\n",
       "Positions         0\n",
       "Height            0\n",
       "Weight            0\n",
       "Preferred Foot    0\n",
       "BOV               0\n",
       "Best Position     0\n",
       "Value             0\n",
       "Wage              0\n",
       "Release Clause    0\n",
       "Skill             0\n",
       "Dribbling         0\n",
       "FK Accuracy       0\n",
       "Long Passing      0\n",
       "PHY               0\n",
       "dtype: int64"
      ]
     },
     "execution_count": 8,
     "metadata": {},
     "output_type": "execute_result"
    }
   ],
   "source": [
    "fifa.isnull().sum().sort_values(ascending=False)"
   ]
  },
  {
   "cell_type": "code",
   "execution_count": 9,
   "id": "081804f8",
   "metadata": {
    "papermill": {
     "duration": 0.030156,
     "end_time": "2024-09-19T09:59:54.664133",
     "exception": false,
     "start_time": "2024-09-19T09:59:54.633977",
     "status": "completed"
    },
    "tags": []
   },
   "outputs": [
    {
     "data": {
      "text/plain": [
       "0               FC Barcelona\n",
       "1                   Juventus\n",
       "2            Atlético Madrid\n",
       "3            Manchester City\n",
       "4        Paris Saint-Germain\n",
       "                ...         \n",
       "18974             Wuhan Zall\n",
       "18975        Oldham Athletic\n",
       "18976             Derry City\n",
       "18977       Dalian YiFang FC\n",
       "18978       Dalian YiFang FC\n",
       "Name: Club, Length: 18979, dtype: object"
      ]
     },
     "execution_count": 9,
     "metadata": {},
     "output_type": "execute_result"
    }
   ],
   "source": [
    "fifa[\"Club\"]=fifa[\"Club\"].str.strip( )\n",
    "fifa[\"Club\"]"
   ]
  },
  {
   "cell_type": "code",
   "execution_count": 10,
   "id": "600fe228",
   "metadata": {
    "papermill": {
     "duration": 0.022435,
     "end_time": "2024-09-19T09:59:54.698943",
     "exception": false,
     "start_time": "2024-09-19T09:59:54.676508",
     "status": "completed"
    },
    "tags": []
   },
   "outputs": [],
   "source": [
    "for col in ['Age', 'OVA',\"BOV\"]:\n",
    "    fifa[col] = fifa[col].astype(int)"
   ]
  },
  {
   "cell_type": "markdown",
   "id": "afe38739",
   "metadata": {
    "papermill": {
     "duration": 0.012351,
     "end_time": "2024-09-19T09:59:54.722696",
     "exception": false,
     "start_time": "2024-09-19T09:59:54.710345",
     "status": "completed"
    },
    "tags": []
   },
   "source": [
    "# DATA Analysis"
   ]
  },
  {
   "cell_type": "code",
   "execution_count": 11,
   "id": "65021f7d",
   "metadata": {
    "papermill": {
     "duration": 0.02641,
     "end_time": "2024-09-19T09:59:54.760440",
     "exception": false,
     "start_time": "2024-09-19T09:59:54.734030",
     "status": "completed"
    },
    "tags": []
   },
   "outputs": [
    {
     "data": {
      "text/plain": [
       "Nationality\n",
       "England        1705\n",
       "Germany        1195\n",
       "Spain          1065\n",
       "France         1003\n",
       "Argentina       943\n",
       "Brazil          887\n",
       "Japan           485\n",
       "Netherlands     438\n",
       "Italy           387\n",
       "Sweden          380\n",
       "Name: count, dtype: int64"
      ]
     },
     "execution_count": 11,
     "metadata": {},
     "output_type": "execute_result"
    }
   ],
   "source": [
    "x=fifa[\"Nationality\"].value_counts().head(10)\n",
    "x"
   ]
  },
  {
   "cell_type": "code",
   "execution_count": 12,
   "id": "022b7b3a",
   "metadata": {
    "papermill": {
     "duration": 2.020993,
     "end_time": "2024-09-19T09:59:56.792903",
     "exception": false,
     "start_time": "2024-09-19T09:59:54.771910",
     "status": "completed"
    },
    "tags": []
   },
   "outputs": [
    {
     "data": {
      "application/vnd.plotly.v1+json": {
       "config": {
        "plotlyServerURL": "https://plot.ly"
       },
       "data": [
        {
         "alignmentgroup": "True",
         "hovertemplate": "Nationality=%{x}<br>value=%{y}<br>color=%{marker.color}<extra></extra>",
         "legendgroup": "",
         "marker": {
          "color": [
           1705,
           1195,
           1065,
           1003,
           943,
           887,
           485,
           438,
           387,
           380
          ],
          "coloraxis": "coloraxis",
          "pattern": {
           "shape": ""
          }
         },
         "name": "",
         "offsetgroup": "",
         "orientation": "v",
         "showlegend": false,
         "textposition": "auto",
         "type": "bar",
         "x": [
          "England",
          "Germany",
          "Spain",
          "France",
          "Argentina",
          "Brazil",
          "Japan",
          "Netherlands",
          "Italy",
          "Sweden"
         ],
         "xaxis": "x",
         "y": [
          1705,
          1195,
          1065,
          1003,
          943,
          887,
          485,
          438,
          387,
          380
         ],
         "yaxis": "y"
        }
       ],
       "layout": {
        "barmode": "relative",
        "coloraxis": {
         "colorbar": {
          "title": {
           "text": "color"
          }
         },
         "colorscale": [
          [
           0,
           "#0d0887"
          ],
          [
           0.1111111111111111,
           "#46039f"
          ],
          [
           0.2222222222222222,
           "#7201a8"
          ],
          [
           0.3333333333333333,
           "#9c179e"
          ],
          [
           0.4444444444444444,
           "#bd3786"
          ],
          [
           0.5555555555555556,
           "#d8576b"
          ],
          [
           0.6666666666666666,
           "#ed7953"
          ],
          [
           0.7777777777777778,
           "#fb9f3a"
          ],
          [
           0.8888888888888888,
           "#fdca26"
          ],
          [
           1,
           "#f0f921"
          ]
         ]
        },
        "legend": {
         "tracegroupgap": 0
        },
        "template": {
         "data": {
          "bar": [
           {
            "error_x": {
             "color": "#2a3f5f"
            },
            "error_y": {
             "color": "#2a3f5f"
            },
            "marker": {
             "line": {
              "color": "#E5ECF6",
              "width": 0.5
             },
             "pattern": {
              "fillmode": "overlay",
              "size": 10,
              "solidity": 0.2
             }
            },
            "type": "bar"
           }
          ],
          "barpolar": [
           {
            "marker": {
             "line": {
              "color": "#E5ECF6",
              "width": 0.5
             },
             "pattern": {
              "fillmode": "overlay",
              "size": 10,
              "solidity": 0.2
             }
            },
            "type": "barpolar"
           }
          ],
          "carpet": [
           {
            "aaxis": {
             "endlinecolor": "#2a3f5f",
             "gridcolor": "white",
             "linecolor": "white",
             "minorgridcolor": "white",
             "startlinecolor": "#2a3f5f"
            },
            "baxis": {
             "endlinecolor": "#2a3f5f",
             "gridcolor": "white",
             "linecolor": "white",
             "minorgridcolor": "white",
             "startlinecolor": "#2a3f5f"
            },
            "type": "carpet"
           }
          ],
          "choropleth": [
           {
            "colorbar": {
             "outlinewidth": 0,
             "ticks": ""
            },
            "type": "choropleth"
           }
          ],
          "contour": [
           {
            "colorbar": {
             "outlinewidth": 0,
             "ticks": ""
            },
            "colorscale": [
             [
              0,
              "#0d0887"
             ],
             [
              0.1111111111111111,
              "#46039f"
             ],
             [
              0.2222222222222222,
              "#7201a8"
             ],
             [
              0.3333333333333333,
              "#9c179e"
             ],
             [
              0.4444444444444444,
              "#bd3786"
             ],
             [
              0.5555555555555556,
              "#d8576b"
             ],
             [
              0.6666666666666666,
              "#ed7953"
             ],
             [
              0.7777777777777778,
              "#fb9f3a"
             ],
             [
              0.8888888888888888,
              "#fdca26"
             ],
             [
              1,
              "#f0f921"
             ]
            ],
            "type": "contour"
           }
          ],
          "contourcarpet": [
           {
            "colorbar": {
             "outlinewidth": 0,
             "ticks": ""
            },
            "type": "contourcarpet"
           }
          ],
          "heatmap": [
           {
            "colorbar": {
             "outlinewidth": 0,
             "ticks": ""
            },
            "colorscale": [
             [
              0,
              "#0d0887"
             ],
             [
              0.1111111111111111,
              "#46039f"
             ],
             [
              0.2222222222222222,
              "#7201a8"
             ],
             [
              0.3333333333333333,
              "#9c179e"
             ],
             [
              0.4444444444444444,
              "#bd3786"
             ],
             [
              0.5555555555555556,
              "#d8576b"
             ],
             [
              0.6666666666666666,
              "#ed7953"
             ],
             [
              0.7777777777777778,
              "#fb9f3a"
             ],
             [
              0.8888888888888888,
              "#fdca26"
             ],
             [
              1,
              "#f0f921"
             ]
            ],
            "type": "heatmap"
           }
          ],
          "heatmapgl": [
           {
            "colorbar": {
             "outlinewidth": 0,
             "ticks": ""
            },
            "colorscale": [
             [
              0,
              "#0d0887"
             ],
             [
              0.1111111111111111,
              "#46039f"
             ],
             [
              0.2222222222222222,
              "#7201a8"
             ],
             [
              0.3333333333333333,
              "#9c179e"
             ],
             [
              0.4444444444444444,
              "#bd3786"
             ],
             [
              0.5555555555555556,
              "#d8576b"
             ],
             [
              0.6666666666666666,
              "#ed7953"
             ],
             [
              0.7777777777777778,
              "#fb9f3a"
             ],
             [
              0.8888888888888888,
              "#fdca26"
             ],
             [
              1,
              "#f0f921"
             ]
            ],
            "type": "heatmapgl"
           }
          ],
          "histogram": [
           {
            "marker": {
             "pattern": {
              "fillmode": "overlay",
              "size": 10,
              "solidity": 0.2
             }
            },
            "type": "histogram"
           }
          ],
          "histogram2d": [
           {
            "colorbar": {
             "outlinewidth": 0,
             "ticks": ""
            },
            "colorscale": [
             [
              0,
              "#0d0887"
             ],
             [
              0.1111111111111111,
              "#46039f"
             ],
             [
              0.2222222222222222,
              "#7201a8"
             ],
             [
              0.3333333333333333,
              "#9c179e"
             ],
             [
              0.4444444444444444,
              "#bd3786"
             ],
             [
              0.5555555555555556,
              "#d8576b"
             ],
             [
              0.6666666666666666,
              "#ed7953"
             ],
             [
              0.7777777777777778,
              "#fb9f3a"
             ],
             [
              0.8888888888888888,
              "#fdca26"
             ],
             [
              1,
              "#f0f921"
             ]
            ],
            "type": "histogram2d"
           }
          ],
          "histogram2dcontour": [
           {
            "colorbar": {
             "outlinewidth": 0,
             "ticks": ""
            },
            "colorscale": [
             [
              0,
              "#0d0887"
             ],
             [
              0.1111111111111111,
              "#46039f"
             ],
             [
              0.2222222222222222,
              "#7201a8"
             ],
             [
              0.3333333333333333,
              "#9c179e"
             ],
             [
              0.4444444444444444,
              "#bd3786"
             ],
             [
              0.5555555555555556,
              "#d8576b"
             ],
             [
              0.6666666666666666,
              "#ed7953"
             ],
             [
              0.7777777777777778,
              "#fb9f3a"
             ],
             [
              0.8888888888888888,
              "#fdca26"
             ],
             [
              1,
              "#f0f921"
             ]
            ],
            "type": "histogram2dcontour"
           }
          ],
          "mesh3d": [
           {
            "colorbar": {
             "outlinewidth": 0,
             "ticks": ""
            },
            "type": "mesh3d"
           }
          ],
          "parcoords": [
           {
            "line": {
             "colorbar": {
              "outlinewidth": 0,
              "ticks": ""
             }
            },
            "type": "parcoords"
           }
          ],
          "pie": [
           {
            "automargin": true,
            "type": "pie"
           }
          ],
          "scatter": [
           {
            "fillpattern": {
             "fillmode": "overlay",
             "size": 10,
             "solidity": 0.2
            },
            "type": "scatter"
           }
          ],
          "scatter3d": [
           {
            "line": {
             "colorbar": {
              "outlinewidth": 0,
              "ticks": ""
             }
            },
            "marker": {
             "colorbar": {
              "outlinewidth": 0,
              "ticks": ""
             }
            },
            "type": "scatter3d"
           }
          ],
          "scattercarpet": [
           {
            "marker": {
             "colorbar": {
              "outlinewidth": 0,
              "ticks": ""
             }
            },
            "type": "scattercarpet"
           }
          ],
          "scattergeo": [
           {
            "marker": {
             "colorbar": {
              "outlinewidth": 0,
              "ticks": ""
             }
            },
            "type": "scattergeo"
           }
          ],
          "scattergl": [
           {
            "marker": {
             "colorbar": {
              "outlinewidth": 0,
              "ticks": ""
             }
            },
            "type": "scattergl"
           }
          ],
          "scattermapbox": [
           {
            "marker": {
             "colorbar": {
              "outlinewidth": 0,
              "ticks": ""
             }
            },
            "type": "scattermapbox"
           }
          ],
          "scatterpolar": [
           {
            "marker": {
             "colorbar": {
              "outlinewidth": 0,
              "ticks": ""
             }
            },
            "type": "scatterpolar"
           }
          ],
          "scatterpolargl": [
           {
            "marker": {
             "colorbar": {
              "outlinewidth": 0,
              "ticks": ""
             }
            },
            "type": "scatterpolargl"
           }
          ],
          "scatterternary": [
           {
            "marker": {
             "colorbar": {
              "outlinewidth": 0,
              "ticks": ""
             }
            },
            "type": "scatterternary"
           }
          ],
          "surface": [
           {
            "colorbar": {
             "outlinewidth": 0,
             "ticks": ""
            },
            "colorscale": [
             [
              0,
              "#0d0887"
             ],
             [
              0.1111111111111111,
              "#46039f"
             ],
             [
              0.2222222222222222,
              "#7201a8"
             ],
             [
              0.3333333333333333,
              "#9c179e"
             ],
             [
              0.4444444444444444,
              "#bd3786"
             ],
             [
              0.5555555555555556,
              "#d8576b"
             ],
             [
              0.6666666666666666,
              "#ed7953"
             ],
             [
              0.7777777777777778,
              "#fb9f3a"
             ],
             [
              0.8888888888888888,
              "#fdca26"
             ],
             [
              1,
              "#f0f921"
             ]
            ],
            "type": "surface"
           }
          ],
          "table": [
           {
            "cells": {
             "fill": {
              "color": "#EBF0F8"
             },
             "line": {
              "color": "white"
             }
            },
            "header": {
             "fill": {
              "color": "#C8D4E3"
             },
             "line": {
              "color": "white"
             }
            },
            "type": "table"
           }
          ]
         },
         "layout": {
          "annotationdefaults": {
           "arrowcolor": "#2a3f5f",
           "arrowhead": 0,
           "arrowwidth": 1
          },
          "autotypenumbers": "strict",
          "coloraxis": {
           "colorbar": {
            "outlinewidth": 0,
            "ticks": ""
           }
          },
          "colorscale": {
           "diverging": [
            [
             0,
             "#8e0152"
            ],
            [
             0.1,
             "#c51b7d"
            ],
            [
             0.2,
             "#de77ae"
            ],
            [
             0.3,
             "#f1b6da"
            ],
            [
             0.4,
             "#fde0ef"
            ],
            [
             0.5,
             "#f7f7f7"
            ],
            [
             0.6,
             "#e6f5d0"
            ],
            [
             0.7,
             "#b8e186"
            ],
            [
             0.8,
             "#7fbc41"
            ],
            [
             0.9,
             "#4d9221"
            ],
            [
             1,
             "#276419"
            ]
           ],
           "sequential": [
            [
             0,
             "#0d0887"
            ],
            [
             0.1111111111111111,
             "#46039f"
            ],
            [
             0.2222222222222222,
             "#7201a8"
            ],
            [
             0.3333333333333333,
             "#9c179e"
            ],
            [
             0.4444444444444444,
             "#bd3786"
            ],
            [
             0.5555555555555556,
             "#d8576b"
            ],
            [
             0.6666666666666666,
             "#ed7953"
            ],
            [
             0.7777777777777778,
             "#fb9f3a"
            ],
            [
             0.8888888888888888,
             "#fdca26"
            ],
            [
             1,
             "#f0f921"
            ]
           ],
           "sequentialminus": [
            [
             0,
             "#0d0887"
            ],
            [
             0.1111111111111111,
             "#46039f"
            ],
            [
             0.2222222222222222,
             "#7201a8"
            ],
            [
             0.3333333333333333,
             "#9c179e"
            ],
            [
             0.4444444444444444,
             "#bd3786"
            ],
            [
             0.5555555555555556,
             "#d8576b"
            ],
            [
             0.6666666666666666,
             "#ed7953"
            ],
            [
             0.7777777777777778,
             "#fb9f3a"
            ],
            [
             0.8888888888888888,
             "#fdca26"
            ],
            [
             1,
             "#f0f921"
            ]
           ]
          },
          "colorway": [
           "#636efa",
           "#EF553B",
           "#00cc96",
           "#ab63fa",
           "#FFA15A",
           "#19d3f3",
           "#FF6692",
           "#B6E880",
           "#FF97FF",
           "#FECB52"
          ],
          "font": {
           "color": "#2a3f5f"
          },
          "geo": {
           "bgcolor": "white",
           "lakecolor": "white",
           "landcolor": "#E5ECF6",
           "showlakes": true,
           "showland": true,
           "subunitcolor": "white"
          },
          "hoverlabel": {
           "align": "left"
          },
          "hovermode": "closest",
          "mapbox": {
           "style": "light"
          },
          "paper_bgcolor": "white",
          "plot_bgcolor": "#E5ECF6",
          "polar": {
           "angularaxis": {
            "gridcolor": "white",
            "linecolor": "white",
            "ticks": ""
           },
           "bgcolor": "#E5ECF6",
           "radialaxis": {
            "gridcolor": "white",
            "linecolor": "white",
            "ticks": ""
           }
          },
          "scene": {
           "xaxis": {
            "backgroundcolor": "#E5ECF6",
            "gridcolor": "white",
            "gridwidth": 2,
            "linecolor": "white",
            "showbackground": true,
            "ticks": "",
            "zerolinecolor": "white"
           },
           "yaxis": {
            "backgroundcolor": "#E5ECF6",
            "gridcolor": "white",
            "gridwidth": 2,
            "linecolor": "white",
            "showbackground": true,
            "ticks": "",
            "zerolinecolor": "white"
           },
           "zaxis": {
            "backgroundcolor": "#E5ECF6",
            "gridcolor": "white",
            "gridwidth": 2,
            "linecolor": "white",
            "showbackground": true,
            "ticks": "",
            "zerolinecolor": "white"
           }
          },
          "shapedefaults": {
           "line": {
            "color": "#2a3f5f"
           }
          },
          "ternary": {
           "aaxis": {
            "gridcolor": "white",
            "linecolor": "white",
            "ticks": ""
           },
           "baxis": {
            "gridcolor": "white",
            "linecolor": "white",
            "ticks": ""
           },
           "bgcolor": "#E5ECF6",
           "caxis": {
            "gridcolor": "white",
            "linecolor": "white",
            "ticks": ""
           }
          },
          "title": {
           "x": 0.05
          },
          "xaxis": {
           "automargin": true,
           "gridcolor": "white",
           "linecolor": "white",
           "ticks": "",
           "title": {
            "standoff": 15
           },
           "zerolinecolor": "white",
           "zerolinewidth": 2
          },
          "yaxis": {
           "automargin": true,
           "gridcolor": "white",
           "linecolor": "white",
           "ticks": "",
           "title": {
            "standoff": 15
           },
           "zerolinecolor": "white",
           "zerolinewidth": 2
          }
         }
        },
        "title": {
         "text": "Top 10 Country Wise Representation in the FIFA Game"
        },
        "xaxis": {
         "anchor": "y",
         "domain": [
          0,
          1
         ],
         "title": {
          "text": "Nationality"
         }
        },
        "yaxis": {
         "anchor": "x",
         "domain": [
          0,
          1
         ],
         "title": {
          "text": "value"
         }
        }
       }
      }
     },
     "metadata": {},
     "output_type": "display_data"
    }
   ],
   "source": [
    "u=px.bar(x,color=x,title=\"Top 10 Country Wise Representation in the FIFA Game\")\n",
    "u.show()"
   ]
  },
  {
   "cell_type": "code",
   "execution_count": 13,
   "id": "483a45c9",
   "metadata": {
    "papermill": {
     "duration": 0.209221,
     "end_time": "2024-09-19T09:59:57.014397",
     "exception": false,
     "start_time": "2024-09-19T09:59:56.805176",
     "status": "completed"
    },
    "tags": []
   },
   "outputs": [
    {
     "name": "stderr",
     "output_type": "stream",
     "text": [
      "C:\\Users\\Haris\\AppData\\Local\\Temp\\ipykernel_21672\\1773320647.py:1: DeprecationWarning:\n",
      "\n",
      "DataFrameGroupBy.apply operated on the grouping columns. This behavior is deprecated, and in a future version of pandas the grouping columns will be excluded from the operation. Either pass `include_groups=False` to exclude the groupings or explicitly select the grouping columns after groupby to silence this warning.\n",
      "\n",
      "C:\\Users\\Haris\\AppData\\Local\\Temp\\ipykernel_21672\\1773320647.py:2: DeprecationWarning:\n",
      "\n",
      "DataFrameGroupBy.apply operated on the grouping columns. This behavior is deprecated, and in a future version of pandas the grouping columns will be excluded from the operation. Either pass `include_groups=False` to exclude the groupings or explicitly select the grouping columns after groupby to silence this warning.\n",
      "\n"
     ]
    },
    {
     "data": {
      "application/vnd.plotly.v1+json": {
       "config": {
        "plotlyServerURL": "https://plot.ly"
       },
       "data": [
        {
         "customdata": [
          [
           "Argentina"
          ],
          [
           "Australia"
          ],
          [
           "Austria"
          ],
          [
           "Belgium"
          ],
          [
           "Brazil"
          ],
          [
           "China PR"
          ],
          [
           "Colombia"
          ],
          [
           "Denmark"
          ],
          [
           "Ecuador"
          ],
          [
           "England"
          ],
          [
           "France"
          ],
          [
           "Germany"
          ],
          [
           "Italy"
          ],
          [
           "Japan"
          ],
          [
           "Korea Republic"
          ],
          [
           "Mexico"
          ],
          [
           "Netherlands"
          ],
          [
           "Norway"
          ],
          [
           "Paraguay"
          ],
          [
           "Poland"
          ],
          [
           "Portugal"
          ],
          [
           "Republic of Ireland"
          ],
          [
           "Romania"
          ],
          [
           "Saudi Arabia"
          ],
          [
           "Scotland"
          ],
          [
           "Spain"
          ],
          [
           "Sweden"
          ],
          [
           "Switzerland"
          ],
          [
           "Turkey"
          ],
          [
           "United States"
          ],
          [
           "Uruguay"
          ]
         ],
         "hovertemplate": "Overall Ratings=%{marker.size}<br>Player Counts=%{marker.color}<br>Nationality=%{customdata[0]}<extra></extra>",
         "legendgroup": "",
         "marker": {
          "color": [
           943,
           238,
           319,
           295,
           887,
           364,
           339,
           300,
           249,
           1705,
           1003,
           1195,
           387,
           485,
           340,
           362,
           438,
           362,
           239,
           354,
           361,
           340,
           321,
           330,
           285,
           1065,
           380,
           211,
           317,
           376,
           348
          ],
          "coloraxis": "coloraxis",
          "size": [
           68.81972428419937,
           62.39915966386555,
           67.0564263322884,
           68.73559322033898,
           71.62344983089065,
           60.252747252747255,
           67.53982300884955,
           65.75666666666666,
           64.90361445783132,
           64.12785923753665,
           68.29112662013958,
           66.77907949790794,
           70.24547803617571,
           65.57113402061856,
           64.06470588235294,
           66.61325966850829,
           68.3972602739726,
           64.31767955801105,
           65.89121338912133,
           64.29378531073446,
           70.54016620498615,
           61.811764705882354,
           64.35825545171339,
           61.04545454545455,
           65.02456140350877,
           70.27136150234742,
           64.80263157894737,
           65.81990521327015,
           66.41009463722398,
           64.68351063829788,
           68.2816091954023
          ],
          "sizemode": "area",
          "sizeref": 0.17905862457722663,
          "symbol": "circle"
         },
         "mode": "markers",
         "name": "",
         "orientation": "v",
         "showlegend": false,
         "type": "scatter",
         "x": [
          68.81972428419937,
          62.39915966386555,
          67.0564263322884,
          68.73559322033898,
          71.62344983089065,
          60.252747252747255,
          67.53982300884955,
          65.75666666666666,
          64.90361445783132,
          64.12785923753665,
          68.29112662013958,
          66.77907949790794,
          70.24547803617571,
          65.57113402061856,
          64.06470588235294,
          66.61325966850829,
          68.3972602739726,
          64.31767955801105,
          65.89121338912133,
          64.29378531073446,
          70.54016620498615,
          61.811764705882354,
          64.35825545171339,
          61.04545454545455,
          65.02456140350877,
          70.27136150234742,
          64.80263157894737,
          65.81990521327015,
          66.41009463722398,
          64.68351063829788,
          68.2816091954023
         ],
         "xaxis": "x",
         "y": [
          943,
          238,
          319,
          295,
          887,
          364,
          339,
          300,
          249,
          1705,
          1003,
          1195,
          387,
          485,
          340,
          362,
          438,
          362,
          239,
          354,
          361,
          340,
          321,
          330,
          285,
          1065,
          380,
          211,
          317,
          376,
          348
         ],
         "yaxis": "y"
        }
       ],
       "layout": {
        "coloraxis": {
         "colorbar": {
          "title": {
           "text": "Player Counts"
          }
         },
         "colorscale": [
          [
           0,
           "#0d0887"
          ],
          [
           0.1111111111111111,
           "#46039f"
          ],
          [
           0.2222222222222222,
           "#7201a8"
          ],
          [
           0.3333333333333333,
           "#9c179e"
          ],
          [
           0.4444444444444444,
           "#bd3786"
          ],
          [
           0.5555555555555556,
           "#d8576b"
          ],
          [
           0.6666666666666666,
           "#ed7953"
          ],
          [
           0.7777777777777778,
           "#fb9f3a"
          ],
          [
           0.8888888888888888,
           "#fdca26"
          ],
          [
           1,
           "#f0f921"
          ]
         ]
        },
        "legend": {
         "itemsizing": "constant",
         "tracegroupgap": 0
        },
        "template": {
         "data": {
          "bar": [
           {
            "error_x": {
             "color": "#2a3f5f"
            },
            "error_y": {
             "color": "#2a3f5f"
            },
            "marker": {
             "line": {
              "color": "#E5ECF6",
              "width": 0.5
             },
             "pattern": {
              "fillmode": "overlay",
              "size": 10,
              "solidity": 0.2
             }
            },
            "type": "bar"
           }
          ],
          "barpolar": [
           {
            "marker": {
             "line": {
              "color": "#E5ECF6",
              "width": 0.5
             },
             "pattern": {
              "fillmode": "overlay",
              "size": 10,
              "solidity": 0.2
             }
            },
            "type": "barpolar"
           }
          ],
          "carpet": [
           {
            "aaxis": {
             "endlinecolor": "#2a3f5f",
             "gridcolor": "white",
             "linecolor": "white",
             "minorgridcolor": "white",
             "startlinecolor": "#2a3f5f"
            },
            "baxis": {
             "endlinecolor": "#2a3f5f",
             "gridcolor": "white",
             "linecolor": "white",
             "minorgridcolor": "white",
             "startlinecolor": "#2a3f5f"
            },
            "type": "carpet"
           }
          ],
          "choropleth": [
           {
            "colorbar": {
             "outlinewidth": 0,
             "ticks": ""
            },
            "type": "choropleth"
           }
          ],
          "contour": [
           {
            "colorbar": {
             "outlinewidth": 0,
             "ticks": ""
            },
            "colorscale": [
             [
              0,
              "#0d0887"
             ],
             [
              0.1111111111111111,
              "#46039f"
             ],
             [
              0.2222222222222222,
              "#7201a8"
             ],
             [
              0.3333333333333333,
              "#9c179e"
             ],
             [
              0.4444444444444444,
              "#bd3786"
             ],
             [
              0.5555555555555556,
              "#d8576b"
             ],
             [
              0.6666666666666666,
              "#ed7953"
             ],
             [
              0.7777777777777778,
              "#fb9f3a"
             ],
             [
              0.8888888888888888,
              "#fdca26"
             ],
             [
              1,
              "#f0f921"
             ]
            ],
            "type": "contour"
           }
          ],
          "contourcarpet": [
           {
            "colorbar": {
             "outlinewidth": 0,
             "ticks": ""
            },
            "type": "contourcarpet"
           }
          ],
          "heatmap": [
           {
            "colorbar": {
             "outlinewidth": 0,
             "ticks": ""
            },
            "colorscale": [
             [
              0,
              "#0d0887"
             ],
             [
              0.1111111111111111,
              "#46039f"
             ],
             [
              0.2222222222222222,
              "#7201a8"
             ],
             [
              0.3333333333333333,
              "#9c179e"
             ],
             [
              0.4444444444444444,
              "#bd3786"
             ],
             [
              0.5555555555555556,
              "#d8576b"
             ],
             [
              0.6666666666666666,
              "#ed7953"
             ],
             [
              0.7777777777777778,
              "#fb9f3a"
             ],
             [
              0.8888888888888888,
              "#fdca26"
             ],
             [
              1,
              "#f0f921"
             ]
            ],
            "type": "heatmap"
           }
          ],
          "heatmapgl": [
           {
            "colorbar": {
             "outlinewidth": 0,
             "ticks": ""
            },
            "colorscale": [
             [
              0,
              "#0d0887"
             ],
             [
              0.1111111111111111,
              "#46039f"
             ],
             [
              0.2222222222222222,
              "#7201a8"
             ],
             [
              0.3333333333333333,
              "#9c179e"
             ],
             [
              0.4444444444444444,
              "#bd3786"
             ],
             [
              0.5555555555555556,
              "#d8576b"
             ],
             [
              0.6666666666666666,
              "#ed7953"
             ],
             [
              0.7777777777777778,
              "#fb9f3a"
             ],
             [
              0.8888888888888888,
              "#fdca26"
             ],
             [
              1,
              "#f0f921"
             ]
            ],
            "type": "heatmapgl"
           }
          ],
          "histogram": [
           {
            "marker": {
             "pattern": {
              "fillmode": "overlay",
              "size": 10,
              "solidity": 0.2
             }
            },
            "type": "histogram"
           }
          ],
          "histogram2d": [
           {
            "colorbar": {
             "outlinewidth": 0,
             "ticks": ""
            },
            "colorscale": [
             [
              0,
              "#0d0887"
             ],
             [
              0.1111111111111111,
              "#46039f"
             ],
             [
              0.2222222222222222,
              "#7201a8"
             ],
             [
              0.3333333333333333,
              "#9c179e"
             ],
             [
              0.4444444444444444,
              "#bd3786"
             ],
             [
              0.5555555555555556,
              "#d8576b"
             ],
             [
              0.6666666666666666,
              "#ed7953"
             ],
             [
              0.7777777777777778,
              "#fb9f3a"
             ],
             [
              0.8888888888888888,
              "#fdca26"
             ],
             [
              1,
              "#f0f921"
             ]
            ],
            "type": "histogram2d"
           }
          ],
          "histogram2dcontour": [
           {
            "colorbar": {
             "outlinewidth": 0,
             "ticks": ""
            },
            "colorscale": [
             [
              0,
              "#0d0887"
             ],
             [
              0.1111111111111111,
              "#46039f"
             ],
             [
              0.2222222222222222,
              "#7201a8"
             ],
             [
              0.3333333333333333,
              "#9c179e"
             ],
             [
              0.4444444444444444,
              "#bd3786"
             ],
             [
              0.5555555555555556,
              "#d8576b"
             ],
             [
              0.6666666666666666,
              "#ed7953"
             ],
             [
              0.7777777777777778,
              "#fb9f3a"
             ],
             [
              0.8888888888888888,
              "#fdca26"
             ],
             [
              1,
              "#f0f921"
             ]
            ],
            "type": "histogram2dcontour"
           }
          ],
          "mesh3d": [
           {
            "colorbar": {
             "outlinewidth": 0,
             "ticks": ""
            },
            "type": "mesh3d"
           }
          ],
          "parcoords": [
           {
            "line": {
             "colorbar": {
              "outlinewidth": 0,
              "ticks": ""
             }
            },
            "type": "parcoords"
           }
          ],
          "pie": [
           {
            "automargin": true,
            "type": "pie"
           }
          ],
          "scatter": [
           {
            "fillpattern": {
             "fillmode": "overlay",
             "size": 10,
             "solidity": 0.2
            },
            "type": "scatter"
           }
          ],
          "scatter3d": [
           {
            "line": {
             "colorbar": {
              "outlinewidth": 0,
              "ticks": ""
             }
            },
            "marker": {
             "colorbar": {
              "outlinewidth": 0,
              "ticks": ""
             }
            },
            "type": "scatter3d"
           }
          ],
          "scattercarpet": [
           {
            "marker": {
             "colorbar": {
              "outlinewidth": 0,
              "ticks": ""
             }
            },
            "type": "scattercarpet"
           }
          ],
          "scattergeo": [
           {
            "marker": {
             "colorbar": {
              "outlinewidth": 0,
              "ticks": ""
             }
            },
            "type": "scattergeo"
           }
          ],
          "scattergl": [
           {
            "marker": {
             "colorbar": {
              "outlinewidth": 0,
              "ticks": ""
             }
            },
            "type": "scattergl"
           }
          ],
          "scattermapbox": [
           {
            "marker": {
             "colorbar": {
              "outlinewidth": 0,
              "ticks": ""
             }
            },
            "type": "scattermapbox"
           }
          ],
          "scatterpolar": [
           {
            "marker": {
             "colorbar": {
              "outlinewidth": 0,
              "ticks": ""
             }
            },
            "type": "scatterpolar"
           }
          ],
          "scatterpolargl": [
           {
            "marker": {
             "colorbar": {
              "outlinewidth": 0,
              "ticks": ""
             }
            },
            "type": "scatterpolargl"
           }
          ],
          "scatterternary": [
           {
            "marker": {
             "colorbar": {
              "outlinewidth": 0,
              "ticks": ""
             }
            },
            "type": "scatterternary"
           }
          ],
          "surface": [
           {
            "colorbar": {
             "outlinewidth": 0,
             "ticks": ""
            },
            "colorscale": [
             [
              0,
              "#0d0887"
             ],
             [
              0.1111111111111111,
              "#46039f"
             ],
             [
              0.2222222222222222,
              "#7201a8"
             ],
             [
              0.3333333333333333,
              "#9c179e"
             ],
             [
              0.4444444444444444,
              "#bd3786"
             ],
             [
              0.5555555555555556,
              "#d8576b"
             ],
             [
              0.6666666666666666,
              "#ed7953"
             ],
             [
              0.7777777777777778,
              "#fb9f3a"
             ],
             [
              0.8888888888888888,
              "#fdca26"
             ],
             [
              1,
              "#f0f921"
             ]
            ],
            "type": "surface"
           }
          ],
          "table": [
           {
            "cells": {
             "fill": {
              "color": "#EBF0F8"
             },
             "line": {
              "color": "white"
             }
            },
            "header": {
             "fill": {
              "color": "#C8D4E3"
             },
             "line": {
              "color": "white"
             }
            },
            "type": "table"
           }
          ]
         },
         "layout": {
          "annotationdefaults": {
           "arrowcolor": "#2a3f5f",
           "arrowhead": 0,
           "arrowwidth": 1
          },
          "autotypenumbers": "strict",
          "coloraxis": {
           "colorbar": {
            "outlinewidth": 0,
            "ticks": ""
           }
          },
          "colorscale": {
           "diverging": [
            [
             0,
             "#8e0152"
            ],
            [
             0.1,
             "#c51b7d"
            ],
            [
             0.2,
             "#de77ae"
            ],
            [
             0.3,
             "#f1b6da"
            ],
            [
             0.4,
             "#fde0ef"
            ],
            [
             0.5,
             "#f7f7f7"
            ],
            [
             0.6,
             "#e6f5d0"
            ],
            [
             0.7,
             "#b8e186"
            ],
            [
             0.8,
             "#7fbc41"
            ],
            [
             0.9,
             "#4d9221"
            ],
            [
             1,
             "#276419"
            ]
           ],
           "sequential": [
            [
             0,
             "#0d0887"
            ],
            [
             0.1111111111111111,
             "#46039f"
            ],
            [
             0.2222222222222222,
             "#7201a8"
            ],
            [
             0.3333333333333333,
             "#9c179e"
            ],
            [
             0.4444444444444444,
             "#bd3786"
            ],
            [
             0.5555555555555556,
             "#d8576b"
            ],
            [
             0.6666666666666666,
             "#ed7953"
            ],
            [
             0.7777777777777778,
             "#fb9f3a"
            ],
            [
             0.8888888888888888,
             "#fdca26"
            ],
            [
             1,
             "#f0f921"
            ]
           ],
           "sequentialminus": [
            [
             0,
             "#0d0887"
            ],
            [
             0.1111111111111111,
             "#46039f"
            ],
            [
             0.2222222222222222,
             "#7201a8"
            ],
            [
             0.3333333333333333,
             "#9c179e"
            ],
            [
             0.4444444444444444,
             "#bd3786"
            ],
            [
             0.5555555555555556,
             "#d8576b"
            ],
            [
             0.6666666666666666,
             "#ed7953"
            ],
            [
             0.7777777777777778,
             "#fb9f3a"
            ],
            [
             0.8888888888888888,
             "#fdca26"
            ],
            [
             1,
             "#f0f921"
            ]
           ]
          },
          "colorway": [
           "#636efa",
           "#EF553B",
           "#00cc96",
           "#ab63fa",
           "#FFA15A",
           "#19d3f3",
           "#FF6692",
           "#B6E880",
           "#FF97FF",
           "#FECB52"
          ],
          "font": {
           "color": "#2a3f5f"
          },
          "geo": {
           "bgcolor": "white",
           "lakecolor": "white",
           "landcolor": "#E5ECF6",
           "showlakes": true,
           "showland": true,
           "subunitcolor": "white"
          },
          "hoverlabel": {
           "align": "left"
          },
          "hovermode": "closest",
          "mapbox": {
           "style": "light"
          },
          "paper_bgcolor": "white",
          "plot_bgcolor": "#E5ECF6",
          "polar": {
           "angularaxis": {
            "gridcolor": "white",
            "linecolor": "white",
            "ticks": ""
           },
           "bgcolor": "#E5ECF6",
           "radialaxis": {
            "gridcolor": "white",
            "linecolor": "white",
            "ticks": ""
           }
          },
          "scene": {
           "xaxis": {
            "backgroundcolor": "#E5ECF6",
            "gridcolor": "white",
            "gridwidth": 2,
            "linecolor": "white",
            "showbackground": true,
            "ticks": "",
            "zerolinecolor": "white"
           },
           "yaxis": {
            "backgroundcolor": "#E5ECF6",
            "gridcolor": "white",
            "gridwidth": 2,
            "linecolor": "white",
            "showbackground": true,
            "ticks": "",
            "zerolinecolor": "white"
           },
           "zaxis": {
            "backgroundcolor": "#E5ECF6",
            "gridcolor": "white",
            "gridwidth": 2,
            "linecolor": "white",
            "showbackground": true,
            "ticks": "",
            "zerolinecolor": "white"
           }
          },
          "shapedefaults": {
           "line": {
            "color": "#2a3f5f"
           }
          },
          "ternary": {
           "aaxis": {
            "gridcolor": "white",
            "linecolor": "white",
            "ticks": ""
           },
           "baxis": {
            "gridcolor": "white",
            "linecolor": "white",
            "ticks": ""
           },
           "bgcolor": "#E5ECF6",
           "caxis": {
            "gridcolor": "white",
            "linecolor": "white",
            "ticks": ""
           }
          },
          "title": {
           "x": 0.05
          },
          "xaxis": {
           "automargin": true,
           "gridcolor": "white",
           "linecolor": "white",
           "ticks": "",
           "title": {
            "standoff": 15
           },
           "zerolinecolor": "white",
           "zerolinewidth": 2
          },
          "yaxis": {
           "automargin": true,
           "gridcolor": "white",
           "linecolor": "white",
           "ticks": "",
           "title": {
            "standoff": 15
           },
           "zerolinecolor": "white",
           "zerolinewidth": 2
          }
         }
        },
        "title": {
         "text": "Nationality Wise Player counts and Average Potential"
        },
        "xaxis": {
         "anchor": "y",
         "domain": [
          0,
          1
         ],
         "title": {
          "text": "Overall Ratings"
         }
        },
        "yaxis": {
         "anchor": "x",
         "domain": [
          0,
          1
         ],
         "title": {
          "text": "Player Counts"
         }
        }
       }
      }
     },
     "metadata": {},
     "output_type": "display_data"
    }
   ],
   "source": [
    "Country_Best_Averg=fifa.groupby('Nationality').apply(lambda x:np.average(x['BOV'])).reset_index(name='Overall Ratings')\n",
    "Country_Best_Count=fifa.groupby('Nationality').apply(lambda x:x['BOV'].count()).reset_index(name='Player Counts')\n",
    "snt_best_avg_cnt=pd.merge(Country_Best_Averg,Country_Best_Count,how='inner',left_on='Nationality',right_on='Nationality')\n",
    "sel_best_avg_cnt=snt_best_avg_cnt[snt_best_avg_cnt['Player Counts']>=200]\n",
    "sel_best_avg_cnt.sort_values(by=['Overall Ratings','Player Counts'],ascending=[False,False])\n",
    "px.scatter(sel_best_avg_cnt,x='Overall Ratings',y='Player Counts',color='Player Counts',size='Overall Ratings',hover_data=['Nationality'],title='Nationality Wise Player counts and Average Potential')\n"
   ]
  },
  {
   "cell_type": "code",
   "execution_count": 14,
   "id": "8d5ad50f",
   "metadata": {
    "papermill": {
     "duration": 0.027969,
     "end_time": "2024-09-19T09:59:57.055404",
     "exception": false,
     "start_time": "2024-09-19T09:59:57.027435",
     "status": "completed"
    },
    "tags": []
   },
   "outputs": [
    {
     "data": {
      "text/plain": [
       "count    18979.000000\n",
       "mean        25.194109\n",
       "std          4.710520\n",
       "min         16.000000\n",
       "25%         21.000000\n",
       "50%         25.000000\n",
       "75%         29.000000\n",
       "max         53.000000\n",
       "Name: Age, dtype: float64"
      ]
     },
     "execution_count": 14,
     "metadata": {},
     "output_type": "execute_result"
    }
   ],
   "source": [
    "fifa[\"Age\"].describe()"
   ]
  },
  {
   "cell_type": "code",
   "execution_count": 15,
   "id": "6cd8b528",
   "metadata": {
    "papermill": {
     "duration": 0.099089,
     "end_time": "2024-09-19T09:59:57.166897",
     "exception": false,
     "start_time": "2024-09-19T09:59:57.067808",
     "status": "completed"
    },
    "tags": []
   },
   "outputs": [
    {
     "name": "stderr",
     "output_type": "stream",
     "text": [
      "C:\\Users\\Haris\\AppData\\Local\\Temp\\ipykernel_21672\\380229794.py:1: DeprecationWarning:\n",
      "\n",
      "DataFrameGroupBy.apply operated on the grouping columns. This behavior is deprecated, and in a future version of pandas the grouping columns will be excluded from the operation. Either pass `include_groups=False` to exclude the groupings or explicitly select the grouping columns after groupby to silence this warning.\n",
      "\n"
     ]
    },
    {
     "data": {
      "application/vnd.plotly.v1+json": {
       "config": {
        "plotlyServerURL": "https://plot.ly"
       },
       "data": [
        {
         "alignmentgroup": "True",
         "hovertemplate": "Age=%{x}<br>Counts=%{marker.color}<extra></extra>",
         "legendgroup": "",
         "marker": {
          "color": [
           35,
           289,
           697,
           1076,
           1408,
           1381,
           1421,
           1465,
           1426,
           1239,
           1287,
           1213,
           1271,
           1045,
           929,
           768,
           628,
           473,
           357,
           220,
           161,
           80,
           56,
           27,
           13,
           6,
           5,
           2,
           1
          ],
          "coloraxis": "coloraxis",
          "pattern": {
           "shape": ""
          }
         },
         "name": "",
         "offsetgroup": "",
         "orientation": "v",
         "showlegend": false,
         "textposition": "auto",
         "type": "bar",
         "x": [
          16,
          17,
          18,
          19,
          20,
          21,
          22,
          23,
          24,
          25,
          26,
          27,
          28,
          29,
          30,
          31,
          32,
          33,
          34,
          35,
          36,
          37,
          38,
          39,
          40,
          41,
          42,
          43,
          53
         ],
         "xaxis": "x",
         "y": [
          35,
          289,
          697,
          1076,
          1408,
          1381,
          1421,
          1465,
          1426,
          1239,
          1287,
          1213,
          1271,
          1045,
          929,
          768,
          628,
          473,
          357,
          220,
          161,
          80,
          56,
          27,
          13,
          6,
          5,
          2,
          1
         ],
         "yaxis": "y"
        }
       ],
       "layout": {
        "barmode": "relative",
        "coloraxis": {
         "colorbar": {
          "title": {
           "text": "Counts"
          }
         },
         "colorscale": [
          [
           0,
           "#0d0887"
          ],
          [
           0.1111111111111111,
           "#46039f"
          ],
          [
           0.2222222222222222,
           "#7201a8"
          ],
          [
           0.3333333333333333,
           "#9c179e"
          ],
          [
           0.4444444444444444,
           "#bd3786"
          ],
          [
           0.5555555555555556,
           "#d8576b"
          ],
          [
           0.6666666666666666,
           "#ed7953"
          ],
          [
           0.7777777777777778,
           "#fb9f3a"
          ],
          [
           0.8888888888888888,
           "#fdca26"
          ],
          [
           1,
           "#f0f921"
          ]
         ]
        },
        "legend": {
         "tracegroupgap": 0
        },
        "template": {
         "data": {
          "bar": [
           {
            "error_x": {
             "color": "#2a3f5f"
            },
            "error_y": {
             "color": "#2a3f5f"
            },
            "marker": {
             "line": {
              "color": "#E5ECF6",
              "width": 0.5
             },
             "pattern": {
              "fillmode": "overlay",
              "size": 10,
              "solidity": 0.2
             }
            },
            "type": "bar"
           }
          ],
          "barpolar": [
           {
            "marker": {
             "line": {
              "color": "#E5ECF6",
              "width": 0.5
             },
             "pattern": {
              "fillmode": "overlay",
              "size": 10,
              "solidity": 0.2
             }
            },
            "type": "barpolar"
           }
          ],
          "carpet": [
           {
            "aaxis": {
             "endlinecolor": "#2a3f5f",
             "gridcolor": "white",
             "linecolor": "white",
             "minorgridcolor": "white",
             "startlinecolor": "#2a3f5f"
            },
            "baxis": {
             "endlinecolor": "#2a3f5f",
             "gridcolor": "white",
             "linecolor": "white",
             "minorgridcolor": "white",
             "startlinecolor": "#2a3f5f"
            },
            "type": "carpet"
           }
          ],
          "choropleth": [
           {
            "colorbar": {
             "outlinewidth": 0,
             "ticks": ""
            },
            "type": "choropleth"
           }
          ],
          "contour": [
           {
            "colorbar": {
             "outlinewidth": 0,
             "ticks": ""
            },
            "colorscale": [
             [
              0,
              "#0d0887"
             ],
             [
              0.1111111111111111,
              "#46039f"
             ],
             [
              0.2222222222222222,
              "#7201a8"
             ],
             [
              0.3333333333333333,
              "#9c179e"
             ],
             [
              0.4444444444444444,
              "#bd3786"
             ],
             [
              0.5555555555555556,
              "#d8576b"
             ],
             [
              0.6666666666666666,
              "#ed7953"
             ],
             [
              0.7777777777777778,
              "#fb9f3a"
             ],
             [
              0.8888888888888888,
              "#fdca26"
             ],
             [
              1,
              "#f0f921"
             ]
            ],
            "type": "contour"
           }
          ],
          "contourcarpet": [
           {
            "colorbar": {
             "outlinewidth": 0,
             "ticks": ""
            },
            "type": "contourcarpet"
           }
          ],
          "heatmap": [
           {
            "colorbar": {
             "outlinewidth": 0,
             "ticks": ""
            },
            "colorscale": [
             [
              0,
              "#0d0887"
             ],
             [
              0.1111111111111111,
              "#46039f"
             ],
             [
              0.2222222222222222,
              "#7201a8"
             ],
             [
              0.3333333333333333,
              "#9c179e"
             ],
             [
              0.4444444444444444,
              "#bd3786"
             ],
             [
              0.5555555555555556,
              "#d8576b"
             ],
             [
              0.6666666666666666,
              "#ed7953"
             ],
             [
              0.7777777777777778,
              "#fb9f3a"
             ],
             [
              0.8888888888888888,
              "#fdca26"
             ],
             [
              1,
              "#f0f921"
             ]
            ],
            "type": "heatmap"
           }
          ],
          "heatmapgl": [
           {
            "colorbar": {
             "outlinewidth": 0,
             "ticks": ""
            },
            "colorscale": [
             [
              0,
              "#0d0887"
             ],
             [
              0.1111111111111111,
              "#46039f"
             ],
             [
              0.2222222222222222,
              "#7201a8"
             ],
             [
              0.3333333333333333,
              "#9c179e"
             ],
             [
              0.4444444444444444,
              "#bd3786"
             ],
             [
              0.5555555555555556,
              "#d8576b"
             ],
             [
              0.6666666666666666,
              "#ed7953"
             ],
             [
              0.7777777777777778,
              "#fb9f3a"
             ],
             [
              0.8888888888888888,
              "#fdca26"
             ],
             [
              1,
              "#f0f921"
             ]
            ],
            "type": "heatmapgl"
           }
          ],
          "histogram": [
           {
            "marker": {
             "pattern": {
              "fillmode": "overlay",
              "size": 10,
              "solidity": 0.2
             }
            },
            "type": "histogram"
           }
          ],
          "histogram2d": [
           {
            "colorbar": {
             "outlinewidth": 0,
             "ticks": ""
            },
            "colorscale": [
             [
              0,
              "#0d0887"
             ],
             [
              0.1111111111111111,
              "#46039f"
             ],
             [
              0.2222222222222222,
              "#7201a8"
             ],
             [
              0.3333333333333333,
              "#9c179e"
             ],
             [
              0.4444444444444444,
              "#bd3786"
             ],
             [
              0.5555555555555556,
              "#d8576b"
             ],
             [
              0.6666666666666666,
              "#ed7953"
             ],
             [
              0.7777777777777778,
              "#fb9f3a"
             ],
             [
              0.8888888888888888,
              "#fdca26"
             ],
             [
              1,
              "#f0f921"
             ]
            ],
            "type": "histogram2d"
           }
          ],
          "histogram2dcontour": [
           {
            "colorbar": {
             "outlinewidth": 0,
             "ticks": ""
            },
            "colorscale": [
             [
              0,
              "#0d0887"
             ],
             [
              0.1111111111111111,
              "#46039f"
             ],
             [
              0.2222222222222222,
              "#7201a8"
             ],
             [
              0.3333333333333333,
              "#9c179e"
             ],
             [
              0.4444444444444444,
              "#bd3786"
             ],
             [
              0.5555555555555556,
              "#d8576b"
             ],
             [
              0.6666666666666666,
              "#ed7953"
             ],
             [
              0.7777777777777778,
              "#fb9f3a"
             ],
             [
              0.8888888888888888,
              "#fdca26"
             ],
             [
              1,
              "#f0f921"
             ]
            ],
            "type": "histogram2dcontour"
           }
          ],
          "mesh3d": [
           {
            "colorbar": {
             "outlinewidth": 0,
             "ticks": ""
            },
            "type": "mesh3d"
           }
          ],
          "parcoords": [
           {
            "line": {
             "colorbar": {
              "outlinewidth": 0,
              "ticks": ""
             }
            },
            "type": "parcoords"
           }
          ],
          "pie": [
           {
            "automargin": true,
            "type": "pie"
           }
          ],
          "scatter": [
           {
            "fillpattern": {
             "fillmode": "overlay",
             "size": 10,
             "solidity": 0.2
            },
            "type": "scatter"
           }
          ],
          "scatter3d": [
           {
            "line": {
             "colorbar": {
              "outlinewidth": 0,
              "ticks": ""
             }
            },
            "marker": {
             "colorbar": {
              "outlinewidth": 0,
              "ticks": ""
             }
            },
            "type": "scatter3d"
           }
          ],
          "scattercarpet": [
           {
            "marker": {
             "colorbar": {
              "outlinewidth": 0,
              "ticks": ""
             }
            },
            "type": "scattercarpet"
           }
          ],
          "scattergeo": [
           {
            "marker": {
             "colorbar": {
              "outlinewidth": 0,
              "ticks": ""
             }
            },
            "type": "scattergeo"
           }
          ],
          "scattergl": [
           {
            "marker": {
             "colorbar": {
              "outlinewidth": 0,
              "ticks": ""
             }
            },
            "type": "scattergl"
           }
          ],
          "scattermapbox": [
           {
            "marker": {
             "colorbar": {
              "outlinewidth": 0,
              "ticks": ""
             }
            },
            "type": "scattermapbox"
           }
          ],
          "scatterpolar": [
           {
            "marker": {
             "colorbar": {
              "outlinewidth": 0,
              "ticks": ""
             }
            },
            "type": "scatterpolar"
           }
          ],
          "scatterpolargl": [
           {
            "marker": {
             "colorbar": {
              "outlinewidth": 0,
              "ticks": ""
             }
            },
            "type": "scatterpolargl"
           }
          ],
          "scatterternary": [
           {
            "marker": {
             "colorbar": {
              "outlinewidth": 0,
              "ticks": ""
             }
            },
            "type": "scatterternary"
           }
          ],
          "surface": [
           {
            "colorbar": {
             "outlinewidth": 0,
             "ticks": ""
            },
            "colorscale": [
             [
              0,
              "#0d0887"
             ],
             [
              0.1111111111111111,
              "#46039f"
             ],
             [
              0.2222222222222222,
              "#7201a8"
             ],
             [
              0.3333333333333333,
              "#9c179e"
             ],
             [
              0.4444444444444444,
              "#bd3786"
             ],
             [
              0.5555555555555556,
              "#d8576b"
             ],
             [
              0.6666666666666666,
              "#ed7953"
             ],
             [
              0.7777777777777778,
              "#fb9f3a"
             ],
             [
              0.8888888888888888,
              "#fdca26"
             ],
             [
              1,
              "#f0f921"
             ]
            ],
            "type": "surface"
           }
          ],
          "table": [
           {
            "cells": {
             "fill": {
              "color": "#EBF0F8"
             },
             "line": {
              "color": "white"
             }
            },
            "header": {
             "fill": {
              "color": "#C8D4E3"
             },
             "line": {
              "color": "white"
             }
            },
            "type": "table"
           }
          ]
         },
         "layout": {
          "annotationdefaults": {
           "arrowcolor": "#2a3f5f",
           "arrowhead": 0,
           "arrowwidth": 1
          },
          "autotypenumbers": "strict",
          "coloraxis": {
           "colorbar": {
            "outlinewidth": 0,
            "ticks": ""
           }
          },
          "colorscale": {
           "diverging": [
            [
             0,
             "#8e0152"
            ],
            [
             0.1,
             "#c51b7d"
            ],
            [
             0.2,
             "#de77ae"
            ],
            [
             0.3,
             "#f1b6da"
            ],
            [
             0.4,
             "#fde0ef"
            ],
            [
             0.5,
             "#f7f7f7"
            ],
            [
             0.6,
             "#e6f5d0"
            ],
            [
             0.7,
             "#b8e186"
            ],
            [
             0.8,
             "#7fbc41"
            ],
            [
             0.9,
             "#4d9221"
            ],
            [
             1,
             "#276419"
            ]
           ],
           "sequential": [
            [
             0,
             "#0d0887"
            ],
            [
             0.1111111111111111,
             "#46039f"
            ],
            [
             0.2222222222222222,
             "#7201a8"
            ],
            [
             0.3333333333333333,
             "#9c179e"
            ],
            [
             0.4444444444444444,
             "#bd3786"
            ],
            [
             0.5555555555555556,
             "#d8576b"
            ],
            [
             0.6666666666666666,
             "#ed7953"
            ],
            [
             0.7777777777777778,
             "#fb9f3a"
            ],
            [
             0.8888888888888888,
             "#fdca26"
            ],
            [
             1,
             "#f0f921"
            ]
           ],
           "sequentialminus": [
            [
             0,
             "#0d0887"
            ],
            [
             0.1111111111111111,
             "#46039f"
            ],
            [
             0.2222222222222222,
             "#7201a8"
            ],
            [
             0.3333333333333333,
             "#9c179e"
            ],
            [
             0.4444444444444444,
             "#bd3786"
            ],
            [
             0.5555555555555556,
             "#d8576b"
            ],
            [
             0.6666666666666666,
             "#ed7953"
            ],
            [
             0.7777777777777778,
             "#fb9f3a"
            ],
            [
             0.8888888888888888,
             "#fdca26"
            ],
            [
             1,
             "#f0f921"
            ]
           ]
          },
          "colorway": [
           "#636efa",
           "#EF553B",
           "#00cc96",
           "#ab63fa",
           "#FFA15A",
           "#19d3f3",
           "#FF6692",
           "#B6E880",
           "#FF97FF",
           "#FECB52"
          ],
          "font": {
           "color": "#2a3f5f"
          },
          "geo": {
           "bgcolor": "white",
           "lakecolor": "white",
           "landcolor": "#E5ECF6",
           "showlakes": true,
           "showland": true,
           "subunitcolor": "white"
          },
          "hoverlabel": {
           "align": "left"
          },
          "hovermode": "closest",
          "mapbox": {
           "style": "light"
          },
          "paper_bgcolor": "white",
          "plot_bgcolor": "#E5ECF6",
          "polar": {
           "angularaxis": {
            "gridcolor": "white",
            "linecolor": "white",
            "ticks": ""
           },
           "bgcolor": "#E5ECF6",
           "radialaxis": {
            "gridcolor": "white",
            "linecolor": "white",
            "ticks": ""
           }
          },
          "scene": {
           "xaxis": {
            "backgroundcolor": "#E5ECF6",
            "gridcolor": "white",
            "gridwidth": 2,
            "linecolor": "white",
            "showbackground": true,
            "ticks": "",
            "zerolinecolor": "white"
           },
           "yaxis": {
            "backgroundcolor": "#E5ECF6",
            "gridcolor": "white",
            "gridwidth": 2,
            "linecolor": "white",
            "showbackground": true,
            "ticks": "",
            "zerolinecolor": "white"
           },
           "zaxis": {
            "backgroundcolor": "#E5ECF6",
            "gridcolor": "white",
            "gridwidth": 2,
            "linecolor": "white",
            "showbackground": true,
            "ticks": "",
            "zerolinecolor": "white"
           }
          },
          "shapedefaults": {
           "line": {
            "color": "#2a3f5f"
           }
          },
          "ternary": {
           "aaxis": {
            "gridcolor": "white",
            "linecolor": "white",
            "ticks": ""
           },
           "baxis": {
            "gridcolor": "white",
            "linecolor": "white",
            "ticks": ""
           },
           "bgcolor": "#E5ECF6",
           "caxis": {
            "gridcolor": "white",
            "linecolor": "white",
            "ticks": ""
           }
          },
          "title": {
           "x": 0.05
          },
          "xaxis": {
           "automargin": true,
           "gridcolor": "white",
           "linecolor": "white",
           "ticks": "",
           "title": {
            "standoff": 15
           },
           "zerolinecolor": "white",
           "zerolinewidth": 2
          },
          "yaxis": {
           "automargin": true,
           "gridcolor": "white",
           "linecolor": "white",
           "ticks": "",
           "title": {
            "standoff": 15
           },
           "zerolinecolor": "white",
           "zerolinewidth": 2
          }
         }
        },
        "title": {
         "text": "Agewise Player distribution in FIFA 21"
        },
        "xaxis": {
         "anchor": "y",
         "domain": [
          0,
          1
         ],
         "title": {
          "text": "Age"
         }
        },
        "yaxis": {
         "anchor": "x",
         "domain": [
          0,
          1
         ],
         "title": {
          "text": "Counts"
         }
        }
       }
      }
     },
     "metadata": {},
     "output_type": "display_data"
    }
   ],
   "source": [
    "age_cnt=fifa.groupby('Age').apply(lambda x:x['Name'].count()).reset_index(name='Counts')\n",
    "fig=px.bar(age_cnt,x='Age',y='Counts',color='Counts',title='Agewise Player distribution in FIFA 21')\n",
    "fig.show()"
   ]
  },
  {
   "cell_type": "code",
   "execution_count": 16,
   "id": "ce5e6563",
   "metadata": {
    "papermill": {
     "duration": 0.089909,
     "end_time": "2024-09-19T09:59:57.269801",
     "exception": false,
     "start_time": "2024-09-19T09:59:57.179892",
     "status": "completed"
    },
    "tags": []
   },
   "outputs": [
    {
     "name": "stderr",
     "output_type": "stream",
     "text": [
      "C:\\Users\\Haris\\AppData\\Local\\Temp\\ipykernel_21672\\3300001449.py:2: SettingWithCopyWarning:\n",
      "\n",
      "\n",
      "A value is trying to be set on a copy of a slice from a DataFrame\n",
      "\n",
      "See the caveats in the documentation: https://pandas.pydata.org/pandas-docs/stable/user_guide/indexing.html#returning-a-view-versus-a-copy\n",
      "\n"
     ]
    },
    {
     "data": {
      "application/vnd.plotly.v1+json": {
       "config": {
        "plotlyServerURL": "https://plot.ly"
       },
       "data": [
        {
         "customdata": [
          [
           "L. Messi",
           "FC Barcelona",
           "RW",
           "103.5M"
          ],
          [
           "Cristiano Ronaldo",
           "Juventus",
           "ST",
           "63M"
          ],
          [
           "J. Oblak",
           "Atlético Madrid",
           "GK",
           "120M"
          ],
          [
           "K. De Bruyne",
           "Manchester City",
           "CAM",
           "129M"
          ],
          [
           "Neymar Jr",
           "Paris Saint-Germain",
           "LW",
           "132M"
          ],
          [
           "R. Lewandowski",
           "FC Bayern München",
           "ST",
           "111M"
          ],
          [
           "M. ter Stegen",
           "FC Barcelona",
           "GK",
           "110M"
          ],
          [
           "V. van Dijk",
           "Liverpool",
           "CB",
           "113M"
          ],
          [
           "S. Mané",
           "Liverpool",
           "LW",
           "120.5M"
          ],
          [
           "K. Mbappé",
           "Paris Saint-Germain",
           "ST",
           "185.5M"
          ],
          [
           "Alisson",
           "Liverpool",
           "GK",
           "102M"
          ],
          [
           "M. Salah",
           "Liverpool",
           "RW",
           "120.5M"
          ],
          [
           "Casemiro",
           "Real Madrid",
           "CDM",
           "90.5M"
          ],
          [
           "T. Courtois",
           "Real Madrid",
           "GK",
           "82M"
          ],
          [
           "M. Neuer",
           "FC Bayern München",
           "GK",
           "17.5M"
          ],
          [
           "K. Benzema",
           "Real Madrid",
           "CF",
           "83.5M"
          ],
          [
           "Sergio Ramos",
           "Real Madrid",
           "CB",
           "33.5M"
          ],
          [
           "S. Agüero",
           "Manchester City",
           "ST",
           "83.5M"
          ],
          [
           "H. Kane",
           "Tottenham Hotspur",
           "ST",
           "109M"
          ],
          [
           "T. Kroos",
           "Real Madrid",
           "CM",
           "87.5M"
          ],
          [
           "E. Hazard",
           "Real Madrid",
           "LW",
           "89.5M"
          ],
          [
           "K. Koulibaly",
           "Napoli",
           "CB",
           "76.5M"
          ],
          [
           "S. Handanovič",
           "Inter",
           "GK",
           "10M"
          ],
          [
           "R. Sterling",
           "Manchester City",
           "LW",
           "114.5M"
          ],
          [
           "Ederson",
           "Manchester City",
           "GK",
           "92M"
          ],
          [
           "P. Dybala",
           "Juventus",
           "CAM",
           "109M"
          ],
          [
           "J. Kimmich",
           "FC Bayern München",
           "CDM",
           "103M"
          ],
          [
           "N. Kanté",
           "Chelsea",
           "CDM",
           "78M"
          ],
          [
           "K. Navas",
           "Paris Saint-Germain",
           "GK",
           "26M"
          ],
          [
           "C. Immobile",
           "Lazio",
           "ST",
           "78M"
          ]
         ],
         "hovertemplate": "Age=%{marker.color}<br>OVA=%{marker.size}<br>Name=%{customdata[0]}<br>Club=%{customdata[1]}<br>Best Position=%{customdata[2]}<br>Value=%{customdata[3]}<extra></extra>",
         "legendgroup": "",
         "marker": {
          "color": [
           33,
           35,
           27,
           29,
           28,
           31,
           28,
           28,
           28,
           21,
           27,
           28,
           28,
           28,
           34,
           32,
           34,
           32,
           26,
           30,
           29,
           29,
           35,
           25,
           26,
           26,
           25,
           29,
           33,
           30
          ],
          "coloraxis": "coloraxis",
          "size": [
           93,
           92,
           91,
           91,
           91,
           91,
           90,
           90,
           90,
           90,
           90,
           90,
           89,
           89,
           89,
           89,
           89,
           89,
           88,
           88,
           88,
           88,
           88,
           88,
           88,
           88,
           88,
           88,
           87,
           87
          ],
          "sizemode": "area",
          "sizeref": 0.2325,
          "symbol": "circle"
         },
         "mode": "markers",
         "name": "",
         "orientation": "v",
         "showlegend": false,
         "type": "scatter",
         "x": [
          33,
          35,
          27,
          29,
          28,
          31,
          28,
          28,
          28,
          21,
          27,
          28,
          28,
          28,
          34,
          32,
          34,
          32,
          26,
          30,
          29,
          29,
          35,
          25,
          26,
          26,
          25,
          29,
          33,
          30
         ],
         "xaxis": "x",
         "y": [
          93,
          92,
          91,
          91,
          91,
          91,
          90,
          90,
          90,
          90,
          90,
          90,
          89,
          89,
          89,
          89,
          89,
          89,
          88,
          88,
          88,
          88,
          88,
          88,
          88,
          88,
          88,
          88,
          87,
          87
         ],
         "yaxis": "y"
        }
       ],
       "layout": {
        "coloraxis": {
         "colorbar": {
          "title": {
           "text": "Age"
          }
         },
         "colorscale": [
          [
           0,
           "#0d0887"
          ],
          [
           0.1111111111111111,
           "#46039f"
          ],
          [
           0.2222222222222222,
           "#7201a8"
          ],
          [
           0.3333333333333333,
           "#9c179e"
          ],
          [
           0.4444444444444444,
           "#bd3786"
          ],
          [
           0.5555555555555556,
           "#d8576b"
          ],
          [
           0.6666666666666666,
           "#ed7953"
          ],
          [
           0.7777777777777778,
           "#fb9f3a"
          ],
          [
           0.8888888888888888,
           "#fdca26"
          ],
          [
           1,
           "#f0f921"
          ]
         ]
        },
        "legend": {
         "itemsizing": "constant",
         "tracegroupgap": 0
        },
        "template": {
         "data": {
          "bar": [
           {
            "error_x": {
             "color": "#2a3f5f"
            },
            "error_y": {
             "color": "#2a3f5f"
            },
            "marker": {
             "line": {
              "color": "#E5ECF6",
              "width": 0.5
             },
             "pattern": {
              "fillmode": "overlay",
              "size": 10,
              "solidity": 0.2
             }
            },
            "type": "bar"
           }
          ],
          "barpolar": [
           {
            "marker": {
             "line": {
              "color": "#E5ECF6",
              "width": 0.5
             },
             "pattern": {
              "fillmode": "overlay",
              "size": 10,
              "solidity": 0.2
             }
            },
            "type": "barpolar"
           }
          ],
          "carpet": [
           {
            "aaxis": {
             "endlinecolor": "#2a3f5f",
             "gridcolor": "white",
             "linecolor": "white",
             "minorgridcolor": "white",
             "startlinecolor": "#2a3f5f"
            },
            "baxis": {
             "endlinecolor": "#2a3f5f",
             "gridcolor": "white",
             "linecolor": "white",
             "minorgridcolor": "white",
             "startlinecolor": "#2a3f5f"
            },
            "type": "carpet"
           }
          ],
          "choropleth": [
           {
            "colorbar": {
             "outlinewidth": 0,
             "ticks": ""
            },
            "type": "choropleth"
           }
          ],
          "contour": [
           {
            "colorbar": {
             "outlinewidth": 0,
             "ticks": ""
            },
            "colorscale": [
             [
              0,
              "#0d0887"
             ],
             [
              0.1111111111111111,
              "#46039f"
             ],
             [
              0.2222222222222222,
              "#7201a8"
             ],
             [
              0.3333333333333333,
              "#9c179e"
             ],
             [
              0.4444444444444444,
              "#bd3786"
             ],
             [
              0.5555555555555556,
              "#d8576b"
             ],
             [
              0.6666666666666666,
              "#ed7953"
             ],
             [
              0.7777777777777778,
              "#fb9f3a"
             ],
             [
              0.8888888888888888,
              "#fdca26"
             ],
             [
              1,
              "#f0f921"
             ]
            ],
            "type": "contour"
           }
          ],
          "contourcarpet": [
           {
            "colorbar": {
             "outlinewidth": 0,
             "ticks": ""
            },
            "type": "contourcarpet"
           }
          ],
          "heatmap": [
           {
            "colorbar": {
             "outlinewidth": 0,
             "ticks": ""
            },
            "colorscale": [
             [
              0,
              "#0d0887"
             ],
             [
              0.1111111111111111,
              "#46039f"
             ],
             [
              0.2222222222222222,
              "#7201a8"
             ],
             [
              0.3333333333333333,
              "#9c179e"
             ],
             [
              0.4444444444444444,
              "#bd3786"
             ],
             [
              0.5555555555555556,
              "#d8576b"
             ],
             [
              0.6666666666666666,
              "#ed7953"
             ],
             [
              0.7777777777777778,
              "#fb9f3a"
             ],
             [
              0.8888888888888888,
              "#fdca26"
             ],
             [
              1,
              "#f0f921"
             ]
            ],
            "type": "heatmap"
           }
          ],
          "heatmapgl": [
           {
            "colorbar": {
             "outlinewidth": 0,
             "ticks": ""
            },
            "colorscale": [
             [
              0,
              "#0d0887"
             ],
             [
              0.1111111111111111,
              "#46039f"
             ],
             [
              0.2222222222222222,
              "#7201a8"
             ],
             [
              0.3333333333333333,
              "#9c179e"
             ],
             [
              0.4444444444444444,
              "#bd3786"
             ],
             [
              0.5555555555555556,
              "#d8576b"
             ],
             [
              0.6666666666666666,
              "#ed7953"
             ],
             [
              0.7777777777777778,
              "#fb9f3a"
             ],
             [
              0.8888888888888888,
              "#fdca26"
             ],
             [
              1,
              "#f0f921"
             ]
            ],
            "type": "heatmapgl"
           }
          ],
          "histogram": [
           {
            "marker": {
             "pattern": {
              "fillmode": "overlay",
              "size": 10,
              "solidity": 0.2
             }
            },
            "type": "histogram"
           }
          ],
          "histogram2d": [
           {
            "colorbar": {
             "outlinewidth": 0,
             "ticks": ""
            },
            "colorscale": [
             [
              0,
              "#0d0887"
             ],
             [
              0.1111111111111111,
              "#46039f"
             ],
             [
              0.2222222222222222,
              "#7201a8"
             ],
             [
              0.3333333333333333,
              "#9c179e"
             ],
             [
              0.4444444444444444,
              "#bd3786"
             ],
             [
              0.5555555555555556,
              "#d8576b"
             ],
             [
              0.6666666666666666,
              "#ed7953"
             ],
             [
              0.7777777777777778,
              "#fb9f3a"
             ],
             [
              0.8888888888888888,
              "#fdca26"
             ],
             [
              1,
              "#f0f921"
             ]
            ],
            "type": "histogram2d"
           }
          ],
          "histogram2dcontour": [
           {
            "colorbar": {
             "outlinewidth": 0,
             "ticks": ""
            },
            "colorscale": [
             [
              0,
              "#0d0887"
             ],
             [
              0.1111111111111111,
              "#46039f"
             ],
             [
              0.2222222222222222,
              "#7201a8"
             ],
             [
              0.3333333333333333,
              "#9c179e"
             ],
             [
              0.4444444444444444,
              "#bd3786"
             ],
             [
              0.5555555555555556,
              "#d8576b"
             ],
             [
              0.6666666666666666,
              "#ed7953"
             ],
             [
              0.7777777777777778,
              "#fb9f3a"
             ],
             [
              0.8888888888888888,
              "#fdca26"
             ],
             [
              1,
              "#f0f921"
             ]
            ],
            "type": "histogram2dcontour"
           }
          ],
          "mesh3d": [
           {
            "colorbar": {
             "outlinewidth": 0,
             "ticks": ""
            },
            "type": "mesh3d"
           }
          ],
          "parcoords": [
           {
            "line": {
             "colorbar": {
              "outlinewidth": 0,
              "ticks": ""
             }
            },
            "type": "parcoords"
           }
          ],
          "pie": [
           {
            "automargin": true,
            "type": "pie"
           }
          ],
          "scatter": [
           {
            "fillpattern": {
             "fillmode": "overlay",
             "size": 10,
             "solidity": 0.2
            },
            "type": "scatter"
           }
          ],
          "scatter3d": [
           {
            "line": {
             "colorbar": {
              "outlinewidth": 0,
              "ticks": ""
             }
            },
            "marker": {
             "colorbar": {
              "outlinewidth": 0,
              "ticks": ""
             }
            },
            "type": "scatter3d"
           }
          ],
          "scattercarpet": [
           {
            "marker": {
             "colorbar": {
              "outlinewidth": 0,
              "ticks": ""
             }
            },
            "type": "scattercarpet"
           }
          ],
          "scattergeo": [
           {
            "marker": {
             "colorbar": {
              "outlinewidth": 0,
              "ticks": ""
             }
            },
            "type": "scattergeo"
           }
          ],
          "scattergl": [
           {
            "marker": {
             "colorbar": {
              "outlinewidth": 0,
              "ticks": ""
             }
            },
            "type": "scattergl"
           }
          ],
          "scattermapbox": [
           {
            "marker": {
             "colorbar": {
              "outlinewidth": 0,
              "ticks": ""
             }
            },
            "type": "scattermapbox"
           }
          ],
          "scatterpolar": [
           {
            "marker": {
             "colorbar": {
              "outlinewidth": 0,
              "ticks": ""
             }
            },
            "type": "scatterpolar"
           }
          ],
          "scatterpolargl": [
           {
            "marker": {
             "colorbar": {
              "outlinewidth": 0,
              "ticks": ""
             }
            },
            "type": "scatterpolargl"
           }
          ],
          "scatterternary": [
           {
            "marker": {
             "colorbar": {
              "outlinewidth": 0,
              "ticks": ""
             }
            },
            "type": "scatterternary"
           }
          ],
          "surface": [
           {
            "colorbar": {
             "outlinewidth": 0,
             "ticks": ""
            },
            "colorscale": [
             [
              0,
              "#0d0887"
             ],
             [
              0.1111111111111111,
              "#46039f"
             ],
             [
              0.2222222222222222,
              "#7201a8"
             ],
             [
              0.3333333333333333,
              "#9c179e"
             ],
             [
              0.4444444444444444,
              "#bd3786"
             ],
             [
              0.5555555555555556,
              "#d8576b"
             ],
             [
              0.6666666666666666,
              "#ed7953"
             ],
             [
              0.7777777777777778,
              "#fb9f3a"
             ],
             [
              0.8888888888888888,
              "#fdca26"
             ],
             [
              1,
              "#f0f921"
             ]
            ],
            "type": "surface"
           }
          ],
          "table": [
           {
            "cells": {
             "fill": {
              "color": "#EBF0F8"
             },
             "line": {
              "color": "white"
             }
            },
            "header": {
             "fill": {
              "color": "#C8D4E3"
             },
             "line": {
              "color": "white"
             }
            },
            "type": "table"
           }
          ]
         },
         "layout": {
          "annotationdefaults": {
           "arrowcolor": "#2a3f5f",
           "arrowhead": 0,
           "arrowwidth": 1
          },
          "autotypenumbers": "strict",
          "coloraxis": {
           "colorbar": {
            "outlinewidth": 0,
            "ticks": ""
           }
          },
          "colorscale": {
           "diverging": [
            [
             0,
             "#8e0152"
            ],
            [
             0.1,
             "#c51b7d"
            ],
            [
             0.2,
             "#de77ae"
            ],
            [
             0.3,
             "#f1b6da"
            ],
            [
             0.4,
             "#fde0ef"
            ],
            [
             0.5,
             "#f7f7f7"
            ],
            [
             0.6,
             "#e6f5d0"
            ],
            [
             0.7,
             "#b8e186"
            ],
            [
             0.8,
             "#7fbc41"
            ],
            [
             0.9,
             "#4d9221"
            ],
            [
             1,
             "#276419"
            ]
           ],
           "sequential": [
            [
             0,
             "#0d0887"
            ],
            [
             0.1111111111111111,
             "#46039f"
            ],
            [
             0.2222222222222222,
             "#7201a8"
            ],
            [
             0.3333333333333333,
             "#9c179e"
            ],
            [
             0.4444444444444444,
             "#bd3786"
            ],
            [
             0.5555555555555556,
             "#d8576b"
            ],
            [
             0.6666666666666666,
             "#ed7953"
            ],
            [
             0.7777777777777778,
             "#fb9f3a"
            ],
            [
             0.8888888888888888,
             "#fdca26"
            ],
            [
             1,
             "#f0f921"
            ]
           ],
           "sequentialminus": [
            [
             0,
             "#0d0887"
            ],
            [
             0.1111111111111111,
             "#46039f"
            ],
            [
             0.2222222222222222,
             "#7201a8"
            ],
            [
             0.3333333333333333,
             "#9c179e"
            ],
            [
             0.4444444444444444,
             "#bd3786"
            ],
            [
             0.5555555555555556,
             "#d8576b"
            ],
            [
             0.6666666666666666,
             "#ed7953"
            ],
            [
             0.7777777777777778,
             "#fb9f3a"
            ],
            [
             0.8888888888888888,
             "#fdca26"
            ],
            [
             1,
             "#f0f921"
            ]
           ]
          },
          "colorway": [
           "#636efa",
           "#EF553B",
           "#00cc96",
           "#ab63fa",
           "#FFA15A",
           "#19d3f3",
           "#FF6692",
           "#B6E880",
           "#FF97FF",
           "#FECB52"
          ],
          "font": {
           "color": "#2a3f5f"
          },
          "geo": {
           "bgcolor": "white",
           "lakecolor": "white",
           "landcolor": "#E5ECF6",
           "showlakes": true,
           "showland": true,
           "subunitcolor": "white"
          },
          "hoverlabel": {
           "align": "left"
          },
          "hovermode": "closest",
          "mapbox": {
           "style": "light"
          },
          "paper_bgcolor": "white",
          "plot_bgcolor": "#E5ECF6",
          "polar": {
           "angularaxis": {
            "gridcolor": "white",
            "linecolor": "white",
            "ticks": ""
           },
           "bgcolor": "#E5ECF6",
           "radialaxis": {
            "gridcolor": "white",
            "linecolor": "white",
            "ticks": ""
           }
          },
          "scene": {
           "xaxis": {
            "backgroundcolor": "#E5ECF6",
            "gridcolor": "white",
            "gridwidth": 2,
            "linecolor": "white",
            "showbackground": true,
            "ticks": "",
            "zerolinecolor": "white"
           },
           "yaxis": {
            "backgroundcolor": "#E5ECF6",
            "gridcolor": "white",
            "gridwidth": 2,
            "linecolor": "white",
            "showbackground": true,
            "ticks": "",
            "zerolinecolor": "white"
           },
           "zaxis": {
            "backgroundcolor": "#E5ECF6",
            "gridcolor": "white",
            "gridwidth": 2,
            "linecolor": "white",
            "showbackground": true,
            "ticks": "",
            "zerolinecolor": "white"
           }
          },
          "shapedefaults": {
           "line": {
            "color": "#2a3f5f"
           }
          },
          "ternary": {
           "aaxis": {
            "gridcolor": "white",
            "linecolor": "white",
            "ticks": ""
           },
           "baxis": {
            "gridcolor": "white",
            "linecolor": "white",
            "ticks": ""
           },
           "bgcolor": "#E5ECF6",
           "caxis": {
            "gridcolor": "white",
            "linecolor": "white",
            "ticks": ""
           }
          },
          "title": {
           "x": 0.05
          },
          "xaxis": {
           "automargin": true,
           "gridcolor": "white",
           "linecolor": "white",
           "ticks": "",
           "title": {
            "standoff": 15
           },
           "zerolinecolor": "white",
           "zerolinewidth": 2
          },
          "yaxis": {
           "automargin": true,
           "gridcolor": "white",
           "linecolor": "white",
           "ticks": "",
           "title": {
            "standoff": 15
           },
           "zerolinecolor": "white",
           "zerolinewidth": 2
          }
         }
        },
        "title": {
         "text": "BEST PLAYER IN  FIFA 21"
        },
        "xaxis": {
         "anchor": "y",
         "domain": [
          0,
          1
         ],
         "title": {
          "text": "Age"
         }
        },
        "yaxis": {
         "anchor": "x",
         "domain": [
          0,
          1
         ],
         "title": {
          "text": "OVA"
         }
        }
       }
      }
     },
     "metadata": {},
     "output_type": "display_data"
    }
   ],
   "source": [
    "top_player=fifa[[\"Name\",\"OVA\",\"Club\",\"Age\",\"Best Position\",\"Value\"]]\n",
    "top_player.sort_values(by=\"OVA\",ascending=False,inplace=True)\n",
    "top_20_player=top_player[:30]\n",
    "f=px.scatter(top_20_player,x=\"Age\",y=\"OVA\",color=\"Age\",size='OVA',hover_data=['Name','Club','Best Position',\"Value\"],title='BEST PLAYER IN  FIFA 21')\n",
    "f.show()"
   ]
  },
  {
   "cell_type": "code",
   "execution_count": 17,
   "id": "c5c1290e",
   "metadata": {
    "papermill": {
     "duration": 0.124803,
     "end_time": "2024-09-19T09:59:57.407764",
     "exception": false,
     "start_time": "2024-09-19T09:59:57.282961",
     "status": "completed"
    },
    "tags": []
   },
   "outputs": [
    {
     "name": "stderr",
     "output_type": "stream",
     "text": [
      "C:\\Users\\Haris\\AppData\\Local\\Temp\\ipykernel_21672\\413228033.py:1: DeprecationWarning:\n",
      "\n",
      "DataFrameGroupBy.apply operated on the grouping columns. This behavior is deprecated, and in a future version of pandas the grouping columns will be excluded from the operation. Either pass `include_groups=False` to exclude the groupings or explicitly select the grouping columns after groupby to silence this warning.\n",
      "\n"
     ]
    },
    {
     "data": {
      "text/html": [
       "<div>\n",
       "<style scoped>\n",
       "    .dataframe tbody tr th:only-of-type {\n",
       "        vertical-align: middle;\n",
       "    }\n",
       "\n",
       "    .dataframe tbody tr th {\n",
       "        vertical-align: top;\n",
       "    }\n",
       "\n",
       "    .dataframe thead th {\n",
       "        text-align: right;\n",
       "    }\n",
       "</style>\n",
       "<table border=\"1\" class=\"dataframe\">\n",
       "  <thead>\n",
       "    <tr style=\"text-align: right;\">\n",
       "      <th></th>\n",
       "      <th>Club</th>\n",
       "      <th>Overall Rating</th>\n",
       "    </tr>\n",
       "  </thead>\n",
       "  <tbody>\n",
       "    <tr>\n",
       "      <th>216</th>\n",
       "      <td>FC Bayern München</td>\n",
       "      <td>82.217391</td>\n",
       "    </tr>\n",
       "    <tr>\n",
       "      <th>490</th>\n",
       "      <td>Real Madrid</td>\n",
       "      <td>80.433333</td>\n",
       "    </tr>\n",
       "    <tr>\n",
       "      <th>330</th>\n",
       "      <td>Inter</td>\n",
       "      <td>80.038462</td>\n",
       "    </tr>\n",
       "    <tr>\n",
       "      <th>414</th>\n",
       "      <td>Napoli</td>\n",
       "      <td>79.500000</td>\n",
       "    </tr>\n",
       "    <tr>\n",
       "      <th>339</th>\n",
       "      <td>Juventus</td>\n",
       "      <td>79.285714</td>\n",
       "    </tr>\n",
       "    <tr>\n",
       "      <th>131</th>\n",
       "      <td>Chelsea</td>\n",
       "      <td>79.060606</td>\n",
       "    </tr>\n",
       "    <tr>\n",
       "      <th>452</th>\n",
       "      <td>Paris Saint-Germain</td>\n",
       "      <td>78.866667</td>\n",
       "    </tr>\n",
       "    <tr>\n",
       "      <th>387</th>\n",
       "      <td>Manchester United</td>\n",
       "      <td>78.818182</td>\n",
       "    </tr>\n",
       "    <tr>\n",
       "      <th>555</th>\n",
       "      <td>Sevilla FC</td>\n",
       "      <td>78.285714</td>\n",
       "    </tr>\n",
       "    <tr>\n",
       "      <th>374</th>\n",
       "      <td>Liverpool</td>\n",
       "      <td>78.272727</td>\n",
       "    </tr>\n",
       "    <tr>\n",
       "      <th>613</th>\n",
       "      <td>Tottenham Hotspur</td>\n",
       "      <td>77.909091</td>\n",
       "    </tr>\n",
       "    <tr>\n",
       "      <th>386</th>\n",
       "      <td>Manchester City</td>\n",
       "      <td>77.848485</td>\n",
       "    </tr>\n",
       "    <tr>\n",
       "      <th>214</th>\n",
       "      <td>FC Barcelona</td>\n",
       "      <td>77.787879</td>\n",
       "    </tr>\n",
       "    <tr>\n",
       "      <th>526</th>\n",
       "      <td>SL Benfica</td>\n",
       "      <td>77.629630</td>\n",
       "    </tr>\n",
       "    <tr>\n",
       "      <th>64</th>\n",
       "      <td>Atlético Madrid</td>\n",
       "      <td>77.250000</td>\n",
       "    </tr>\n",
       "    <tr>\n",
       "      <th>55</th>\n",
       "      <td>Arsenal</td>\n",
       "      <td>76.909091</td>\n",
       "    </tr>\n",
       "    <tr>\n",
       "      <th>363</th>\n",
       "      <td>Lazio</td>\n",
       "      <td>76.468750</td>\n",
       "    </tr>\n",
       "    <tr>\n",
       "      <th>77</th>\n",
       "      <td>Bayer 04 Leverkusen</td>\n",
       "      <td>76.428571</td>\n",
       "    </tr>\n",
       "    <tr>\n",
       "      <th>503</th>\n",
       "      <td>Roma</td>\n",
       "      <td>76.307692</td>\n",
       "    </tr>\n",
       "    <tr>\n",
       "      <th>91</th>\n",
       "      <td>Borussia Dortmund</td>\n",
       "      <td>76.266667</td>\n",
       "    </tr>\n",
       "  </tbody>\n",
       "</table>\n",
       "</div>"
      ],
      "text/plain": [
       "                    Club  Overall Rating\n",
       "216    FC Bayern München       82.217391\n",
       "490          Real Madrid       80.433333\n",
       "330                Inter       80.038462\n",
       "414               Napoli       79.500000\n",
       "339             Juventus       79.285714\n",
       "131              Chelsea       79.060606\n",
       "452  Paris Saint-Germain       78.866667\n",
       "387    Manchester United       78.818182\n",
       "555           Sevilla FC       78.285714\n",
       "374            Liverpool       78.272727\n",
       "613    Tottenham Hotspur       77.909091\n",
       "386      Manchester City       77.848485\n",
       "214         FC Barcelona       77.787879\n",
       "526           SL Benfica       77.629630\n",
       "64       Atlético Madrid       77.250000\n",
       "55               Arsenal       76.909091\n",
       "363                Lazio       76.468750\n",
       "77   Bayer 04 Leverkusen       76.428571\n",
       "503                 Roma       76.307692\n",
       "91     Borussia Dortmund       76.266667"
      ]
     },
     "execution_count": 17,
     "metadata": {},
     "output_type": "execute_result"
    }
   ],
   "source": [
    "cnt_best_avg=fifa.groupby('Club').apply(lambda x:np.average(x['BOV'])).reset_index(name='Overall Rating')\n",
    "x=cnt_best_avg.sort_values(by=\"Overall Rating\",ascending=False).head(20)\n",
    "x"
   ]
  },
  {
   "cell_type": "code",
   "execution_count": 18,
   "id": "1be3e7c9",
   "metadata": {
    "papermill": {
     "duration": 0.081911,
     "end_time": "2024-09-19T09:59:57.503659",
     "exception": false,
     "start_time": "2024-09-19T09:59:57.421748",
     "status": "completed"
    },
    "tags": []
   },
   "outputs": [
    {
     "data": {
      "application/vnd.plotly.v1+json": {
       "config": {
        "plotlyServerURL": "https://plot.ly"
       },
       "data": [
        {
         "alignmentgroup": "True",
         "hovertemplate": "x=%{x}<br>count=%{y}<br>color=%{marker.color}<extra></extra>",
         "legendgroup": "",
         "marker": {
          "color": [
           82.21739130434783,
           80.43333333333334,
           80.03846153846153,
           79.5,
           79.28571428571429,
           79.06060606060606,
           78.86666666666666,
           78.81818181818181,
           78.28571428571429,
           78.27272727272727,
           77.9090909090909,
           77.84848484848484,
           77.78787878787878,
           77.62962962962963,
           77.25,
           76.9090909090909,
           76.46875,
           76.42857142857143,
           76.3076923076923,
           76.26666666666667
          ],
          "coloraxis": "coloraxis",
          "pattern": {
           "shape": ""
          }
         },
         "name": "",
         "offsetgroup": "",
         "orientation": "v",
         "showlegend": false,
         "textposition": "auto",
         "type": "bar",
         "x": [
          "FC Bayern München",
          "Real Madrid",
          "Inter",
          "Napoli",
          "Juventus",
          "Chelsea",
          "Paris Saint-Germain",
          "Manchester United",
          "Sevilla FC",
          "Liverpool",
          "Tottenham Hotspur",
          "Manchester City",
          "FC Barcelona",
          "SL Benfica",
          "Atlético Madrid",
          "Arsenal",
          "Lazio",
          "Bayer 04 Leverkusen",
          "Roma",
          "Borussia Dortmund"
         ],
         "xaxis": "x",
         "y": [
          1,
          1,
          1,
          1,
          1,
          1,
          1,
          1,
          1,
          1,
          1,
          1,
          1,
          1,
          1,
          1,
          1,
          1,
          1,
          1
         ],
         "yaxis": "y"
        }
       ],
       "layout": {
        "barmode": "relative",
        "coloraxis": {
         "colorbar": {
          "title": {
           "text": "color"
          }
         },
         "colorscale": [
          [
           0,
           "#0d0887"
          ],
          [
           0.1111111111111111,
           "#46039f"
          ],
          [
           0.2222222222222222,
           "#7201a8"
          ],
          [
           0.3333333333333333,
           "#9c179e"
          ],
          [
           0.4444444444444444,
           "#bd3786"
          ],
          [
           0.5555555555555556,
           "#d8576b"
          ],
          [
           0.6666666666666666,
           "#ed7953"
          ],
          [
           0.7777777777777778,
           "#fb9f3a"
          ],
          [
           0.8888888888888888,
           "#fdca26"
          ],
          [
           1,
           "#f0f921"
          ]
         ]
        },
        "legend": {
         "tracegroupgap": 0
        },
        "template": {
         "data": {
          "bar": [
           {
            "error_x": {
             "color": "#2a3f5f"
            },
            "error_y": {
             "color": "#2a3f5f"
            },
            "marker": {
             "line": {
              "color": "#E5ECF6",
              "width": 0.5
             },
             "pattern": {
              "fillmode": "overlay",
              "size": 10,
              "solidity": 0.2
             }
            },
            "type": "bar"
           }
          ],
          "barpolar": [
           {
            "marker": {
             "line": {
              "color": "#E5ECF6",
              "width": 0.5
             },
             "pattern": {
              "fillmode": "overlay",
              "size": 10,
              "solidity": 0.2
             }
            },
            "type": "barpolar"
           }
          ],
          "carpet": [
           {
            "aaxis": {
             "endlinecolor": "#2a3f5f",
             "gridcolor": "white",
             "linecolor": "white",
             "minorgridcolor": "white",
             "startlinecolor": "#2a3f5f"
            },
            "baxis": {
             "endlinecolor": "#2a3f5f",
             "gridcolor": "white",
             "linecolor": "white",
             "minorgridcolor": "white",
             "startlinecolor": "#2a3f5f"
            },
            "type": "carpet"
           }
          ],
          "choropleth": [
           {
            "colorbar": {
             "outlinewidth": 0,
             "ticks": ""
            },
            "type": "choropleth"
           }
          ],
          "contour": [
           {
            "colorbar": {
             "outlinewidth": 0,
             "ticks": ""
            },
            "colorscale": [
             [
              0,
              "#0d0887"
             ],
             [
              0.1111111111111111,
              "#46039f"
             ],
             [
              0.2222222222222222,
              "#7201a8"
             ],
             [
              0.3333333333333333,
              "#9c179e"
             ],
             [
              0.4444444444444444,
              "#bd3786"
             ],
             [
              0.5555555555555556,
              "#d8576b"
             ],
             [
              0.6666666666666666,
              "#ed7953"
             ],
             [
              0.7777777777777778,
              "#fb9f3a"
             ],
             [
              0.8888888888888888,
              "#fdca26"
             ],
             [
              1,
              "#f0f921"
             ]
            ],
            "type": "contour"
           }
          ],
          "contourcarpet": [
           {
            "colorbar": {
             "outlinewidth": 0,
             "ticks": ""
            },
            "type": "contourcarpet"
           }
          ],
          "heatmap": [
           {
            "colorbar": {
             "outlinewidth": 0,
             "ticks": ""
            },
            "colorscale": [
             [
              0,
              "#0d0887"
             ],
             [
              0.1111111111111111,
              "#46039f"
             ],
             [
              0.2222222222222222,
              "#7201a8"
             ],
             [
              0.3333333333333333,
              "#9c179e"
             ],
             [
              0.4444444444444444,
              "#bd3786"
             ],
             [
              0.5555555555555556,
              "#d8576b"
             ],
             [
              0.6666666666666666,
              "#ed7953"
             ],
             [
              0.7777777777777778,
              "#fb9f3a"
             ],
             [
              0.8888888888888888,
              "#fdca26"
             ],
             [
              1,
              "#f0f921"
             ]
            ],
            "type": "heatmap"
           }
          ],
          "heatmapgl": [
           {
            "colorbar": {
             "outlinewidth": 0,
             "ticks": ""
            },
            "colorscale": [
             [
              0,
              "#0d0887"
             ],
             [
              0.1111111111111111,
              "#46039f"
             ],
             [
              0.2222222222222222,
              "#7201a8"
             ],
             [
              0.3333333333333333,
              "#9c179e"
             ],
             [
              0.4444444444444444,
              "#bd3786"
             ],
             [
              0.5555555555555556,
              "#d8576b"
             ],
             [
              0.6666666666666666,
              "#ed7953"
             ],
             [
              0.7777777777777778,
              "#fb9f3a"
             ],
             [
              0.8888888888888888,
              "#fdca26"
             ],
             [
              1,
              "#f0f921"
             ]
            ],
            "type": "heatmapgl"
           }
          ],
          "histogram": [
           {
            "marker": {
             "pattern": {
              "fillmode": "overlay",
              "size": 10,
              "solidity": 0.2
             }
            },
            "type": "histogram"
           }
          ],
          "histogram2d": [
           {
            "colorbar": {
             "outlinewidth": 0,
             "ticks": ""
            },
            "colorscale": [
             [
              0,
              "#0d0887"
             ],
             [
              0.1111111111111111,
              "#46039f"
             ],
             [
              0.2222222222222222,
              "#7201a8"
             ],
             [
              0.3333333333333333,
              "#9c179e"
             ],
             [
              0.4444444444444444,
              "#bd3786"
             ],
             [
              0.5555555555555556,
              "#d8576b"
             ],
             [
              0.6666666666666666,
              "#ed7953"
             ],
             [
              0.7777777777777778,
              "#fb9f3a"
             ],
             [
              0.8888888888888888,
              "#fdca26"
             ],
             [
              1,
              "#f0f921"
             ]
            ],
            "type": "histogram2d"
           }
          ],
          "histogram2dcontour": [
           {
            "colorbar": {
             "outlinewidth": 0,
             "ticks": ""
            },
            "colorscale": [
             [
              0,
              "#0d0887"
             ],
             [
              0.1111111111111111,
              "#46039f"
             ],
             [
              0.2222222222222222,
              "#7201a8"
             ],
             [
              0.3333333333333333,
              "#9c179e"
             ],
             [
              0.4444444444444444,
              "#bd3786"
             ],
             [
              0.5555555555555556,
              "#d8576b"
             ],
             [
              0.6666666666666666,
              "#ed7953"
             ],
             [
              0.7777777777777778,
              "#fb9f3a"
             ],
             [
              0.8888888888888888,
              "#fdca26"
             ],
             [
              1,
              "#f0f921"
             ]
            ],
            "type": "histogram2dcontour"
           }
          ],
          "mesh3d": [
           {
            "colorbar": {
             "outlinewidth": 0,
             "ticks": ""
            },
            "type": "mesh3d"
           }
          ],
          "parcoords": [
           {
            "line": {
             "colorbar": {
              "outlinewidth": 0,
              "ticks": ""
             }
            },
            "type": "parcoords"
           }
          ],
          "pie": [
           {
            "automargin": true,
            "type": "pie"
           }
          ],
          "scatter": [
           {
            "fillpattern": {
             "fillmode": "overlay",
             "size": 10,
             "solidity": 0.2
            },
            "type": "scatter"
           }
          ],
          "scatter3d": [
           {
            "line": {
             "colorbar": {
              "outlinewidth": 0,
              "ticks": ""
             }
            },
            "marker": {
             "colorbar": {
              "outlinewidth": 0,
              "ticks": ""
             }
            },
            "type": "scatter3d"
           }
          ],
          "scattercarpet": [
           {
            "marker": {
             "colorbar": {
              "outlinewidth": 0,
              "ticks": ""
             }
            },
            "type": "scattercarpet"
           }
          ],
          "scattergeo": [
           {
            "marker": {
             "colorbar": {
              "outlinewidth": 0,
              "ticks": ""
             }
            },
            "type": "scattergeo"
           }
          ],
          "scattergl": [
           {
            "marker": {
             "colorbar": {
              "outlinewidth": 0,
              "ticks": ""
             }
            },
            "type": "scattergl"
           }
          ],
          "scattermapbox": [
           {
            "marker": {
             "colorbar": {
              "outlinewidth": 0,
              "ticks": ""
             }
            },
            "type": "scattermapbox"
           }
          ],
          "scatterpolar": [
           {
            "marker": {
             "colorbar": {
              "outlinewidth": 0,
              "ticks": ""
             }
            },
            "type": "scatterpolar"
           }
          ],
          "scatterpolargl": [
           {
            "marker": {
             "colorbar": {
              "outlinewidth": 0,
              "ticks": ""
             }
            },
            "type": "scatterpolargl"
           }
          ],
          "scatterternary": [
           {
            "marker": {
             "colorbar": {
              "outlinewidth": 0,
              "ticks": ""
             }
            },
            "type": "scatterternary"
           }
          ],
          "surface": [
           {
            "colorbar": {
             "outlinewidth": 0,
             "ticks": ""
            },
            "colorscale": [
             [
              0,
              "#0d0887"
             ],
             [
              0.1111111111111111,
              "#46039f"
             ],
             [
              0.2222222222222222,
              "#7201a8"
             ],
             [
              0.3333333333333333,
              "#9c179e"
             ],
             [
              0.4444444444444444,
              "#bd3786"
             ],
             [
              0.5555555555555556,
              "#d8576b"
             ],
             [
              0.6666666666666666,
              "#ed7953"
             ],
             [
              0.7777777777777778,
              "#fb9f3a"
             ],
             [
              0.8888888888888888,
              "#fdca26"
             ],
             [
              1,
              "#f0f921"
             ]
            ],
            "type": "surface"
           }
          ],
          "table": [
           {
            "cells": {
             "fill": {
              "color": "#EBF0F8"
             },
             "line": {
              "color": "white"
             }
            },
            "header": {
             "fill": {
              "color": "#C8D4E3"
             },
             "line": {
              "color": "white"
             }
            },
            "type": "table"
           }
          ]
         },
         "layout": {
          "annotationdefaults": {
           "arrowcolor": "#2a3f5f",
           "arrowhead": 0,
           "arrowwidth": 1
          },
          "autotypenumbers": "strict",
          "coloraxis": {
           "colorbar": {
            "outlinewidth": 0,
            "ticks": ""
           }
          },
          "colorscale": {
           "diverging": [
            [
             0,
             "#8e0152"
            ],
            [
             0.1,
             "#c51b7d"
            ],
            [
             0.2,
             "#de77ae"
            ],
            [
             0.3,
             "#f1b6da"
            ],
            [
             0.4,
             "#fde0ef"
            ],
            [
             0.5,
             "#f7f7f7"
            ],
            [
             0.6,
             "#e6f5d0"
            ],
            [
             0.7,
             "#b8e186"
            ],
            [
             0.8,
             "#7fbc41"
            ],
            [
             0.9,
             "#4d9221"
            ],
            [
             1,
             "#276419"
            ]
           ],
           "sequential": [
            [
             0,
             "#0d0887"
            ],
            [
             0.1111111111111111,
             "#46039f"
            ],
            [
             0.2222222222222222,
             "#7201a8"
            ],
            [
             0.3333333333333333,
             "#9c179e"
            ],
            [
             0.4444444444444444,
             "#bd3786"
            ],
            [
             0.5555555555555556,
             "#d8576b"
            ],
            [
             0.6666666666666666,
             "#ed7953"
            ],
            [
             0.7777777777777778,
             "#fb9f3a"
            ],
            [
             0.8888888888888888,
             "#fdca26"
            ],
            [
             1,
             "#f0f921"
            ]
           ],
           "sequentialminus": [
            [
             0,
             "#0d0887"
            ],
            [
             0.1111111111111111,
             "#46039f"
            ],
            [
             0.2222222222222222,
             "#7201a8"
            ],
            [
             0.3333333333333333,
             "#9c179e"
            ],
            [
             0.4444444444444444,
             "#bd3786"
            ],
            [
             0.5555555555555556,
             "#d8576b"
            ],
            [
             0.6666666666666666,
             "#ed7953"
            ],
            [
             0.7777777777777778,
             "#fb9f3a"
            ],
            [
             0.8888888888888888,
             "#fdca26"
            ],
            [
             1,
             "#f0f921"
            ]
           ]
          },
          "colorway": [
           "#636efa",
           "#EF553B",
           "#00cc96",
           "#ab63fa",
           "#FFA15A",
           "#19d3f3",
           "#FF6692",
           "#B6E880",
           "#FF97FF",
           "#FECB52"
          ],
          "font": {
           "color": "#2a3f5f"
          },
          "geo": {
           "bgcolor": "white",
           "lakecolor": "white",
           "landcolor": "#E5ECF6",
           "showlakes": true,
           "showland": true,
           "subunitcolor": "white"
          },
          "hoverlabel": {
           "align": "left"
          },
          "hovermode": "closest",
          "mapbox": {
           "style": "light"
          },
          "paper_bgcolor": "white",
          "plot_bgcolor": "#E5ECF6",
          "polar": {
           "angularaxis": {
            "gridcolor": "white",
            "linecolor": "white",
            "ticks": ""
           },
           "bgcolor": "#E5ECF6",
           "radialaxis": {
            "gridcolor": "white",
            "linecolor": "white",
            "ticks": ""
           }
          },
          "scene": {
           "xaxis": {
            "backgroundcolor": "#E5ECF6",
            "gridcolor": "white",
            "gridwidth": 2,
            "linecolor": "white",
            "showbackground": true,
            "ticks": "",
            "zerolinecolor": "white"
           },
           "yaxis": {
            "backgroundcolor": "#E5ECF6",
            "gridcolor": "white",
            "gridwidth": 2,
            "linecolor": "white",
            "showbackground": true,
            "ticks": "",
            "zerolinecolor": "white"
           },
           "zaxis": {
            "backgroundcolor": "#E5ECF6",
            "gridcolor": "white",
            "gridwidth": 2,
            "linecolor": "white",
            "showbackground": true,
            "ticks": "",
            "zerolinecolor": "white"
           }
          },
          "shapedefaults": {
           "line": {
            "color": "#2a3f5f"
           }
          },
          "ternary": {
           "aaxis": {
            "gridcolor": "white",
            "linecolor": "white",
            "ticks": ""
           },
           "baxis": {
            "gridcolor": "white",
            "linecolor": "white",
            "ticks": ""
           },
           "bgcolor": "#E5ECF6",
           "caxis": {
            "gridcolor": "white",
            "linecolor": "white",
            "ticks": ""
           }
          },
          "title": {
           "x": 0.05
          },
          "xaxis": {
           "automargin": true,
           "gridcolor": "white",
           "linecolor": "white",
           "ticks": "",
           "title": {
            "standoff": 15
           },
           "zerolinecolor": "white",
           "zerolinewidth": 2
          },
          "yaxis": {
           "automargin": true,
           "gridcolor": "white",
           "linecolor": "white",
           "ticks": "",
           "title": {
            "standoff": 15
           },
           "zerolinecolor": "white",
           "zerolinewidth": 2
          }
         }
        },
        "title": {
         "text": "Top 20 Club Over Rate in FIFA 21"
        },
        "xaxis": {
         "anchor": "y",
         "domain": [
          0,
          1
         ],
         "title": {
          "text": "x"
         }
        },
        "yaxis": {
         "anchor": "x",
         "domain": [
          0,
          1
         ],
         "title": {
          "text": "count"
         }
        }
       }
      }
     },
     "metadata": {},
     "output_type": "display_data"
    }
   ],
   "source": [
    "g=px.bar(x[\"Overall Rating\"],x[\"Club\"],color=x[\"Overall Rating\"],title=\"Top 20 Club Over Rate in FIFA 21\")\n",
    "g.show()"
   ]
  },
  {
   "cell_type": "code",
   "execution_count": 19,
   "id": "14610ede",
   "metadata": {
    "papermill": {
     "duration": 0.249537,
     "end_time": "2024-09-19T09:59:57.767389",
     "exception": false,
     "start_time": "2024-09-19T09:59:57.517852",
     "status": "completed"
    },
    "tags": []
   },
   "outputs": [
    {
     "data": {
      "image/png": "[encoded data removed]",
      "text/plain": [
       "<Figure size 600x600 with 1 Axes>"
      ]
     },
     "metadata": {},
     "output_type": "display_data"
    }
   ],
   "source": [
    "y=fifa[\"Preferred Foot\"].value_counts()\n",
    "plt.figure(figsize=(6,6))\n",
    "plt.title(\"Preferred Foot\",fontdict={\"fontname\":\"Comic Sans MS\",\"fontsize\":15},color=\"red\")\n",
    "plt.bar(y.index,y.values)\n",
    "plt.show()"
   ]
  },
  {
   "cell_type": "code",
   "execution_count": 20,
   "id": "263bf238",
   "metadata": {
    "papermill": {
     "duration": 0.029015,
     "end_time": "2024-09-19T09:59:57.810631",
     "exception": false,
     "start_time": "2024-09-19T09:59:57.781616",
     "status": "completed"
    },
    "scrolled": true,
    "tags": []
   },
   "outputs": [
    {
     "data": {
      "text/plain": [
       "Best Position\n",
       "CB     3686\n",
       "ST     2680\n",
       "CAM    2299\n",
       "GK     2075\n",
       "RM     1611\n",
       "CDM    1445\n",
       "LB     1086\n",
       "RB     1079\n",
       "CM     1047\n",
       "LM      871\n",
       "RW      298\n",
       "RWB     277\n",
       "LWB     261\n",
       "LW      186\n",
       "CF       78\n",
       "Name: count, dtype: int64"
      ]
     },
     "execution_count": 20,
     "metadata": {},
     "output_type": "execute_result"
    }
   ],
   "source": [
    "Bp=fifa[\"Best Position\"].value_counts()\n",
    "Bp"
   ]
  },
  {
   "cell_type": "code",
   "execution_count": 21,
   "id": "616a4681",
   "metadata": {
    "papermill": {
     "duration": 0.120518,
     "end_time": "2024-09-19T09:59:57.945416",
     "exception": false,
     "start_time": "2024-09-19T09:59:57.824898",
     "status": "completed"
    },
    "tags": []
   },
   "outputs": [
    {
     "data": {
      "application/vnd.plotly.v1+json": {
       "config": {
        "plotlyServerURL": "https://plot.ly"
       },
       "data": [
        {
         "alignmentgroup": "True",
         "hovertemplate": "Best Position=%{x}<br>value=%{y}<br>color=%{marker.color}<extra></extra>",
         "legendgroup": "",
         "marker": {
          "color": [
           3686,
           2680,
           2299,
           2075,
           1611,
           1445,
           1086,
           1079,
           1047,
           871,
           298,
           277,
           261,
           186,
           78
          ],
          "coloraxis": "coloraxis",
          "pattern": {
           "shape": ""
          }
         },
         "name": "",
         "offsetgroup": "",
         "orientation": "v",
         "showlegend": false,
         "textposition": "auto",
         "type": "bar",
         "x": [
          "CB",
          "ST",
          "CAM",
          "GK",
          "RM",
          "CDM",
          "LB",
          "RB",
          "CM",
          "LM",
          "RW",
          "RWB",
          "LWB",
          "LW",
          "CF"
         ],
         "xaxis": "x",
         "y": [
          3686,
          2680,
          2299,
          2075,
          1611,
          1445,
          1086,
          1079,
          1047,
          871,
          298,
          277,
          261,
          186,
          78
         ],
         "yaxis": "y"
        }
       ],
       "layout": {
        "barmode": "relative",
        "coloraxis": {
         "colorbar": {
          "title": {
           "text": "color"
          }
         },
         "colorscale": [
          [
           0,
           "#0d0887"
          ],
          [
           0.1111111111111111,
           "#46039f"
          ],
          [
           0.2222222222222222,
           "#7201a8"
          ],
          [
           0.3333333333333333,
           "#9c179e"
          ],
          [
           0.4444444444444444,
           "#bd3786"
          ],
          [
           0.5555555555555556,
           "#d8576b"
          ],
          [
           0.6666666666666666,
           "#ed7953"
          ],
          [
           0.7777777777777778,
           "#fb9f3a"
          ],
          [
           0.8888888888888888,
           "#fdca26"
          ],
          [
           1,
           "#f0f921"
          ]
         ]
        },
        "legend": {
         "tracegroupgap": 0
        },
        "margin": {
         "t": 60
        },
        "template": {
         "data": {
          "bar": [
           {
            "error_x": {
             "color": "#2a3f5f"
            },
            "error_y": {
             "color": "#2a3f5f"
            },
            "marker": {
             "line": {
              "color": "#E5ECF6",
              "width": 0.5
             },
             "pattern": {
              "fillmode": "overlay",
              "size": 10,
              "solidity": 0.2
             }
            },
            "type": "bar"
           }
          ],
          "barpolar": [
           {
            "marker": {
             "line": {
              "color": "#E5ECF6",
              "width": 0.5
             },
             "pattern": {
              "fillmode": "overlay",
              "size": 10,
              "solidity": 0.2
             }
            },
            "type": "barpolar"
           }
          ],
          "carpet": [
           {
            "aaxis": {
             "endlinecolor": "#2a3f5f",
             "gridcolor": "white",
             "linecolor": "white",
             "minorgridcolor": "white",
             "startlinecolor": "#2a3f5f"
            },
            "baxis": {
             "endlinecolor": "#2a3f5f",
             "gridcolor": "white",
             "linecolor": "white",
             "minorgridcolor": "white",
             "startlinecolor": "#2a3f5f"
            },
            "type": "carpet"
           }
          ],
          "choropleth": [
           {
            "colorbar": {
             "outlinewidth": 0,
             "ticks": ""
            },
            "type": "choropleth"
           }
          ],
          "contour": [
           {
            "colorbar": {
             "outlinewidth": 0,
             "ticks": ""
            },
            "colorscale": [
             [
              0,
              "#0d0887"
             ],
             [
              0.1111111111111111,
              "#46039f"
             ],
             [
              0.2222222222222222,
              "#7201a8"
             ],
             [
              0.3333333333333333,
              "#9c179e"
             ],
             [
              0.4444444444444444,
              "#bd3786"
             ],
             [
              0.5555555555555556,
              "#d8576b"
             ],
             [
              0.6666666666666666,
              "#ed7953"
             ],
             [
              0.7777777777777778,
              "#fb9f3a"
             ],
             [
              0.8888888888888888,
              "#fdca26"
             ],
             [
              1,
              "#f0f921"
             ]
            ],
            "type": "contour"
           }
          ],
          "contourcarpet": [
           {
            "colorbar": {
             "outlinewidth": 0,
             "ticks": ""
            },
            "type": "contourcarpet"
           }
          ],
          "heatmap": [
           {
            "colorbar": {
             "outlinewidth": 0,
             "ticks": ""
            },
            "colorscale": [
             [
              0,
              "#0d0887"
             ],
             [
              0.1111111111111111,
              "#46039f"
             ],
             [
              0.2222222222222222,
              "#7201a8"
             ],
             [
              0.3333333333333333,
              "#9c179e"
             ],
             [
              0.4444444444444444,
              "#bd3786"
             ],
             [
              0.5555555555555556,
              "#d8576b"
             ],
             [
              0.6666666666666666,
              "#ed7953"
             ],
             [
              0.7777777777777778,
              "#fb9f3a"
             ],
             [
              0.8888888888888888,
              "#fdca26"
             ],
             [
              1,
              "#f0f921"
             ]
            ],
            "type": "heatmap"
           }
          ],
          "heatmapgl": [
           {
            "colorbar": {
             "outlinewidth": 0,
             "ticks": ""
            },
            "colorscale": [
             [
              0,
              "#0d0887"
             ],
             [
              0.1111111111111111,
              "#46039f"
             ],
             [
              0.2222222222222222,
              "#7201a8"
             ],
             [
              0.3333333333333333,
              "#9c179e"
             ],
             [
              0.4444444444444444,
              "#bd3786"
             ],
             [
              0.5555555555555556,
              "#d8576b"
             ],
             [
              0.6666666666666666,
              "#ed7953"
             ],
             [
              0.7777777777777778,
              "#fb9f3a"
             ],
             [
              0.8888888888888888,
              "#fdca26"
             ],
             [
              1,
              "#f0f921"
             ]
            ],
            "type": "heatmapgl"
           }
          ],
          "histogram": [
           {
            "marker": {
             "pattern": {
              "fillmode": "overlay",
              "size": 10,
              "solidity": 0.2
             }
            },
            "type": "histogram"
           }
          ],
          "histogram2d": [
           {
            "colorbar": {
             "outlinewidth": 0,
             "ticks": ""
            },
            "colorscale": [
             [
              0,
              "#0d0887"
             ],
             [
              0.1111111111111111,
              "#46039f"
             ],
             [
              0.2222222222222222,
              "#7201a8"
             ],
             [
              0.3333333333333333,
              "#9c179e"
             ],
             [
              0.4444444444444444,
              "#bd3786"
             ],
             [
              0.5555555555555556,
              "#d8576b"
             ],
             [
              0.6666666666666666,
              "#ed7953"
             ],
             [
              0.7777777777777778,
              "#fb9f3a"
             ],
             [
              0.8888888888888888,
              "#fdca26"
             ],
             [
              1,
              "#f0f921"
             ]
            ],
            "type": "histogram2d"
           }
          ],
          "histogram2dcontour": [
           {
            "colorbar": {
             "outlinewidth": 0,
             "ticks": ""
            },
            "colorscale": [
             [
              0,
              "#0d0887"
             ],
             [
              0.1111111111111111,
              "#46039f"
             ],
             [
              0.2222222222222222,
              "#7201a8"
             ],
             [
              0.3333333333333333,
              "#9c179e"
             ],
             [
              0.4444444444444444,
              "#bd3786"
             ],
             [
              0.5555555555555556,
              "#d8576b"
             ],
             [
              0.6666666666666666,
              "#ed7953"
             ],
             [
              0.7777777777777778,
              "#fb9f3a"
             ],
             [
              0.8888888888888888,
              "#fdca26"
             ],
             [
              1,
              "#f0f921"
             ]
            ],
            "type": "histogram2dcontour"
           }
          ],
          "mesh3d": [
           {
            "colorbar": {
             "outlinewidth": 0,
             "ticks": ""
            },
            "type": "mesh3d"
           }
          ],
          "parcoords": [
           {
            "line": {
             "colorbar": {
              "outlinewidth": 0,
              "ticks": ""
             }
            },
            "type": "parcoords"
           }
          ],
          "pie": [
           {
            "automargin": true,
            "type": "pie"
           }
          ],
          "scatter": [
           {
            "fillpattern": {
             "fillmode": "overlay",
             "size": 10,
             "solidity": 0.2
            },
            "type": "scatter"
           }
          ],
          "scatter3d": [
           {
            "line": {
             "colorbar": {
              "outlinewidth": 0,
              "ticks": ""
             }
            },
            "marker": {
             "colorbar": {
              "outlinewidth": 0,
              "ticks": ""
             }
            },
            "type": "scatter3d"
           }
          ],
          "scattercarpet": [
           {
            "marker": {
             "colorbar": {
              "outlinewidth": 0,
              "ticks": ""
             }
            },
            "type": "scattercarpet"
           }
          ],
          "scattergeo": [
           {
            "marker": {
             "colorbar": {
              "outlinewidth": 0,
              "ticks": ""
             }
            },
            "type": "scattergeo"
           }
          ],
          "scattergl": [
           {
            "marker": {
             "colorbar": {
              "outlinewidth": 0,
              "ticks": ""
             }
            },
            "type": "scattergl"
           }
          ],
          "scattermapbox": [
           {
            "marker": {
             "colorbar": {
              "outlinewidth": 0,
              "ticks": ""
             }
            },
            "type": "scattermapbox"
           }
          ],
          "scatterpolar": [
           {
            "marker": {
             "colorbar": {
              "outlinewidth": 0,
              "ticks": ""
             }
            },
            "type": "scatterpolar"
           }
          ],
          "scatterpolargl": [
           {
            "marker": {
             "colorbar": {
              "outlinewidth": 0,
              "ticks": ""
             }
            },
            "type": "scatterpolargl"
           }
          ],
          "scatterternary": [
           {
            "marker": {
             "colorbar": {
              "outlinewidth": 0,
              "ticks": ""
             }
            },
            "type": "scatterternary"
           }
          ],
          "surface": [
           {
            "colorbar": {
             "outlinewidth": 0,
             "ticks": ""
            },
            "colorscale": [
             [
              0,
              "#0d0887"
             ],
             [
              0.1111111111111111,
              "#46039f"
             ],
             [
              0.2222222222222222,
              "#7201a8"
             ],
             [
              0.3333333333333333,
              "#9c179e"
             ],
             [
              0.4444444444444444,
              "#bd3786"
             ],
             [
              0.5555555555555556,
              "#d8576b"
             ],
             [
              0.6666666666666666,
              "#ed7953"
             ],
             [
              0.7777777777777778,
              "#fb9f3a"
             ],
             [
              0.8888888888888888,
              "#fdca26"
             ],
             [
              1,
              "#f0f921"
             ]
            ],
            "type": "surface"
           }
          ],
          "table": [
           {
            "cells": {
             "fill": {
              "color": "#EBF0F8"
             },
             "line": {
              "color": "white"
             }
            },
            "header": {
             "fill": {
              "color": "#C8D4E3"
             },
             "line": {
              "color": "white"
             }
            },
            "type": "table"
           }
          ]
         },
         "layout": {
          "annotationdefaults": {
           "arrowcolor": "#2a3f5f",
           "arrowhead": 0,
           "arrowwidth": 1
          },
          "autotypenumbers": "strict",
          "coloraxis": {
           "colorbar": {
            "outlinewidth": 0,
            "ticks": ""
           }
          },
          "colorscale": {
           "diverging": [
            [
             0,
             "#8e0152"
            ],
            [
             0.1,
             "#c51b7d"
            ],
            [
             0.2,
             "#de77ae"
            ],
            [
             0.3,
             "#f1b6da"
            ],
            [
             0.4,
             "#fde0ef"
            ],
            [
             0.5,
             "#f7f7f7"
            ],
            [
             0.6,
             "#e6f5d0"
            ],
            [
             0.7,
             "#b8e186"
            ],
            [
             0.8,
             "#7fbc41"
            ],
            [
             0.9,
             "#4d9221"
            ],
            [
             1,
             "#276419"
            ]
           ],
           "sequential": [
            [
             0,
             "#0d0887"
            ],
            [
             0.1111111111111111,
             "#46039f"
            ],
            [
             0.2222222222222222,
             "#7201a8"
            ],
            [
             0.3333333333333333,
             "#9c179e"
            ],
            [
             0.4444444444444444,
             "#bd3786"
            ],
            [
             0.5555555555555556,
             "#d8576b"
            ],
            [
             0.6666666666666666,
             "#ed7953"
            ],
            [
             0.7777777777777778,
             "#fb9f3a"
            ],
            [
             0.8888888888888888,
             "#fdca26"
            ],
            [
             1,
             "#f0f921"
            ]
           ],
           "sequentialminus": [
            [
             0,
             "#0d0887"
            ],
            [
             0.1111111111111111,
             "#46039f"
            ],
            [
             0.2222222222222222,
             "#7201a8"
            ],
            [
             0.3333333333333333,
             "#9c179e"
            ],
            [
             0.4444444444444444,
             "#bd3786"
            ],
            [
             0.5555555555555556,
             "#d8576b"
            ],
            [
             0.6666666666666666,
             "#ed7953"
            ],
            [
             0.7777777777777778,
             "#fb9f3a"
            ],
            [
             0.8888888888888888,
             "#fdca26"
            ],
            [
             1,
             "#f0f921"
            ]
           ]
          },
          "colorway": [
           "#636efa",
           "#EF553B",
           "#00cc96",
           "#ab63fa",
           "#FFA15A",
           "#19d3f3",
           "#FF6692",
           "#B6E880",
           "#FF97FF",
           "#FECB52"
          ],
          "font": {
           "color": "#2a3f5f"
          },
          "geo": {
           "bgcolor": "white",
           "lakecolor": "white",
           "landcolor": "#E5ECF6",
           "showlakes": true,
           "showland": true,
           "subunitcolor": "white"
          },
          "hoverlabel": {
           "align": "left"
          },
          "hovermode": "closest",
          "mapbox": {
           "style": "light"
          },
          "paper_bgcolor": "white",
          "plot_bgcolor": "#E5ECF6",
          "polar": {
           "angularaxis": {
            "gridcolor": "white",
            "linecolor": "white",
            "ticks": ""
           },
           "bgcolor": "#E5ECF6",
           "radialaxis": {
            "gridcolor": "white",
            "linecolor": "white",
            "ticks": ""
           }
          },
          "scene": {
           "xaxis": {
            "backgroundcolor": "#E5ECF6",
            "gridcolor": "white",
            "gridwidth": 2,
            "linecolor": "white",
            "showbackground": true,
            "ticks": "",
            "zerolinecolor": "white"
           },
           "yaxis": {
            "backgroundcolor": "#E5ECF6",
            "gridcolor": "white",
            "gridwidth": 2,
            "linecolor": "white",
            "showbackground": true,
            "ticks": "",
            "zerolinecolor": "white"
           },
           "zaxis": {
            "backgroundcolor": "#E5ECF6",
            "gridcolor": "white",
            "gridwidth": 2,
            "linecolor": "white",
            "showbackground": true,
            "ticks": "",
            "zerolinecolor": "white"
           }
          },
          "shapedefaults": {
           "line": {
            "color": "#2a3f5f"
           }
          },
          "ternary": {
           "aaxis": {
            "gridcolor": "white",
            "linecolor": "white",
            "ticks": ""
           },
           "baxis": {
            "gridcolor": "white",
            "linecolor": "white",
            "ticks": ""
           },
           "bgcolor": "#E5ECF6",
           "caxis": {
            "gridcolor": "white",
            "linecolor": "white",
            "ticks": ""
           }
          },
          "title": {
           "x": 0.05
          },
          "xaxis": {
           "automargin": true,
           "gridcolor": "white",
           "linecolor": "white",
           "ticks": "",
           "title": {
            "standoff": 15
           },
           "zerolinecolor": "white",
           "zerolinewidth": 2
          },
          "yaxis": {
           "automargin": true,
           "gridcolor": "white",
           "linecolor": "white",
           "ticks": "",
           "title": {
            "standoff": 15
           },
           "zerolinecolor": "white",
           "zerolinewidth": 2
          }
         }
        },
        "xaxis": {
         "anchor": "y",
         "domain": [
          0,
          1
         ],
         "title": {
          "text": "Best Position"
         }
        },
        "yaxis": {
         "anchor": "x",
         "domain": [
          0,
          1
         ],
         "title": {
          "text": "value"
         }
        }
       }
      }
     },
     "metadata": {},
     "output_type": "display_data"
    },
    {
     "data": {
      "text/plain": [
       "<Figure size 1000x600 with 0 Axes>"
      ]
     },
     "metadata": {},
     "output_type": "display_data"
    }
   ],
   "source": [
    "plt.figure(figsize=(10,6))\n",
    "b=px.bar(Bp,color=Bp)\n",
    "b.show()"
   ]
  },
  {
   "cell_type": "code",
   "execution_count": 22,
   "id": "207fa88e",
   "metadata": {
    "papermill": {
     "duration": 0.025597,
     "end_time": "2024-09-19T09:59:57.985567",
     "exception": false,
     "start_time": "2024-09-19T09:59:57.959970",
     "status": "completed"
    },
    "tags": []
   },
   "outputs": [],
   "source": [
    "def convert_notation(value):\n",
    "    if pd.isna(value):\n",
    "        return np.nan\n",
    "    value = str(value).upper().strip()\n",
    "    if 'M' in value:\n",
    "        return float(value.replace('M', '').replace(',', '').strip()) * 1_000_000\n",
    "    elif 'K' in value:\n",
    "        return float(value.replace('K', '').replace(',', '').strip()) * 1_000\n",
    "    else:\n",
    "        return float(value.replace(',', '').strip())\n",
    "        \n",
    "\n",
    "      \n"
   ]
  },
  {
   "cell_type": "code",
   "execution_count": 23,
   "id": "463a9366",
   "metadata": {
    "papermill": {
     "duration": 0.102054,
     "end_time": "2024-09-19T09:59:58.102122",
     "exception": false,
     "start_time": "2024-09-19T09:59:58.000068",
     "status": "completed"
    },
    "tags": []
   },
   "outputs": [],
   "source": [
    "fifa[\"Value\"]=fifa[\"Value\"].str.strip(\"€\")\n",
    "fifa[\"Value\"] = fifa[\"Value\"].apply(convert_notation)\n",
    "fifa[\"Wage\"]=fifa[\"Wage\"].str.strip(\"€\")\n",
    "fifa[\"Wage\"] = fifa[\"Wage\"].apply(convert_notation)\n"
   ]
  },
  {
   "cell_type": "code",
   "execution_count": 24,
   "id": "17287c43",
   "metadata": {
    "papermill": {
     "duration": 0.050959,
     "end_time": "2024-09-19T09:59:58.173863",
     "exception": false,
     "start_time": "2024-09-19T09:59:58.122904",
     "status": "completed"
    },
    "tags": []
   },
   "outputs": [
    {
     "data": {
      "text/html": [
       "<div>\n",
       "<style scoped>\n",
       "    .dataframe tbody tr th:only-of-type {\n",
       "        vertical-align: middle;\n",
       "    }\n",
       "\n",
       "    .dataframe tbody tr th {\n",
       "        vertical-align: top;\n",
       "    }\n",
       "\n",
       "    .dataframe thead th {\n",
       "        text-align: right;\n",
       "    }\n",
       "</style>\n",
       "<table border=\"1\" class=\"dataframe\">\n",
       "  <thead>\n",
       "    <tr style=\"text-align: right;\">\n",
       "      <th></th>\n",
       "      <th>Name</th>\n",
       "      <th>Club</th>\n",
       "      <th>BOV</th>\n",
       "      <th>Value</th>\n",
       "      <th>Wage</th>\n",
       "    </tr>\n",
       "  </thead>\n",
       "  <tbody>\n",
       "    <tr>\n",
       "      <th>8</th>\n",
       "      <td>K. Mbappé</td>\n",
       "      <td>Paris Saint-Germain</td>\n",
       "      <td>91</td>\n",
       "      <td>185500000.0</td>\n",
       "      <td>160000.0</td>\n",
       "    </tr>\n",
       "    <tr>\n",
       "      <th>4</th>\n",
       "      <td>Neymar Jr</td>\n",
       "      <td>Paris Saint-Germain</td>\n",
       "      <td>91</td>\n",
       "      <td>132000000.0</td>\n",
       "      <td>270000.0</td>\n",
       "    </tr>\n",
       "    <tr>\n",
       "      <th>3</th>\n",
       "      <td>K. De Bruyne</td>\n",
       "      <td>Manchester City</td>\n",
       "      <td>91</td>\n",
       "      <td>129000000.0</td>\n",
       "      <td>370000.0</td>\n",
       "    </tr>\n",
       "    <tr>\n",
       "      <th>29</th>\n",
       "      <td>J. Sancho</td>\n",
       "      <td>Borussia Dortmund</td>\n",
       "      <td>89</td>\n",
       "      <td>124000000.0</td>\n",
       "      <td>82000.0</td>\n",
       "    </tr>\n",
       "    <tr>\n",
       "      <th>65</th>\n",
       "      <td>K. Havertz</td>\n",
       "      <td>Chelsea</td>\n",
       "      <td>87</td>\n",
       "      <td>121000000.0</td>\n",
       "      <td>105000.0</td>\n",
       "    </tr>\n",
       "    <tr>\n",
       "      <th>6</th>\n",
       "      <td>M. Salah</td>\n",
       "      <td>Liverpool</td>\n",
       "      <td>90</td>\n",
       "      <td>120500000.0</td>\n",
       "      <td>250000.0</td>\n",
       "    </tr>\n",
       "    <tr>\n",
       "      <th>11</th>\n",
       "      <td>S. Mané</td>\n",
       "      <td>Liverpool</td>\n",
       "      <td>90</td>\n",
       "      <td>120500000.0</td>\n",
       "      <td>250000.0</td>\n",
       "    </tr>\n",
       "    <tr>\n",
       "      <th>2</th>\n",
       "      <td>J. Oblak</td>\n",
       "      <td>Atlético Madrid</td>\n",
       "      <td>91</td>\n",
       "      <td>120000000.0</td>\n",
       "      <td>125000.0</td>\n",
       "    </tr>\n",
       "    <tr>\n",
       "      <th>18</th>\n",
       "      <td>R. Sterling</td>\n",
       "      <td>Manchester City</td>\n",
       "      <td>88</td>\n",
       "      <td>114500000.0</td>\n",
       "      <td>270000.0</td>\n",
       "    </tr>\n",
       "    <tr>\n",
       "      <th>30</th>\n",
       "      <td>T. Alexander-Arnold</td>\n",
       "      <td>Liverpool</td>\n",
       "      <td>87</td>\n",
       "      <td>114000000.0</td>\n",
       "      <td>110000.0</td>\n",
       "    </tr>\n",
       "    <tr>\n",
       "      <th>10</th>\n",
       "      <td>V. van Dijk</td>\n",
       "      <td>Liverpool</td>\n",
       "      <td>90</td>\n",
       "      <td>113000000.0</td>\n",
       "      <td>210000.0</td>\n",
       "    </tr>\n",
       "    <tr>\n",
       "      <th>5</th>\n",
       "      <td>R. Lewandowski</td>\n",
       "      <td>FC Bayern München</td>\n",
       "      <td>91</td>\n",
       "      <td>111000000.0</td>\n",
       "      <td>240000.0</td>\n",
       "    </tr>\n",
       "    <tr>\n",
       "      <th>9</th>\n",
       "      <td>M. ter Stegen</td>\n",
       "      <td>FC Barcelona</td>\n",
       "      <td>90</td>\n",
       "      <td>110000000.0</td>\n",
       "      <td>260000.0</td>\n",
       "    </tr>\n",
       "    <tr>\n",
       "      <th>23</th>\n",
       "      <td>H. Kane</td>\n",
       "      <td>Tottenham Hotspur</td>\n",
       "      <td>88</td>\n",
       "      <td>109000000.0</td>\n",
       "      <td>220000.0</td>\n",
       "    </tr>\n",
       "    <tr>\n",
       "      <th>21</th>\n",
       "      <td>P. Dybala</td>\n",
       "      <td>Juventus</td>\n",
       "      <td>89</td>\n",
       "      <td>109000000.0</td>\n",
       "      <td>190000.0</td>\n",
       "    </tr>\n",
       "    <tr>\n",
       "      <th>34</th>\n",
       "      <td>Bruno Fernandes</td>\n",
       "      <td>Manchester United</td>\n",
       "      <td>88</td>\n",
       "      <td>105500000.0</td>\n",
       "      <td>195000.0</td>\n",
       "    </tr>\n",
       "    <tr>\n",
       "      <th>0</th>\n",
       "      <td>L. Messi</td>\n",
       "      <td>FC Barcelona</td>\n",
       "      <td>93</td>\n",
       "      <td>103500000.0</td>\n",
       "      <td>560000.0</td>\n",
       "    </tr>\n",
       "    <tr>\n",
       "      <th>20</th>\n",
       "      <td>J. Kimmich</td>\n",
       "      <td>FC Bayern München</td>\n",
       "      <td>88</td>\n",
       "      <td>103000000.0</td>\n",
       "      <td>145000.0</td>\n",
       "    </tr>\n",
       "    <tr>\n",
       "      <th>7</th>\n",
       "      <td>Alisson</td>\n",
       "      <td>Liverpool</td>\n",
       "      <td>90</td>\n",
       "      <td>102000000.0</td>\n",
       "      <td>160000.0</td>\n",
       "    </tr>\n",
       "    <tr>\n",
       "      <th>66</th>\n",
       "      <td>M. de Ligt</td>\n",
       "      <td>Juventus</td>\n",
       "      <td>87</td>\n",
       "      <td>99000000.0</td>\n",
       "      <td>81000.0</td>\n",
       "    </tr>\n",
       "  </tbody>\n",
       "</table>\n",
       "</div>"
      ],
      "text/plain": [
       "                   Name                 Club  BOV        Value      Wage\n",
       "8             K. Mbappé  Paris Saint-Germain   91  185500000.0  160000.0\n",
       "4             Neymar Jr  Paris Saint-Germain   91  132000000.0  270000.0\n",
       "3          K. De Bruyne      Manchester City   91  129000000.0  370000.0\n",
       "29            J. Sancho    Borussia Dortmund   89  124000000.0   82000.0\n",
       "65           K. Havertz              Chelsea   87  121000000.0  105000.0\n",
       "6              M. Salah            Liverpool   90  120500000.0  250000.0\n",
       "11              S. Mané            Liverpool   90  120500000.0  250000.0\n",
       "2              J. Oblak      Atlético Madrid   91  120000000.0  125000.0\n",
       "18          R. Sterling      Manchester City   88  114500000.0  270000.0\n",
       "30  T. Alexander-Arnold            Liverpool   87  114000000.0  110000.0\n",
       "10          V. van Dijk            Liverpool   90  113000000.0  210000.0\n",
       "5        R. Lewandowski    FC Bayern München   91  111000000.0  240000.0\n",
       "9         M. ter Stegen         FC Barcelona   90  110000000.0  260000.0\n",
       "23              H. Kane    Tottenham Hotspur   88  109000000.0  220000.0\n",
       "21            P. Dybala             Juventus   89  109000000.0  190000.0\n",
       "34      Bruno Fernandes    Manchester United   88  105500000.0  195000.0\n",
       "0              L. Messi         FC Barcelona   93  103500000.0  560000.0\n",
       "20           J. Kimmich    FC Bayern München   88  103000000.0  145000.0\n",
       "7               Alisson            Liverpool   90  102000000.0  160000.0\n",
       "66           M. de Ligt             Juventus   87   99000000.0   81000.0"
      ]
     },
     "execution_count": 24,
     "metadata": {},
     "output_type": "execute_result"
    }
   ],
   "source": [
    "p=fifa[[\"Name\",\"Club\",\"BOV\",\"Value\",\"Wage\"]].sort_values(by=[\"Value\",\"Wage\"],ascending=[False,False]).head(20)\n",
    "p"
   ]
  },
  {
   "cell_type": "code",
   "execution_count": 25,
   "id": "6047d88d",
   "metadata": {
    "papermill": {
     "duration": 0.084348,
     "end_time": "2024-09-19T09:59:58.273114",
     "exception": false,
     "start_time": "2024-09-19T09:59:58.188766",
     "status": "completed"
    },
    "tags": []
   },
   "outputs": [
    {
     "data": {
      "application/vnd.plotly.v1+json": {
       "config": {
        "plotlyServerURL": "https://plot.ly"
       },
       "data": [
        {
         "customdata": [
          [
           "K. Mbappé",
           "Paris Saint-Germain",
           91
          ],
          [
           "Neymar Jr",
           "Paris Saint-Germain",
           91
          ],
          [
           "K. De Bruyne",
           "Manchester City",
           91
          ],
          [
           "J. Sancho",
           "Borussia Dortmund",
           89
          ],
          [
           "K. Havertz",
           "Chelsea",
           87
          ],
          [
           "M. Salah",
           "Liverpool",
           90
          ],
          [
           "S. Mané",
           "Liverpool",
           90
          ],
          [
           "J. Oblak",
           "Atlético Madrid",
           91
          ],
          [
           "R. Sterling",
           "Manchester City",
           88
          ],
          [
           "T. Alexander-Arnold",
           "Liverpool",
           87
          ],
          [
           "V. van Dijk",
           "Liverpool",
           90
          ],
          [
           "R. Lewandowski",
           "FC Bayern München",
           91
          ],
          [
           "M. ter Stegen",
           "FC Barcelona",
           90
          ],
          [
           "H. Kane",
           "Tottenham Hotspur",
           88
          ],
          [
           "P. Dybala",
           "Juventus",
           89
          ],
          [
           "Bruno Fernandes",
           "Manchester United",
           88
          ],
          [
           "L. Messi",
           "FC Barcelona",
           93
          ],
          [
           "J. Kimmich",
           "FC Bayern München",
           88
          ],
          [
           "Alisson",
           "Liverpool",
           90
          ],
          [
           "M. de Ligt",
           "Juventus",
           87
          ]
         ],
         "hovertemplate": "Value=%{marker.color}<br>Wage=%{marker.size}<br>Name=%{customdata[0]}<br>Club=%{customdata[1]}<br>BOV=%{customdata[2]}<extra></extra>",
         "legendgroup": "",
         "marker": {
          "color": [
           185500000,
           132000000,
           129000000,
           124000000,
           121000000,
           120500000,
           120500000,
           120000000,
           114500000,
           114000000,
           113000000,
           111000000,
           110000000,
           109000000,
           109000000,
           105500000,
           103500000,
           103000000,
           102000000,
           99000000
          ],
          "coloraxis": "coloraxis",
          "size": [
           160000,
           270000,
           370000,
           82000,
           105000,
           250000,
           250000,
           125000,
           270000,
           110000,
           210000,
           240000,
           260000,
           220000,
           190000,
           195000,
           560000,
           145000,
           160000,
           81000
          ],
          "sizemode": "area",
          "sizeref": 1400,
          "symbol": "circle"
         },
         "mode": "markers",
         "name": "",
         "orientation": "v",
         "showlegend": false,
         "type": "scatter",
         "x": [
          185500000,
          132000000,
          129000000,
          124000000,
          121000000,
          120500000,
          120500000,
          120000000,
          114500000,
          114000000,
          113000000,
          111000000,
          110000000,
          109000000,
          109000000,
          105500000,
          103500000,
          103000000,
          102000000,
          99000000
         ],
         "xaxis": "x",
         "y": [
          160000,
          270000,
          370000,
          82000,
          105000,
          250000,
          250000,
          125000,
          270000,
          110000,
          210000,
          240000,
          260000,
          220000,
          190000,
          195000,
          560000,
          145000,
          160000,
          81000
         ],
         "yaxis": "y"
        }
       ],
       "layout": {
        "coloraxis": {
         "colorbar": {
          "title": {
           "text": "Value"
          }
         },
         "colorscale": [
          [
           0,
           "#0d0887"
          ],
          [
           0.1111111111111111,
           "#46039f"
          ],
          [
           0.2222222222222222,
           "#7201a8"
          ],
          [
           0.3333333333333333,
           "#9c179e"
          ],
          [
           0.4444444444444444,
           "#bd3786"
          ],
          [
           0.5555555555555556,
           "#d8576b"
          ],
          [
           0.6666666666666666,
           "#ed7953"
          ],
          [
           0.7777777777777778,
           "#fb9f3a"
          ],
          [
           0.8888888888888888,
           "#fdca26"
          ],
          [
           1,
           "#f0f921"
          ]
         ]
        },
        "legend": {
         "itemsizing": "constant",
         "tracegroupgap": 0
        },
        "template": {
         "data": {
          "bar": [
           {
            "error_x": {
             "color": "#2a3f5f"
            },
            "error_y": {
             "color": "#2a3f5f"
            },
            "marker": {
             "line": {
              "color": "#E5ECF6",
              "width": 0.5
             },
             "pattern": {
              "fillmode": "overlay",
              "size": 10,
              "solidity": 0.2
             }
            },
            "type": "bar"
           }
          ],
          "barpolar": [
           {
            "marker": {
             "line": {
              "color": "#E5ECF6",
              "width": 0.5
             },
             "pattern": {
              "fillmode": "overlay",
              "size": 10,
              "solidity": 0.2
             }
            },
            "type": "barpolar"
           }
          ],
          "carpet": [
           {
            "aaxis": {
             "endlinecolor": "#2a3f5f",
             "gridcolor": "white",
             "linecolor": "white",
             "minorgridcolor": "white",
             "startlinecolor": "#2a3f5f"
            },
            "baxis": {
             "endlinecolor": "#2a3f5f",
             "gridcolor": "white",
             "linecolor": "white",
             "minorgridcolor": "white",
             "startlinecolor": "#2a3f5f"
            },
            "type": "carpet"
           }
          ],
          "choropleth": [
           {
            "colorbar": {
             "outlinewidth": 0,
             "ticks": ""
            },
            "type": "choropleth"
           }
          ],
          "contour": [
           {
            "colorbar": {
             "outlinewidth": 0,
             "ticks": ""
            },
            "colorscale": [
             [
              0,
              "#0d0887"
             ],
             [
              0.1111111111111111,
              "#46039f"
             ],
             [
              0.2222222222222222,
              "#7201a8"
             ],
             [
              0.3333333333333333,
              "#9c179e"
             ],
             [
              0.4444444444444444,
              "#bd3786"
             ],
             [
              0.5555555555555556,
              "#d8576b"
             ],
             [
              0.6666666666666666,
              "#ed7953"
             ],
             [
              0.7777777777777778,
              "#fb9f3a"
             ],
             [
              0.8888888888888888,
              "#fdca26"
             ],
             [
              1,
              "#f0f921"
             ]
            ],
            "type": "contour"
           }
          ],
          "contourcarpet": [
           {
            "colorbar": {
             "outlinewidth": 0,
             "ticks": ""
            },
            "type": "contourcarpet"
           }
          ],
          "heatmap": [
           {
            "colorbar": {
             "outlinewidth": 0,
             "ticks": ""
            },
            "colorscale": [
             [
              0,
              "#0d0887"
             ],
             [
              0.1111111111111111,
              "#46039f"
             ],
             [
              0.2222222222222222,
              "#7201a8"
             ],
             [
              0.3333333333333333,
              "#9c179e"
             ],
             [
              0.4444444444444444,
              "#bd3786"
             ],
             [
              0.5555555555555556,
              "#d8576b"
             ],
             [
              0.6666666666666666,
              "#ed7953"
             ],
             [
              0.7777777777777778,
              "#fb9f3a"
             ],
             [
              0.8888888888888888,
              "#fdca26"
             ],
             [
              1,
              "#f0f921"
             ]
            ],
            "type": "heatmap"
           }
          ],
          "heatmapgl": [
           {
            "colorbar": {
             "outlinewidth": 0,
             "ticks": ""
            },
            "colorscale": [
             [
              0,
              "#0d0887"
             ],
             [
              0.1111111111111111,
              "#46039f"
             ],
             [
              0.2222222222222222,
              "#7201a8"
             ],
             [
              0.3333333333333333,
              "#9c179e"
             ],
             [
              0.4444444444444444,
              "#bd3786"
             ],
             [
              0.5555555555555556,
              "#d8576b"
             ],
             [
              0.6666666666666666,
              "#ed7953"
             ],
             [
              0.7777777777777778,
              "#fb9f3a"
             ],
             [
              0.8888888888888888,
              "#fdca26"
             ],
             [
              1,
              "#f0f921"
             ]
            ],
            "type": "heatmapgl"
           }
          ],
          "histogram": [
           {
            "marker": {
             "pattern": {
              "fillmode": "overlay",
              "size": 10,
              "solidity": 0.2
             }
            },
            "type": "histogram"
           }
          ],
          "histogram2d": [
           {
            "colorbar": {
             "outlinewidth": 0,
             "ticks": ""
            },
            "colorscale": [
             [
              0,
              "#0d0887"
             ],
             [
              0.1111111111111111,
              "#46039f"
             ],
             [
              0.2222222222222222,
              "#7201a8"
             ],
             [
              0.3333333333333333,
              "#9c179e"
             ],
             [
              0.4444444444444444,
              "#bd3786"
             ],
             [
              0.5555555555555556,
              "#d8576b"
             ],
             [
              0.6666666666666666,
              "#ed7953"
             ],
             [
              0.7777777777777778,
              "#fb9f3a"
             ],
             [
              0.8888888888888888,
              "#fdca26"
             ],
             [
              1,
              "#f0f921"
             ]
            ],
            "type": "histogram2d"
           }
          ],
          "histogram2dcontour": [
           {
            "colorbar": {
             "outlinewidth": 0,
             "ticks": ""
            },
            "colorscale": [
             [
              0,
              "#0d0887"
             ],
             [
              0.1111111111111111,
              "#46039f"
             ],
             [
              0.2222222222222222,
              "#7201a8"
             ],
             [
              0.3333333333333333,
              "#9c179e"
             ],
             [
              0.4444444444444444,
              "#bd3786"
             ],
             [
              0.5555555555555556,
              "#d8576b"
             ],
             [
              0.6666666666666666,
              "#ed7953"
             ],
             [
              0.7777777777777778,
              "#fb9f3a"
             ],
             [
              0.8888888888888888,
              "#fdca26"
             ],
             [
              1,
              "#f0f921"
             ]
            ],
            "type": "histogram2dcontour"
           }
          ],
          "mesh3d": [
           {
            "colorbar": {
             "outlinewidth": 0,
             "ticks": ""
            },
            "type": "mesh3d"
           }
          ],
          "parcoords": [
           {
            "line": {
             "colorbar": {
              "outlinewidth": 0,
              "ticks": ""
             }
            },
            "type": "parcoords"
           }
          ],
          "pie": [
           {
            "automargin": true,
            "type": "pie"
           }
          ],
          "scatter": [
           {
            "fillpattern": {
             "fillmode": "overlay",
             "size": 10,
             "solidity": 0.2
            },
            "type": "scatter"
           }
          ],
          "scatter3d": [
           {
            "line": {
             "colorbar": {
              "outlinewidth": 0,
              "ticks": ""
             }
            },
            "marker": {
             "colorbar": {
              "outlinewidth": 0,
              "ticks": ""
             }
            },
            "type": "scatter3d"
           }
          ],
          "scattercarpet": [
           {
            "marker": {
             "colorbar": {
              "outlinewidth": 0,
              "ticks": ""
             }
            },
            "type": "scattercarpet"
           }
          ],
          "scattergeo": [
           {
            "marker": {
             "colorbar": {
              "outlinewidth": 0,
              "ticks": ""
             }
            },
            "type": "scattergeo"
           }
          ],
          "scattergl": [
           {
            "marker": {
             "colorbar": {
              "outlinewidth": 0,
              "ticks": ""
             }
            },
            "type": "scattergl"
           }
          ],
          "scattermapbox": [
           {
            "marker": {
             "colorbar": {
              "outlinewidth": 0,
              "ticks": ""
             }
            },
            "type": "scattermapbox"
           }
          ],
          "scatterpolar": [
           {
            "marker": {
             "colorbar": {
              "outlinewidth": 0,
              "ticks": ""
             }
            },
            "type": "scatterpolar"
           }
          ],
          "scatterpolargl": [
           {
            "marker": {
             "colorbar": {
              "outlinewidth": 0,
              "ticks": ""
             }
            },
            "type": "scatterpolargl"
           }
          ],
          "scatterternary": [
           {
            "marker": {
             "colorbar": {
              "outlinewidth": 0,
              "ticks": ""
             }
            },
            "type": "scatterternary"
           }
          ],
          "surface": [
           {
            "colorbar": {
             "outlinewidth": 0,
             "ticks": ""
            },
            "colorscale": [
             [
              0,
              "#0d0887"
             ],
             [
              0.1111111111111111,
              "#46039f"
             ],
             [
              0.2222222222222222,
              "#7201a8"
             ],
             [
              0.3333333333333333,
              "#9c179e"
             ],
             [
              0.4444444444444444,
              "#bd3786"
             ],
             [
              0.5555555555555556,
              "#d8576b"
             ],
             [
              0.6666666666666666,
              "#ed7953"
             ],
             [
              0.7777777777777778,
              "#fb9f3a"
             ],
             [
              0.8888888888888888,
              "#fdca26"
             ],
             [
              1,
              "#f0f921"
             ]
            ],
            "type": "surface"
           }
          ],
          "table": [
           {
            "cells": {
             "fill": {
              "color": "#EBF0F8"
             },
             "line": {
              "color": "white"
             }
            },
            "header": {
             "fill": {
              "color": "#C8D4E3"
             },
             "line": {
              "color": "white"
             }
            },
            "type": "table"
           }
          ]
         },
         "layout": {
          "annotationdefaults": {
           "arrowcolor": "#2a3f5f",
           "arrowhead": 0,
           "arrowwidth": 1
          },
          "autotypenumbers": "strict",
          "coloraxis": {
           "colorbar": {
            "outlinewidth": 0,
            "ticks": ""
           }
          },
          "colorscale": {
           "diverging": [
            [
             0,
             "#8e0152"
            ],
            [
             0.1,
             "#c51b7d"
            ],
            [
             0.2,
             "#de77ae"
            ],
            [
             0.3,
             "#f1b6da"
            ],
            [
             0.4,
             "#fde0ef"
            ],
            [
             0.5,
             "#f7f7f7"
            ],
            [
             0.6,
             "#e6f5d0"
            ],
            [
             0.7,
             "#b8e186"
            ],
            [
             0.8,
             "#7fbc41"
            ],
            [
             0.9,
             "#4d9221"
            ],
            [
             1,
             "#276419"
            ]
           ],
           "sequential": [
            [
             0,
             "#0d0887"
            ],
            [
             0.1111111111111111,
             "#46039f"
            ],
            [
             0.2222222222222222,
             "#7201a8"
            ],
            [
             0.3333333333333333,
             "#9c179e"
            ],
            [
             0.4444444444444444,
             "#bd3786"
            ],
            [
             0.5555555555555556,
             "#d8576b"
            ],
            [
             0.6666666666666666,
             "#ed7953"
            ],
            [
             0.7777777777777778,
             "#fb9f3a"
            ],
            [
             0.8888888888888888,
             "#fdca26"
            ],
            [
             1,
             "#f0f921"
            ]
           ],
           "sequentialminus": [
            [
             0,
             "#0d0887"
            ],
            [
             0.1111111111111111,
             "#46039f"
            ],
            [
             0.2222222222222222,
             "#7201a8"
            ],
            [
             0.3333333333333333,
             "#9c179e"
            ],
            [
             0.4444444444444444,
             "#bd3786"
            ],
            [
             0.5555555555555556,
             "#d8576b"
            ],
            [
             0.6666666666666666,
             "#ed7953"
            ],
            [
             0.7777777777777778,
             "#fb9f3a"
            ],
            [
             0.8888888888888888,
             "#fdca26"
            ],
            [
             1,
             "#f0f921"
            ]
           ]
          },
          "colorway": [
           "#636efa",
           "#EF553B",
           "#00cc96",
           "#ab63fa",
           "#FFA15A",
           "#19d3f3",
           "#FF6692",
           "#B6E880",
           "#FF97FF",
           "#FECB52"
          ],
          "font": {
           "color": "#2a3f5f"
          },
          "geo": {
           "bgcolor": "white",
           "lakecolor": "white",
           "landcolor": "#E5ECF6",
           "showlakes": true,
           "showland": true,
           "subunitcolor": "white"
          },
          "hoverlabel": {
           "align": "left"
          },
          "hovermode": "closest",
          "mapbox": {
           "style": "light"
          },
          "paper_bgcolor": "white",
          "plot_bgcolor": "#E5ECF6",
          "polar": {
           "angularaxis": {
            "gridcolor": "white",
            "linecolor": "white",
            "ticks": ""
           },
           "bgcolor": "#E5ECF6",
           "radialaxis": {
            "gridcolor": "white",
            "linecolor": "white",
            "ticks": ""
           }
          },
          "scene": {
           "xaxis": {
            "backgroundcolor": "#E5ECF6",
            "gridcolor": "white",
            "gridwidth": 2,
            "linecolor": "white",
            "showbackground": true,
            "ticks": "",
            "zerolinecolor": "white"
           },
           "yaxis": {
            "backgroundcolor": "#E5ECF6",
            "gridcolor": "white",
            "gridwidth": 2,
            "linecolor": "white",
            "showbackground": true,
            "ticks": "",
            "zerolinecolor": "white"
           },
           "zaxis": {
            "backgroundcolor": "#E5ECF6",
            "gridcolor": "white",
            "gridwidth": 2,
            "linecolor": "white",
            "showbackground": true,
            "ticks": "",
            "zerolinecolor": "white"
           }
          },
          "shapedefaults": {
           "line": {
            "color": "#2a3f5f"
           }
          },
          "ternary": {
           "aaxis": {
            "gridcolor": "white",
            "linecolor": "white",
            "ticks": ""
           },
           "baxis": {
            "gridcolor": "white",
            "linecolor": "white",
            "ticks": ""
           },
           "bgcolor": "#E5ECF6",
           "caxis": {
            "gridcolor": "white",
            "linecolor": "white",
            "ticks": ""
           }
          },
          "title": {
           "x": 0.05
          },
          "xaxis": {
           "automargin": true,
           "gridcolor": "white",
           "linecolor": "white",
           "ticks": "",
           "title": {
            "standoff": 15
           },
           "zerolinecolor": "white",
           "zerolinewidth": 2
          },
          "yaxis": {
           "automargin": true,
           "gridcolor": "white",
           "linecolor": "white",
           "ticks": "",
           "title": {
            "standoff": 15
           },
           "zerolinecolor": "white",
           "zerolinewidth": 2
          }
         }
        },
        "title": {
         "text": "Top 20 Player Salary and Value in FIFA 21"
        },
        "xaxis": {
         "anchor": "y",
         "domain": [
          0,
          1
         ],
         "title": {
          "text": "Value"
         }
        },
        "yaxis": {
         "anchor": "x",
         "domain": [
          0,
          1
         ],
         "title": {
          "text": "Wage"
         }
        }
       }
      }
     },
     "metadata": {},
     "output_type": "display_data"
    }
   ],
   "source": [
    "fig=px.scatter(p,x='Value',y='Wage',color='Value',size='Wage',hover_data=[\"Name\",\"Club\",\"BOV\",\"Value\",\"Wage\"],title=\"Top 20 Player Salary and Value in FIFA 21\")\n",
    "fig.show()"
   ]
  },
  {
   "cell_type": "code",
   "execution_count": 26,
   "id": "5ba6f4ba",
   "metadata": {
    "papermill": {
     "duration": 0.039142,
     "end_time": "2024-09-19T09:59:58.327478",
     "exception": false,
     "start_time": "2024-09-19T09:59:58.288336",
     "status": "completed"
    },
    "tags": []
   },
   "outputs": [
    {
     "data": {
      "text/html": [
       "<div>\n",
       "<style scoped>\n",
       "    .dataframe tbody tr th:only-of-type {\n",
       "        vertical-align: middle;\n",
       "    }\n",
       "\n",
       "    .dataframe tbody tr th {\n",
       "        vertical-align: top;\n",
       "    }\n",
       "\n",
       "    .dataframe thead th {\n",
       "        text-align: right;\n",
       "    }\n",
       "</style>\n",
       "<table border=\"1\" class=\"dataframe\">\n",
       "  <thead>\n",
       "    <tr style=\"text-align: right;\">\n",
       "      <th></th>\n",
       "      <th>Name</th>\n",
       "      <th>Club</th>\n",
       "      <th>BOV</th>\n",
       "      <th>Skill</th>\n",
       "      <th>DRI</th>\n",
       "    </tr>\n",
       "  </thead>\n",
       "  <tbody>\n",
       "    <tr>\n",
       "      <th>0</th>\n",
       "      <td>L. Messi</td>\n",
       "      <td>FC Barcelona</td>\n",
       "      <td>93</td>\n",
       "      <td>470</td>\n",
       "      <td>95</td>\n",
       "    </tr>\n",
       "    <tr>\n",
       "      <th>4</th>\n",
       "      <td>Neymar Jr</td>\n",
       "      <td>Paris Saint-Germain</td>\n",
       "      <td>91</td>\n",
       "      <td>448</td>\n",
       "      <td>94</td>\n",
       "    </tr>\n",
       "    <tr>\n",
       "      <th>21</th>\n",
       "      <td>P. Dybala</td>\n",
       "      <td>Juventus</td>\n",
       "      <td>89</td>\n",
       "      <td>436</td>\n",
       "      <td>92</td>\n",
       "    </tr>\n",
       "    <tr>\n",
       "      <th>26</th>\n",
       "      <td>E. Hazard</td>\n",
       "      <td>Real Madrid</td>\n",
       "      <td>88</td>\n",
       "      <td>427</td>\n",
       "      <td>92</td>\n",
       "    </tr>\n",
       "    <tr>\n",
       "      <th>31</th>\n",
       "      <td>Bernardo Silva</td>\n",
       "      <td>Manchester City</td>\n",
       "      <td>87</td>\n",
       "      <td>411</td>\n",
       "      <td>92</td>\n",
       "    </tr>\n",
       "    <tr>\n",
       "      <th>81</th>\n",
       "      <td>L. Insigne</td>\n",
       "      <td>Napoli</td>\n",
       "      <td>85</td>\n",
       "      <td>425</td>\n",
       "      <td>91</td>\n",
       "    </tr>\n",
       "    <tr>\n",
       "      <th>131</th>\n",
       "      <td>Douglas Costa</td>\n",
       "      <td>FC Bayern München</td>\n",
       "      <td>84</td>\n",
       "      <td>410</td>\n",
       "      <td>91</td>\n",
       "    </tr>\n",
       "    <tr>\n",
       "      <th>8</th>\n",
       "      <td>K. Mbappé</td>\n",
       "      <td>Paris Saint-Germain</td>\n",
       "      <td>91</td>\n",
       "      <td>394</td>\n",
       "      <td>91</td>\n",
       "    </tr>\n",
       "    <tr>\n",
       "      <th>29</th>\n",
       "      <td>J. Sancho</td>\n",
       "      <td>Borussia Dortmund</td>\n",
       "      <td>89</td>\n",
       "      <td>380</td>\n",
       "      <td>91</td>\n",
       "    </tr>\n",
       "    <tr>\n",
       "      <th>88</th>\n",
       "      <td>Thiago</td>\n",
       "      <td>Liverpool</td>\n",
       "      <td>85</td>\n",
       "      <td>432</td>\n",
       "      <td>90</td>\n",
       "    </tr>\n",
       "  </tbody>\n",
       "</table>\n",
       "</div>"
      ],
      "text/plain": [
       "               Name                 Club  BOV  Skill  DRI\n",
       "0          L. Messi         FC Barcelona   93    470   95\n",
       "4         Neymar Jr  Paris Saint-Germain   91    448   94\n",
       "21        P. Dybala             Juventus   89    436   92\n",
       "26        E. Hazard          Real Madrid   88    427   92\n",
       "31   Bernardo Silva      Manchester City   87    411   92\n",
       "81       L. Insigne               Napoli   85    425   91\n",
       "131   Douglas Costa    FC Bayern München   84    410   91\n",
       "8         K. Mbappé  Paris Saint-Germain   91    394   91\n",
       "29        J. Sancho    Borussia Dortmund   89    380   91\n",
       "88           Thiago            Liverpool   85    432   90"
      ]
     },
     "execution_count": 26,
     "metadata": {},
     "output_type": "execute_result"
    }
   ],
   "source": [
    "s=fifa[[\"Name\",\"Club\",\"BOV\",\"Skill\",\"DRI\"]].sort_values(by=[\"DRI\",\"Skill\"],ascending=[False,False]).head(10)\n",
    "s"
   ]
  },
  {
   "cell_type": "code",
   "execution_count": 27,
   "id": "11987df3",
   "metadata": {
    "papermill": {
     "duration": 0.087302,
     "end_time": "2024-09-19T09:59:58.430458",
     "exception": false,
     "start_time": "2024-09-19T09:59:58.343156",
     "status": "completed"
    },
    "tags": []
   },
   "outputs": [
    {
     "data": {
      "application/vnd.plotly.v1+json": {
       "config": {
        "plotlyServerURL": "https://plot.ly"
       },
       "data": [
        {
         "customdata": [
          [
           "L. Messi",
           "FC Barcelona",
           93
          ],
          [
           "Neymar Jr",
           "Paris Saint-Germain",
           91
          ],
          [
           "P. Dybala",
           "Juventus",
           89
          ],
          [
           "E. Hazard",
           "Real Madrid",
           88
          ],
          [
           "Bernardo Silva",
           "Manchester City",
           87
          ],
          [
           "L. Insigne",
           "Napoli",
           85
          ],
          [
           "Douglas Costa",
           "FC Bayern München",
           84
          ],
          [
           "K. Mbappé",
           "Paris Saint-Germain",
           91
          ],
          [
           "J. Sancho",
           "Borussia Dortmund",
           89
          ],
          [
           "Thiago",
           "Liverpool",
           85
          ]
         ],
         "hovertemplate": "Skill=%{marker.color}<br>DRI=%{marker.size}<br>Name=%{customdata[0]}<br>Club=%{customdata[1]}<br>BOV=%{customdata[2]}<extra></extra>",
         "legendgroup": "",
         "marker": {
          "color": [
           470,
           448,
           436,
           427,
           411,
           425,
           410,
           394,
           380,
           432
          ],
          "coloraxis": "coloraxis",
          "size": [
           95,
           94,
           92,
           92,
           92,
           91,
           91,
           91,
           91,
           90
          ],
          "sizemode": "area",
          "sizeref": 0.2375,
          "symbol": "circle"
         },
         "mode": "markers",
         "name": "",
         "orientation": "v",
         "showlegend": false,
         "type": "scatter",
         "x": [
          470,
          448,
          436,
          427,
          411,
          425,
          410,
          394,
          380,
          432
         ],
         "xaxis": "x",
         "y": [
          95,
          94,
          92,
          92,
          92,
          91,
          91,
          91,
          91,
          90
         ],
         "yaxis": "y"
        }
       ],
       "layout": {
        "coloraxis": {
         "colorbar": {
          "title": {
           "text": "Skill"
          }
         },
         "colorscale": [
          [
           0,
           "#0d0887"
          ],
          [
           0.1111111111111111,
           "#46039f"
          ],
          [
           0.2222222222222222,
           "#7201a8"
          ],
          [
           0.3333333333333333,
           "#9c179e"
          ],
          [
           0.4444444444444444,
           "#bd3786"
          ],
          [
           0.5555555555555556,
           "#d8576b"
          ],
          [
           0.6666666666666666,
           "#ed7953"
          ],
          [
           0.7777777777777778,
           "#fb9f3a"
          ],
          [
           0.8888888888888888,
           "#fdca26"
          ],
          [
           1,
           "#f0f921"
          ]
         ]
        },
        "legend": {
         "itemsizing": "constant",
         "tracegroupgap": 0
        },
        "template": {
         "data": {
          "bar": [
           {
            "error_x": {
             "color": "#2a3f5f"
            },
            "error_y": {
             "color": "#2a3f5f"
            },
            "marker": {
             "line": {
              "color": "#E5ECF6",
              "width": 0.5
             },
             "pattern": {
              "fillmode": "overlay",
              "size": 10,
              "solidity": 0.2
             }
            },
            "type": "bar"
           }
          ],
          "barpolar": [
           {
            "marker": {
             "line": {
              "color": "#E5ECF6",
              "width": 0.5
             },
             "pattern": {
              "fillmode": "overlay",
              "size": 10,
              "solidity": 0.2
             }
            },
            "type": "barpolar"
           }
          ],
          "carpet": [
           {
            "aaxis": {
             "endlinecolor": "#2a3f5f",
             "gridcolor": "white",
             "linecolor": "white",
             "minorgridcolor": "white",
             "startlinecolor": "#2a3f5f"
            },
            "baxis": {
             "endlinecolor": "#2a3f5f",
             "gridcolor": "white",
             "linecolor": "white",
             "minorgridcolor": "white",
             "startlinecolor": "#2a3f5f"
            },
            "type": "carpet"
           }
          ],
          "choropleth": [
           {
            "colorbar": {
             "outlinewidth": 0,
             "ticks": ""
            },
            "type": "choropleth"
           }
          ],
          "contour": [
           {
            "colorbar": {
             "outlinewidth": 0,
             "ticks": ""
            },
            "colorscale": [
             [
              0,
              "#0d0887"
             ],
             [
              0.1111111111111111,
              "#46039f"
             ],
             [
              0.2222222222222222,
              "#7201a8"
             ],
             [
              0.3333333333333333,
              "#9c179e"
             ],
             [
              0.4444444444444444,
              "#bd3786"
             ],
             [
              0.5555555555555556,
              "#d8576b"
             ],
             [
              0.6666666666666666,
              "#ed7953"
             ],
             [
              0.7777777777777778,
              "#fb9f3a"
             ],
             [
              0.8888888888888888,
              "#fdca26"
             ],
             [
              1,
              "#f0f921"
             ]
            ],
            "type": "contour"
           }
          ],
          "contourcarpet": [
           {
            "colorbar": {
             "outlinewidth": 0,
             "ticks": ""
            },
            "type": "contourcarpet"
           }
          ],
          "heatmap": [
           {
            "colorbar": {
             "outlinewidth": 0,
             "ticks": ""
            },
            "colorscale": [
             [
              0,
              "#0d0887"
             ],
             [
              0.1111111111111111,
              "#46039f"
             ],
             [
              0.2222222222222222,
              "#7201a8"
             ],
             [
              0.3333333333333333,
              "#9c179e"
             ],
             [
              0.4444444444444444,
              "#bd3786"
             ],
             [
              0.5555555555555556,
              "#d8576b"
             ],
             [
              0.6666666666666666,
              "#ed7953"
             ],
             [
              0.7777777777777778,
              "#fb9f3a"
             ],
             [
              0.8888888888888888,
              "#fdca26"
             ],
             [
              1,
              "#f0f921"
             ]
            ],
            "type": "heatmap"
           }
          ],
          "heatmapgl": [
           {
            "colorbar": {
             "outlinewidth": 0,
             "ticks": ""
            },
            "colorscale": [
             [
              0,
              "#0d0887"
             ],
             [
              0.1111111111111111,
              "#46039f"
             ],
             [
              0.2222222222222222,
              "#7201a8"
             ],
             [
              0.3333333333333333,
              "#9c179e"
             ],
             [
              0.4444444444444444,
              "#bd3786"
             ],
             [
              0.5555555555555556,
              "#d8576b"
             ],
             [
              0.6666666666666666,
              "#ed7953"
             ],
             [
              0.7777777777777778,
              "#fb9f3a"
             ],
             [
              0.8888888888888888,
              "#fdca26"
             ],
             [
              1,
              "#f0f921"
             ]
            ],
            "type": "heatmapgl"
           }
          ],
          "histogram": [
           {
            "marker": {
             "pattern": {
              "fillmode": "overlay",
              "size": 10,
              "solidity": 0.2
             }
            },
            "type": "histogram"
           }
          ],
          "histogram2d": [
           {
            "colorbar": {
             "outlinewidth": 0,
             "ticks": ""
            },
            "colorscale": [
             [
              0,
              "#0d0887"
             ],
             [
              0.1111111111111111,
              "#46039f"
             ],
             [
              0.2222222222222222,
              "#7201a8"
             ],
             [
              0.3333333333333333,
              "#9c179e"
             ],
             [
              0.4444444444444444,
              "#bd3786"
             ],
             [
              0.5555555555555556,
              "#d8576b"
             ],
             [
              0.6666666666666666,
              "#ed7953"
             ],
             [
              0.7777777777777778,
              "#fb9f3a"
             ],
             [
              0.8888888888888888,
              "#fdca26"
             ],
             [
              1,
              "#f0f921"
             ]
            ],
            "type": "histogram2d"
           }
          ],
          "histogram2dcontour": [
           {
            "colorbar": {
             "outlinewidth": 0,
             "ticks": ""
            },
            "colorscale": [
             [
              0,
              "#0d0887"
             ],
             [
              0.1111111111111111,
              "#46039f"
             ],
             [
              0.2222222222222222,
              "#7201a8"
             ],
             [
              0.3333333333333333,
              "#9c179e"
             ],
             [
              0.4444444444444444,
              "#bd3786"
             ],
             [
              0.5555555555555556,
              "#d8576b"
             ],
             [
              0.6666666666666666,
              "#ed7953"
             ],
             [
              0.7777777777777778,
              "#fb9f3a"
             ],
             [
              0.8888888888888888,
              "#fdca26"
             ],
             [
              1,
              "#f0f921"
             ]
            ],
            "type": "histogram2dcontour"
           }
          ],
          "mesh3d": [
           {
            "colorbar": {
             "outlinewidth": 0,
             "ticks": ""
            },
            "type": "mesh3d"
           }
          ],
          "parcoords": [
           {
            "line": {
             "colorbar": {
              "outlinewidth": 0,
              "ticks": ""
             }
            },
            "type": "parcoords"
           }
          ],
          "pie": [
           {
            "automargin": true,
            "type": "pie"
           }
          ],
          "scatter": [
           {
            "fillpattern": {
             "fillmode": "overlay",
             "size": 10,
             "solidity": 0.2
            },
            "type": "scatter"
           }
          ],
          "scatter3d": [
           {
            "line": {
             "colorbar": {
              "outlinewidth": 0,
              "ticks": ""
             }
            },
            "marker": {
             "colorbar": {
              "outlinewidth": 0,
              "ticks": ""
             }
            },
            "type": "scatter3d"
           }
          ],
          "scattercarpet": [
           {
            "marker": {
             "colorbar": {
              "outlinewidth": 0,
              "ticks": ""
             }
            },
            "type": "scattercarpet"
           }
          ],
          "scattergeo": [
           {
            "marker": {
             "colorbar": {
              "outlinewidth": 0,
              "ticks": ""
             }
            },
            "type": "scattergeo"
           }
          ],
          "scattergl": [
           {
            "marker": {
             "colorbar": {
              "outlinewidth": 0,
              "ticks": ""
             }
            },
            "type": "scattergl"
           }
          ],
          "scattermapbox": [
           {
            "marker": {
             "colorbar": {
              "outlinewidth": 0,
              "ticks": ""
             }
            },
            "type": "scattermapbox"
           }
          ],
          "scatterpolar": [
           {
            "marker": {
             "colorbar": {
              "outlinewidth": 0,
              "ticks": ""
             }
            },
            "type": "scatterpolar"
           }
          ],
          "scatterpolargl": [
           {
            "marker": {
             "colorbar": {
              "outlinewidth": 0,
              "ticks": ""
             }
            },
            "type": "scatterpolargl"
           }
          ],
          "scatterternary": [
           {
            "marker": {
             "colorbar": {
              "outlinewidth": 0,
              "ticks": ""
             }
            },
            "type": "scatterternary"
           }
          ],
          "surface": [
           {
            "colorbar": {
             "outlinewidth": 0,
             "ticks": ""
            },
            "colorscale": [
             [
              0,
              "#0d0887"
             ],
             [
              0.1111111111111111,
              "#46039f"
             ],
             [
              0.2222222222222222,
              "#7201a8"
             ],
             [
              0.3333333333333333,
              "#9c179e"
             ],
             [
              0.4444444444444444,
              "#bd3786"
             ],
             [
              0.5555555555555556,
              "#d8576b"
             ],
             [
              0.6666666666666666,
              "#ed7953"
             ],
             [
              0.7777777777777778,
              "#fb9f3a"
             ],
             [
              0.8888888888888888,
              "#fdca26"
             ],
             [
              1,
              "#f0f921"
             ]
            ],
            "type": "surface"
           }
          ],
          "table": [
           {
            "cells": {
             "fill": {
              "color": "#EBF0F8"
             },
             "line": {
              "color": "white"
             }
            },
            "header": {
             "fill": {
              "color": "#C8D4E3"
             },
             "line": {
              "color": "white"
             }
            },
            "type": "table"
           }
          ]
         },
         "layout": {
          "annotationdefaults": {
           "arrowcolor": "#2a3f5f",
           "arrowhead": 0,
           "arrowwidth": 1
          },
          "autotypenumbers": "strict",
          "coloraxis": {
           "colorbar": {
            "outlinewidth": 0,
            "ticks": ""
           }
          },
          "colorscale": {
           "diverging": [
            [
             0,
             "#8e0152"
            ],
            [
             0.1,
             "#c51b7d"
            ],
            [
             0.2,
             "#de77ae"
            ],
            [
             0.3,
             "#f1b6da"
            ],
            [
             0.4,
             "#fde0ef"
            ],
            [
             0.5,
             "#f7f7f7"
            ],
            [
             0.6,
             "#e6f5d0"
            ],
            [
             0.7,
             "#b8e186"
            ],
            [
             0.8,
             "#7fbc41"
            ],
            [
             0.9,
             "#4d9221"
            ],
            [
             1,
             "#276419"
            ]
           ],
           "sequential": [
            [
             0,
             "#0d0887"
            ],
            [
             0.1111111111111111,
             "#46039f"
            ],
            [
             0.2222222222222222,
             "#7201a8"
            ],
            [
             0.3333333333333333,
             "#9c179e"
            ],
            [
             0.4444444444444444,
             "#bd3786"
            ],
            [
             0.5555555555555556,
             "#d8576b"
            ],
            [
             0.6666666666666666,
             "#ed7953"
            ],
            [
             0.7777777777777778,
             "#fb9f3a"
            ],
            [
             0.8888888888888888,
             "#fdca26"
            ],
            [
             1,
             "#f0f921"
            ]
           ],
           "sequentialminus": [
            [
             0,
             "#0d0887"
            ],
            [
             0.1111111111111111,
             "#46039f"
            ],
            [
             0.2222222222222222,
             "#7201a8"
            ],
            [
             0.3333333333333333,
             "#9c179e"
            ],
            [
             0.4444444444444444,
             "#bd3786"
            ],
            [
             0.5555555555555556,
             "#d8576b"
            ],
            [
             0.6666666666666666,
             "#ed7953"
            ],
            [
             0.7777777777777778,
             "#fb9f3a"
            ],
            [
             0.8888888888888888,
             "#fdca26"
            ],
            [
             1,
             "#f0f921"
            ]
           ]
          },
          "colorway": [
           "#636efa",
           "#EF553B",
           "#00cc96",
           "#ab63fa",
           "#FFA15A",
           "#19d3f3",
           "#FF6692",
           "#B6E880",
           "#FF97FF",
           "#FECB52"
          ],
          "font": {
           "color": "#2a3f5f"
          },
          "geo": {
           "bgcolor": "white",
           "lakecolor": "white",
           "landcolor": "#E5ECF6",
           "showlakes": true,
           "showland": true,
           "subunitcolor": "white"
          },
          "hoverlabel": {
           "align": "left"
          },
          "hovermode": "closest",
          "mapbox": {
           "style": "light"
          },
          "paper_bgcolor": "white",
          "plot_bgcolor": "#E5ECF6",
          "polar": {
           "angularaxis": {
            "gridcolor": "white",
            "linecolor": "white",
            "ticks": ""
           },
           "bgcolor": "#E5ECF6",
           "radialaxis": {
            "gridcolor": "white",
            "linecolor": "white",
            "ticks": ""
           }
          },
          "scene": {
           "xaxis": {
            "backgroundcolor": "#E5ECF6",
            "gridcolor": "white",
            "gridwidth": 2,
            "linecolor": "white",
            "showbackground": true,
            "ticks": "",
            "zerolinecolor": "white"
           },
           "yaxis": {
            "backgroundcolor": "#E5ECF6",
            "gridcolor": "white",
            "gridwidth": 2,
            "linecolor": "white",
            "showbackground": true,
            "ticks": "",
            "zerolinecolor": "white"
           },
           "zaxis": {
            "backgroundcolor": "#E5ECF6",
            "gridcolor": "white",
            "gridwidth": 2,
            "linecolor": "white",
            "showbackground": true,
            "ticks": "",
            "zerolinecolor": "white"
           }
          },
          "shapedefaults": {
           "line": {
            "color": "#2a3f5f"
           }
          },
          "ternary": {
           "aaxis": {
            "gridcolor": "white",
            "linecolor": "white",
            "ticks": ""
           },
           "baxis": {
            "gridcolor": "white",
            "linecolor": "white",
            "ticks": ""
           },
           "bgcolor": "#E5ECF6",
           "caxis": {
            "gridcolor": "white",
            "linecolor": "white",
            "ticks": ""
           }
          },
          "title": {
           "x": 0.05
          },
          "xaxis": {
           "automargin": true,
           "gridcolor": "white",
           "linecolor": "white",
           "ticks": "",
           "title": {
            "standoff": 15
           },
           "zerolinecolor": "white",
           "zerolinewidth": 2
          },
          "yaxis": {
           "automargin": true,
           "gridcolor": "white",
           "linecolor": "white",
           "ticks": "",
           "title": {
            "standoff": 15
           },
           "zerolinecolor": "white",
           "zerolinewidth": 2
          }
         }
        },
        "title": {
         "text": "Top 10 Player have a Skills and Dribbling in FIFA 21"
        },
        "xaxis": {
         "anchor": "y",
         "domain": [
          0,
          1
         ],
         "title": {
          "text": "Skill"
         }
        },
        "yaxis": {
         "anchor": "x",
         "domain": [
          0,
          1
         ],
         "title": {
          "text": "DRI"
         }
        }
       }
      }
     },
     "metadata": {},
     "output_type": "display_data"
    }
   ],
   "source": [
    "fig=px.scatter(s,x='Skill',y='DRI',color='Skill',size='DRI',hover_data=[\"Name\",\"Club\",\"BOV\",\"Skill\",\"DRI\"],title=\"Top 10 Player have a Skills and Dribbling in FIFA 21\")\n",
    "fig.show()"
   ]
  },
  {
   "cell_type": "code",
   "execution_count": 28,
   "id": "ddcd90ae",
   "metadata": {
    "papermill": {
     "duration": 0.038351,
     "end_time": "2024-09-19T09:59:58.484781",
     "exception": false,
     "start_time": "2024-09-19T09:59:58.446430",
     "status": "completed"
    },
    "tags": []
   },
   "outputs": [
    {
     "data": {
      "text/html": [
       "<div>\n",
       "<style scoped>\n",
       "    .dataframe tbody tr th:only-of-type {\n",
       "        vertical-align: middle;\n",
       "    }\n",
       "\n",
       "    .dataframe tbody tr th {\n",
       "        vertical-align: top;\n",
       "    }\n",
       "\n",
       "    .dataframe thead th {\n",
       "        text-align: right;\n",
       "    }\n",
       "</style>\n",
       "<table border=\"1\" class=\"dataframe\">\n",
       "  <thead>\n",
       "    <tr style=\"text-align: right;\">\n",
       "      <th></th>\n",
       "      <th>Name</th>\n",
       "      <th>Club</th>\n",
       "      <th>FK Accuracy</th>\n",
       "    </tr>\n",
       "  </thead>\n",
       "  <tbody>\n",
       "    <tr>\n",
       "      <th>0</th>\n",
       "      <td>L. Messi</td>\n",
       "      <td>FC Barcelona</td>\n",
       "      <td>94</td>\n",
       "    </tr>\n",
       "    <tr>\n",
       "      <th>78</th>\n",
       "      <td>Parejo</td>\n",
       "      <td>Villarreal CF</td>\n",
       "      <td>93</td>\n",
       "    </tr>\n",
       "    <tr>\n",
       "      <th>97</th>\n",
       "      <td>M. Pjanić</td>\n",
       "      <td>FC Barcelona</td>\n",
       "      <td>92</td>\n",
       "    </tr>\n",
       "    <tr>\n",
       "      <th>523</th>\n",
       "      <td>E. Bardhi</td>\n",
       "      <td>Levante UD</td>\n",
       "      <td>91</td>\n",
       "    </tr>\n",
       "    <tr>\n",
       "      <th>1444</th>\n",
       "      <td>A. Zamorado</td>\n",
       "      <td>No Club</td>\n",
       "      <td>91</td>\n",
       "    </tr>\n",
       "    <tr>\n",
       "      <th>474</th>\n",
       "      <td>S. Giovinco</td>\n",
       "      <td>Al Hilal</td>\n",
       "      <td>91</td>\n",
       "    </tr>\n",
       "    <tr>\n",
       "      <th>10101</th>\n",
       "      <td>S. Nakamura</td>\n",
       "      <td>Yokohama FC</td>\n",
       "      <td>90</td>\n",
       "    </tr>\n",
       "    <tr>\n",
       "      <th>4</th>\n",
       "      <td>Neymar Jr</td>\n",
       "      <td>Paris Saint-Germain</td>\n",
       "      <td>89</td>\n",
       "    </tr>\n",
       "    <tr>\n",
       "      <th>612</th>\n",
       "      <td>J. Ward-Prowse</td>\n",
       "      <td>Southampton</td>\n",
       "      <td>89</td>\n",
       "    </tr>\n",
       "    <tr>\n",
       "      <th>4319</th>\n",
       "      <td>Aketxe</td>\n",
       "      <td>UD Almería</td>\n",
       "      <td>89</td>\n",
       "    </tr>\n",
       "    <tr>\n",
       "      <th>1811</th>\n",
       "      <td>R. Skov</td>\n",
       "      <td>TSG 1899 Hoffenheim</td>\n",
       "      <td>89</td>\n",
       "    </tr>\n",
       "    <tr>\n",
       "      <th>21</th>\n",
       "      <td>P. Dybala</td>\n",
       "      <td>Juventus</td>\n",
       "      <td>88</td>\n",
       "    </tr>\n",
       "    <tr>\n",
       "      <th>537</th>\n",
       "      <td>R. Malinovskyi</td>\n",
       "      <td>Atalanta</td>\n",
       "      <td>88</td>\n",
       "    </tr>\n",
       "    <tr>\n",
       "      <th>271</th>\n",
       "      <td>A. Kolarov</td>\n",
       "      <td>Inter</td>\n",
       "      <td>88</td>\n",
       "    </tr>\n",
       "    <tr>\n",
       "      <th>43</th>\n",
       "      <td>A. Di María</td>\n",
       "      <td>Paris Saint-Germain</td>\n",
       "      <td>88</td>\n",
       "    </tr>\n",
       "    <tr>\n",
       "      <th>6480</th>\n",
       "      <td>K. Nakamura</td>\n",
       "      <td>Kawasaki Frontale</td>\n",
       "      <td>87</td>\n",
       "    </tr>\n",
       "    <tr>\n",
       "      <th>238</th>\n",
       "      <td>Anderson Talisca</td>\n",
       "      <td>Guangzhou Evergrande Taobao FC</td>\n",
       "      <td>87</td>\n",
       "    </tr>\n",
       "    <tr>\n",
       "      <th>1531</th>\n",
       "      <td>L. Schøne</td>\n",
       "      <td>Genoa</td>\n",
       "      <td>87</td>\n",
       "    </tr>\n",
       "    <tr>\n",
       "      <th>34</th>\n",
       "      <td>Bruno Fernandes</td>\n",
       "      <td>Manchester United</td>\n",
       "      <td>87</td>\n",
       "    </tr>\n",
       "    <tr>\n",
       "      <th>205</th>\n",
       "      <td>G. Bale</td>\n",
       "      <td>Tottenham Hotspur</td>\n",
       "      <td>87</td>\n",
       "    </tr>\n",
       "  </tbody>\n",
       "</table>\n",
       "</div>"
      ],
      "text/plain": [
       "                   Name                            Club  FK Accuracy\n",
       "0              L. Messi                    FC Barcelona           94\n",
       "78               Parejo                   Villarreal CF           93\n",
       "97            M. Pjanić                    FC Barcelona           92\n",
       "523           E. Bardhi                      Levante UD           91\n",
       "1444        A. Zamorado                         No Club           91\n",
       "474         S. Giovinco                        Al Hilal           91\n",
       "10101       S. Nakamura                     Yokohama FC           90\n",
       "4             Neymar Jr             Paris Saint-Germain           89\n",
       "612      J. Ward-Prowse                     Southampton           89\n",
       "4319             Aketxe                      UD Almería           89\n",
       "1811            R. Skov             TSG 1899 Hoffenheim           89\n",
       "21            P. Dybala                        Juventus           88\n",
       "537      R. Malinovskyi                        Atalanta           88\n",
       "271          A. Kolarov                           Inter           88\n",
       "43          A. Di María             Paris Saint-Germain           88\n",
       "6480        K. Nakamura               Kawasaki Frontale           87\n",
       "238    Anderson Talisca  Guangzhou Evergrande Taobao FC           87\n",
       "1531          L. Schøne                           Genoa           87\n",
       "34      Bruno Fernandes               Manchester United           87\n",
       "205             G. Bale               Tottenham Hotspur           87"
      ]
     },
     "execution_count": 28,
     "metadata": {},
     "output_type": "execute_result"
    }
   ],
   "source": [
    "FK=fifa[[\"Name\",\"Club\",\"FK Accuracy\"]].sort_values(by=\"FK Accuracy\",ascending=False).head(20)\n",
    "FK"
   ]
  },
  {
   "cell_type": "code",
   "execution_count": 29,
   "id": "bac1fbcd",
   "metadata": {
    "papermill": {
     "duration": 0.085757,
     "end_time": "2024-09-19T09:59:58.588024",
     "exception": false,
     "start_time": "2024-09-19T09:59:58.502267",
     "status": "completed"
    },
    "tags": []
   },
   "outputs": [
    {
     "data": {
      "application/vnd.plotly.v1+json": {
       "config": {
        "plotlyServerURL": "https://plot.ly"
       },
       "data": [
        {
         "customdata": [
          [
           "L. Messi",
           "FC Barcelona"
          ],
          [
           "Parejo",
           "Villarreal CF"
          ],
          [
           "M. Pjanić",
           "FC Barcelona"
          ],
          [
           "E. Bardhi",
           "Levante UD"
          ],
          [
           "A. Zamorado",
           "No Club"
          ],
          [
           "S. Giovinco",
           "Al Hilal"
          ],
          [
           "S. Nakamura",
           "Yokohama FC"
          ],
          [
           "Neymar Jr",
           "Paris Saint-Germain"
          ],
          [
           "J. Ward-Prowse",
           "Southampton"
          ],
          [
           "Aketxe",
           "UD Almería"
          ],
          [
           "R. Skov",
           "TSG 1899 Hoffenheim"
          ],
          [
           "P. Dybala",
           "Juventus"
          ],
          [
           "R. Malinovskyi",
           "Atalanta"
          ],
          [
           "A. Kolarov",
           "Inter"
          ],
          [
           "A. Di María",
           "Paris Saint-Germain"
          ],
          [
           "K. Nakamura",
           "Kawasaki Frontale"
          ],
          [
           "Anderson Talisca",
           "Guangzhou Evergrande Taobao FC"
          ],
          [
           "L. Schøne",
           "Genoa"
          ],
          [
           "Bruno Fernandes",
           "Manchester United"
          ],
          [
           "G. Bale",
           "Tottenham Hotspur"
          ]
         ],
         "hovertemplate": "FK Accuracy=%{marker.color}<br>index=%{y}<br>Name=%{customdata[0]}<br>Club=%{customdata[1]}<extra></extra>",
         "legendgroup": "",
         "marker": {
          "color": [
           94,
           93,
           92,
           91,
           91,
           91,
           90,
           89,
           89,
           89,
           89,
           88,
           88,
           88,
           88,
           87,
           87,
           87,
           87,
           87
          ],
          "coloraxis": "coloraxis",
          "size": [
           94,
           93,
           92,
           91,
           91,
           91,
           90,
           89,
           89,
           89,
           89,
           88,
           88,
           88,
           88,
           87,
           87,
           87,
           87,
           87
          ],
          "sizemode": "area",
          "sizeref": 0.235,
          "symbol": "circle"
         },
         "mode": "markers",
         "name": "",
         "orientation": "h",
         "showlegend": false,
         "type": "scatter",
         "x": [
          94,
          93,
          92,
          91,
          91,
          91,
          90,
          89,
          89,
          89,
          89,
          88,
          88,
          88,
          88,
          87,
          87,
          87,
          87,
          87
         ],
         "xaxis": "x",
         "y": [
          0,
          78,
          97,
          523,
          1444,
          474,
          10101,
          4,
          612,
          4319,
          1811,
          21,
          537,
          271,
          43,
          6480,
          238,
          1531,
          34,
          205
         ],
         "yaxis": "y"
        }
       ],
       "layout": {
        "coloraxis": {
         "colorbar": {
          "title": {
           "text": "FK Accuracy"
          }
         },
         "colorscale": [
          [
           0,
           "#0d0887"
          ],
          [
           0.1111111111111111,
           "#46039f"
          ],
          [
           0.2222222222222222,
           "#7201a8"
          ],
          [
           0.3333333333333333,
           "#9c179e"
          ],
          [
           0.4444444444444444,
           "#bd3786"
          ],
          [
           0.5555555555555556,
           "#d8576b"
          ],
          [
           0.6666666666666666,
           "#ed7953"
          ],
          [
           0.7777777777777778,
           "#fb9f3a"
          ],
          [
           0.8888888888888888,
           "#fdca26"
          ],
          [
           1,
           "#f0f921"
          ]
         ]
        },
        "legend": {
         "itemsizing": "constant",
         "tracegroupgap": 0
        },
        "template": {
         "data": {
          "bar": [
           {
            "error_x": {
             "color": "#2a3f5f"
            },
            "error_y": {
             "color": "#2a3f5f"
            },
            "marker": {
             "line": {
              "color": "#E5ECF6",
              "width": 0.5
             },
             "pattern": {
              "fillmode": "overlay",
              "size": 10,
              "solidity": 0.2
             }
            },
            "type": "bar"
           }
          ],
          "barpolar": [
           {
            "marker": {
             "line": {
              "color": "#E5ECF6",
              "width": 0.5
             },
             "pattern": {
              "fillmode": "overlay",
              "size": 10,
              "solidity": 0.2
             }
            },
            "type": "barpolar"
           }
          ],
          "carpet": [
           {
            "aaxis": {
             "endlinecolor": "#2a3f5f",
             "gridcolor": "white",
             "linecolor": "white",
             "minorgridcolor": "white",
             "startlinecolor": "#2a3f5f"
            },
            "baxis": {
             "endlinecolor": "#2a3f5f",
             "gridcolor": "white",
             "linecolor": "white",
             "minorgridcolor": "white",
             "startlinecolor": "#2a3f5f"
            },
            "type": "carpet"
           }
          ],
          "choropleth": [
           {
            "colorbar": {
             "outlinewidth": 0,
             "ticks": ""
            },
            "type": "choropleth"
           }
          ],
          "contour": [
           {
            "colorbar": {
             "outlinewidth": 0,
             "ticks": ""
            },
            "colorscale": [
             [
              0,
              "#0d0887"
             ],
             [
              0.1111111111111111,
              "#46039f"
             ],
             [
              0.2222222222222222,
              "#7201a8"
             ],
             [
              0.3333333333333333,
              "#9c179e"
             ],
             [
              0.4444444444444444,
              "#bd3786"
             ],
             [
              0.5555555555555556,
              "#d8576b"
             ],
             [
              0.6666666666666666,
              "#ed7953"
             ],
             [
              0.7777777777777778,
              "#fb9f3a"
             ],
             [
              0.8888888888888888,
              "#fdca26"
             ],
             [
              1,
              "#f0f921"
             ]
            ],
            "type": "contour"
           }
          ],
          "contourcarpet": [
           {
            "colorbar": {
             "outlinewidth": 0,
             "ticks": ""
            },
            "type": "contourcarpet"
           }
          ],
          "heatmap": [
           {
            "colorbar": {
             "outlinewidth": 0,
             "ticks": ""
            },
            "colorscale": [
             [
              0,
              "#0d0887"
             ],
             [
              0.1111111111111111,
              "#46039f"
             ],
             [
              0.2222222222222222,
              "#7201a8"
             ],
             [
              0.3333333333333333,
              "#9c179e"
             ],
             [
              0.4444444444444444,
              "#bd3786"
             ],
             [
              0.5555555555555556,
              "#d8576b"
             ],
             [
              0.6666666666666666,
              "#ed7953"
             ],
             [
              0.7777777777777778,
              "#fb9f3a"
             ],
             [
              0.8888888888888888,
              "#fdca26"
             ],
             [
              1,
              "#f0f921"
             ]
            ],
            "type": "heatmap"
           }
          ],
          "heatmapgl": [
           {
            "colorbar": {
             "outlinewidth": 0,
             "ticks": ""
            },
            "colorscale": [
             [
              0,
              "#0d0887"
             ],
             [
              0.1111111111111111,
              "#46039f"
             ],
             [
              0.2222222222222222,
              "#7201a8"
             ],
             [
              0.3333333333333333,
              "#9c179e"
             ],
             [
              0.4444444444444444,
              "#bd3786"
             ],
             [
              0.5555555555555556,
              "#d8576b"
             ],
             [
              0.6666666666666666,
              "#ed7953"
             ],
             [
              0.7777777777777778,
              "#fb9f3a"
             ],
             [
              0.8888888888888888,
              "#fdca26"
             ],
             [
              1,
              "#f0f921"
             ]
            ],
            "type": "heatmapgl"
           }
          ],
          "histogram": [
           {
            "marker": {
             "pattern": {
              "fillmode": "overlay",
              "size": 10,
              "solidity": 0.2
             }
            },
            "type": "histogram"
           }
          ],
          "histogram2d": [
           {
            "colorbar": {
             "outlinewidth": 0,
             "ticks": ""
            },
            "colorscale": [
             [
              0,
              "#0d0887"
             ],
             [
              0.1111111111111111,
              "#46039f"
             ],
             [
              0.2222222222222222,
              "#7201a8"
             ],
             [
              0.3333333333333333,
              "#9c179e"
             ],
             [
              0.4444444444444444,
              "#bd3786"
             ],
             [
              0.5555555555555556,
              "#d8576b"
             ],
             [
              0.6666666666666666,
              "#ed7953"
             ],
             [
              0.7777777777777778,
              "#fb9f3a"
             ],
             [
              0.8888888888888888,
              "#fdca26"
             ],
             [
              1,
              "#f0f921"
             ]
            ],
            "type": "histogram2d"
           }
          ],
          "histogram2dcontour": [
           {
            "colorbar": {
             "outlinewidth": 0,
             "ticks": ""
            },
            "colorscale": [
             [
              0,
              "#0d0887"
             ],
             [
              0.1111111111111111,
              "#46039f"
             ],
             [
              0.2222222222222222,
              "#7201a8"
             ],
             [
              0.3333333333333333,
              "#9c179e"
             ],
             [
              0.4444444444444444,
              "#bd3786"
             ],
             [
              0.5555555555555556,
              "#d8576b"
             ],
             [
              0.6666666666666666,
              "#ed7953"
             ],
             [
              0.7777777777777778,
              "#fb9f3a"
             ],
             [
              0.8888888888888888,
              "#fdca26"
             ],
             [
              1,
              "#f0f921"
             ]
            ],
            "type": "histogram2dcontour"
           }
          ],
          "mesh3d": [
           {
            "colorbar": {
             "outlinewidth": 0,
             "ticks": ""
            },
            "type": "mesh3d"
           }
          ],
          "parcoords": [
           {
            "line": {
             "colorbar": {
              "outlinewidth": 0,
              "ticks": ""
             }
            },
            "type": "parcoords"
           }
          ],
          "pie": [
           {
            "automargin": true,
            "type": "pie"
           }
          ],
          "scatter": [
           {
            "fillpattern": {
             "fillmode": "overlay",
             "size": 10,
             "solidity": 0.2
            },
            "type": "scatter"
           }
          ],
          "scatter3d": [
           {
            "line": {
             "colorbar": {
              "outlinewidth": 0,
              "ticks": ""
             }
            },
            "marker": {
             "colorbar": {
              "outlinewidth": 0,
              "ticks": ""
             }
            },
            "type": "scatter3d"
           }
          ],
          "scattercarpet": [
           {
            "marker": {
             "colorbar": {
              "outlinewidth": 0,
              "ticks": ""
             }
            },
            "type": "scattercarpet"
           }
          ],
          "scattergeo": [
           {
            "marker": {
             "colorbar": {
              "outlinewidth": 0,
              "ticks": ""
             }
            },
            "type": "scattergeo"
           }
          ],
          "scattergl": [
           {
            "marker": {
             "colorbar": {
              "outlinewidth": 0,
              "ticks": ""
             }
            },
            "type": "scattergl"
           }
          ],
          "scattermapbox": [
           {
            "marker": {
             "colorbar": {
              "outlinewidth": 0,
              "ticks": ""
             }
            },
            "type": "scattermapbox"
           }
          ],
          "scatterpolar": [
           {
            "marker": {
             "colorbar": {
              "outlinewidth": 0,
              "ticks": ""
             }
            },
            "type": "scatterpolar"
           }
          ],
          "scatterpolargl": [
           {
            "marker": {
             "colorbar": {
              "outlinewidth": 0,
              "ticks": ""
             }
            },
            "type": "scatterpolargl"
           }
          ],
          "scatterternary": [
           {
            "marker": {
             "colorbar": {
              "outlinewidth": 0,
              "ticks": ""
             }
            },
            "type": "scatterternary"
           }
          ],
          "surface": [
           {
            "colorbar": {
             "outlinewidth": 0,
             "ticks": ""
            },
            "colorscale": [
             [
              0,
              "#0d0887"
             ],
             [
              0.1111111111111111,
              "#46039f"
             ],
             [
              0.2222222222222222,
              "#7201a8"
             ],
             [
              0.3333333333333333,
              "#9c179e"
             ],
             [
              0.4444444444444444,
              "#bd3786"
             ],
             [
              0.5555555555555556,
              "#d8576b"
             ],
             [
              0.6666666666666666,
              "#ed7953"
             ],
             [
              0.7777777777777778,
              "#fb9f3a"
             ],
             [
              0.8888888888888888,
              "#fdca26"
             ],
             [
              1,
              "#f0f921"
             ]
            ],
            "type": "surface"
           }
          ],
          "table": [
           {
            "cells": {
             "fill": {
              "color": "#EBF0F8"
             },
             "line": {
              "color": "white"
             }
            },
            "header": {
             "fill": {
              "color": "#C8D4E3"
             },
             "line": {
              "color": "white"
             }
            },
            "type": "table"
           }
          ]
         },
         "layout": {
          "annotationdefaults": {
           "arrowcolor": "#2a3f5f",
           "arrowhead": 0,
           "arrowwidth": 1
          },
          "autotypenumbers": "strict",
          "coloraxis": {
           "colorbar": {
            "outlinewidth": 0,
            "ticks": ""
           }
          },
          "colorscale": {
           "diverging": [
            [
             0,
             "#8e0152"
            ],
            [
             0.1,
             "#c51b7d"
            ],
            [
             0.2,
             "#de77ae"
            ],
            [
             0.3,
             "#f1b6da"
            ],
            [
             0.4,
             "#fde0ef"
            ],
            [
             0.5,
             "#f7f7f7"
            ],
            [
             0.6,
             "#e6f5d0"
            ],
            [
             0.7,
             "#b8e186"
            ],
            [
             0.8,
             "#7fbc41"
            ],
            [
             0.9,
             "#4d9221"
            ],
            [
             1,
             "#276419"
            ]
           ],
           "sequential": [
            [
             0,
             "#0d0887"
            ],
            [
             0.1111111111111111,
             "#46039f"
            ],
            [
             0.2222222222222222,
             "#7201a8"
            ],
            [
             0.3333333333333333,
             "#9c179e"
            ],
            [
             0.4444444444444444,
             "#bd3786"
            ],
            [
             0.5555555555555556,
             "#d8576b"
            ],
            [
             0.6666666666666666,
             "#ed7953"
            ],
            [
             0.7777777777777778,
             "#fb9f3a"
            ],
            [
             0.8888888888888888,
             "#fdca26"
            ],
            [
             1,
             "#f0f921"
            ]
           ],
           "sequentialminus": [
            [
             0,
             "#0d0887"
            ],
            [
             0.1111111111111111,
             "#46039f"
            ],
            [
             0.2222222222222222,
             "#7201a8"
            ],
            [
             0.3333333333333333,
             "#9c179e"
            ],
            [
             0.4444444444444444,
             "#bd3786"
            ],
            [
             0.5555555555555556,
             "#d8576b"
            ],
            [
             0.6666666666666666,
             "#ed7953"
            ],
            [
             0.7777777777777778,
             "#fb9f3a"
            ],
            [
             0.8888888888888888,
             "#fdca26"
            ],
            [
             1,
             "#f0f921"
            ]
           ]
          },
          "colorway": [
           "#636efa",
           "#EF553B",
           "#00cc96",
           "#ab63fa",
           "#FFA15A",
           "#19d3f3",
           "#FF6692",
           "#B6E880",
           "#FF97FF",
           "#FECB52"
          ],
          "font": {
           "color": "#2a3f5f"
          },
          "geo": {
           "bgcolor": "white",
           "lakecolor": "white",
           "landcolor": "#E5ECF6",
           "showlakes": true,
           "showland": true,
           "subunitcolor": "white"
          },
          "hoverlabel": {
           "align": "left"
          },
          "hovermode": "closest",
          "mapbox": {
           "style": "light"
          },
          "paper_bgcolor": "white",
          "plot_bgcolor": "#E5ECF6",
          "polar": {
           "angularaxis": {
            "gridcolor": "white",
            "linecolor": "white",
            "ticks": ""
           },
           "bgcolor": "#E5ECF6",
           "radialaxis": {
            "gridcolor": "white",
            "linecolor": "white",
            "ticks": ""
           }
          },
          "scene": {
           "xaxis": {
            "backgroundcolor": "#E5ECF6",
            "gridcolor": "white",
            "gridwidth": 2,
            "linecolor": "white",
            "showbackground": true,
            "ticks": "",
            "zerolinecolor": "white"
           },
           "yaxis": {
            "backgroundcolor": "#E5ECF6",
            "gridcolor": "white",
            "gridwidth": 2,
            "linecolor": "white",
            "showbackground": true,
            "ticks": "",
            "zerolinecolor": "white"
           },
           "zaxis": {
            "backgroundcolor": "#E5ECF6",
            "gridcolor": "white",
            "gridwidth": 2,
            "linecolor": "white",
            "showbackground": true,
            "ticks": "",
            "zerolinecolor": "white"
           }
          },
          "shapedefaults": {
           "line": {
            "color": "#2a3f5f"
           }
          },
          "ternary": {
           "aaxis": {
            "gridcolor": "white",
            "linecolor": "white",
            "ticks": ""
           },
           "baxis": {
            "gridcolor": "white",
            "linecolor": "white",
            "ticks": ""
           },
           "bgcolor": "#E5ECF6",
           "caxis": {
            "gridcolor": "white",
            "linecolor": "white",
            "ticks": ""
           }
          },
          "title": {
           "x": 0.05
          },
          "xaxis": {
           "automargin": true,
           "gridcolor": "white",
           "linecolor": "white",
           "ticks": "",
           "title": {
            "standoff": 15
           },
           "zerolinecolor": "white",
           "zerolinewidth": 2
          },
          "yaxis": {
           "automargin": true,
           "gridcolor": "white",
           "linecolor": "white",
           "ticks": "",
           "title": {
            "standoff": 15
           },
           "zerolinecolor": "white",
           "zerolinewidth": 2
          }
         }
        },
        "title": {
         "text": "Top 20 Player Score Free Kicks in FIFA 21"
        },
        "xaxis": {
         "anchor": "y",
         "domain": [
          0,
          1
         ],
         "title": {
          "text": "FK Accuracy"
         }
        },
        "yaxis": {
         "anchor": "x",
         "domain": [
          0,
          1
         ],
         "title": {
          "text": "index"
         }
        }
       }
      }
     },
     "metadata": {},
     "output_type": "display_data"
    }
   ],
   "source": [
    "fig=px.scatter(FK,x='FK Accuracy',color='FK Accuracy',size=\"FK Accuracy\",hover_data=[\"Name\",\"Club\",\"FK Accuracy\"],title=\"Top 20 Player Score Free Kicks in FIFA 21\")\n",
    "fig.show()"
   ]
  },
  {
   "cell_type": "code",
   "execution_count": 30,
   "id": "f0b8521a",
   "metadata": {
    "papermill": {
     "duration": 0.037703,
     "end_time": "2024-09-19T09:59:58.642156",
     "exception": false,
     "start_time": "2024-09-19T09:59:58.604453",
     "status": "completed"
    },
    "tags": []
   },
   "outputs": [
    {
     "data": {
      "text/html": [
       "<div>\n",
       "<style scoped>\n",
       "    .dataframe tbody tr th:only-of-type {\n",
       "        vertical-align: middle;\n",
       "    }\n",
       "\n",
       "    .dataframe tbody tr th {\n",
       "        vertical-align: top;\n",
       "    }\n",
       "\n",
       "    .dataframe thead th {\n",
       "        text-align: right;\n",
       "    }\n",
       "</style>\n",
       "<table border=\"1\" class=\"dataframe\">\n",
       "  <thead>\n",
       "    <tr style=\"text-align: right;\">\n",
       "      <th></th>\n",
       "      <th>Name</th>\n",
       "      <th>Club</th>\n",
       "      <th>Penalties</th>\n",
       "    </tr>\n",
       "  </thead>\n",
       "  <tbody>\n",
       "    <tr>\n",
       "      <th>1937</th>\n",
       "      <td>M. Noble</td>\n",
       "      <td>West Ham United</td>\n",
       "      <td>92</td>\n",
       "    </tr>\n",
       "    <tr>\n",
       "      <th>119</th>\n",
       "      <td>R. Jiménez</td>\n",
       "      <td>Wolverhampton Wanderers</td>\n",
       "      <td>92</td>\n",
       "    </tr>\n",
       "    <tr>\n",
       "      <th>16</th>\n",
       "      <td>Sergio Ramos</td>\n",
       "      <td>Real Madrid</td>\n",
       "      <td>92</td>\n",
       "    </tr>\n",
       "    <tr>\n",
       "      <th>4</th>\n",
       "      <td>Neymar Jr</td>\n",
       "      <td>Paris Saint-Germain</td>\n",
       "      <td>92</td>\n",
       "    </tr>\n",
       "    <tr>\n",
       "      <th>355</th>\n",
       "      <td>M. Kruse</td>\n",
       "      <td>1. FC Union Berlin</td>\n",
       "      <td>92</td>\n",
       "    </tr>\n",
       "    <tr>\n",
       "      <th>344</th>\n",
       "      <td>S. Haller</td>\n",
       "      <td>West Ham United</td>\n",
       "      <td>91</td>\n",
       "    </tr>\n",
       "    <tr>\n",
       "      <th>34</th>\n",
       "      <td>Bruno Fernandes</td>\n",
       "      <td>Manchester United</td>\n",
       "      <td>91</td>\n",
       "    </tr>\n",
       "    <tr>\n",
       "      <th>172</th>\n",
       "      <td>Jorginho</td>\n",
       "      <td>Chelsea</td>\n",
       "      <td>91</td>\n",
       "    </tr>\n",
       "    <tr>\n",
       "      <th>98</th>\n",
       "      <td>M. Reus</td>\n",
       "      <td>Borussia Dortmund</td>\n",
       "      <td>91</td>\n",
       "    </tr>\n",
       "    <tr>\n",
       "      <th>229</th>\n",
       "      <td>A. Kramarić</td>\n",
       "      <td>TSG 1899 Hoffenheim</td>\n",
       "      <td>90</td>\n",
       "    </tr>\n",
       "  </tbody>\n",
       "</table>\n",
       "</div>"
      ],
      "text/plain": [
       "                 Name                     Club  Penalties\n",
       "1937         M. Noble          West Ham United         92\n",
       "119        R. Jiménez  Wolverhampton Wanderers         92\n",
       "16       Sergio Ramos              Real Madrid         92\n",
       "4           Neymar Jr      Paris Saint-Germain         92\n",
       "355          M. Kruse       1. FC Union Berlin         92\n",
       "344         S. Haller          West Ham United         91\n",
       "34    Bruno Fernandes        Manchester United         91\n",
       "172          Jorginho                  Chelsea         91\n",
       "98            M. Reus        Borussia Dortmund         91\n",
       "229       A. Kramarić      TSG 1899 Hoffenheim         90"
      ]
     },
     "execution_count": 30,
     "metadata": {},
     "output_type": "execute_result"
    }
   ],
   "source": [
    "Best_Player_Penalties=fifa[[\"Name\",\"Club\",\"Penalties\"]].sort_values(by=[\"Penalties\"],ascending=[False]).head(10)\n",
    "Best_Player_Penalties"
   ]
  },
  {
   "cell_type": "code",
   "execution_count": null,
   "id": "2c70898e",
   "metadata": {
    "papermill": {
     "duration": 0.016084,
     "end_time": "2024-09-19T09:59:58.674557",
     "exception": false,
     "start_time": "2024-09-19T09:59:58.658473",
     "status": "completed"
    },
    "tags": []
   },
   "outputs": [],
   "source": []
  },
  {
   "cell_type": "code",
   "execution_count": 31,
   "id": "974ff2b6",
   "metadata": {
    "papermill": {
     "duration": 0.041836,
     "end_time": "2024-09-19T09:59:58.732693",
     "exception": false,
     "start_time": "2024-09-19T09:59:58.690857",
     "status": "completed"
    },
    "tags": []
   },
   "outputs": [
    {
     "data": {
      "text/html": [
       "<div>\n",
       "<style scoped>\n",
       "    .dataframe tbody tr th:only-of-type {\n",
       "        vertical-align: middle;\n",
       "    }\n",
       "\n",
       "    .dataframe tbody tr th {\n",
       "        vertical-align: top;\n",
       "    }\n",
       "\n",
       "    .dataframe thead th {\n",
       "        text-align: right;\n",
       "    }\n",
       "</style>\n",
       "<table border=\"1\" class=\"dataframe\">\n",
       "  <thead>\n",
       "    <tr style=\"text-align: right;\">\n",
       "      <th></th>\n",
       "      <th>Name</th>\n",
       "      <th>Club</th>\n",
       "      <th>Acceleration</th>\n",
       "      <th>PAC</th>\n",
       "    </tr>\n",
       "  </thead>\n",
       "  <tbody>\n",
       "    <tr>\n",
       "      <th>573</th>\n",
       "      <td>Adama Traoré</td>\n",
       "      <td>Wolverhampton Wanderers</td>\n",
       "      <td>97</td>\n",
       "      <td>96</td>\n",
       "    </tr>\n",
       "    <tr>\n",
       "      <th>8</th>\n",
       "      <td>K. Mbappé</td>\n",
       "      <td>Paris Saint-Germain</td>\n",
       "      <td>96</td>\n",
       "      <td>96</td>\n",
       "    </tr>\n",
       "    <tr>\n",
       "      <th>284</th>\n",
       "      <td>A. Davies</td>\n",
       "      <td>FC Bayern München</td>\n",
       "      <td>96</td>\n",
       "      <td>96</td>\n",
       "    </tr>\n",
       "    <tr>\n",
       "      <th>1080</th>\n",
       "      <td>D. James</td>\n",
       "      <td>Manchester United</td>\n",
       "      <td>96</td>\n",
       "      <td>95</td>\n",
       "    </tr>\n",
       "    <tr>\n",
       "      <th>370</th>\n",
       "      <td>Vinícius Jr.</td>\n",
       "      <td>Real Madrid</td>\n",
       "      <td>95</td>\n",
       "      <td>95</td>\n",
       "    </tr>\n",
       "    <tr>\n",
       "      <th>5934</th>\n",
       "      <td>A. Chalá</td>\n",
       "      <td>Dijon FCO</td>\n",
       "      <td>93</td>\n",
       "      <td>95</td>\n",
       "    </tr>\n",
       "    <tr>\n",
       "      <th>11</th>\n",
       "      <td>S. Mané</td>\n",
       "      <td>Liverpool</td>\n",
       "      <td>95</td>\n",
       "      <td>94</td>\n",
       "    </tr>\n",
       "    <tr>\n",
       "      <th>726</th>\n",
       "      <td>I. Sarr</td>\n",
       "      <td>Watford</td>\n",
       "      <td>95</td>\n",
       "      <td>94</td>\n",
       "    </tr>\n",
       "    <tr>\n",
       "      <th>1983</th>\n",
       "      <td>C. Ejuke</td>\n",
       "      <td>PFC CSKA Moscow</td>\n",
       "      <td>95</td>\n",
       "      <td>94</td>\n",
       "    </tr>\n",
       "    <tr>\n",
       "      <th>423</th>\n",
       "      <td>Gelson Martins</td>\n",
       "      <td>AS Monaco</td>\n",
       "      <td>94</td>\n",
       "      <td>94</td>\n",
       "    </tr>\n",
       "    <tr>\n",
       "      <th>1258</th>\n",
       "      <td>Aurélio Buta</td>\n",
       "      <td>Royal Antwerp FC</td>\n",
       "      <td>94</td>\n",
       "      <td>94</td>\n",
       "    </tr>\n",
       "    <tr>\n",
       "      <th>3123</th>\n",
       "      <td>T. Barkhuizen</td>\n",
       "      <td>Preston North End</td>\n",
       "      <td>94</td>\n",
       "      <td>94</td>\n",
       "    </tr>\n",
       "    <tr>\n",
       "      <th>3165</th>\n",
       "      <td>Igor Madinha</td>\n",
       "      <td>São Paulo</td>\n",
       "      <td>94</td>\n",
       "      <td>94</td>\n",
       "    </tr>\n",
       "    <tr>\n",
       "      <th>9897</th>\n",
       "      <td>N. Mileusnić</td>\n",
       "      <td>Randers FC</td>\n",
       "      <td>94</td>\n",
       "      <td>94</td>\n",
       "    </tr>\n",
       "    <tr>\n",
       "      <th>142</th>\n",
       "      <td>A. Hakimi</td>\n",
       "      <td>Inter</td>\n",
       "      <td>93</td>\n",
       "      <td>94</td>\n",
       "    </tr>\n",
       "    <tr>\n",
       "      <th>161</th>\n",
       "      <td>Rafa</td>\n",
       "      <td>SL Benfica</td>\n",
       "      <td>93</td>\n",
       "      <td>94</td>\n",
       "    </tr>\n",
       "    <tr>\n",
       "      <th>307</th>\n",
       "      <td>Iñaki Williams</td>\n",
       "      <td>Athletic Club de Bilbao</td>\n",
       "      <td>93</td>\n",
       "      <td>94</td>\n",
       "    </tr>\n",
       "    <tr>\n",
       "      <th>399</th>\n",
       "      <td>L. Bailey</td>\n",
       "      <td>Bayer 04 Leverkusen</td>\n",
       "      <td>93</td>\n",
       "      <td>94</td>\n",
       "    </tr>\n",
       "    <tr>\n",
       "      <th>736</th>\n",
       "      <td>F. Sacko</td>\n",
       "      <td>Vitória Guimarães</td>\n",
       "      <td>93</td>\n",
       "      <td>94</td>\n",
       "    </tr>\n",
       "    <tr>\n",
       "      <th>1189</th>\n",
       "      <td>F. Acheampong</td>\n",
       "      <td>Tianjin TEDA FC</td>\n",
       "      <td>93</td>\n",
       "      <td>94</td>\n",
       "    </tr>\n",
       "  </tbody>\n",
       "</table>\n",
       "</div>"
      ],
      "text/plain": [
       "                Name                     Club  Acceleration  PAC\n",
       "573     Adama Traoré  Wolverhampton Wanderers            97   96\n",
       "8          K. Mbappé      Paris Saint-Germain            96   96\n",
       "284        A. Davies        FC Bayern München            96   96\n",
       "1080        D. James        Manchester United            96   95\n",
       "370     Vinícius Jr.              Real Madrid            95   95\n",
       "5934        A. Chalá                Dijon FCO            93   95\n",
       "11           S. Mané                Liverpool            95   94\n",
       "726          I. Sarr                  Watford            95   94\n",
       "1983        C. Ejuke          PFC CSKA Moscow            95   94\n",
       "423   Gelson Martins                AS Monaco            94   94\n",
       "1258    Aurélio Buta         Royal Antwerp FC            94   94\n",
       "3123   T. Barkhuizen        Preston North End            94   94\n",
       "3165    Igor Madinha                São Paulo            94   94\n",
       "9897    N. Mileusnić               Randers FC            94   94\n",
       "142        A. Hakimi                    Inter            93   94\n",
       "161             Rafa               SL Benfica            93   94\n",
       "307   Iñaki Williams  Athletic Club de Bilbao            93   94\n",
       "399        L. Bailey      Bayer 04 Leverkusen            93   94\n",
       "736         F. Sacko        Vitória Guimarães            93   94\n",
       "1189   F. Acheampong          Tianjin TEDA FC            93   94"
      ]
     },
     "execution_count": 31,
     "metadata": {},
     "output_type": "execute_result"
    }
   ],
   "source": [
    "Faster_Player=fifa[[\"Name\",\"Club\",\"Acceleration\",\"PAC\"]].sort_values(by=[\"PAC\",\"Acceleration\"],ascending=[False,False]).head(20)\n",
    "Faster_Player"
   ]
  },
  {
   "cell_type": "code",
   "execution_count": 32,
   "id": "94a1fd87",
   "metadata": {
    "papermill": {
     "duration": 0.099175,
     "end_time": "2024-09-19T09:59:58.849348",
     "exception": false,
     "start_time": "2024-09-19T09:59:58.750173",
     "status": "completed"
    },
    "tags": []
   },
   "outputs": [
    {
     "data": {
      "application/vnd.plotly.v1+json": {
       "config": {
        "plotlyServerURL": "https://plot.ly"
       },
       "data": [
        {
         "customdata": [
          [
           "Adama Traoré",
           "Wolverhampton Wanderers"
          ],
          [
           "K. Mbappé",
           "Paris Saint-Germain"
          ],
          [
           "A. Davies",
           "FC Bayern München"
          ],
          [
           "D. James",
           "Manchester United"
          ],
          [
           "Vinícius Jr.",
           "Real Madrid"
          ],
          [
           "A. Chalá",
           "Dijon FCO"
          ],
          [
           "S. Mané",
           "Liverpool"
          ],
          [
           "I. Sarr",
           "Watford"
          ],
          [
           "C. Ejuke",
           "PFC CSKA Moscow"
          ],
          [
           "Gelson Martins",
           "AS Monaco"
          ],
          [
           "Aurélio Buta",
           "Royal Antwerp FC"
          ],
          [
           "T. Barkhuizen",
           "Preston North End"
          ],
          [
           "Igor Madinha",
           "São Paulo"
          ],
          [
           "N. Mileusnić",
           "Randers FC"
          ],
          [
           "A. Hakimi",
           "Inter"
          ],
          [
           "Rafa",
           "SL Benfica"
          ],
          [
           "Iñaki Williams",
           "Athletic Club de Bilbao"
          ],
          [
           "L. Bailey",
           "Bayer 04 Leverkusen"
          ],
          [
           "F. Sacko",
           "Vitória Guimarães"
          ],
          [
           "F. Acheampong",
           "Tianjin TEDA FC"
          ]
         ],
         "hovertemplate": "Acceleration=%{x}<br>PAC=%{marker.color}<br>Name=%{customdata[0]}<br>Club=%{customdata[1]}<extra></extra>",
         "legendgroup": "",
         "marker": {
          "color": [
           96,
           96,
           96,
           95,
           95,
           95,
           94,
           94,
           94,
           94,
           94,
           94,
           94,
           94,
           94,
           94,
           94,
           94,
           94,
           94
          ],
          "coloraxis": "coloraxis",
          "size": [
           96,
           96,
           96,
           95,
           95,
           95,
           94,
           94,
           94,
           94,
           94,
           94,
           94,
           94,
           94,
           94,
           94,
           94,
           94,
           94
          ],
          "sizemode": "area",
          "sizeref": 0.24,
          "symbol": "circle"
         },
         "mode": "markers",
         "name": "",
         "orientation": "v",
         "showlegend": false,
         "type": "scatter",
         "x": [
          97,
          96,
          96,
          96,
          95,
          93,
          95,
          95,
          95,
          94,
          94,
          94,
          94,
          94,
          93,
          93,
          93,
          93,
          93,
          93
         ],
         "xaxis": "x",
         "y": [
          96,
          96,
          96,
          95,
          95,
          95,
          94,
          94,
          94,
          94,
          94,
          94,
          94,
          94,
          94,
          94,
          94,
          94,
          94,
          94
         ],
         "yaxis": "y"
        }
       ],
       "layout": {
        "coloraxis": {
         "colorbar": {
          "title": {
           "text": "PAC"
          }
         },
         "colorscale": [
          [
           0,
           "#0d0887"
          ],
          [
           0.1111111111111111,
           "#46039f"
          ],
          [
           0.2222222222222222,
           "#7201a8"
          ],
          [
           0.3333333333333333,
           "#9c179e"
          ],
          [
           0.4444444444444444,
           "#bd3786"
          ],
          [
           0.5555555555555556,
           "#d8576b"
          ],
          [
           0.6666666666666666,
           "#ed7953"
          ],
          [
           0.7777777777777778,
           "#fb9f3a"
          ],
          [
           0.8888888888888888,
           "#fdca26"
          ],
          [
           1,
           "#f0f921"
          ]
         ]
        },
        "legend": {
         "itemsizing": "constant",
         "tracegroupgap": 0
        },
        "template": {
         "data": {
          "bar": [
           {
            "error_x": {
             "color": "#2a3f5f"
            },
            "error_y": {
             "color": "#2a3f5f"
            },
            "marker": {
             "line": {
              "color": "#E5ECF6",
              "width": 0.5
             },
             "pattern": {
              "fillmode": "overlay",
              "size": 10,
              "solidity": 0.2
             }
            },
            "type": "bar"
           }
          ],
          "barpolar": [
           {
            "marker": {
             "line": {
              "color": "#E5ECF6",
              "width": 0.5
             },
             "pattern": {
              "fillmode": "overlay",
              "size": 10,
              "solidity": 0.2
             }
            },
            "type": "barpolar"
           }
          ],
          "carpet": [
           {
            "aaxis": {
             "endlinecolor": "#2a3f5f",
             "gridcolor": "white",
             "linecolor": "white",
             "minorgridcolor": "white",
             "startlinecolor": "#2a3f5f"
            },
            "baxis": {
             "endlinecolor": "#2a3f5f",
             "gridcolor": "white",
             "linecolor": "white",
             "minorgridcolor": "white",
             "startlinecolor": "#2a3f5f"
            },
            "type": "carpet"
           }
          ],
          "choropleth": [
           {
            "colorbar": {
             "outlinewidth": 0,
             "ticks": ""
            },
            "type": "choropleth"
           }
          ],
          "contour": [
           {
            "colorbar": {
             "outlinewidth": 0,
             "ticks": ""
            },
            "colorscale": [
             [
              0,
              "#0d0887"
             ],
             [
              0.1111111111111111,
              "#46039f"
             ],
             [
              0.2222222222222222,
              "#7201a8"
             ],
             [
              0.3333333333333333,
              "#9c179e"
             ],
             [
              0.4444444444444444,
              "#bd3786"
             ],
             [
              0.5555555555555556,
              "#d8576b"
             ],
             [
              0.6666666666666666,
              "#ed7953"
             ],
             [
              0.7777777777777778,
              "#fb9f3a"
             ],
             [
              0.8888888888888888,
              "#fdca26"
             ],
             [
              1,
              "#f0f921"
             ]
            ],
            "type": "contour"
           }
          ],
          "contourcarpet": [
           {
            "colorbar": {
             "outlinewidth": 0,
             "ticks": ""
            },
            "type": "contourcarpet"
           }
          ],
          "heatmap": [
           {
            "colorbar": {
             "outlinewidth": 0,
             "ticks": ""
            },
            "colorscale": [
             [
              0,
              "#0d0887"
             ],
             [
              0.1111111111111111,
              "#46039f"
             ],
             [
              0.2222222222222222,
              "#7201a8"
             ],
             [
              0.3333333333333333,
              "#9c179e"
             ],
             [
              0.4444444444444444,
              "#bd3786"
             ],
             [
              0.5555555555555556,
              "#d8576b"
             ],
             [
              0.6666666666666666,
              "#ed7953"
             ],
             [
              0.7777777777777778,
              "#fb9f3a"
             ],
             [
              0.8888888888888888,
              "#fdca26"
             ],
             [
              1,
              "#f0f921"
             ]
            ],
            "type": "heatmap"
           }
          ],
          "heatmapgl": [
           {
            "colorbar": {
             "outlinewidth": 0,
             "ticks": ""
            },
            "colorscale": [
             [
              0,
              "#0d0887"
             ],
             [
              0.1111111111111111,
              "#46039f"
             ],
             [
              0.2222222222222222,
              "#7201a8"
             ],
             [
              0.3333333333333333,
              "#9c179e"
             ],
             [
              0.4444444444444444,
              "#bd3786"
             ],
             [
              0.5555555555555556,
              "#d8576b"
             ],
             [
              0.6666666666666666,
              "#ed7953"
             ],
             [
              0.7777777777777778,
              "#fb9f3a"
             ],
             [
              0.8888888888888888,
              "#fdca26"
             ],
             [
              1,
              "#f0f921"
             ]
            ],
            "type": "heatmapgl"
           }
          ],
          "histogram": [
           {
            "marker": {
             "pattern": {
              "fillmode": "overlay",
              "size": 10,
              "solidity": 0.2
             }
            },
            "type": "histogram"
           }
          ],
          "histogram2d": [
           {
            "colorbar": {
             "outlinewidth": 0,
             "ticks": ""
            },
            "colorscale": [
             [
              0,
              "#0d0887"
             ],
             [
              0.1111111111111111,
              "#46039f"
             ],
             [
              0.2222222222222222,
              "#7201a8"
             ],
             [
              0.3333333333333333,
              "#9c179e"
             ],
             [
              0.4444444444444444,
              "#bd3786"
             ],
             [
              0.5555555555555556,
              "#d8576b"
             ],
             [
              0.6666666666666666,
              "#ed7953"
             ],
             [
              0.7777777777777778,
              "#fb9f3a"
             ],
             [
              0.8888888888888888,
              "#fdca26"
             ],
             [
              1,
              "#f0f921"
             ]
            ],
            "type": "histogram2d"
           }
          ],
          "histogram2dcontour": [
           {
            "colorbar": {
             "outlinewidth": 0,
             "ticks": ""
            },
            "colorscale": [
             [
              0,
              "#0d0887"
             ],
             [
              0.1111111111111111,
              "#46039f"
             ],
             [
              0.2222222222222222,
              "#7201a8"
             ],
             [
              0.3333333333333333,
              "#9c179e"
             ],
             [
              0.4444444444444444,
              "#bd3786"
             ],
             [
              0.5555555555555556,
              "#d8576b"
             ],
             [
              0.6666666666666666,
              "#ed7953"
             ],
             [
              0.7777777777777778,
              "#fb9f3a"
             ],
             [
              0.8888888888888888,
              "#fdca26"
             ],
             [
              1,
              "#f0f921"
             ]
            ],
            "type": "histogram2dcontour"
           }
          ],
          "mesh3d": [
           {
            "colorbar": {
             "outlinewidth": 0,
             "ticks": ""
            },
            "type": "mesh3d"
           }
          ],
          "parcoords": [
           {
            "line": {
             "colorbar": {
              "outlinewidth": 0,
              "ticks": ""
             }
            },
            "type": "parcoords"
           }
          ],
          "pie": [
           {
            "automargin": true,
            "type": "pie"
           }
          ],
          "scatter": [
           {
            "fillpattern": {
             "fillmode": "overlay",
             "size": 10,
             "solidity": 0.2
            },
            "type": "scatter"
           }
          ],
          "scatter3d": [
           {
            "line": {
             "colorbar": {
              "outlinewidth": 0,
              "ticks": ""
             }
            },
            "marker": {
             "colorbar": {
              "outlinewidth": 0,
              "ticks": ""
             }
            },
            "type": "scatter3d"
           }
          ],
          "scattercarpet": [
           {
            "marker": {
             "colorbar": {
              "outlinewidth": 0,
              "ticks": ""
             }
            },
            "type": "scattercarpet"
           }
          ],
          "scattergeo": [
           {
            "marker": {
             "colorbar": {
              "outlinewidth": 0,
              "ticks": ""
             }
            },
            "type": "scattergeo"
           }
          ],
          "scattergl": [
           {
            "marker": {
             "colorbar": {
              "outlinewidth": 0,
              "ticks": ""
             }
            },
            "type": "scattergl"
           }
          ],
          "scattermapbox": [
           {
            "marker": {
             "colorbar": {
              "outlinewidth": 0,
              "ticks": ""
             }
            },
            "type": "scattermapbox"
           }
          ],
          "scatterpolar": [
           {
            "marker": {
             "colorbar": {
              "outlinewidth": 0,
              "ticks": ""
             }
            },
            "type": "scatterpolar"
           }
          ],
          "scatterpolargl": [
           {
            "marker": {
             "colorbar": {
              "outlinewidth": 0,
              "ticks": ""
             }
            },
            "type": "scatterpolargl"
           }
          ],
          "scatterternary": [
           {
            "marker": {
             "colorbar": {
              "outlinewidth": 0,
              "ticks": ""
             }
            },
            "type": "scatterternary"
           }
          ],
          "surface": [
           {
            "colorbar": {
             "outlinewidth": 0,
             "ticks": ""
            },
            "colorscale": [
             [
              0,
              "#0d0887"
             ],
             [
              0.1111111111111111,
              "#46039f"
             ],
             [
              0.2222222222222222,
              "#7201a8"
             ],
             [
              0.3333333333333333,
              "#9c179e"
             ],
             [
              0.4444444444444444,
              "#bd3786"
             ],
             [
              0.5555555555555556,
              "#d8576b"
             ],
             [
              0.6666666666666666,
              "#ed7953"
             ],
             [
              0.7777777777777778,
              "#fb9f3a"
             ],
             [
              0.8888888888888888,
              "#fdca26"
             ],
             [
              1,
              "#f0f921"
             ]
            ],
            "type": "surface"
           }
          ],
          "table": [
           {
            "cells": {
             "fill": {
              "color": "#EBF0F8"
             },
             "line": {
              "color": "white"
             }
            },
            "header": {
             "fill": {
              "color": "#C8D4E3"
             },
             "line": {
              "color": "white"
             }
            },
            "type": "table"
           }
          ]
         },
         "layout": {
          "annotationdefaults": {
           "arrowcolor": "#2a3f5f",
           "arrowhead": 0,
           "arrowwidth": 1
          },
          "autotypenumbers": "strict",
          "coloraxis": {
           "colorbar": {
            "outlinewidth": 0,
            "ticks": ""
           }
          },
          "colorscale": {
           "diverging": [
            [
             0,
             "#8e0152"
            ],
            [
             0.1,
             "#c51b7d"
            ],
            [
             0.2,
             "#de77ae"
            ],
            [
             0.3,
             "#f1b6da"
            ],
            [
             0.4,
             "#fde0ef"
            ],
            [
             0.5,
             "#f7f7f7"
            ],
            [
             0.6,
             "#e6f5d0"
            ],
            [
             0.7,
             "#b8e186"
            ],
            [
             0.8,
             "#7fbc41"
            ],
            [
             0.9,
             "#4d9221"
            ],
            [
             1,
             "#276419"
            ]
           ],
           "sequential": [
            [
             0,
             "#0d0887"
            ],
            [
             0.1111111111111111,
             "#46039f"
            ],
            [
             0.2222222222222222,
             "#7201a8"
            ],
            [
             0.3333333333333333,
             "#9c179e"
            ],
            [
             0.4444444444444444,
             "#bd3786"
            ],
            [
             0.5555555555555556,
             "#d8576b"
            ],
            [
             0.6666666666666666,
             "#ed7953"
            ],
            [
             0.7777777777777778,
             "#fb9f3a"
            ],
            [
             0.8888888888888888,
             "#fdca26"
            ],
            [
             1,
             "#f0f921"
            ]
           ],
           "sequentialminus": [
            [
             0,
             "#0d0887"
            ],
            [
             0.1111111111111111,
             "#46039f"
            ],
            [
             0.2222222222222222,
             "#7201a8"
            ],
            [
             0.3333333333333333,
             "#9c179e"
            ],
            [
             0.4444444444444444,
             "#bd3786"
            ],
            [
             0.5555555555555556,
             "#d8576b"
            ],
            [
             0.6666666666666666,
             "#ed7953"
            ],
            [
             0.7777777777777778,
             "#fb9f3a"
            ],
            [
             0.8888888888888888,
             "#fdca26"
            ],
            [
             1,
             "#f0f921"
            ]
           ]
          },
          "colorway": [
           "#636efa",
           "#EF553B",
           "#00cc96",
           "#ab63fa",
           "#FFA15A",
           "#19d3f3",
           "#FF6692",
           "#B6E880",
           "#FF97FF",
           "#FECB52"
          ],
          "font": {
           "color": "#2a3f5f"
          },
          "geo": {
           "bgcolor": "white",
           "lakecolor": "white",
           "landcolor": "#E5ECF6",
           "showlakes": true,
           "showland": true,
           "subunitcolor": "white"
          },
          "hoverlabel": {
           "align": "left"
          },
          "hovermode": "closest",
          "mapbox": {
           "style": "light"
          },
          "paper_bgcolor": "white",
          "plot_bgcolor": "#E5ECF6",
          "polar": {
           "angularaxis": {
            "gridcolor": "white",
            "linecolor": "white",
            "ticks": ""
           },
           "bgcolor": "#E5ECF6",
           "radialaxis": {
            "gridcolor": "white",
            "linecolor": "white",
            "ticks": ""
           }
          },
          "scene": {
           "xaxis": {
            "backgroundcolor": "#E5ECF6",
            "gridcolor": "white",
            "gridwidth": 2,
            "linecolor": "white",
            "showbackground": true,
            "ticks": "",
            "zerolinecolor": "white"
           },
           "yaxis": {
            "backgroundcolor": "#E5ECF6",
            "gridcolor": "white",
            "gridwidth": 2,
            "linecolor": "white",
            "showbackground": true,
            "ticks": "",
            "zerolinecolor": "white"
           },
           "zaxis": {
            "backgroundcolor": "#E5ECF6",
            "gridcolor": "white",
            "gridwidth": 2,
            "linecolor": "white",
            "showbackground": true,
            "ticks": "",
            "zerolinecolor": "white"
           }
          },
          "shapedefaults": {
           "line": {
            "color": "#2a3f5f"
           }
          },
          "ternary": {
           "aaxis": {
            "gridcolor": "white",
            "linecolor": "white",
            "ticks": ""
           },
           "baxis": {
            "gridcolor": "white",
            "linecolor": "white",
            "ticks": ""
           },
           "bgcolor": "#E5ECF6",
           "caxis": {
            "gridcolor": "white",
            "linecolor": "white",
            "ticks": ""
           }
          },
          "title": {
           "x": 0.05
          },
          "xaxis": {
           "automargin": true,
           "gridcolor": "white",
           "linecolor": "white",
           "ticks": "",
           "title": {
            "standoff": 15
           },
           "zerolinecolor": "white",
           "zerolinewidth": 2
          },
          "yaxis": {
           "automargin": true,
           "gridcolor": "white",
           "linecolor": "white",
           "ticks": "",
           "title": {
            "standoff": 15
           },
           "zerolinecolor": "white",
           "zerolinewidth": 2
          }
         }
        },
        "title": {
         "text": "Top 10 Fastest Players in FIFA 21"
        },
        "xaxis": {
         "anchor": "y",
         "domain": [
          0,
          1
         ],
         "title": {
          "text": "Acceleration"
         }
        },
        "yaxis": {
         "anchor": "x",
         "domain": [
          0,
          1
         ],
         "title": {
          "text": "PAC"
         }
        }
       }
      }
     },
     "metadata": {},
     "output_type": "display_data"
    }
   ],
   "source": [
    "fig=px.scatter(Faster_Player,x='Acceleration',y=\"PAC\",color='PAC',size=\"PAC\",hover_data=[\"Name\",\"Club\",\"Acceleration\",\"PAC\"],title=\"Top 10 Fastest Players in FIFA 21\")\n",
    "fig.show()"
   ]
  },
  {
   "cell_type": "code",
   "execution_count": 33,
   "id": "1a14b758",
   "metadata": {
    "papermill": {
     "duration": 0.099044,
     "end_time": "2024-09-19T09:59:58.973881",
     "exception": false,
     "start_time": "2024-09-19T09:59:58.874837",
     "status": "completed"
    },
    "tags": []
   },
   "outputs": [
    {
     "data": {
      "text/html": [
       "<div>\n",
       "<style scoped>\n",
       "    .dataframe tbody tr th:only-of-type {\n",
       "        vertical-align: middle;\n",
       "    }\n",
       "\n",
       "    .dataframe tbody tr th {\n",
       "        vertical-align: top;\n",
       "    }\n",
       "\n",
       "    .dataframe thead th {\n",
       "        text-align: right;\n",
       "    }\n",
       "</style>\n",
       "<table border=\"1\" class=\"dataframe\">\n",
       "  <thead>\n",
       "    <tr style=\"text-align: right;\">\n",
       "      <th></th>\n",
       "      <th>LongName</th>\n",
       "      <th>Club</th>\n",
       "      <th>Age</th>\n",
       "      <th>Goalkeeping</th>\n",
       "      <th>GK Reflexes</th>\n",
       "      <th>BOV</th>\n",
       "    </tr>\n",
       "  </thead>\n",
       "  <tbody>\n",
       "    <tr>\n",
       "      <th>14</th>\n",
       "      <td>Manuel Neuer</td>\n",
       "      <td>FC Bayern München</td>\n",
       "      <td>34</td>\n",
       "      <td>440</td>\n",
       "      <td>89</td>\n",
       "      <td>89</td>\n",
       "    </tr>\n",
       "    <tr>\n",
       "      <th>9</th>\n",
       "      <td>Marc-André ter Stegen</td>\n",
       "      <td>FC Barcelona</td>\n",
       "      <td>28</td>\n",
       "      <td>439</td>\n",
       "      <td>90</td>\n",
       "      <td>90</td>\n",
       "    </tr>\n",
       "    <tr>\n",
       "      <th>7</th>\n",
       "      <td>Alisson Ramses Becker</td>\n",
       "      <td>Liverpool</td>\n",
       "      <td>27</td>\n",
       "      <td>439</td>\n",
       "      <td>89</td>\n",
       "      <td>90</td>\n",
       "    </tr>\n",
       "    <tr>\n",
       "      <th>2</th>\n",
       "      <td>Jan Oblak</td>\n",
       "      <td>Atlético Madrid</td>\n",
       "      <td>27</td>\n",
       "      <td>437</td>\n",
       "      <td>90</td>\n",
       "      <td>91</td>\n",
       "    </tr>\n",
       "    <tr>\n",
       "      <th>22</th>\n",
       "      <td>Ederson Santana de Moraes</td>\n",
       "      <td>Manchester City</td>\n",
       "      <td>26</td>\n",
       "      <td>435</td>\n",
       "      <td>88</td>\n",
       "      <td>88</td>\n",
       "    </tr>\n",
       "    <tr>\n",
       "      <th>24</th>\n",
       "      <td>Samir Handanovič</td>\n",
       "      <td>Inter</td>\n",
       "      <td>35</td>\n",
       "      <td>424</td>\n",
       "      <td>89</td>\n",
       "      <td>88</td>\n",
       "    </tr>\n",
       "    <tr>\n",
       "      <th>57</th>\n",
       "      <td>Yann Sommer</td>\n",
       "      <td>Borussia Mönchengladbach</td>\n",
       "      <td>31</td>\n",
       "      <td>423</td>\n",
       "      <td>85</td>\n",
       "      <td>86</td>\n",
       "    </tr>\n",
       "    <tr>\n",
       "      <th>91</th>\n",
       "      <td>Péter Gulácsi</td>\n",
       "      <td>RB Leipzig</td>\n",
       "      <td>30</td>\n",
       "      <td>421</td>\n",
       "      <td>86</td>\n",
       "      <td>85</td>\n",
       "    </tr>\n",
       "    <tr>\n",
       "      <th>13</th>\n",
       "      <td>Thibaut Courtois</td>\n",
       "      <td>Real Madrid</td>\n",
       "      <td>28</td>\n",
       "      <td>420</td>\n",
       "      <td>88</td>\n",
       "      <td>89</td>\n",
       "    </tr>\n",
       "    <tr>\n",
       "      <th>101</th>\n",
       "      <td>André Onana</td>\n",
       "      <td>Ajax</td>\n",
       "      <td>24</td>\n",
       "      <td>419</td>\n",
       "      <td>86</td>\n",
       "      <td>84</td>\n",
       "    </tr>\n",
       "  </tbody>\n",
       "</table>\n",
       "</div>"
      ],
      "text/plain": [
       "                      LongName                      Club  Age  Goalkeeping  \\\n",
       "14                Manuel Neuer         FC Bayern München   34          440   \n",
       "9        Marc-André ter Stegen              FC Barcelona   28          439   \n",
       "7        Alisson Ramses Becker                 Liverpool   27          439   \n",
       "2                    Jan Oblak           Atlético Madrid   27          437   \n",
       "22   Ederson Santana de Moraes           Manchester City   26          435   \n",
       "24            Samir Handanovič                     Inter   35          424   \n",
       "57                 Yann Sommer  Borussia Mönchengladbach   31          423   \n",
       "91               Péter Gulácsi                RB Leipzig   30          421   \n",
       "13            Thibaut Courtois               Real Madrid   28          420   \n",
       "101                André Onana                      Ajax   24          419   \n",
       "\n",
       "     GK Reflexes  BOV  \n",
       "14            89   89  \n",
       "9             90   90  \n",
       "7             89   90  \n",
       "2             90   91  \n",
       "22            88   88  \n",
       "24            89   88  \n",
       "57            85   86  \n",
       "91            86   85  \n",
       "13            88   89  \n",
       "101           86   84  "
      ]
     },
     "execution_count": 33,
     "metadata": {},
     "output_type": "execute_result"
    }
   ],
   "source": [
    "Gk=fifa[[\"LongName\",\"Club\",\"Age\",\"Goalkeeping\",\"GK Reflexes\",\"BOV\"]].sort_values(by=[\"Goalkeeping\",\"GK Reflexes\",\"BOV\"],ascending=[False,False,False]).head(10)\n",
    "Gk"
   ]
  },
  {
   "cell_type": "code",
   "execution_count": 34,
   "id": "286304ff",
   "metadata": {
    "papermill": {
     "duration": 0.089577,
     "end_time": "2024-09-19T09:59:59.081255",
     "exception": false,
     "start_time": "2024-09-19T09:59:58.991678",
     "status": "completed"
    },
    "tags": []
   },
   "outputs": [
    {
     "data": {
      "application/vnd.plotly.v1+json": {
       "config": {
        "plotlyServerURL": "https://plot.ly"
       },
       "data": [
        {
         "customdata": [
          [
           "Manuel Neuer",
           "FC Bayern München"
          ],
          [
           "Marc-André ter Stegen",
           "FC Barcelona"
          ],
          [
           "Alisson Ramses Becker",
           "Liverpool"
          ],
          [
           "Jan Oblak",
           "Atlético Madrid"
          ],
          [
           "Ederson Santana de Moraes",
           "Manchester City"
          ],
          [
           "Samir Handanovič",
           "Inter"
          ],
          [
           "Yann Sommer",
           "Borussia Mönchengladbach"
          ],
          [
           "Péter Gulácsi",
           "RB Leipzig"
          ],
          [
           "Thibaut Courtois",
           "Real Madrid"
          ],
          [
           "André Onana",
           "Ajax"
          ]
         ],
         "hovertemplate": "Goalkeeping=%{marker.color}<br>GK Reflexes=%{marker.size}<br>LongName=%{customdata[0]}<br>Club=%{customdata[1]}<extra></extra>",
         "legendgroup": "",
         "marker": {
          "color": [
           440,
           439,
           439,
           437,
           435,
           424,
           423,
           421,
           420,
           419
          ],
          "coloraxis": "coloraxis",
          "size": [
           89,
           90,
           89,
           90,
           88,
           89,
           85,
           86,
           88,
           86
          ],
          "sizemode": "area",
          "sizeref": 0.225,
          "symbol": "circle"
         },
         "mode": "markers",
         "name": "",
         "orientation": "v",
         "showlegend": false,
         "type": "scatter",
         "x": [
          440,
          439,
          439,
          437,
          435,
          424,
          423,
          421,
          420,
          419
         ],
         "xaxis": "x",
         "y": [
          89,
          90,
          89,
          90,
          88,
          89,
          85,
          86,
          88,
          86
         ],
         "yaxis": "y"
        }
       ],
       "layout": {
        "coloraxis": {
         "colorbar": {
          "title": {
           "text": "Goalkeeping"
          }
         },
         "colorscale": [
          [
           0,
           "#0d0887"
          ],
          [
           0.1111111111111111,
           "#46039f"
          ],
          [
           0.2222222222222222,
           "#7201a8"
          ],
          [
           0.3333333333333333,
           "#9c179e"
          ],
          [
           0.4444444444444444,
           "#bd3786"
          ],
          [
           0.5555555555555556,
           "#d8576b"
          ],
          [
           0.6666666666666666,
           "#ed7953"
          ],
          [
           0.7777777777777778,
           "#fb9f3a"
          ],
          [
           0.8888888888888888,
           "#fdca26"
          ],
          [
           1,
           "#f0f921"
          ]
         ]
        },
        "legend": {
         "itemsizing": "constant",
         "tracegroupgap": 0
        },
        "template": {
         "data": {
          "bar": [
           {
            "error_x": {
             "color": "#2a3f5f"
            },
            "error_y": {
             "color": "#2a3f5f"
            },
            "marker": {
             "line": {
              "color": "#E5ECF6",
              "width": 0.5
             },
             "pattern": {
              "fillmode": "overlay",
              "size": 10,
              "solidity": 0.2
             }
            },
            "type": "bar"
           }
          ],
          "barpolar": [
           {
            "marker": {
             "line": {
              "color": "#E5ECF6",
              "width": 0.5
             },
             "pattern": {
              "fillmode": "overlay",
              "size": 10,
              "solidity": 0.2
             }
            },
            "type": "barpolar"
           }
          ],
          "carpet": [
           {
            "aaxis": {
             "endlinecolor": "#2a3f5f",
             "gridcolor": "white",
             "linecolor": "white",
             "minorgridcolor": "white",
             "startlinecolor": "#2a3f5f"
            },
            "baxis": {
             "endlinecolor": "#2a3f5f",
             "gridcolor": "white",
             "linecolor": "white",
             "minorgridcolor": "white",
             "startlinecolor": "#2a3f5f"
            },
            "type": "carpet"
           }
          ],
          "choropleth": [
           {
            "colorbar": {
             "outlinewidth": 0,
             "ticks": ""
            },
            "type": "choropleth"
           }
          ],
          "contour": [
           {
            "colorbar": {
             "outlinewidth": 0,
             "ticks": ""
            },
            "colorscale": [
             [
              0,
              "#0d0887"
             ],
             [
              0.1111111111111111,
              "#46039f"
             ],
             [
              0.2222222222222222,
              "#7201a8"
             ],
             [
              0.3333333333333333,
              "#9c179e"
             ],
             [
              0.4444444444444444,
              "#bd3786"
             ],
             [
              0.5555555555555556,
              "#d8576b"
             ],
             [
              0.6666666666666666,
              "#ed7953"
             ],
             [
              0.7777777777777778,
              "#fb9f3a"
             ],
             [
              0.8888888888888888,
              "#fdca26"
             ],
             [
              1,
              "#f0f921"
             ]
            ],
            "type": "contour"
           }
          ],
          "contourcarpet": [
           {
            "colorbar": {
             "outlinewidth": 0,
             "ticks": ""
            },
            "type": "contourcarpet"
           }
          ],
          "heatmap": [
           {
            "colorbar": {
             "outlinewidth": 0,
             "ticks": ""
            },
            "colorscale": [
             [
              0,
              "#0d0887"
             ],
             [
              0.1111111111111111,
              "#46039f"
             ],
             [
              0.2222222222222222,
              "#7201a8"
             ],
             [
              0.3333333333333333,
              "#9c179e"
             ],
             [
              0.4444444444444444,
              "#bd3786"
             ],
             [
              0.5555555555555556,
              "#d8576b"
             ],
             [
              0.6666666666666666,
              "#ed7953"
             ],
             [
              0.7777777777777778,
              "#fb9f3a"
             ],
             [
              0.8888888888888888,
              "#fdca26"
             ],
             [
              1,
              "#f0f921"
             ]
            ],
            "type": "heatmap"
           }
          ],
          "heatmapgl": [
           {
            "colorbar": {
             "outlinewidth": 0,
             "ticks": ""
            },
            "colorscale": [
             [
              0,
              "#0d0887"
             ],
             [
              0.1111111111111111,
              "#46039f"
             ],
             [
              0.2222222222222222,
              "#7201a8"
             ],
             [
              0.3333333333333333,
              "#9c179e"
             ],
             [
              0.4444444444444444,
              "#bd3786"
             ],
             [
              0.5555555555555556,
              "#d8576b"
             ],
             [
              0.6666666666666666,
              "#ed7953"
             ],
             [
              0.7777777777777778,
              "#fb9f3a"
             ],
             [
              0.8888888888888888,
              "#fdca26"
             ],
             [
              1,
              "#f0f921"
             ]
            ],
            "type": "heatmapgl"
           }
          ],
          "histogram": [
           {
            "marker": {
             "pattern": {
              "fillmode": "overlay",
              "size": 10,
              "solidity": 0.2
             }
            },
            "type": "histogram"
           }
          ],
          "histogram2d": [
           {
            "colorbar": {
             "outlinewidth": 0,
             "ticks": ""
            },
            "colorscale": [
             [
              0,
              "#0d0887"
             ],
             [
              0.1111111111111111,
              "#46039f"
             ],
             [
              0.2222222222222222,
              "#7201a8"
             ],
             [
              0.3333333333333333,
              "#9c179e"
             ],
             [
              0.4444444444444444,
              "#bd3786"
             ],
             [
              0.5555555555555556,
              "#d8576b"
             ],
             [
              0.6666666666666666,
              "#ed7953"
             ],
             [
              0.7777777777777778,
              "#fb9f3a"
             ],
             [
              0.8888888888888888,
              "#fdca26"
             ],
             [
              1,
              "#f0f921"
             ]
            ],
            "type": "histogram2d"
           }
          ],
          "histogram2dcontour": [
           {
            "colorbar": {
             "outlinewidth": 0,
             "ticks": ""
            },
            "colorscale": [
             [
              0,
              "#0d0887"
             ],
             [
              0.1111111111111111,
              "#46039f"
             ],
             [
              0.2222222222222222,
              "#7201a8"
             ],
             [
              0.3333333333333333,
              "#9c179e"
             ],
             [
              0.4444444444444444,
              "#bd3786"
             ],
             [
              0.5555555555555556,
              "#d8576b"
             ],
             [
              0.6666666666666666,
              "#ed7953"
             ],
             [
              0.7777777777777778,
              "#fb9f3a"
             ],
             [
              0.8888888888888888,
              "#fdca26"
             ],
             [
              1,
              "#f0f921"
             ]
            ],
            "type": "histogram2dcontour"
           }
          ],
          "mesh3d": [
           {
            "colorbar": {
             "outlinewidth": 0,
             "ticks": ""
            },
            "type": "mesh3d"
           }
          ],
          "parcoords": [
           {
            "line": {
             "colorbar": {
              "outlinewidth": 0,
              "ticks": ""
             }
            },
            "type": "parcoords"
           }
          ],
          "pie": [
           {
            "automargin": true,
            "type": "pie"
           }
          ],
          "scatter": [
           {
            "fillpattern": {
             "fillmode": "overlay",
             "size": 10,
             "solidity": 0.2
            },
            "type": "scatter"
           }
          ],
          "scatter3d": [
           {
            "line": {
             "colorbar": {
              "outlinewidth": 0,
              "ticks": ""
             }
            },
            "marker": {
             "colorbar": {
              "outlinewidth": 0,
              "ticks": ""
             }
            },
            "type": "scatter3d"
           }
          ],
          "scattercarpet": [
           {
            "marker": {
             "colorbar": {
              "outlinewidth": 0,
              "ticks": ""
             }
            },
            "type": "scattercarpet"
           }
          ],
          "scattergeo": [
           {
            "marker": {
             "colorbar": {
              "outlinewidth": 0,
              "ticks": ""
             }
            },
            "type": "scattergeo"
           }
          ],
          "scattergl": [
           {
            "marker": {
             "colorbar": {
              "outlinewidth": 0,
              "ticks": ""
             }
            },
            "type": "scattergl"
           }
          ],
          "scattermapbox": [
           {
            "marker": {
             "colorbar": {
              "outlinewidth": 0,
              "ticks": ""
             }
            },
            "type": "scattermapbox"
           }
          ],
          "scatterpolar": [
           {
            "marker": {
             "colorbar": {
              "outlinewidth": 0,
              "ticks": ""
             }
            },
            "type": "scatterpolar"
           }
          ],
          "scatterpolargl": [
           {
            "marker": {
             "colorbar": {
              "outlinewidth": 0,
              "ticks": ""
             }
            },
            "type": "scatterpolargl"
           }
          ],
          "scatterternary": [
           {
            "marker": {
             "colorbar": {
              "outlinewidth": 0,
              "ticks": ""
             }
            },
            "type": "scatterternary"
           }
          ],
          "surface": [
           {
            "colorbar": {
             "outlinewidth": 0,
             "ticks": ""
            },
            "colorscale": [
             [
              0,
              "#0d0887"
             ],
             [
              0.1111111111111111,
              "#46039f"
             ],
             [
              0.2222222222222222,
              "#7201a8"
             ],
             [
              0.3333333333333333,
              "#9c179e"
             ],
             [
              0.4444444444444444,
              "#bd3786"
             ],
             [
              0.5555555555555556,
              "#d8576b"
             ],
             [
              0.6666666666666666,
              "#ed7953"
             ],
             [
              0.7777777777777778,
              "#fb9f3a"
             ],
             [
              0.8888888888888888,
              "#fdca26"
             ],
             [
              1,
              "#f0f921"
             ]
            ],
            "type": "surface"
           }
          ],
          "table": [
           {
            "cells": {
             "fill": {
              "color": "#EBF0F8"
             },
             "line": {
              "color": "white"
             }
            },
            "header": {
             "fill": {
              "color": "#C8D4E3"
             },
             "line": {
              "color": "white"
             }
            },
            "type": "table"
           }
          ]
         },
         "layout": {
          "annotationdefaults": {
           "arrowcolor": "#2a3f5f",
           "arrowhead": 0,
           "arrowwidth": 1
          },
          "autotypenumbers": "strict",
          "coloraxis": {
           "colorbar": {
            "outlinewidth": 0,
            "ticks": ""
           }
          },
          "colorscale": {
           "diverging": [
            [
             0,
             "#8e0152"
            ],
            [
             0.1,
             "#c51b7d"
            ],
            [
             0.2,
             "#de77ae"
            ],
            [
             0.3,
             "#f1b6da"
            ],
            [
             0.4,
             "#fde0ef"
            ],
            [
             0.5,
             "#f7f7f7"
            ],
            [
             0.6,
             "#e6f5d0"
            ],
            [
             0.7,
             "#b8e186"
            ],
            [
             0.8,
             "#7fbc41"
            ],
            [
             0.9,
             "#4d9221"
            ],
            [
             1,
             "#276419"
            ]
           ],
           "sequential": [
            [
             0,
             "#0d0887"
            ],
            [
             0.1111111111111111,
             "#46039f"
            ],
            [
             0.2222222222222222,
             "#7201a8"
            ],
            [
             0.3333333333333333,
             "#9c179e"
            ],
            [
             0.4444444444444444,
             "#bd3786"
            ],
            [
             0.5555555555555556,
             "#d8576b"
            ],
            [
             0.6666666666666666,
             "#ed7953"
            ],
            [
             0.7777777777777778,
             "#fb9f3a"
            ],
            [
             0.8888888888888888,
             "#fdca26"
            ],
            [
             1,
             "#f0f921"
            ]
           ],
           "sequentialminus": [
            [
             0,
             "#0d0887"
            ],
            [
             0.1111111111111111,
             "#46039f"
            ],
            [
             0.2222222222222222,
             "#7201a8"
            ],
            [
             0.3333333333333333,
             "#9c179e"
            ],
            [
             0.4444444444444444,
             "#bd3786"
            ],
            [
             0.5555555555555556,
             "#d8576b"
            ],
            [
             0.6666666666666666,
             "#ed7953"
            ],
            [
             0.7777777777777778,
             "#fb9f3a"
            ],
            [
             0.8888888888888888,
             "#fdca26"
            ],
            [
             1,
             "#f0f921"
            ]
           ]
          },
          "colorway": [
           "#636efa",
           "#EF553B",
           "#00cc96",
           "#ab63fa",
           "#FFA15A",
           "#19d3f3",
           "#FF6692",
           "#B6E880",
           "#FF97FF",
           "#FECB52"
          ],
          "font": {
           "color": "#2a3f5f"
          },
          "geo": {
           "bgcolor": "white",
           "lakecolor": "white",
           "landcolor": "#E5ECF6",
           "showlakes": true,
           "showland": true,
           "subunitcolor": "white"
          },
          "hoverlabel": {
           "align": "left"
          },
          "hovermode": "closest",
          "mapbox": {
           "style": "light"
          },
          "paper_bgcolor": "white",
          "plot_bgcolor": "#E5ECF6",
          "polar": {
           "angularaxis": {
            "gridcolor": "white",
            "linecolor": "white",
            "ticks": ""
           },
           "bgcolor": "#E5ECF6",
           "radialaxis": {
            "gridcolor": "white",
            "linecolor": "white",
            "ticks": ""
           }
          },
          "scene": {
           "xaxis": {
            "backgroundcolor": "#E5ECF6",
            "gridcolor": "white",
            "gridwidth": 2,
            "linecolor": "white",
            "showbackground": true,
            "ticks": "",
            "zerolinecolor": "white"
           },
           "yaxis": {
            "backgroundcolor": "#E5ECF6",
            "gridcolor": "white",
            "gridwidth": 2,
            "linecolor": "white",
            "showbackground": true,
            "ticks": "",
            "zerolinecolor": "white"
           },
           "zaxis": {
            "backgroundcolor": "#E5ECF6",
            "gridcolor": "white",
            "gridwidth": 2,
            "linecolor": "white",
            "showbackground": true,
            "ticks": "",
            "zerolinecolor": "white"
           }
          },
          "shapedefaults": {
           "line": {
            "color": "#2a3f5f"
           }
          },
          "ternary": {
           "aaxis": {
            "gridcolor": "white",
            "linecolor": "white",
            "ticks": ""
           },
           "baxis": {
            "gridcolor": "white",
            "linecolor": "white",
            "ticks": ""
           },
           "bgcolor": "#E5ECF6",
           "caxis": {
            "gridcolor": "white",
            "linecolor": "white",
            "ticks": ""
           }
          },
          "title": {
           "x": 0.05
          },
          "xaxis": {
           "automargin": true,
           "gridcolor": "white",
           "linecolor": "white",
           "ticks": "",
           "title": {
            "standoff": 15
           },
           "zerolinecolor": "white",
           "zerolinewidth": 2
          },
          "yaxis": {
           "automargin": true,
           "gridcolor": "white",
           "linecolor": "white",
           "ticks": "",
           "title": {
            "standoff": 15
           },
           "zerolinecolor": "white",
           "zerolinewidth": 2
          }
         }
        },
        "title": {
         "text": "Best 10 Goalkeepers  in FIFA 21"
        },
        "xaxis": {
         "anchor": "y",
         "domain": [
          0,
          1
         ],
         "title": {
          "text": "Goalkeeping"
         }
        },
        "yaxis": {
         "anchor": "x",
         "domain": [
          0,
          1
         ],
         "title": {
          "text": "GK Reflexes"
         }
        }
       }
      }
     },
     "metadata": {},
     "output_type": "display_data"
    }
   ],
   "source": [
    "fig=px.scatter(Gk,x='Goalkeeping',y='GK Reflexes',color='Goalkeeping',size=\"GK Reflexes\",hover_data=[\"LongName\",\"Club\",\"Goalkeeping\",\"GK Reflexes\"],title=\"Best 10 Goalkeepers  in FIFA 21\")\n",
    "fig.show()"
   ]
  },
  {
   "cell_type": "code",
   "execution_count": 35,
   "id": "428d06a5",
   "metadata": {
    "papermill": {
     "duration": 0.036822,
     "end_time": "2024-09-19T09:59:59.135625",
     "exception": false,
     "start_time": "2024-09-19T09:59:59.098803",
     "status": "completed"
    },
    "tags": []
   },
   "outputs": [
    {
     "data": {
      "text/html": [
       "<div>\n",
       "<style scoped>\n",
       "    .dataframe tbody tr th:only-of-type {\n",
       "        vertical-align: middle;\n",
       "    }\n",
       "\n",
       "    .dataframe tbody tr th {\n",
       "        vertical-align: top;\n",
       "    }\n",
       "\n",
       "    .dataframe thead th {\n",
       "        text-align: right;\n",
       "    }\n",
       "</style>\n",
       "<table border=\"1\" class=\"dataframe\">\n",
       "  <thead>\n",
       "    <tr style=\"text-align: right;\">\n",
       "      <th></th>\n",
       "      <th>Name</th>\n",
       "      <th>Shot Power</th>\n",
       "    </tr>\n",
       "  </thead>\n",
       "  <tbody>\n",
       "    <tr>\n",
       "      <th>271</th>\n",
       "      <td>A. Kolarov</td>\n",
       "      <td>95</td>\n",
       "    </tr>\n",
       "    <tr>\n",
       "      <th>470</th>\n",
       "      <td>Hulk</td>\n",
       "      <td>94</td>\n",
       "    </tr>\n",
       "    <tr>\n",
       "      <th>1</th>\n",
       "      <td>Cristiano Ronaldo</td>\n",
       "      <td>94</td>\n",
       "    </tr>\n",
       "    <tr>\n",
       "      <th>105</th>\n",
       "      <td>E. Haaland</td>\n",
       "      <td>93</td>\n",
       "    </tr>\n",
       "    <tr>\n",
       "      <th>23</th>\n",
       "      <td>H. Kane</td>\n",
       "      <td>91</td>\n",
       "    </tr>\n",
       "    <tr>\n",
       "      <th>3</th>\n",
       "      <td>K. De Bruyne</td>\n",
       "      <td>91</td>\n",
       "    </tr>\n",
       "    <tr>\n",
       "      <th>440</th>\n",
       "      <td>G. Xhaka</td>\n",
       "      <td>90</td>\n",
       "    </tr>\n",
       "    <tr>\n",
       "      <th>537</th>\n",
       "      <td>R. Malinovskyi</td>\n",
       "      <td>90</td>\n",
       "    </tr>\n",
       "    <tr>\n",
       "      <th>68</th>\n",
       "      <td>M. Rashford</td>\n",
       "      <td>90</td>\n",
       "    </tr>\n",
       "    <tr>\n",
       "      <th>2019</th>\n",
       "      <td>L. Podolski</td>\n",
       "      <td>90</td>\n",
       "    </tr>\n",
       "  </tbody>\n",
       "</table>\n",
       "</div>"
      ],
      "text/plain": [
       "                   Name  Shot Power\n",
       "271          A. Kolarov          95\n",
       "470                Hulk          94\n",
       "1     Cristiano Ronaldo          94\n",
       "105          E. Haaland          93\n",
       "23              H. Kane          91\n",
       "3          K. De Bruyne          91\n",
       "440            G. Xhaka          90\n",
       "537      R. Malinovskyi          90\n",
       "68          M. Rashford          90\n",
       "2019        L. Podolski          90"
      ]
     },
     "execution_count": 35,
     "metadata": {},
     "output_type": "execute_result"
    }
   ],
   "source": [
    "sho=fifa[[\"Name\",\"Shot Power\"]].sort_values(by=[\"Shot Power\"],ascending=False).head(10)\n",
    "sho"
   ]
  },
  {
   "cell_type": "code",
   "execution_count": 36,
   "id": "83915e47",
   "metadata": {
    "papermill": {
     "duration": 0.037323,
     "end_time": "2024-09-19T09:59:59.191637",
     "exception": false,
     "start_time": "2024-09-19T09:59:59.154314",
     "status": "completed"
    },
    "tags": []
   },
   "outputs": [
    {
     "data": {
      "text/html": [
       "<div>\n",
       "<style scoped>\n",
       "    .dataframe tbody tr th:only-of-type {\n",
       "        vertical-align: middle;\n",
       "    }\n",
       "\n",
       "    .dataframe tbody tr th {\n",
       "        vertical-align: top;\n",
       "    }\n",
       "\n",
       "    .dataframe thead th {\n",
       "        text-align: right;\n",
       "    }\n",
       "</style>\n",
       "<table border=\"1\" class=\"dataframe\">\n",
       "  <thead>\n",
       "    <tr style=\"text-align: right;\">\n",
       "      <th></th>\n",
       "      <th>Name</th>\n",
       "      <th>Stamina</th>\n",
       "    </tr>\n",
       "  </thead>\n",
       "  <tbody>\n",
       "    <tr>\n",
       "      <th>955</th>\n",
       "      <td>V. Darida</td>\n",
       "      <td>97</td>\n",
       "    </tr>\n",
       "    <tr>\n",
       "      <th>19</th>\n",
       "      <td>N. Kanté</td>\n",
       "      <td>96</td>\n",
       "    </tr>\n",
       "    <tr>\n",
       "      <th>32</th>\n",
       "      <td>A. Robertson</td>\n",
       "      <td>95</td>\n",
       "    </tr>\n",
       "    <tr>\n",
       "      <th>5530</th>\n",
       "      <td>H. Okuno</td>\n",
       "      <td>95</td>\n",
       "    </tr>\n",
       "    <tr>\n",
       "      <th>20</th>\n",
       "      <td>J. Kimmich</td>\n",
       "      <td>95</td>\n",
       "    </tr>\n",
       "    <tr>\n",
       "      <th>941</th>\n",
       "      <td>J. Buffarini</td>\n",
       "      <td>94</td>\n",
       "    </tr>\n",
       "    <tr>\n",
       "      <th>84</th>\n",
       "      <td>Koke</td>\n",
       "      <td>94</td>\n",
       "    </tr>\n",
       "    <tr>\n",
       "      <th>4130</th>\n",
       "      <td>C. Fuentes</td>\n",
       "      <td>94</td>\n",
       "    </tr>\n",
       "    <tr>\n",
       "      <th>2209</th>\n",
       "      <td>C. Mayada</td>\n",
       "      <td>94</td>\n",
       "    </tr>\n",
       "    <tr>\n",
       "      <th>1392</th>\n",
       "      <td>J. Mæhle</td>\n",
       "      <td>94</td>\n",
       "    </tr>\n",
       "  </tbody>\n",
       "</table>\n",
       "</div>"
      ],
      "text/plain": [
       "              Name  Stamina\n",
       "955      V. Darida       97\n",
       "19        N. Kanté       96\n",
       "32    A. Robertson       95\n",
       "5530      H. Okuno       95\n",
       "20      J. Kimmich       95\n",
       "941   J. Buffarini       94\n",
       "84            Koke       94\n",
       "4130    C. Fuentes       94\n",
       "2209     C. Mayada       94\n",
       "1392      J. Mæhle       94"
      ]
     },
     "execution_count": 36,
     "metadata": {},
     "output_type": "execute_result"
    }
   ],
   "source": [
    "stm=fifa[[\"Name\",\"Stamina\"]].sort_values(by=[\"Stamina\"],ascending=False).head(10)\n",
    "stm"
   ]
  },
  {
   "cell_type": "code",
   "execution_count": 37,
   "id": "adc76b41",
   "metadata": {
    "papermill": {
     "duration": 0.038617,
     "end_time": "2024-09-19T09:59:59.248345",
     "exception": false,
     "start_time": "2024-09-19T09:59:59.209728",
     "status": "completed"
    },
    "tags": []
   },
   "outputs": [
    {
     "data": {
      "text/html": [
       "<div>\n",
       "<style scoped>\n",
       "    .dataframe tbody tr th:only-of-type {\n",
       "        vertical-align: middle;\n",
       "    }\n",
       "\n",
       "    .dataframe tbody tr th {\n",
       "        vertical-align: top;\n",
       "    }\n",
       "\n",
       "    .dataframe thead th {\n",
       "        text-align: right;\n",
       "    }\n",
       "</style>\n",
       "<table border=\"1\" class=\"dataframe\">\n",
       "  <thead>\n",
       "    <tr style=\"text-align: right;\">\n",
       "      <th></th>\n",
       "      <th>Name</th>\n",
       "      <th>PAS</th>\n",
       "    </tr>\n",
       "  </thead>\n",
       "  <tbody>\n",
       "    <tr>\n",
       "      <th>3</th>\n",
       "      <td>K. De Bruyne</td>\n",
       "      <td>93</td>\n",
       "    </tr>\n",
       "    <tr>\n",
       "      <th>22</th>\n",
       "      <td>Ederson</td>\n",
       "      <td>93</td>\n",
       "    </tr>\n",
       "    <tr>\n",
       "      <th>0</th>\n",
       "      <td>L. Messi</td>\n",
       "      <td>91</td>\n",
       "    </tr>\n",
       "    <tr>\n",
       "      <th>27</th>\n",
       "      <td>T. Kroos</td>\n",
       "      <td>91</td>\n",
       "    </tr>\n",
       "    <tr>\n",
       "      <th>14</th>\n",
       "      <td>M. Neuer</td>\n",
       "      <td>91</td>\n",
       "    </tr>\n",
       "    <tr>\n",
       "      <th>2728</th>\n",
       "      <td>I. Khune</td>\n",
       "      <td>90</td>\n",
       "    </tr>\n",
       "    <tr>\n",
       "      <th>78</th>\n",
       "      <td>Parejo</td>\n",
       "      <td>90</td>\n",
       "    </tr>\n",
       "    <tr>\n",
       "      <th>44</th>\n",
       "      <td>L. Modrić</td>\n",
       "      <td>89</td>\n",
       "    </tr>\n",
       "    <tr>\n",
       "      <th>58</th>\n",
       "      <td>David Silva</td>\n",
       "      <td>88</td>\n",
       "    </tr>\n",
       "    <tr>\n",
       "      <th>9</th>\n",
       "      <td>M. ter Stegen</td>\n",
       "      <td>88</td>\n",
       "    </tr>\n",
       "  </tbody>\n",
       "</table>\n",
       "</div>"
      ],
      "text/plain": [
       "               Name  PAS\n",
       "3      K. De Bruyne   93\n",
       "22          Ederson   93\n",
       "0          L. Messi   91\n",
       "27         T. Kroos   91\n",
       "14         M. Neuer   91\n",
       "2728       I. Khune   90\n",
       "78           Parejo   90\n",
       "44        L. Modrić   89\n",
       "58      David Silva   88\n",
       "9     M. ter Stegen   88"
      ]
     },
     "execution_count": 37,
     "metadata": {},
     "output_type": "execute_result"
    }
   ],
   "source": [
    "PAS=fifa[[\"Name\",\"PAS\"]].sort_values(by=[\"PAS\"],ascending=False).head(10)\n",
    "PAS"
   ]
  },
  {
   "cell_type": "code",
   "execution_count": 38,
   "id": "db7cdad2",
   "metadata": {
    "papermill": {
     "duration": 0.042766,
     "end_time": "2024-09-19T09:59:59.309384",
     "exception": false,
     "start_time": "2024-09-19T09:59:59.266618",
     "status": "completed"
    },
    "tags": []
   },
   "outputs": [
    {
     "data": {
      "text/html": [
       "<div>\n",
       "<style scoped>\n",
       "    .dataframe tbody tr th:only-of-type {\n",
       "        vertical-align: middle;\n",
       "    }\n",
       "\n",
       "    .dataframe tbody tr th {\n",
       "        vertical-align: top;\n",
       "    }\n",
       "\n",
       "    .dataframe thead th {\n",
       "        text-align: right;\n",
       "    }\n",
       "</style>\n",
       "<table border=\"1\" class=\"dataframe\">\n",
       "  <thead>\n",
       "    <tr style=\"text-align: right;\">\n",
       "      <th></th>\n",
       "      <th>Name</th>\n",
       "      <th>Club</th>\n",
       "      <th>Age</th>\n",
       "      <th>DEF</th>\n",
       "      <th>BOV</th>\n",
       "    </tr>\n",
       "  </thead>\n",
       "  <tbody>\n",
       "    <tr>\n",
       "      <th>10</th>\n",
       "      <td>V. van Dijk</td>\n",
       "      <td>Liverpool</td>\n",
       "      <td>28</td>\n",
       "      <td>91</td>\n",
       "      <td>90</td>\n",
       "    </tr>\n",
       "    <tr>\n",
       "      <th>39</th>\n",
       "      <td>G. Chiellini</td>\n",
       "      <td>Juventus</td>\n",
       "      <td>35</td>\n",
       "      <td>90</td>\n",
       "      <td>87</td>\n",
       "    </tr>\n",
       "    <tr>\n",
       "      <th>25</th>\n",
       "      <td>K. Koulibaly</td>\n",
       "      <td>Napoli</td>\n",
       "      <td>29</td>\n",
       "      <td>89</td>\n",
       "      <td>88</td>\n",
       "    </tr>\n",
       "    <tr>\n",
       "      <th>56</th>\n",
       "      <td>M. Hummels</td>\n",
       "      <td>Borussia Dortmund</td>\n",
       "      <td>31</td>\n",
       "      <td>89</td>\n",
       "      <td>86</td>\n",
       "    </tr>\n",
       "    <tr>\n",
       "      <th>16</th>\n",
       "      <td>Sergio Ramos</td>\n",
       "      <td>Real Madrid</td>\n",
       "      <td>34</td>\n",
       "      <td>88</td>\n",
       "      <td>89</td>\n",
       "    </tr>\n",
       "    <tr>\n",
       "      <th>33</th>\n",
       "      <td>A. Laporte</td>\n",
       "      <td>Manchester City</td>\n",
       "      <td>26</td>\n",
       "      <td>88</td>\n",
       "      <td>88</td>\n",
       "    </tr>\n",
       "    <tr>\n",
       "      <th>51</th>\n",
       "      <td>R. Varane</td>\n",
       "      <td>Real Madrid</td>\n",
       "      <td>27</td>\n",
       "      <td>87</td>\n",
       "      <td>87</td>\n",
       "    </tr>\n",
       "    <tr>\n",
       "      <th>74</th>\n",
       "      <td>Marquinhos</td>\n",
       "      <td>Paris Saint-Germain</td>\n",
       "      <td>26</td>\n",
       "      <td>87</td>\n",
       "      <td>87</td>\n",
       "    </tr>\n",
       "    <tr>\n",
       "      <th>99</th>\n",
       "      <td>W. Ndidi</td>\n",
       "      <td>Leicester City</td>\n",
       "      <td>23</td>\n",
       "      <td>87</td>\n",
       "      <td>87</td>\n",
       "    </tr>\n",
       "    <tr>\n",
       "      <th>67</th>\n",
       "      <td>M. Škriniar</td>\n",
       "      <td>Inter</td>\n",
       "      <td>25</td>\n",
       "      <td>87</td>\n",
       "      <td>86</td>\n",
       "    </tr>\n",
       "  </tbody>\n",
       "</table>\n",
       "</div>"
      ],
      "text/plain": [
       "            Name                 Club  Age  DEF  BOV\n",
       "10   V. van Dijk            Liverpool   28   91   90\n",
       "39  G. Chiellini             Juventus   35   90   87\n",
       "25  K. Koulibaly               Napoli   29   89   88\n",
       "56    M. Hummels    Borussia Dortmund   31   89   86\n",
       "16  Sergio Ramos          Real Madrid   34   88   89\n",
       "33    A. Laporte      Manchester City   26   88   88\n",
       "51     R. Varane          Real Madrid   27   87   87\n",
       "74    Marquinhos  Paris Saint-Germain   26   87   87\n",
       "99      W. Ndidi       Leicester City   23   87   87\n",
       "67   M. Škriniar                Inter   25   87   86"
      ]
     },
     "execution_count": 38,
     "metadata": {},
     "output_type": "execute_result"
    }
   ],
   "source": [
    "Best_Definder=fifa[[\"Name\",\"Club\",\"Age\",\"DEF\",\"BOV\"]].sort_values(by=[\"DEF\",\"BOV\"],ascending=[False,False]).head(10)\n",
    "Best_Definder"
   ]
  },
  {
   "cell_type": "code",
   "execution_count": 39,
   "id": "d69d1fa2",
   "metadata": {
    "papermill": {
     "duration": 0.042251,
     "end_time": "2024-09-19T09:59:59.370233",
     "exception": false,
     "start_time": "2024-09-19T09:59:59.327982",
     "status": "completed"
    },
    "tags": []
   },
   "outputs": [
    {
     "data": {
      "text/html": [
       "<div>\n",
       "<style scoped>\n",
       "    .dataframe tbody tr th:only-of-type {\n",
       "        vertical-align: middle;\n",
       "    }\n",
       "\n",
       "    .dataframe tbody tr th {\n",
       "        vertical-align: top;\n",
       "    }\n",
       "\n",
       "    .dataframe thead th {\n",
       "        text-align: right;\n",
       "    }\n",
       "</style>\n",
       "<table border=\"1\" class=\"dataframe\">\n",
       "  <thead>\n",
       "    <tr style=\"text-align: right;\">\n",
       "      <th></th>\n",
       "      <th>Name</th>\n",
       "      <th>Club</th>\n",
       "      <th>Age</th>\n",
       "      <th>PHY</th>\n",
       "    </tr>\n",
       "  </thead>\n",
       "  <tbody>\n",
       "    <tr>\n",
       "      <th>4122</th>\n",
       "      <td>A. Méndez</td>\n",
       "      <td>Nacional de Montevideo</td>\n",
       "      <td>24</td>\n",
       "      <td>91</td>\n",
       "    </tr>\n",
       "    <tr>\n",
       "      <th>262</th>\n",
       "      <td>G. Buffon</td>\n",
       "      <td>Juventus</td>\n",
       "      <td>42</td>\n",
       "      <td>91</td>\n",
       "    </tr>\n",
       "    <tr>\n",
       "      <th>12</th>\n",
       "      <td>Casemiro</td>\n",
       "      <td>Real Madrid</td>\n",
       "      <td>28</td>\n",
       "      <td>91</td>\n",
       "    </tr>\n",
       "    <tr>\n",
       "      <th>7</th>\n",
       "      <td>Alisson</td>\n",
       "      <td>Liverpool</td>\n",
       "      <td>27</td>\n",
       "      <td>91</td>\n",
       "    </tr>\n",
       "    <tr>\n",
       "      <th>2</th>\n",
       "      <td>J. Oblak</td>\n",
       "      <td>Atlético Madrid</td>\n",
       "      <td>27</td>\n",
       "      <td>90</td>\n",
       "    </tr>\n",
       "    <tr>\n",
       "      <th>551</th>\n",
       "      <td>M. Marega</td>\n",
       "      <td>FC Porto</td>\n",
       "      <td>29</td>\n",
       "      <td>90</td>\n",
       "    </tr>\n",
       "    <tr>\n",
       "      <th>527</th>\n",
       "      <td>D. Dumfries</td>\n",
       "      <td>PSV</td>\n",
       "      <td>24</td>\n",
       "      <td>89</td>\n",
       "    </tr>\n",
       "    <tr>\n",
       "      <th>4139</th>\n",
       "      <td>Garrido</td>\n",
       "      <td>Cádiz CF</td>\n",
       "      <td>30</td>\n",
       "      <td>89</td>\n",
       "    </tr>\n",
       "    <tr>\n",
       "      <th>659</th>\n",
       "      <td>M. Sissoko</td>\n",
       "      <td>Tottenham Hotspur</td>\n",
       "      <td>30</td>\n",
       "      <td>89</td>\n",
       "    </tr>\n",
       "    <tr>\n",
       "      <th>24</th>\n",
       "      <td>S. Handanovič</td>\n",
       "      <td>Inter</td>\n",
       "      <td>35</td>\n",
       "      <td>89</td>\n",
       "    </tr>\n",
       "  </tbody>\n",
       "</table>\n",
       "</div>"
      ],
      "text/plain": [
       "               Name                    Club  Age  PHY\n",
       "4122      A. Méndez  Nacional de Montevideo   24   91\n",
       "262       G. Buffon                Juventus   42   91\n",
       "12         Casemiro             Real Madrid   28   91\n",
       "7           Alisson               Liverpool   27   91\n",
       "2          J. Oblak         Atlético Madrid   27   90\n",
       "551       M. Marega                FC Porto   29   90\n",
       "527     D. Dumfries                     PSV   24   89\n",
       "4139        Garrido                Cádiz CF   30   89\n",
       "659      M. Sissoko       Tottenham Hotspur   30   89\n",
       "24    S. Handanovič                   Inter   35   89"
      ]
     },
     "execution_count": 39,
     "metadata": {},
     "output_type": "execute_result"
    }
   ],
   "source": [
    "PH=fifa[[\"Name\",\"Club\",\"Age\",\"PHY\"]].sort_values(by=[\"PHY\"],ascending=False).head(10)\n",
    "PH"
   ]
  },
  {
   "cell_type": "code",
   "execution_count": 40,
   "id": "ab779633",
   "metadata": {
    "papermill": {
     "duration": 0.041662,
     "end_time": "2024-09-19T09:59:59.431151",
     "exception": false,
     "start_time": "2024-09-19T09:59:59.389489",
     "status": "completed"
    },
    "tags": []
   },
   "outputs": [
    {
     "data": {
      "text/html": [
       "<div>\n",
       "<style scoped>\n",
       "    .dataframe tbody tr th:only-of-type {\n",
       "        vertical-align: middle;\n",
       "    }\n",
       "\n",
       "    .dataframe tbody tr th {\n",
       "        vertical-align: top;\n",
       "    }\n",
       "\n",
       "    .dataframe thead th {\n",
       "        text-align: right;\n",
       "    }\n",
       "</style>\n",
       "<table border=\"1\" class=\"dataframe\">\n",
       "  <thead>\n",
       "    <tr style=\"text-align: right;\">\n",
       "      <th></th>\n",
       "      <th>Name</th>\n",
       "      <th>Club</th>\n",
       "      <th>Age</th>\n",
       "      <th>Jumping</th>\n",
       "    </tr>\n",
       "  </thead>\n",
       "  <tbody>\n",
       "    <tr>\n",
       "      <th>1</th>\n",
       "      <td>Cristiano Ronaldo</td>\n",
       "      <td>Juventus</td>\n",
       "      <td>35</td>\n",
       "      <td>95</td>\n",
       "    </tr>\n",
       "    <tr>\n",
       "      <th>1074</th>\n",
       "      <td>K. Diatta</td>\n",
       "      <td>Club Brugge KV</td>\n",
       "      <td>21</td>\n",
       "      <td>94</td>\n",
       "    </tr>\n",
       "    <tr>\n",
       "      <th>1368</th>\n",
       "      <td>E. Dennis</td>\n",
       "      <td>Club Brugge KV</td>\n",
       "      <td>22</td>\n",
       "      <td>94</td>\n",
       "    </tr>\n",
       "    <tr>\n",
       "      <th>4029</th>\n",
       "      <td>M. Barbieri</td>\n",
       "      <td>Club Tijuana</td>\n",
       "      <td>26</td>\n",
       "      <td>94</td>\n",
       "    </tr>\n",
       "    <tr>\n",
       "      <th>11684</th>\n",
       "      <td>M. Saito</td>\n",
       "      <td>Shonan Bellmare</td>\n",
       "      <td>21</td>\n",
       "      <td>94</td>\n",
       "    </tr>\n",
       "    <tr>\n",
       "      <th>5826</th>\n",
       "      <td>E. Sabbi</td>\n",
       "      <td>Odense Boldklub</td>\n",
       "      <td>22</td>\n",
       "      <td>94</td>\n",
       "    </tr>\n",
       "    <tr>\n",
       "      <th>7094</th>\n",
       "      <td>T. Hasegawa</td>\n",
       "      <td>Kawasaki Frontale</td>\n",
       "      <td>26</td>\n",
       "      <td>94</td>\n",
       "    </tr>\n",
       "    <tr>\n",
       "      <th>1258</th>\n",
       "      <td>Aurélio Buta</td>\n",
       "      <td>Royal Antwerp FC</td>\n",
       "      <td>23</td>\n",
       "      <td>93</td>\n",
       "    </tr>\n",
       "    <tr>\n",
       "      <th>2047</th>\n",
       "      <td>S. Long</td>\n",
       "      <td>Southampton</td>\n",
       "      <td>33</td>\n",
       "      <td>93</td>\n",
       "    </tr>\n",
       "    <tr>\n",
       "      <th>5444</th>\n",
       "      <td>Y. Yoshida</td>\n",
       "      <td>Nagoya Grampus</td>\n",
       "      <td>30</td>\n",
       "      <td>93</td>\n",
       "    </tr>\n",
       "  </tbody>\n",
       "</table>\n",
       "</div>"
      ],
      "text/plain": [
       "                    Name               Club  Age  Jumping\n",
       "1      Cristiano Ronaldo           Juventus   35       95\n",
       "1074           K. Diatta     Club Brugge KV   21       94\n",
       "1368           E. Dennis     Club Brugge KV   22       94\n",
       "4029         M. Barbieri       Club Tijuana   26       94\n",
       "11684           M. Saito    Shonan Bellmare   21       94\n",
       "5826            E. Sabbi    Odense Boldklub   22       94\n",
       "7094         T. Hasegawa  Kawasaki Frontale   26       94\n",
       "1258        Aurélio Buta   Royal Antwerp FC   23       93\n",
       "2047             S. Long        Southampton   33       93\n",
       "5444          Y. Yoshida     Nagoya Grampus   30       93"
      ]
     },
     "execution_count": 40,
     "metadata": {},
     "output_type": "execute_result"
    }
   ],
   "source": [
    "JG=fifa[[\"Name\",\"Club\",\"Age\",\"Jumping\"]].sort_values(by=[\"Jumping\"],ascending=False).head(10)\n",
    "JG"
   ]
  },
  {
   "cell_type": "markdown",
   "id": "965c3127",
   "metadata": {
    "papermill": {
     "duration": 0.0186,
     "end_time": "2024-09-19T09:59:59.468513",
     "exception": false,
     "start_time": "2024-09-19T09:59:59.449913",
     "status": "completed"
    },
    "tags": []
   },
   "source": [
    "# Barcelona Team Player"
   ]
  },
  {
   "cell_type": "code",
   "execution_count": 41,
   "id": "86111388",
   "metadata": {
    "papermill": {
     "duration": 0.059138,
     "end_time": "2024-09-19T09:59:59.547005",
     "exception": false,
     "start_time": "2024-09-19T09:59:59.487867",
     "status": "completed"
    },
    "tags": []
   },
   "outputs": [
    {
     "data": {
      "text/html": [
       "<div>\n",
       "<style scoped>\n",
       "    .dataframe tbody tr th:only-of-type {\n",
       "        vertical-align: middle;\n",
       "    }\n",
       "\n",
       "    .dataframe tbody tr th {\n",
       "        vertical-align: top;\n",
       "    }\n",
       "\n",
       "    .dataframe thead th {\n",
       "        text-align: right;\n",
       "    }\n",
       "</style>\n",
       "<table border=\"1\" class=\"dataframe\">\n",
       "  <thead>\n",
       "    <tr style=\"text-align: right;\">\n",
       "      <th></th>\n",
       "      <th>Name</th>\n",
       "      <th>LongName</th>\n",
       "      <th>Nationality</th>\n",
       "      <th>Age</th>\n",
       "      <th>OVA</th>\n",
       "      <th>Club</th>\n",
       "      <th>Positions</th>\n",
       "      <th>Height</th>\n",
       "      <th>Weight</th>\n",
       "      <th>Preferred Foot</th>\n",
       "      <th>...</th>\n",
       "      <th>SM</th>\n",
       "      <th>A/W</th>\n",
       "      <th>D/W</th>\n",
       "      <th>IR</th>\n",
       "      <th>PAC</th>\n",
       "      <th>SHO</th>\n",
       "      <th>PAS</th>\n",
       "      <th>DRI</th>\n",
       "      <th>DEF</th>\n",
       "      <th>PHY</th>\n",
       "    </tr>\n",
       "  </thead>\n",
       "  <tbody>\n",
       "    <tr>\n",
       "      <th>0</th>\n",
       "      <td>L. Messi</td>\n",
       "      <td>Lionel Messi</td>\n",
       "      <td>Argentina</td>\n",
       "      <td>33</td>\n",
       "      <td>93</td>\n",
       "      <td>FC Barcelona</td>\n",
       "      <td>RW, ST, CF</td>\n",
       "      <td>170cm</td>\n",
       "      <td>72kg</td>\n",
       "      <td>Left</td>\n",
       "      <td>...</td>\n",
       "      <td>4</td>\n",
       "      <td>Medium</td>\n",
       "      <td>Low</td>\n",
       "      <td>5</td>\n",
       "      <td>85</td>\n",
       "      <td>92</td>\n",
       "      <td>91</td>\n",
       "      <td>95</td>\n",
       "      <td>38</td>\n",
       "      <td>65</td>\n",
       "    </tr>\n",
       "    <tr>\n",
       "      <th>9</th>\n",
       "      <td>M. ter Stegen</td>\n",
       "      <td>Marc-André ter Stegen</td>\n",
       "      <td>Germany</td>\n",
       "      <td>28</td>\n",
       "      <td>90</td>\n",
       "      <td>FC Barcelona</td>\n",
       "      <td>GK</td>\n",
       "      <td>187cm</td>\n",
       "      <td>85kg</td>\n",
       "      <td>Right</td>\n",
       "      <td>...</td>\n",
       "      <td>1</td>\n",
       "      <td>Medium</td>\n",
       "      <td>Medium</td>\n",
       "      <td>3</td>\n",
       "      <td>88</td>\n",
       "      <td>85</td>\n",
       "      <td>88</td>\n",
       "      <td>90</td>\n",
       "      <td>45</td>\n",
       "      <td>88</td>\n",
       "    </tr>\n",
       "    <tr>\n",
       "      <th>28</th>\n",
       "      <td>A. Griezmann</td>\n",
       "      <td>Antoine Griezmann</td>\n",
       "      <td>France</td>\n",
       "      <td>29</td>\n",
       "      <td>87</td>\n",
       "      <td>FC Barcelona</td>\n",
       "      <td>ST, CF, LW</td>\n",
       "      <td>176cm</td>\n",
       "      <td>73kg</td>\n",
       "      <td>Left</td>\n",
       "      <td>...</td>\n",
       "      <td>4</td>\n",
       "      <td>Medium</td>\n",
       "      <td>Medium</td>\n",
       "      <td>4</td>\n",
       "      <td>79</td>\n",
       "      <td>85</td>\n",
       "      <td>84</td>\n",
       "      <td>88</td>\n",
       "      <td>57</td>\n",
       "      <td>72</td>\n",
       "    </tr>\n",
       "    <tr>\n",
       "      <th>40</th>\n",
       "      <td>Sergio Busquets</td>\n",
       "      <td>Sergio Busquets Burgos</td>\n",
       "      <td>Spain</td>\n",
       "      <td>31</td>\n",
       "      <td>87</td>\n",
       "      <td>FC Barcelona</td>\n",
       "      <td>CDM, CM</td>\n",
       "      <td>189cm</td>\n",
       "      <td>76kg</td>\n",
       "      <td>Right</td>\n",
       "      <td>...</td>\n",
       "      <td>3</td>\n",
       "      <td>Medium</td>\n",
       "      <td>Medium</td>\n",
       "      <td>4</td>\n",
       "      <td>42</td>\n",
       "      <td>62</td>\n",
       "      <td>80</td>\n",
       "      <td>80</td>\n",
       "      <td>83</td>\n",
       "      <td>77</td>\n",
       "    </tr>\n",
       "    <tr>\n",
       "      <th>55</th>\n",
       "      <td>Piqué</td>\n",
       "      <td>Gerard Piqué Bernabeu</td>\n",
       "      <td>Spain</td>\n",
       "      <td>33</td>\n",
       "      <td>86</td>\n",
       "      <td>FC Barcelona</td>\n",
       "      <td>CB</td>\n",
       "      <td>194cm</td>\n",
       "      <td>85kg</td>\n",
       "      <td>Right</td>\n",
       "      <td>...</td>\n",
       "      <td>2</td>\n",
       "      <td>High</td>\n",
       "      <td>Medium</td>\n",
       "      <td>4</td>\n",
       "      <td>57</td>\n",
       "      <td>61</td>\n",
       "      <td>71</td>\n",
       "      <td>67</td>\n",
       "      <td>86</td>\n",
       "      <td>80</td>\n",
       "    </tr>\n",
       "    <tr>\n",
       "      <th>60</th>\n",
       "      <td>Jordi Alba</td>\n",
       "      <td>Jordi Alba Ramos</td>\n",
       "      <td>Spain</td>\n",
       "      <td>31</td>\n",
       "      <td>86</td>\n",
       "      <td>FC Barcelona</td>\n",
       "      <td>LB</td>\n",
       "      <td>170cm</td>\n",
       "      <td>68kg</td>\n",
       "      <td>Left</td>\n",
       "      <td>...</td>\n",
       "      <td>3</td>\n",
       "      <td>High</td>\n",
       "      <td>Medium</td>\n",
       "      <td>3</td>\n",
       "      <td>88</td>\n",
       "      <td>69</td>\n",
       "      <td>81</td>\n",
       "      <td>83</td>\n",
       "      <td>78</td>\n",
       "      <td>72</td>\n",
       "    </tr>\n",
       "    <tr>\n",
       "      <th>73</th>\n",
       "      <td>C. Lenglet</td>\n",
       "      <td>Clément Lenglet</td>\n",
       "      <td>France</td>\n",
       "      <td>25</td>\n",
       "      <td>85</td>\n",
       "      <td>FC Barcelona</td>\n",
       "      <td>CB</td>\n",
       "      <td>186cm</td>\n",
       "      <td>81kg</td>\n",
       "      <td>Left</td>\n",
       "      <td>...</td>\n",
       "      <td>2</td>\n",
       "      <td>Medium</td>\n",
       "      <td>High</td>\n",
       "      <td>2</td>\n",
       "      <td>74</td>\n",
       "      <td>45</td>\n",
       "      <td>67</td>\n",
       "      <td>65</td>\n",
       "      <td>87</td>\n",
       "      <td>81</td>\n",
       "    </tr>\n",
       "    <tr>\n",
       "      <th>80</th>\n",
       "      <td>F. de Jong</td>\n",
       "      <td>Frenkie de Jong</td>\n",
       "      <td>Netherlands</td>\n",
       "      <td>23</td>\n",
       "      <td>85</td>\n",
       "      <td>FC Barcelona</td>\n",
       "      <td>CM</td>\n",
       "      <td>180cm</td>\n",
       "      <td>74kg</td>\n",
       "      <td>Right</td>\n",
       "      <td>...</td>\n",
       "      <td>4</td>\n",
       "      <td>Medium</td>\n",
       "      <td>High</td>\n",
       "      <td>3</td>\n",
       "      <td>80</td>\n",
       "      <td>64</td>\n",
       "      <td>84</td>\n",
       "      <td>87</td>\n",
       "      <td>76</td>\n",
       "      <td>77</td>\n",
       "    </tr>\n",
       "    <tr>\n",
       "      <th>97</th>\n",
       "      <td>M. Pjanić</td>\n",
       "      <td>Miralem Pjanić</td>\n",
       "      <td>Bosnia Herzegovina</td>\n",
       "      <td>30</td>\n",
       "      <td>85</td>\n",
       "      <td>FC Barcelona</td>\n",
       "      <td>CM</td>\n",
       "      <td>178cm</td>\n",
       "      <td>72kg</td>\n",
       "      <td>Right</td>\n",
       "      <td>...</td>\n",
       "      <td>3</td>\n",
       "      <td>Medium</td>\n",
       "      <td>Medium</td>\n",
       "      <td>3</td>\n",
       "      <td>67</td>\n",
       "      <td>68</td>\n",
       "      <td>87</td>\n",
       "      <td>85</td>\n",
       "      <td>75</td>\n",
       "      <td>67</td>\n",
       "    </tr>\n",
       "    <tr>\n",
       "      <th>144</th>\n",
       "      <td>O. Dembélé</td>\n",
       "      <td>Ousmane Dembélé</td>\n",
       "      <td>France</td>\n",
       "      <td>23</td>\n",
       "      <td>83</td>\n",
       "      <td>FC Barcelona</td>\n",
       "      <td>LW, RW</td>\n",
       "      <td>178cm</td>\n",
       "      <td>67kg</td>\n",
       "      <td>Left</td>\n",
       "      <td>...</td>\n",
       "      <td>5</td>\n",
       "      <td>High</td>\n",
       "      <td>Medium</td>\n",
       "      <td>3</td>\n",
       "      <td>92</td>\n",
       "      <td>77</td>\n",
       "      <td>77</td>\n",
       "      <td>87</td>\n",
       "      <td>36</td>\n",
       "      <td>56</td>\n",
       "    </tr>\n",
       "    <tr>\n",
       "      <th>171</th>\n",
       "      <td>S. Umtiti</td>\n",
       "      <td>Samuel Umtiti</td>\n",
       "      <td>France</td>\n",
       "      <td>26</td>\n",
       "      <td>83</td>\n",
       "      <td>FC Barcelona</td>\n",
       "      <td>CB</td>\n",
       "      <td>182cm</td>\n",
       "      <td>75kg</td>\n",
       "      <td>Left</td>\n",
       "      <td>...</td>\n",
       "      <td>2</td>\n",
       "      <td>Medium</td>\n",
       "      <td>Medium</td>\n",
       "      <td>3</td>\n",
       "      <td>66</td>\n",
       "      <td>62</td>\n",
       "      <td>69</td>\n",
       "      <td>69</td>\n",
       "      <td>83</td>\n",
       "      <td>79</td>\n",
       "    </tr>\n",
       "    <tr>\n",
       "      <th>182</th>\n",
       "      <td>Sergi Roberto</td>\n",
       "      <td>Sergio Roberto Carnicer</td>\n",
       "      <td>Spain</td>\n",
       "      <td>28</td>\n",
       "      <td>83</td>\n",
       "      <td>FC Barcelona</td>\n",
       "      <td>RB, CM</td>\n",
       "      <td>178cm</td>\n",
       "      <td>68kg</td>\n",
       "      <td>Right</td>\n",
       "      <td>...</td>\n",
       "      <td>4</td>\n",
       "      <td>Medium</td>\n",
       "      <td>Medium</td>\n",
       "      <td>3</td>\n",
       "      <td>77</td>\n",
       "      <td>63</td>\n",
       "      <td>81</td>\n",
       "      <td>78</td>\n",
       "      <td>77</td>\n",
       "      <td>73</td>\n",
       "    </tr>\n",
       "    <tr>\n",
       "      <th>192</th>\n",
       "      <td>Coutinho</td>\n",
       "      <td>Philippe Coutinho Correia</td>\n",
       "      <td>Brazil</td>\n",
       "      <td>28</td>\n",
       "      <td>83</td>\n",
       "      <td>FC Barcelona</td>\n",
       "      <td>CAM, LW, CM</td>\n",
       "      <td>172cm</td>\n",
       "      <td>68kg</td>\n",
       "      <td>Right</td>\n",
       "      <td>...</td>\n",
       "      <td>5</td>\n",
       "      <td>High</td>\n",
       "      <td>Medium</td>\n",
       "      <td>4</td>\n",
       "      <td>72</td>\n",
       "      <td>79</td>\n",
       "      <td>82</td>\n",
       "      <td>89</td>\n",
       "      <td>52</td>\n",
       "      <td>59</td>\n",
       "    </tr>\n",
       "    <tr>\n",
       "      <th>250</th>\n",
       "      <td>Neto</td>\n",
       "      <td>Norberto Murara Neto</td>\n",
       "      <td>Brazil</td>\n",
       "      <td>30</td>\n",
       "      <td>82</td>\n",
       "      <td>FC Barcelona</td>\n",
       "      <td>GK</td>\n",
       "      <td>190cm</td>\n",
       "      <td>84kg</td>\n",
       "      <td>Right</td>\n",
       "      <td>...</td>\n",
       "      <td>1</td>\n",
       "      <td>Medium</td>\n",
       "      <td>Medium</td>\n",
       "      <td>2</td>\n",
       "      <td>84</td>\n",
       "      <td>79</td>\n",
       "      <td>78</td>\n",
       "      <td>80</td>\n",
       "      <td>54</td>\n",
       "      <td>79</td>\n",
       "    </tr>\n",
       "    <tr>\n",
       "      <th>518</th>\n",
       "      <td>Junior Firpo</td>\n",
       "      <td>Héctor Junior Firpo Adamés</td>\n",
       "      <td>Spain</td>\n",
       "      <td>23</td>\n",
       "      <td>79</td>\n",
       "      <td>FC Barcelona</td>\n",
       "      <td>LB, LM</td>\n",
       "      <td>184cm</td>\n",
       "      <td>78kg</td>\n",
       "      <td>Left</td>\n",
       "      <td>...</td>\n",
       "      <td>3</td>\n",
       "      <td>Medium</td>\n",
       "      <td>Medium</td>\n",
       "      <td>1</td>\n",
       "      <td>83</td>\n",
       "      <td>64</td>\n",
       "      <td>71</td>\n",
       "      <td>73</td>\n",
       "      <td>75</td>\n",
       "      <td>76</td>\n",
       "    </tr>\n",
       "    <tr>\n",
       "      <th>690</th>\n",
       "      <td>Trincão</td>\n",
       "      <td>Francisco Mota Castro Trincão</td>\n",
       "      <td>Portugal</td>\n",
       "      <td>20</td>\n",
       "      <td>78</td>\n",
       "      <td>FC Barcelona</td>\n",
       "      <td>RW, LW, CAM</td>\n",
       "      <td>183cm</td>\n",
       "      <td>77kg</td>\n",
       "      <td>Left</td>\n",
       "      <td>...</td>\n",
       "      <td>4</td>\n",
       "      <td>Medium</td>\n",
       "      <td>Medium</td>\n",
       "      <td>1</td>\n",
       "      <td>79</td>\n",
       "      <td>73</td>\n",
       "      <td>71</td>\n",
       "      <td>83</td>\n",
       "      <td>37</td>\n",
       "      <td>69</td>\n",
       "    </tr>\n",
       "    <tr>\n",
       "      <th>1237</th>\n",
       "      <td>M. Braithwaite</td>\n",
       "      <td>Martin Braithwaite</td>\n",
       "      <td>Denmark</td>\n",
       "      <td>29</td>\n",
       "      <td>76</td>\n",
       "      <td>FC Barcelona</td>\n",
       "      <td>ST, LM</td>\n",
       "      <td>177cm</td>\n",
       "      <td>73kg</td>\n",
       "      <td>Right</td>\n",
       "      <td>...</td>\n",
       "      <td>4</td>\n",
       "      <td>Medium</td>\n",
       "      <td>High</td>\n",
       "      <td>2</td>\n",
       "      <td>80</td>\n",
       "      <td>75</td>\n",
       "      <td>70</td>\n",
       "      <td>77</td>\n",
       "      <td>35</td>\n",
       "      <td>74</td>\n",
       "    </tr>\n",
       "    <tr>\n",
       "      <th>1265</th>\n",
       "      <td>Ansu Fati</td>\n",
       "      <td>Anssumane Fati</td>\n",
       "      <td>Spain</td>\n",
       "      <td>17</td>\n",
       "      <td>76</td>\n",
       "      <td>FC Barcelona</td>\n",
       "      <td>LW</td>\n",
       "      <td>178cm</td>\n",
       "      <td>66kg</td>\n",
       "      <td>Right</td>\n",
       "      <td>...</td>\n",
       "      <td>4</td>\n",
       "      <td>High</td>\n",
       "      <td>Medium</td>\n",
       "      <td>1</td>\n",
       "      <td>88</td>\n",
       "      <td>71</td>\n",
       "      <td>68</td>\n",
       "      <td>79</td>\n",
       "      <td>29</td>\n",
       "      <td>53</td>\n",
       "    </tr>\n",
       "    <tr>\n",
       "      <th>1761</th>\n",
       "      <td>Riqui Puig</td>\n",
       "      <td>Ricard Puig Martí</td>\n",
       "      <td>Spain</td>\n",
       "      <td>20</td>\n",
       "      <td>75</td>\n",
       "      <td>FC Barcelona</td>\n",
       "      <td>CM, CAM</td>\n",
       "      <td>169cm</td>\n",
       "      <td>56kg</td>\n",
       "      <td>Right</td>\n",
       "      <td>...</td>\n",
       "      <td>3</td>\n",
       "      <td>High</td>\n",
       "      <td>Medium</td>\n",
       "      <td>1</td>\n",
       "      <td>68</td>\n",
       "      <td>59</td>\n",
       "      <td>75</td>\n",
       "      <td>81</td>\n",
       "      <td>56</td>\n",
       "      <td>63</td>\n",
       "    </tr>\n",
       "    <tr>\n",
       "      <th>1818</th>\n",
       "      <td>S. Dest</td>\n",
       "      <td>Sergiño Dest</td>\n",
       "      <td>United States</td>\n",
       "      <td>19</td>\n",
       "      <td>75</td>\n",
       "      <td>FC Barcelona</td>\n",
       "      <td>RB</td>\n",
       "      <td>175cm</td>\n",
       "      <td>62kg</td>\n",
       "      <td>Right</td>\n",
       "      <td>...</td>\n",
       "      <td>4</td>\n",
       "      <td>High</td>\n",
       "      <td>Low</td>\n",
       "      <td>1</td>\n",
       "      <td>87</td>\n",
       "      <td>58</td>\n",
       "      <td>71</td>\n",
       "      <td>79</td>\n",
       "      <td>67</td>\n",
       "      <td>64</td>\n",
       "    </tr>\n",
       "    <tr>\n",
       "      <th>2310</th>\n",
       "      <td>Aleñá</td>\n",
       "      <td>Carles Aleñá Castillo</td>\n",
       "      <td>Spain</td>\n",
       "      <td>22</td>\n",
       "      <td>74</td>\n",
       "      <td>FC Barcelona</td>\n",
       "      <td>CM, RM</td>\n",
       "      <td>180cm</td>\n",
       "      <td>73kg</td>\n",
       "      <td>Left</td>\n",
       "      <td>...</td>\n",
       "      <td>4</td>\n",
       "      <td>Medium</td>\n",
       "      <td>Medium</td>\n",
       "      <td>1</td>\n",
       "      <td>71</td>\n",
       "      <td>67</td>\n",
       "      <td>73</td>\n",
       "      <td>74</td>\n",
       "      <td>60</td>\n",
       "      <td>62</td>\n",
       "    </tr>\n",
       "    <tr>\n",
       "      <th>3791</th>\n",
       "      <td>Pedri</td>\n",
       "      <td>Pedro González López</td>\n",
       "      <td>Spain</td>\n",
       "      <td>17</td>\n",
       "      <td>72</td>\n",
       "      <td>FC Barcelona</td>\n",
       "      <td>LM, CAM, CM</td>\n",
       "      <td>174cm</td>\n",
       "      <td>61kg</td>\n",
       "      <td>Right</td>\n",
       "      <td>...</td>\n",
       "      <td>4</td>\n",
       "      <td>High</td>\n",
       "      <td>Medium</td>\n",
       "      <td>1</td>\n",
       "      <td>80</td>\n",
       "      <td>61</td>\n",
       "      <td>71</td>\n",
       "      <td>76</td>\n",
       "      <td>46</td>\n",
       "      <td>52</td>\n",
       "    </tr>\n",
       "    <tr>\n",
       "      <th>6038</th>\n",
       "      <td>Matheus Fernandes</td>\n",
       "      <td>Matheus Fernandes Siqueira</td>\n",
       "      <td>Brazil</td>\n",
       "      <td>22</td>\n",
       "      <td>69</td>\n",
       "      <td>FC Barcelona</td>\n",
       "      <td>CM</td>\n",
       "      <td>183cm</td>\n",
       "      <td>71kg</td>\n",
       "      <td>Right</td>\n",
       "      <td>...</td>\n",
       "      <td>3</td>\n",
       "      <td>Medium</td>\n",
       "      <td>Medium</td>\n",
       "      <td>1</td>\n",
       "      <td>67</td>\n",
       "      <td>60</td>\n",
       "      <td>64</td>\n",
       "      <td>73</td>\n",
       "      <td>66</td>\n",
       "      <td>73</td>\n",
       "    </tr>\n",
       "    <tr>\n",
       "      <th>6153</th>\n",
       "      <td>Matheus Pereira</td>\n",
       "      <td>Matheus Pereira da Silva</td>\n",
       "      <td>Brazil</td>\n",
       "      <td>22</td>\n",
       "      <td>69</td>\n",
       "      <td>FC Barcelona</td>\n",
       "      <td>CAM, RM</td>\n",
       "      <td>181cm</td>\n",
       "      <td>68kg</td>\n",
       "      <td>Left</td>\n",
       "      <td>...</td>\n",
       "      <td>4</td>\n",
       "      <td>Medium</td>\n",
       "      <td>Medium</td>\n",
       "      <td>1</td>\n",
       "      <td>69</td>\n",
       "      <td>60</td>\n",
       "      <td>65</td>\n",
       "      <td>75</td>\n",
       "      <td>35</td>\n",
       "      <td>58</td>\n",
       "    </tr>\n",
       "    <tr>\n",
       "      <th>6258</th>\n",
       "      <td>R. Araujo</td>\n",
       "      <td>Ronald Araujo</td>\n",
       "      <td>Uruguay</td>\n",
       "      <td>21</td>\n",
       "      <td>69</td>\n",
       "      <td>FC Barcelona</td>\n",
       "      <td>CB</td>\n",
       "      <td>188cm</td>\n",
       "      <td>79kg</td>\n",
       "      <td>Right</td>\n",
       "      <td>...</td>\n",
       "      <td>2</td>\n",
       "      <td>Medium</td>\n",
       "      <td>Medium</td>\n",
       "      <td>1</td>\n",
       "      <td>62</td>\n",
       "      <td>30</td>\n",
       "      <td>51</td>\n",
       "      <td>49</td>\n",
       "      <td>68</td>\n",
       "      <td>70</td>\n",
       "    </tr>\n",
       "    <tr>\n",
       "      <th>6871</th>\n",
       "      <td>R. Manaj</td>\n",
       "      <td>Rey Manaj</td>\n",
       "      <td>Albania</td>\n",
       "      <td>23</td>\n",
       "      <td>68</td>\n",
       "      <td>FC Barcelona</td>\n",
       "      <td>ST</td>\n",
       "      <td>182cm</td>\n",
       "      <td>76kg</td>\n",
       "      <td>Right</td>\n",
       "      <td>...</td>\n",
       "      <td>3</td>\n",
       "      <td>Medium</td>\n",
       "      <td>Medium</td>\n",
       "      <td>1</td>\n",
       "      <td>69</td>\n",
       "      <td>66</td>\n",
       "      <td>53</td>\n",
       "      <td>66</td>\n",
       "      <td>29</td>\n",
       "      <td>69</td>\n",
       "    </tr>\n",
       "    <tr>\n",
       "      <th>7326</th>\n",
       "      <td>H. Abe</td>\n",
       "      <td>Hiroki Abe</td>\n",
       "      <td>Japan</td>\n",
       "      <td>21</td>\n",
       "      <td>68</td>\n",
       "      <td>FC Barcelona</td>\n",
       "      <td>LW, LM</td>\n",
       "      <td>171cm</td>\n",
       "      <td>65kg</td>\n",
       "      <td>Right</td>\n",
       "      <td>...</td>\n",
       "      <td>3</td>\n",
       "      <td>Medium</td>\n",
       "      <td>Medium</td>\n",
       "      <td>1</td>\n",
       "      <td>88</td>\n",
       "      <td>61</td>\n",
       "      <td>57</td>\n",
       "      <td>73</td>\n",
       "      <td>33</td>\n",
       "      <td>58</td>\n",
       "    </tr>\n",
       "    <tr>\n",
       "      <th>7980</th>\n",
       "      <td>Oriol Busquets</td>\n",
       "      <td>Oriol Busquets Mas</td>\n",
       "      <td>Spain</td>\n",
       "      <td>21</td>\n",
       "      <td>67</td>\n",
       "      <td>FC Barcelona</td>\n",
       "      <td>CDM, CB</td>\n",
       "      <td>185cm</td>\n",
       "      <td>77kg</td>\n",
       "      <td>Right</td>\n",
       "      <td>...</td>\n",
       "      <td>3</td>\n",
       "      <td>Medium</td>\n",
       "      <td>Medium</td>\n",
       "      <td>1</td>\n",
       "      <td>50</td>\n",
       "      <td>43</td>\n",
       "      <td>63</td>\n",
       "      <td>64</td>\n",
       "      <td>64</td>\n",
       "      <td>67</td>\n",
       "    </tr>\n",
       "    <tr>\n",
       "      <th>10155</th>\n",
       "      <td>Iñaki Peña</td>\n",
       "      <td>Ignacio Peña Sotorres</td>\n",
       "      <td>Spain</td>\n",
       "      <td>21</td>\n",
       "      <td>65</td>\n",
       "      <td>FC Barcelona</td>\n",
       "      <td>GK</td>\n",
       "      <td>184cm</td>\n",
       "      <td>78kg</td>\n",
       "      <td>Right</td>\n",
       "      <td>...</td>\n",
       "      <td>1</td>\n",
       "      <td>Medium</td>\n",
       "      <td>Medium</td>\n",
       "      <td>1</td>\n",
       "      <td>66</td>\n",
       "      <td>61</td>\n",
       "      <td>66</td>\n",
       "      <td>67</td>\n",
       "      <td>30</td>\n",
       "      <td>62</td>\n",
       "    </tr>\n",
       "    <tr>\n",
       "      <th>11005</th>\n",
       "      <td>Collado</td>\n",
       "      <td>Álex Collado Gutiérrez</td>\n",
       "      <td>Spain</td>\n",
       "      <td>21</td>\n",
       "      <td>64</td>\n",
       "      <td>FC Barcelona</td>\n",
       "      <td>CM</td>\n",
       "      <td>177cm</td>\n",
       "      <td>66kg</td>\n",
       "      <td>Left</td>\n",
       "      <td>...</td>\n",
       "      <td>3</td>\n",
       "      <td>Medium</td>\n",
       "      <td>Medium</td>\n",
       "      <td>1</td>\n",
       "      <td>65</td>\n",
       "      <td>61</td>\n",
       "      <td>64</td>\n",
       "      <td>68</td>\n",
       "      <td>53</td>\n",
       "      <td>40</td>\n",
       "    </tr>\n",
       "    <tr>\n",
       "      <th>11362</th>\n",
       "      <td>A. Solano</td>\n",
       "      <td>Andrés Solano</td>\n",
       "      <td>Colombia</td>\n",
       "      <td>22</td>\n",
       "      <td>64</td>\n",
       "      <td>FC Barcelona</td>\n",
       "      <td>RB</td>\n",
       "      <td>176cm</td>\n",
       "      <td>69kg</td>\n",
       "      <td>Right</td>\n",
       "      <td>...</td>\n",
       "      <td>2</td>\n",
       "      <td>Medium</td>\n",
       "      <td>Medium</td>\n",
       "      <td>1</td>\n",
       "      <td>63</td>\n",
       "      <td>35</td>\n",
       "      <td>54</td>\n",
       "      <td>62</td>\n",
       "      <td>61</td>\n",
       "      <td>56</td>\n",
       "    </tr>\n",
       "    <tr>\n",
       "      <th>11868</th>\n",
       "      <td>J. Zeballos</td>\n",
       "      <td>Joaquín Zeballos</td>\n",
       "      <td>Uruguay</td>\n",
       "      <td>23</td>\n",
       "      <td>64</td>\n",
       "      <td>FC Barcelona</td>\n",
       "      <td>ST</td>\n",
       "      <td>178cm</td>\n",
       "      <td>75kg</td>\n",
       "      <td>Right</td>\n",
       "      <td>...</td>\n",
       "      <td>2</td>\n",
       "      <td>Medium</td>\n",
       "      <td>Medium</td>\n",
       "      <td>1</td>\n",
       "      <td>61</td>\n",
       "      <td>67</td>\n",
       "      <td>51</td>\n",
       "      <td>61</td>\n",
       "      <td>21</td>\n",
       "      <td>52</td>\n",
       "    </tr>\n",
       "    <tr>\n",
       "      <th>11960</th>\n",
       "      <td>K. de la Fuente</td>\n",
       "      <td>Konrad de la Fuente</td>\n",
       "      <td>United States</td>\n",
       "      <td>18</td>\n",
       "      <td>63</td>\n",
       "      <td>FC Barcelona</td>\n",
       "      <td>LW, RW</td>\n",
       "      <td>170cm</td>\n",
       "      <td>63kg</td>\n",
       "      <td>Right</td>\n",
       "      <td>...</td>\n",
       "      <td>3</td>\n",
       "      <td>Medium</td>\n",
       "      <td>Medium</td>\n",
       "      <td>1</td>\n",
       "      <td>77</td>\n",
       "      <td>58</td>\n",
       "      <td>53</td>\n",
       "      <td>68</td>\n",
       "      <td>18</td>\n",
       "      <td>50</td>\n",
       "    </tr>\n",
       "  </tbody>\n",
       "</table>\n",
       "<p>33 rows × 41 columns</p>\n",
       "</div>"
      ],
      "text/plain": [
       "                    Name                       LongName         Nationality  \\\n",
       "0               L. Messi                   Lionel Messi           Argentina   \n",
       "9          M. ter Stegen          Marc-André ter Stegen             Germany   \n",
       "28          A. Griezmann              Antoine Griezmann              France   \n",
       "40       Sergio Busquets         Sergio Busquets Burgos               Spain   \n",
       "55                 Piqué          Gerard Piqué Bernabeu               Spain   \n",
       "60            Jordi Alba               Jordi Alba Ramos               Spain   \n",
       "73            C. Lenglet                Clément Lenglet              France   \n",
       "80            F. de Jong                Frenkie de Jong         Netherlands   \n",
       "97             M. Pjanić                 Miralem Pjanić  Bosnia Herzegovina   \n",
       "144           O. Dembélé                Ousmane Dembélé              France   \n",
       "171            S. Umtiti                  Samuel Umtiti              France   \n",
       "182        Sergi Roberto        Sergio Roberto Carnicer               Spain   \n",
       "192             Coutinho      Philippe Coutinho Correia              Brazil   \n",
       "250                 Neto           Norberto Murara Neto              Brazil   \n",
       "518         Junior Firpo     Héctor Junior Firpo Adamés               Spain   \n",
       "690              Trincão  Francisco Mota Castro Trincão            Portugal   \n",
       "1237      M. Braithwaite             Martin Braithwaite             Denmark   \n",
       "1265           Ansu Fati                 Anssumane Fati               Spain   \n",
       "1761          Riqui Puig              Ricard Puig Martí               Spain   \n",
       "1818             S. Dest                   Sergiño Dest       United States   \n",
       "2310               Aleñá          Carles Aleñá Castillo               Spain   \n",
       "3791               Pedri           Pedro González López               Spain   \n",
       "6038   Matheus Fernandes     Matheus Fernandes Siqueira              Brazil   \n",
       "6153     Matheus Pereira       Matheus Pereira da Silva              Brazil   \n",
       "6258           R. Araujo                  Ronald Araujo             Uruguay   \n",
       "6871            R. Manaj                      Rey Manaj             Albania   \n",
       "7326              H. Abe                     Hiroki Abe               Japan   \n",
       "7980      Oriol Busquets             Oriol Busquets Mas               Spain   \n",
       "10155         Iñaki Peña          Ignacio Peña Sotorres               Spain   \n",
       "11005            Collado         Álex Collado Gutiérrez               Spain   \n",
       "11362          A. Solano                  Andrés Solano            Colombia   \n",
       "11868        J. Zeballos               Joaquín Zeballos             Uruguay   \n",
       "11960    K. de la Fuente            Konrad de la Fuente       United States   \n",
       "\n",
       "       Age  OVA          Club    Positions Height Weight Preferred Foot  ...  \\\n",
       "0       33   93  FC Barcelona   RW, ST, CF  170cm   72kg           Left  ...   \n",
       "9       28   90  FC Barcelona           GK  187cm   85kg          Right  ...   \n",
       "28      29   87  FC Barcelona   ST, CF, LW  176cm   73kg           Left  ...   \n",
       "40      31   87  FC Barcelona      CDM, CM  189cm   76kg          Right  ...   \n",
       "55      33   86  FC Barcelona           CB  194cm   85kg          Right  ...   \n",
       "60      31   86  FC Barcelona           LB  170cm   68kg           Left  ...   \n",
       "73      25   85  FC Barcelona           CB  186cm   81kg           Left  ...   \n",
       "80      23   85  FC Barcelona           CM  180cm   74kg          Right  ...   \n",
       "97      30   85  FC Barcelona           CM  178cm   72kg          Right  ...   \n",
       "144     23   83  FC Barcelona       LW, RW  178cm   67kg           Left  ...   \n",
       "171     26   83  FC Barcelona           CB  182cm   75kg           Left  ...   \n",
       "182     28   83  FC Barcelona       RB, CM  178cm   68kg          Right  ...   \n",
       "192     28   83  FC Barcelona  CAM, LW, CM  172cm   68kg          Right  ...   \n",
       "250     30   82  FC Barcelona           GK  190cm   84kg          Right  ...   \n",
       "518     23   79  FC Barcelona       LB, LM  184cm   78kg           Left  ...   \n",
       "690     20   78  FC Barcelona  RW, LW, CAM  183cm   77kg           Left  ...   \n",
       "1237    29   76  FC Barcelona       ST, LM  177cm   73kg          Right  ...   \n",
       "1265    17   76  FC Barcelona           LW  178cm   66kg          Right  ...   \n",
       "1761    20   75  FC Barcelona      CM, CAM  169cm   56kg          Right  ...   \n",
       "1818    19   75  FC Barcelona           RB  175cm   62kg          Right  ...   \n",
       "2310    22   74  FC Barcelona       CM, RM  180cm   73kg           Left  ...   \n",
       "3791    17   72  FC Barcelona  LM, CAM, CM  174cm   61kg          Right  ...   \n",
       "6038    22   69  FC Barcelona           CM  183cm   71kg          Right  ...   \n",
       "6153    22   69  FC Barcelona      CAM, RM  181cm   68kg           Left  ...   \n",
       "6258    21   69  FC Barcelona           CB  188cm   79kg          Right  ...   \n",
       "6871    23   68  FC Barcelona           ST  182cm   76kg          Right  ...   \n",
       "7326    21   68  FC Barcelona       LW, LM  171cm   65kg          Right  ...   \n",
       "7980    21   67  FC Barcelona      CDM, CB  185cm   77kg          Right  ...   \n",
       "10155   21   65  FC Barcelona           GK  184cm   78kg          Right  ...   \n",
       "11005   21   64  FC Barcelona           CM  177cm   66kg           Left  ...   \n",
       "11362   22   64  FC Barcelona           RB  176cm   69kg          Right  ...   \n",
       "11868   23   64  FC Barcelona           ST  178cm   75kg          Right  ...   \n",
       "11960   18   63  FC Barcelona       LW, RW  170cm   63kg          Right  ...   \n",
       "\n",
       "       SM     A/W     D/W  IR PAC  SHO  PAS  DRI  DEF  PHY  \n",
       "0       4  Medium     Low   5  85   92   91   95   38   65  \n",
       "9       1  Medium  Medium   3  88   85   88   90   45   88  \n",
       "28      4  Medium  Medium   4  79   85   84   88   57   72  \n",
       "40      3  Medium  Medium   4  42   62   80   80   83   77  \n",
       "55      2    High  Medium   4  57   61   71   67   86   80  \n",
       "60      3    High  Medium   3  88   69   81   83   78   72  \n",
       "73      2  Medium    High   2  74   45   67   65   87   81  \n",
       "80      4  Medium    High   3  80   64   84   87   76   77  \n",
       "97      3  Medium  Medium   3  67   68   87   85   75   67  \n",
       "144     5    High  Medium   3  92   77   77   87   36   56  \n",
       "171     2  Medium  Medium   3  66   62   69   69   83   79  \n",
       "182     4  Medium  Medium   3  77   63   81   78   77   73  \n",
       "192     5    High  Medium   4  72   79   82   89   52   59  \n",
       "250     1  Medium  Medium   2  84   79   78   80   54   79  \n",
       "518     3  Medium  Medium   1  83   64   71   73   75   76  \n",
       "690     4  Medium  Medium   1  79   73   71   83   37   69  \n",
       "1237    4  Medium    High   2  80   75   70   77   35   74  \n",
       "1265    4    High  Medium   1  88   71   68   79   29   53  \n",
       "1761    3    High  Medium   1  68   59   75   81   56   63  \n",
       "1818    4    High     Low   1  87   58   71   79   67   64  \n",
       "2310    4  Medium  Medium   1  71   67   73   74   60   62  \n",
       "3791    4    High  Medium   1  80   61   71   76   46   52  \n",
       "6038    3  Medium  Medium   1  67   60   64   73   66   73  \n",
       "6153    4  Medium  Medium   1  69   60   65   75   35   58  \n",
       "6258    2  Medium  Medium   1  62   30   51   49   68   70  \n",
       "6871    3  Medium  Medium   1  69   66   53   66   29   69  \n",
       "7326    3  Medium  Medium   1  88   61   57   73   33   58  \n",
       "7980    3  Medium  Medium   1  50   43   63   64   64   67  \n",
       "10155   1  Medium  Medium   1  66   61   66   67   30   62  \n",
       "11005   3  Medium  Medium   1  65   61   64   68   53   40  \n",
       "11362   2  Medium  Medium   1  63   35   54   62   61   56  \n",
       "11868   2  Medium  Medium   1  61   67   51   61   21   52  \n",
       "11960   3  Medium  Medium   1  77   58   53   68   18   50  \n",
       "\n",
       "[33 rows x 41 columns]"
      ]
     },
     "execution_count": 41,
     "metadata": {},
     "output_type": "execute_result"
    }
   ],
   "source": [
    "barca_team_all_players=fifa[fifa['Club']=='FC Barcelona']\n",
    "barca_team_all_players"
   ]
  },
  {
   "cell_type": "code",
   "execution_count": 42,
   "id": "322b2019",
   "metadata": {
    "papermill": {
     "duration": 0.207499,
     "end_time": "2024-09-19T09:59:59.775694",
     "exception": false,
     "start_time": "2024-09-19T09:59:59.568195",
     "status": "completed"
    },
    "tags": []
   },
   "outputs": [
    {
     "data": {
      "text/html": [
       "<style type=\"text/css\">\n",
       "#T_2bbcf_row0_col3, #T_2bbcf_row0_col4, #T_2bbcf_row0_col10, #T_2bbcf_row0_col13, #T_2bbcf_row0_col15, #T_2bbcf_row0_col16, #T_2bbcf_row0_col17, #T_2bbcf_row0_col18, #T_2bbcf_row0_col19, #T_2bbcf_row0_col22, #T_2bbcf_row0_col25, #T_2bbcf_row0_col34, #T_2bbcf_row0_col36, #T_2bbcf_row0_col37, #T_2bbcf_row0_col38, #T_2bbcf_row1_col12, #T_2bbcf_row1_col27, #T_2bbcf_row1_col28, #T_2bbcf_row1_col29, #T_2bbcf_row1_col40, #T_2bbcf_row2_col23, #T_2bbcf_row2_col26, #T_2bbcf_row4_col3, #T_2bbcf_row6_col39, #T_2bbcf_row9_col20, #T_2bbcf_row9_col21, #T_2bbcf_row9_col30, #T_2bbcf_row9_col31, #T_2bbcf_row9_col35, #T_2bbcf_row11_col24, #T_2bbcf_row12_col31 {\n",
       "  background-color: #ffff00;\n",
       "  color: #000000;\n",
       "}\n",
       "#T_2bbcf_row0_col12, #T_2bbcf_row5_col21, #T_2bbcf_row5_col24, #T_2bbcf_row8_col18 {\n",
       "  background-color: #fefe0d;\n",
       "  color: #000000;\n",
       "}\n",
       "#T_2bbcf_row0_col20 {\n",
       "  background-color: #ffff07;\n",
       "  color: #000000;\n",
       "}\n",
       "#T_2bbcf_row0_col21, #T_2bbcf_row7_col21, #T_2bbcf_row8_col3, #T_2bbcf_row10_col40, #T_2bbcf_row13_col3, #T_2bbcf_row13_col40, #T_2bbcf_row16_col21, #T_2bbcf_row16_col23 {\n",
       "  background-color: #fdfd29;\n",
       "  color: #000000;\n",
       "}\n",
       "#T_2bbcf_row0_col23, #T_2bbcf_row6_col16, #T_2bbcf_row15_col17, #T_2bbcf_row16_col25, #T_2bbcf_row23_col35, #T_2bbcf_row24_col19, #T_2bbcf_row25_col23, #T_2bbcf_row25_col35, #T_2bbcf_row26_col23, #T_2bbcf_row29_col17, #T_2bbcf_row29_col25 {\n",
       "  background-color: #f9f966;\n",
       "  color: #000000;\n",
       "}\n",
       "#T_2bbcf_row0_col24, #T_2bbcf_row15_col36 {\n",
       "  background-color: #fbfb44;\n",
       "  color: #000000;\n",
       "}\n",
       "#T_2bbcf_row0_col26, #T_2bbcf_row7_col39, #T_2bbcf_row9_col26, #T_2bbcf_row13_col35 {\n",
       "  background-color: #fdfd23;\n",
       "  color: #000000;\n",
       "}\n",
       "#T_2bbcf_row0_col27, #T_2bbcf_row16_col27, #T_2bbcf_row24_col27, #T_2bbcf_row28_col10, #T_2bbcf_row29_col4, #T_2bbcf_row29_col27, #T_2bbcf_row30_col4, #T_2bbcf_row31_col4 {\n",
       "  background-color: #f2f2d6;\n",
       "  color: #000000;\n",
       "}\n",
       "#T_2bbcf_row0_col28, #T_2bbcf_row4_col28, #T_2bbcf_row8_col28, #T_2bbcf_row16_col28, #T_2bbcf_row21_col28, #T_2bbcf_row22_col27, #T_2bbcf_row24_col28 {\n",
       "  background-color: #f2f2d8;\n",
       "  color: #000000;\n",
       "}\n",
       "#T_2bbcf_row0_col29, #T_2bbcf_row1_col10, #T_2bbcf_row1_col38, #T_2bbcf_row2_col15, #T_2bbcf_row2_col16, #T_2bbcf_row2_col22, #T_2bbcf_row3_col19, #T_2bbcf_row6_col23, #T_2bbcf_row7_col16, #T_2bbcf_row7_col19, #T_2bbcf_row10_col23 {\n",
       "  background-color: #fefe17;\n",
       "  color: #000000;\n",
       "}\n",
       "#T_2bbcf_row0_col30, #T_2bbcf_row1_col30, #T_2bbcf_row2_col40, #T_2bbcf_row4_col23, #T_2bbcf_row5_col40, #T_2bbcf_row6_col30, #T_2bbcf_row8_col30, #T_2bbcf_row9_col4, #T_2bbcf_row10_col4, #T_2bbcf_row11_col4, #T_2bbcf_row12_col4, #T_2bbcf_row12_col30, #T_2bbcf_row16_col30, #T_2bbcf_row17_col30, #T_2bbcf_row19_col30, #T_2bbcf_row21_col30, #T_2bbcf_row25_col19, #T_2bbcf_row25_col30, #T_2bbcf_row26_col19, #T_2bbcf_row27_col39, #T_2bbcf_row29_col26, #T_2bbcf_row32_col30 {\n",
       "  background-color: #fbfb4a;\n",
       "  color: #000000;\n",
       "}\n",
       "#T_2bbcf_row0_col31, #T_2bbcf_row2_col3, #T_2bbcf_row2_col31, #T_2bbcf_row2_col34, #T_2bbcf_row3_col34, #T_2bbcf_row4_col26, #T_2bbcf_row4_col34, #T_2bbcf_row5_col37, #T_2bbcf_row7_col31, #T_2bbcf_row11_col31, #T_2bbcf_row11_col37, #T_2bbcf_row12_col34, #T_2bbcf_row14_col40, #T_2bbcf_row15_col31, #T_2bbcf_row16_col3, #T_2bbcf_row16_col24, #T_2bbcf_row16_col31, #T_2bbcf_row17_col31, #T_2bbcf_row19_col31, #T_2bbcf_row20_col31, #T_2bbcf_row21_col31, #T_2bbcf_row22_col16, #T_2bbcf_row23_col31, #T_2bbcf_row26_col16, #T_2bbcf_row32_col20, #T_2bbcf_row32_col21 {\n",
       "  background-color: #fcfc37;\n",
       "  color: #000000;\n",
       "}\n",
       "#T_2bbcf_row0_col35, #T_2bbcf_row14_col21 {\n",
       "  background-color: #fdfd1e;\n",
       "  color: #000000;\n",
       "}\n",
       "#T_2bbcf_row0_col39, #T_2bbcf_row11_col12, #T_2bbcf_row19_col23 {\n",
       "  background-color: #f6f69d;\n",
       "  color: #000000;\n",
       "}\n",
       "#T_2bbcf_row0_col40, #T_2bbcf_row13_col39, #T_2bbcf_row14_col38, #T_2bbcf_row18_col29, #T_2bbcf_row18_col35, #T_2bbcf_row21_col23, #T_2bbcf_row21_col26, #T_2bbcf_row22_col38, #T_2bbcf_row24_col24, #T_2bbcf_row26_col38 {\n",
       "  background-color: #f9f96a;\n",
       "  color: #000000;\n",
       "}\n",
       "#T_2bbcf_row1_col3, #T_2bbcf_row6_col21, #T_2bbcf_row10_col15, #T_2bbcf_row11_col3, #T_2bbcf_row11_col40, #T_2bbcf_row12_col3, #T_2bbcf_row20_col15, #T_2bbcf_row22_col40, #T_2bbcf_row29_col16, #T_2bbcf_row32_col16 {\n",
       "  background-color: #fbfb45;\n",
       "  color: #000000;\n",
       "}\n",
       "#T_2bbcf_row1_col4, #T_2bbcf_row8_col26, #T_2bbcf_row8_col37, #T_2bbcf_row13_col27, #T_2bbcf_row19_col35, #T_2bbcf_row26_col20 {\n",
       "  background-color: #fefe16;\n",
       "  color: #000000;\n",
       "}\n",
       "#T_2bbcf_row1_col13, #T_2bbcf_row6_col26, #T_2bbcf_row8_col12, #T_2bbcf_row22_col25, #T_2bbcf_row26_col25 {\n",
       "  background-color: #f8f877;\n",
       "  color: #000000;\n",
       "}\n",
       "#T_2bbcf_row1_col15 {\n",
       "  background-color: #f4f4b8;\n",
       "  color: #000000;\n",
       "}\n",
       "#T_2bbcf_row1_col16, #T_2bbcf_row10_col28, #T_2bbcf_row19_col28 {\n",
       "  background-color: #f3f3c6;\n",
       "  color: #000000;\n",
       "}\n",
       "#T_2bbcf_row1_col17, #T_2bbcf_row1_col31, #T_2bbcf_row3_col35, #T_2bbcf_row12_col28, #T_2bbcf_row13_col30, #T_2bbcf_row13_col31, #T_2bbcf_row14_col34, #T_2bbcf_row15_col34, #T_2bbcf_row17_col3, #T_2bbcf_row17_col27, #T_2bbcf_row17_col34, #T_2bbcf_row18_col34, #T_2bbcf_row19_col34, #T_2bbcf_row20_col30, #T_2bbcf_row20_col34, #T_2bbcf_row21_col3, #T_2bbcf_row21_col34, #T_2bbcf_row22_col28, #T_2bbcf_row22_col34, #T_2bbcf_row23_col34, #T_2bbcf_row24_col22, #T_2bbcf_row24_col34, #T_2bbcf_row24_col36, #T_2bbcf_row24_col37, #T_2bbcf_row24_col38, #T_2bbcf_row25_col34, #T_2bbcf_row26_col34, #T_2bbcf_row27_col34, #T_2bbcf_row28_col12, #T_2bbcf_row28_col15, #T_2bbcf_row28_col16, #T_2bbcf_row28_col17, #T_2bbcf_row28_col18, #T_2bbcf_row28_col19, #T_2bbcf_row28_col20, #T_2bbcf_row28_col21, #T_2bbcf_row28_col24, #T_2bbcf_row28_col25, #T_2bbcf_row28_col26, #T_2bbcf_row28_col31, #T_2bbcf_row28_col34, #T_2bbcf_row29_col12, #T_2bbcf_row29_col23, #T_2bbcf_row29_col34, #T_2bbcf_row29_col40, #T_2bbcf_row30_col10, #T_2bbcf_row30_col12, #T_2bbcf_row30_col34, #T_2bbcf_row31_col12, #T_2bbcf_row31_col13, #T_2bbcf_row31_col29, #T_2bbcf_row31_col34, #T_2bbcf_row31_col37, #T_2bbcf_row32_col4, #T_2bbcf_row32_col10, #T_2bbcf_row32_col12, #T_2bbcf_row32_col34, #T_2bbcf_row32_col39 {\n",
       "  background-color: #f2f2dd;\n",
       "  color: #000000;\n",
       "}\n",
       "#T_2bbcf_row1_col18, #T_2bbcf_row8_col20, #T_2bbcf_row10_col24, #T_2bbcf_row11_col17, #T_2bbcf_row23_col18, #T_2bbcf_row25_col24 {\n",
       "  background-color: #fafa5c;\n",
       "  color: #000000;\n",
       "}\n",
       "#T_2bbcf_row1_col19, #T_2bbcf_row17_col39, #T_2bbcf_row25_col39, #T_2bbcf_row27_col35 {\n",
       "  background-color: #f4f4bb;\n",
       "  color: #000000;\n",
       "}\n",
       "#T_2bbcf_row1_col20, #T_2bbcf_row3_col28, #T_2bbcf_row5_col28, #T_2bbcf_row9_col28, #T_2bbcf_row13_col16 {\n",
       "  background-color: #f3f3cb;\n",
       "  color: #000000;\n",
       "}\n",
       "#T_2bbcf_row1_col21 {\n",
       "  background-color: #f6f691;\n",
       "  color: #000000;\n",
       "}\n",
       "#T_2bbcf_row1_col22, #T_2bbcf_row26_col22, #T_2bbcf_row32_col19 {\n",
       "  background-color: #f9f95e;\n",
       "  color: #000000;\n",
       "}\n",
       "#T_2bbcf_row1_col23, #T_2bbcf_row3_col40, #T_2bbcf_row7_col40 {\n",
       "  background-color: #fcfc32;\n",
       "  color: #000000;\n",
       "}\n",
       "#T_2bbcf_row1_col24 {\n",
       "  background-color: #f4f4c2;\n",
       "  color: #000000;\n",
       "}\n",
       "#T_2bbcf_row1_col25, #T_2bbcf_row11_col22, #T_2bbcf_row19_col22 {\n",
       "  background-color: #f9f963;\n",
       "  color: #000000;\n",
       "}\n",
       "#T_2bbcf_row1_col26, #T_2bbcf_row3_col20 {\n",
       "  background-color: #f3f3c4;\n",
       "  color: #000000;\n",
       "}\n",
       "#T_2bbcf_row1_col34, #T_2bbcf_row3_col12, #T_2bbcf_row3_col23, #T_2bbcf_row3_col31, #T_2bbcf_row4_col36, #T_2bbcf_row4_col37, #T_2bbcf_row5_col31, #T_2bbcf_row5_col34, #T_2bbcf_row6_col3, #T_2bbcf_row7_col34, #T_2bbcf_row8_col31, #T_2bbcf_row8_col34, #T_2bbcf_row8_col35, #T_2bbcf_row9_col34, #T_2bbcf_row10_col34, #T_2bbcf_row11_col34, #T_2bbcf_row14_col25, #T_2bbcf_row14_col31, #T_2bbcf_row14_col37, #T_2bbcf_row15_col4, #T_2bbcf_row15_col37, #T_2bbcf_row17_col25, #T_2bbcf_row18_col31, #T_2bbcf_row19_col37, #T_2bbcf_row19_col40, #T_2bbcf_row21_col36, #T_2bbcf_row21_col37, #T_2bbcf_row22_col31, #T_2bbcf_row22_col35, #T_2bbcf_row23_col25, #T_2bbcf_row25_col31, #T_2bbcf_row26_col31, #T_2bbcf_row26_col36, #T_2bbcf_row27_col31, #T_2bbcf_row28_col36, #T_2bbcf_row29_col31, #T_2bbcf_row29_col36, #T_2bbcf_row32_col31 {\n",
       "  background-color: #f9f96e;\n",
       "  color: #000000;\n",
       "}\n",
       "#T_2bbcf_row1_col35, #T_2bbcf_row5_col35, #T_2bbcf_row17_col35, #T_2bbcf_row26_col35 {\n",
       "  background-color: #fefe11;\n",
       "  color: #000000;\n",
       "}\n",
       "#T_2bbcf_row1_col36, #T_2bbcf_row2_col17, #T_2bbcf_row2_col29, #T_2bbcf_row2_col36 {\n",
       "  background-color: #fefe18;\n",
       "  color: #000000;\n",
       "}\n",
       "#T_2bbcf_row1_col37, #T_2bbcf_row5_col29, #T_2bbcf_row7_col18, #T_2bbcf_row8_col15, #T_2bbcf_row17_col21 {\n",
       "  background-color: #fefe10;\n",
       "  color: #000000;\n",
       "}\n",
       "#T_2bbcf_row1_col39, #T_2bbcf_row4_col13, #T_2bbcf_row4_col38, #T_2bbcf_row5_col13, #T_2bbcf_row8_col13, #T_2bbcf_row12_col40, #T_2bbcf_row24_col15, #T_2bbcf_row28_col38 {\n",
       "  background-color: #f7f786;\n",
       "  color: #000000;\n",
       "}\n",
       "#T_2bbcf_row2_col4, #T_2bbcf_row2_col21, #T_2bbcf_row3_col4, #T_2bbcf_row11_col21, #T_2bbcf_row14_col24, #T_2bbcf_row15_col20, #T_2bbcf_row17_col16, #T_2bbcf_row25_col26 {\n",
       "  background-color: #fcfc2c;\n",
       "  color: #000000;\n",
       "}\n",
       "#T_2bbcf_row2_col10, #T_2bbcf_row3_col10, #T_2bbcf_row4_col19, #T_2bbcf_row7_col10, #T_2bbcf_row8_col29, #T_2bbcf_row11_col29, #T_2bbcf_row16_col19 {\n",
       "  background-color: #fcfc2d;\n",
       "  color: #000000;\n",
       "}\n",
       "#T_2bbcf_row2_col12, #T_2bbcf_row6_col20, #T_2bbcf_row18_col15 {\n",
       "  background-color: #fbfb3e;\n",
       "  color: #000000;\n",
       "}\n",
       "#T_2bbcf_row2_col13, #T_2bbcf_row3_col36, #T_2bbcf_row9_col12, #T_2bbcf_row10_col36, #T_2bbcf_row14_col10, #T_2bbcf_row15_col10 {\n",
       "  background-color: #f9f96b;\n",
       "  color: #000000;\n",
       "}\n",
       "#T_2bbcf_row2_col18, #T_2bbcf_row5_col39, #T_2bbcf_row12_col38, #T_2bbcf_row15_col16 {\n",
       "  background-color: #fdfd1d;\n",
       "  color: #000000;\n",
       "}\n",
       "#T_2bbcf_row2_col19, #T_2bbcf_row8_col19, #T_2bbcf_row12_col19 {\n",
       "  background-color: #fefe13;\n",
       "  color: #000000;\n",
       "}\n",
       "#T_2bbcf_row2_col20, #T_2bbcf_row7_col20, #T_2bbcf_row8_col38, #T_2bbcf_row15_col21, #T_2bbcf_row16_col20, #T_2bbcf_row19_col24, #T_2bbcf_row22_col24 {\n",
       "  background-color: #fcfc30;\n",
       "  color: #000000;\n",
       "}\n",
       "#T_2bbcf_row2_col24, #T_2bbcf_row7_col29, #T_2bbcf_row19_col21 {\n",
       "  background-color: #fefe14;\n",
       "  color: #000000;\n",
       "}\n",
       "#T_2bbcf_row2_col25, #T_2bbcf_row3_col16, #T_2bbcf_row5_col16, #T_2bbcf_row5_col18, #T_2bbcf_row11_col19, #T_2bbcf_row18_col16, #T_2bbcf_row18_col18 {\n",
       "  background-color: #fdfd27;\n",
       "  color: #000000;\n",
       "}\n",
       "#T_2bbcf_row2_col27, #T_2bbcf_row16_col12, #T_2bbcf_row18_col27, #T_2bbcf_row24_col13 {\n",
       "  background-color: #f3f3d1;\n",
       "  color: #000000;\n",
       "}\n",
       "#T_2bbcf_row2_col28, #T_2bbcf_row14_col28, #T_2bbcf_row19_col12, #T_2bbcf_row24_col29, #T_2bbcf_row25_col28, #T_2bbcf_row32_col28 {\n",
       "  background-color: #f3f3c8;\n",
       "  color: #000000;\n",
       "}\n",
       "#T_2bbcf_row2_col30, #T_2bbcf_row3_col30, #T_2bbcf_row4_col30, #T_2bbcf_row5_col30, #T_2bbcf_row6_col13, #T_2bbcf_row7_col13, #T_2bbcf_row7_col30, #T_2bbcf_row9_col23, #T_2bbcf_row9_col40, #T_2bbcf_row10_col25, #T_2bbcf_row10_col30, #T_2bbcf_row11_col30, #T_2bbcf_row12_col13, #T_2bbcf_row12_col23, #T_2bbcf_row14_col30, #T_2bbcf_row15_col30, #T_2bbcf_row18_col30, #T_2bbcf_row22_col30, #T_2bbcf_row23_col30, #T_2bbcf_row24_col30, #T_2bbcf_row26_col29, #T_2bbcf_row26_col30, #T_2bbcf_row27_col30, #T_2bbcf_row28_col30, #T_2bbcf_row29_col30, #T_2bbcf_row30_col26, #T_2bbcf_row30_col30, #T_2bbcf_row30_col40, #T_2bbcf_row31_col30 {\n",
       "  background-color: #f6f693;\n",
       "  color: #000000;\n",
       "}\n",
       "#T_2bbcf_row2_col35, #T_2bbcf_row5_col38, #T_2bbcf_row6_col24, #T_2bbcf_row15_col35, #T_2bbcf_row15_col38 {\n",
       "  background-color: #fcfc39;\n",
       "  color: #000000;\n",
       "}\n",
       "#T_2bbcf_row2_col37, #T_2bbcf_row7_col37, #T_2bbcf_row7_col38, #T_2bbcf_row8_col39, #T_2bbcf_row9_col38, #T_2bbcf_row13_col29, #T_2bbcf_row14_col39, #T_2bbcf_row17_col26 {\n",
       "  background-color: #fdfd26;\n",
       "  color: #000000;\n",
       "}\n",
       "#T_2bbcf_row2_col38, #T_2bbcf_row4_col18 {\n",
       "  background-color: #fdfd21;\n",
       "  color: #000000;\n",
       "}\n",
       "#T_2bbcf_row2_col39, #T_2bbcf_row4_col21, #T_2bbcf_row8_col40, #T_2bbcf_row10_col3, #T_2bbcf_row23_col38, #T_2bbcf_row24_col21, #T_2bbcf_row27_col40, #T_2bbcf_row30_col21 {\n",
       "  background-color: #f9f960;\n",
       "  color: #000000;\n",
       "}\n",
       "#T_2bbcf_row3_col3, #T_2bbcf_row5_col3, #T_2bbcf_row8_col25 {\n",
       "  background-color: #fdfd1b;\n",
       "  color: #000000;\n",
       "}\n",
       "#T_2bbcf_row3_col13, #T_2bbcf_row21_col29, #T_2bbcf_row22_col17 {\n",
       "  background-color: #f8f87f;\n",
       "  color: #000000;\n",
       "}\n",
       "#T_2bbcf_row3_col15, #T_2bbcf_row5_col15, #T_2bbcf_row11_col16, #T_2bbcf_row11_col25, #T_2bbcf_row12_col25 {\n",
       "  background-color: #fcfc2f;\n",
       "  color: #000000;\n",
       "}\n",
       "#T_2bbcf_row3_col17 {\n",
       "  background-color: #fbfb46;\n",
       "  color: #000000;\n",
       "}\n",
       "#T_2bbcf_row3_col18, #T_2bbcf_row8_col16, #T_2bbcf_row13_col28 {\n",
       "  background-color: #fdfd1a;\n",
       "  color: #000000;\n",
       "}\n",
       "#T_2bbcf_row3_col21 {\n",
       "  background-color: #f5f5a9;\n",
       "  color: #000000;\n",
       "}\n",
       "#T_2bbcf_row3_col22, #T_2bbcf_row18_col36, #T_2bbcf_row21_col22 {\n",
       "  background-color: #f8f876;\n",
       "  color: #000000;\n",
       "}\n",
       "#T_2bbcf_row3_col24, #T_2bbcf_row8_col22, #T_2bbcf_row8_col24 {\n",
       "  background-color: #fdfd25;\n",
       "  color: #000000;\n",
       "}\n",
       "#T_2bbcf_row3_col25 {\n",
       "  background-color: #fcfc2b;\n",
       "  color: #000000;\n",
       "}\n",
       "#T_2bbcf_row3_col26, #T_2bbcf_row5_col17, #T_2bbcf_row30_col39 {\n",
       "  background-color: #fafa53;\n",
       "  color: #000000;\n",
       "}\n",
       "#T_2bbcf_row3_col27, #T_2bbcf_row6_col27, #T_2bbcf_row7_col27, #T_2bbcf_row9_col27, #T_2bbcf_row11_col23, #T_2bbcf_row12_col27, #T_2bbcf_row14_col27, #T_2bbcf_row23_col27, #T_2bbcf_row26_col27, #T_2bbcf_row28_col13 {\n",
       "  background-color: #f2f2d9;\n",
       "  color: #000000;\n",
       "}\n",
       "#T_2bbcf_row3_col29, #T_2bbcf_row9_col37, #T_2bbcf_row17_col38, #T_2bbcf_row19_col38, #T_2bbcf_row20_col20, #T_2bbcf_row23_col26 {\n",
       "  background-color: #fafa4d;\n",
       "  color: #000000;\n",
       "}\n",
       "#T_2bbcf_row3_col37, #T_2bbcf_row8_col10, #T_2bbcf_row9_col10, #T_2bbcf_row10_col10, #T_2bbcf_row12_col24, #T_2bbcf_row15_col26, #T_2bbcf_row16_col36, #T_2bbcf_row20_col16, #T_2bbcf_row24_col39, #T_2bbcf_row28_col28 {\n",
       "  background-color: #fbfb3d;\n",
       "  color: #000000;\n",
       "}\n",
       "#T_2bbcf_row3_col38, #T_2bbcf_row10_col29, #T_2bbcf_row13_col37, #T_2bbcf_row13_col38, #T_2bbcf_row20_col21 {\n",
       "  background-color: #fbfb48;\n",
       "  color: #000000;\n",
       "}\n",
       "#T_2bbcf_row3_col39, #T_2bbcf_row10_col39 {\n",
       "  background-color: #fefe0c;\n",
       "  color: #000000;\n",
       "}\n",
       "#T_2bbcf_row4_col4, #T_2bbcf_row5_col4, #T_2bbcf_row12_col26, #T_2bbcf_row15_col24, #T_2bbcf_row16_col17, #T_2bbcf_row18_col25, #T_2bbcf_row22_col22, #T_2bbcf_row31_col26 {\n",
       "  background-color: #fcfc33;\n",
       "  color: #000000;\n",
       "}\n",
       "#T_2bbcf_row4_col10, #T_2bbcf_row5_col10, #T_2bbcf_row6_col10, #T_2bbcf_row7_col35, #T_2bbcf_row9_col36, #T_2bbcf_row11_col15, #T_2bbcf_row16_col35, #T_2bbcf_row21_col35 {\n",
       "  background-color: #fcfc35;\n",
       "  color: #000000;\n",
       "}\n",
       "#T_2bbcf_row4_col12, #T_2bbcf_row23_col29 {\n",
       "  background-color: #f6f69e;\n",
       "  color: #000000;\n",
       "}\n",
       "#T_2bbcf_row4_col15, #T_2bbcf_row5_col36, #T_2bbcf_row9_col24, #T_2bbcf_row11_col38, #T_2bbcf_row12_col21, #T_2bbcf_row24_col23, #T_2bbcf_row24_col40, #T_2bbcf_row27_col18, #T_2bbcf_row27_col19, #T_2bbcf_row29_col18 {\n",
       "  background-color: #fafa52;\n",
       "  color: #000000;\n",
       "}\n",
       "#T_2bbcf_row4_col16, #T_2bbcf_row5_col26, #T_2bbcf_row16_col38, #T_2bbcf_row20_col39, #T_2bbcf_row27_col16 {\n",
       "  background-color: #fafa57;\n",
       "  color: #000000;\n",
       "}\n",
       "#T_2bbcf_row4_col17, #T_2bbcf_row7_col3, #T_2bbcf_row9_col3, #T_2bbcf_row10_col12, #T_2bbcf_row13_col21, #T_2bbcf_row14_col3, #T_2bbcf_row14_col17, #T_2bbcf_row23_col40, #T_2bbcf_row25_col3, #T_2bbcf_row26_col40, #T_2bbcf_row28_col37, #T_2bbcf_row31_col3 {\n",
       "  background-color: #f7f78a;\n",
       "  color: #000000;\n",
       "}\n",
       "#T_2bbcf_row4_col20, #T_2bbcf_row4_col31, #T_2bbcf_row6_col31, #T_2bbcf_row6_col34, #T_2bbcf_row10_col31, #T_2bbcf_row13_col18, #T_2bbcf_row13_col34, #T_2bbcf_row16_col34, #T_2bbcf_row21_col40, #T_2bbcf_row24_col3, #T_2bbcf_row24_col31, #T_2bbcf_row26_col3, #T_2bbcf_row27_col3, #T_2bbcf_row28_col3, #T_2bbcf_row29_col3, #T_2bbcf_row30_col31, #T_2bbcf_row31_col31, #T_2bbcf_row31_col40, #T_2bbcf_row32_col18 {\n",
       "  background-color: #f5f5a6;\n",
       "  color: #000000;\n",
       "}\n",
       "#T_2bbcf_row4_col22, #T_2bbcf_row31_col22 {\n",
       "  background-color: #f8f871;\n",
       "  color: #000000;\n",
       "}\n",
       "#T_2bbcf_row4_col24, #T_2bbcf_row17_col23, #T_2bbcf_row19_col15, #T_2bbcf_row23_col24 {\n",
       "  background-color: #fafa4e;\n",
       "  color: #000000;\n",
       "}\n",
       "#T_2bbcf_row4_col25, #T_2bbcf_row19_col25, #T_2bbcf_row21_col38, #T_2bbcf_row30_col19 {\n",
       "  background-color: #fafa5b;\n",
       "  color: #000000;\n",
       "}\n",
       "#T_2bbcf_row4_col27, #T_2bbcf_row21_col12, #T_2bbcf_row31_col39 {\n",
       "  background-color: #f3f3d4;\n",
       "  color: #000000;\n",
       "}\n",
       "#T_2bbcf_row4_col29, #T_2bbcf_row6_col35, #T_2bbcf_row10_col26 {\n",
       "  background-color: #fafa50;\n",
       "  color: #000000;\n",
       "}\n",
       "#T_2bbcf_row4_col35, #T_2bbcf_row21_col4, #T_2bbcf_row27_col37, #T_2bbcf_row31_col18 {\n",
       "  background-color: #f6f69b;\n",
       "  color: #000000;\n",
       "}\n",
       "#T_2bbcf_row4_col39 {\n",
       "  background-color: #ffff03;\n",
       "  color: #000000;\n",
       "}\n",
       "#T_2bbcf_row4_col40, #T_2bbcf_row7_col25, #T_2bbcf_row14_col20, #T_2bbcf_row15_col19, #T_2bbcf_row18_col19, #T_2bbcf_row22_col23 {\n",
       "  background-color: #fdfd24;\n",
       "  color: #000000;\n",
       "}\n",
       "#T_2bbcf_row5_col12 {\n",
       "  background-color: #f8f87b;\n",
       "  color: #000000;\n",
       "}\n",
       "#T_2bbcf_row5_col19, #T_2bbcf_row7_col15, #T_2bbcf_row9_col19 {\n",
       "  background-color: #fdfd22;\n",
       "  color: #000000;\n",
       "}\n",
       "#T_2bbcf_row5_col20, #T_2bbcf_row9_col16, #T_2bbcf_row12_col16, #T_2bbcf_row12_col22, #T_2bbcf_row19_col20 {\n",
       "  background-color: #fefe12;\n",
       "  color: #000000;\n",
       "}\n",
       "#T_2bbcf_row5_col22, #T_2bbcf_row10_col20, #T_2bbcf_row11_col36, #T_2bbcf_row14_col4, #T_2bbcf_row29_col20 {\n",
       "  background-color: #f9f967;\n",
       "  color: #000000;\n",
       "}\n",
       "#T_2bbcf_row5_col23, #T_2bbcf_row12_col36, #T_2bbcf_row13_col36, #T_2bbcf_row21_col18 {\n",
       "  background-color: #fcfc2e;\n",
       "  color: #000000;\n",
       "}\n",
       "#T_2bbcf_row5_col25, #T_2bbcf_row18_col38, #T_2bbcf_row22_col39, #T_2bbcf_row23_col15 {\n",
       "  background-color: #fbfb43;\n",
       "  color: #000000;\n",
       "}\n",
       "#T_2bbcf_row5_col27, #T_2bbcf_row11_col28, #T_2bbcf_row23_col28, #T_2bbcf_row25_col37, #T_2bbcf_row30_col28, #T_2bbcf_row32_col37 {\n",
       "  background-color: #f3f3d3;\n",
       "  color: #000000;\n",
       "}\n",
       "#T_2bbcf_row6_col4, #T_2bbcf_row7_col4, #T_2bbcf_row7_col12, #T_2bbcf_row8_col4, #T_2bbcf_row10_col18, #T_2bbcf_row12_col20, #T_2bbcf_row23_col19 {\n",
       "  background-color: #fcfc3b;\n",
       "  color: #000000;\n",
       "}\n",
       "#T_2bbcf_row6_col12, #T_2bbcf_row12_col35, #T_2bbcf_row15_col40, #T_2bbcf_row18_col20, #T_2bbcf_row18_col24, #T_2bbcf_row18_col37, #T_2bbcf_row20_col24, #T_2bbcf_row22_col20, #T_2bbcf_row23_col20, #T_2bbcf_row25_col40, #T_2bbcf_row29_col19 {\n",
       "  background-color: #fafa58;\n",
       "  color: #000000;\n",
       "}\n",
       "#T_2bbcf_row6_col15 {\n",
       "  background-color: #f9f961;\n",
       "  color: #000000;\n",
       "}\n",
       "#T_2bbcf_row6_col17, #T_2bbcf_row24_col26, #T_2bbcf_row28_col22, #T_2bbcf_row29_col24 {\n",
       "  background-color: #f5f5aa;\n",
       "  color: #000000;\n",
       "}\n",
       "#T_2bbcf_row6_col18, #T_2bbcf_row6_col19, #T_2bbcf_row14_col19, #T_2bbcf_row15_col22, #T_2bbcf_row20_col18, #T_2bbcf_row20_col19 {\n",
       "  background-color: #fcfc38;\n",
       "  color: #000000;\n",
       "}\n",
       "#T_2bbcf_row6_col22, #T_2bbcf_row7_col26, #T_2bbcf_row17_col17, #T_2bbcf_row21_col39, #T_2bbcf_row23_col22, #T_2bbcf_row24_col17, #T_2bbcf_row32_col17 {\n",
       "  background-color: #f7f784;\n",
       "  color: #000000;\n",
       "}\n",
       "#T_2bbcf_row6_col25, #T_2bbcf_row10_col35, #T_2bbcf_row18_col40, #T_2bbcf_row21_col24, #T_2bbcf_row22_col36, #T_2bbcf_row23_col36, #T_2bbcf_row27_col25, #T_2bbcf_row28_col35, #T_2bbcf_row30_col20, #T_2bbcf_row31_col23, #T_2bbcf_row32_col26 {\n",
       "  background-color: #f8f873;\n",
       "  color: #000000;\n",
       "}\n",
       "#T_2bbcf_row6_col28, #T_2bbcf_row13_col17, #T_2bbcf_row15_col28, #T_2bbcf_row17_col28, #T_2bbcf_row21_col13, #T_2bbcf_row21_col27, #T_2bbcf_row25_col12, #T_2bbcf_row26_col28, #T_2bbcf_row30_col27, #T_2bbcf_row32_col13 {\n",
       "  background-color: #f2f2db;\n",
       "  color: #000000;\n",
       "}\n",
       "#T_2bbcf_row6_col29, #T_2bbcf_row10_col16, #T_2bbcf_row13_col10, #T_2bbcf_row25_col16, #T_2bbcf_row31_col16 {\n",
       "  background-color: #fafa54;\n",
       "  color: #000000;\n",
       "}\n",
       "#T_2bbcf_row6_col36, #T_2bbcf_row22_col10, #T_2bbcf_row23_col10, #T_2bbcf_row24_col10 {\n",
       "  background-color: #f5f5a8;\n",
       "  color: #000000;\n",
       "}\n",
       "#T_2bbcf_row6_col37, #T_2bbcf_row18_col4, #T_2bbcf_row19_col4, #T_2bbcf_row24_col35, #T_2bbcf_row32_col24 {\n",
       "  background-color: #f7f785;\n",
       "  color: #000000;\n",
       "}\n",
       "#T_2bbcf_row6_col38, #T_2bbcf_row23_col37 {\n",
       "  background-color: #f7f790;\n",
       "  color: #000000;\n",
       "}\n",
       "#T_2bbcf_row6_col40, #T_2bbcf_row11_col39, #T_2bbcf_row13_col23 {\n",
       "  background-color: #fdfd20;\n",
       "  color: #000000;\n",
       "}\n",
       "#T_2bbcf_row7_col17, #T_2bbcf_row9_col17, #T_2bbcf_row13_col4, #T_2bbcf_row14_col15, #T_2bbcf_row23_col17 {\n",
       "  background-color: #fafa51;\n",
       "  color: #000000;\n",
       "}\n",
       "#T_2bbcf_row7_col22, #T_2bbcf_row14_col22, #T_2bbcf_row20_col22, #T_2bbcf_row25_col20 {\n",
       "  background-color: #fafa55;\n",
       "  color: #000000;\n",
       "}\n",
       "#T_2bbcf_row7_col23, #T_2bbcf_row16_col40, #T_2bbcf_row19_col39, #T_2bbcf_row26_col24 {\n",
       "  background-color: #fbfb40;\n",
       "  color: #000000;\n",
       "}\n",
       "#T_2bbcf_row7_col24 {\n",
       "  background-color: #ffff06;\n",
       "  color: #000000;\n",
       "}\n",
       "#T_2bbcf_row7_col28, #T_2bbcf_row18_col28 {\n",
       "  background-color: #f2f2d5;\n",
       "  color: #000000;\n",
       "}\n",
       "#T_2bbcf_row7_col36, #T_2bbcf_row14_col36, #T_2bbcf_row18_col26, #T_2bbcf_row18_col39, #T_2bbcf_row20_col29, #T_2bbcf_row20_col37, #T_2bbcf_row25_col17, #T_2bbcf_row31_col21 {\n",
       "  background-color: #f9f964;\n",
       "  color: #000000;\n",
       "}\n",
       "#T_2bbcf_row8_col17 {\n",
       "  background-color: #ffff05;\n",
       "  color: #000000;\n",
       "}\n",
       "#T_2bbcf_row8_col21, #T_2bbcf_row17_col22, #T_2bbcf_row20_col36, #T_2bbcf_row22_col21, #T_2bbcf_row25_col22, #T_2bbcf_row26_col26, #T_2bbcf_row31_col36 {\n",
       "  background-color: #fafa59;\n",
       "  color: #000000;\n",
       "}\n",
       "#T_2bbcf_row8_col23 {\n",
       "  background-color: #f7f78f;\n",
       "  color: #000000;\n",
       "}\n",
       "#T_2bbcf_row8_col27, #T_2bbcf_row15_col27, #T_2bbcf_row27_col12, #T_2bbcf_row27_col27, #T_2bbcf_row30_col13 {\n",
       "  background-color: #f2f2dc;\n",
       "  color: #000000;\n",
       "}\n",
       "#T_2bbcf_row8_col36, #T_2bbcf_row10_col17, #T_2bbcf_row10_col21, #T_2bbcf_row16_col18, #T_2bbcf_row18_col21, #T_2bbcf_row19_col18, #T_2bbcf_row29_col15 {\n",
       "  background-color: #fafa56;\n",
       "  color: #000000;\n",
       "}\n",
       "#T_2bbcf_row9_col13, #T_2bbcf_row11_col13 {\n",
       "  background-color: #f6f699;\n",
       "  color: #000000;\n",
       "}\n",
       "#T_2bbcf_row9_col15, #T_2bbcf_row16_col26, #T_2bbcf_row19_col16, #T_2bbcf_row20_col26 {\n",
       "  background-color: #fdfd2a;\n",
       "  color: #000000;\n",
       "}\n",
       "#T_2bbcf_row9_col18, #T_2bbcf_row12_col37, #T_2bbcf_row21_col16 {\n",
       "  background-color: #fcfc31;\n",
       "  color: #000000;\n",
       "}\n",
       "#T_2bbcf_row9_col22, #T_2bbcf_row10_col22 {\n",
       "  background-color: #fefe0e;\n",
       "  color: #000000;\n",
       "}\n",
       "#T_2bbcf_row9_col25, #T_2bbcf_row17_col36, #T_2bbcf_row19_col29, #T_2bbcf_row22_col18 {\n",
       "  background-color: #fbfb4b;\n",
       "  color: #000000;\n",
       "}\n",
       "#T_2bbcf_row9_col29, #T_2bbcf_row11_col10, #T_2bbcf_row12_col10, #T_2bbcf_row17_col15 {\n",
       "  background-color: #fbfb4c;\n",
       "  color: #000000;\n",
       "}\n",
       "#T_2bbcf_row9_col39, #T_2bbcf_row31_col38 {\n",
       "  background-color: #f5f5a4;\n",
       "  color: #000000;\n",
       "}\n",
       "#T_2bbcf_row10_col13, #T_2bbcf_row14_col26, #T_2bbcf_row15_col12, #T_2bbcf_row31_col25 {\n",
       "  background-color: #f6f69a;\n",
       "  color: #000000;\n",
       "}\n",
       "#T_2bbcf_row10_col19, #T_2bbcf_row14_col29, #T_2bbcf_row15_col15, #T_2bbcf_row17_col19, #T_2bbcf_row19_col19 {\n",
       "  background-color: #fcfc36;\n",
       "  color: #000000;\n",
       "}\n",
       "#T_2bbcf_row10_col27, #T_2bbcf_row11_col27, #T_2bbcf_row32_col3, #T_2bbcf_row32_col29 {\n",
       "  background-color: #f3f3cf;\n",
       "  color: #000000;\n",
       "}\n",
       "#T_2bbcf_row10_col37, #T_2bbcf_row19_col36, #T_2bbcf_row24_col20, #T_2bbcf_row32_col15, #T_2bbcf_row32_col36 {\n",
       "  background-color: #f8f879;\n",
       "  color: #000000;\n",
       "}\n",
       "#T_2bbcf_row10_col38, #T_2bbcf_row22_col26 {\n",
       "  background-color: #f8f87d;\n",
       "  color: #000000;\n",
       "}\n",
       "#T_2bbcf_row11_col18, #T_2bbcf_row12_col18, #T_2bbcf_row16_col22 {\n",
       "  background-color: #fdfd2b;\n",
       "  color: #000000;\n",
       "}\n",
       "#T_2bbcf_row11_col20, #T_2bbcf_row11_col35, #T_2bbcf_row12_col29, #T_2bbcf_row32_col35 {\n",
       "  background-color: #fbfb42;\n",
       "  color: #000000;\n",
       "}\n",
       "#T_2bbcf_row11_col26, #T_2bbcf_row15_col29, #T_2bbcf_row20_col35, #T_2bbcf_row25_col36, #T_2bbcf_row29_col21 {\n",
       "  background-color: #fafa5d;\n",
       "  color: #000000;\n",
       "}\n",
       "#T_2bbcf_row12_col12, #T_2bbcf_row22_col37, #T_2bbcf_row27_col38, #T_2bbcf_row29_col37 {\n",
       "  background-color: #f6f695;\n",
       "  color: #000000;\n",
       "}\n",
       "#T_2bbcf_row12_col15, #T_2bbcf_row12_col17 {\n",
       "  background-color: #fefe15;\n",
       "  color: #000000;\n",
       "}\n",
       "#T_2bbcf_row12_col39, #T_2bbcf_row26_col15, #T_2bbcf_row30_col24 {\n",
       "  background-color: #f8f870;\n",
       "  color: #000000;\n",
       "}\n",
       "#T_2bbcf_row13_col12, #T_2bbcf_row25_col25 {\n",
       "  background-color: #f4f4b6;\n",
       "  color: #000000;\n",
       "}\n",
       "#T_2bbcf_row13_col13, #T_2bbcf_row16_col13, #T_2bbcf_row27_col29, #T_2bbcf_row29_col29 {\n",
       "  background-color: #f5f5ad;\n",
       "  color: #000000;\n",
       "}\n",
       "#T_2bbcf_row13_col15, #T_2bbcf_row30_col36 {\n",
       "  background-color: #f3f3cc;\n",
       "  color: #000000;\n",
       "}\n",
       "#T_2bbcf_row13_col19, #T_2bbcf_row20_col12, #T_2bbcf_row22_col13, #T_2bbcf_row23_col13, #T_2bbcf_row30_col37 {\n",
       "  background-color: #f3f3cd;\n",
       "  color: #000000;\n",
       "}\n",
       "#T_2bbcf_row13_col20, #T_2bbcf_row31_col24 {\n",
       "  background-color: #f7f788;\n",
       "  color: #000000;\n",
       "}\n",
       "#T_2bbcf_row13_col22, #T_2bbcf_row17_col37, #T_2bbcf_row31_col15 {\n",
       "  background-color: #f8f880;\n",
       "  color: #000000;\n",
       "}\n",
       "#T_2bbcf_row13_col24, #T_2bbcf_row26_col39, #T_2bbcf_row30_col22 {\n",
       "  background-color: #f5f5ae;\n",
       "  color: #000000;\n",
       "}\n",
       "#T_2bbcf_row13_col25, #T_2bbcf_row19_col27, #T_2bbcf_row32_col27 {\n",
       "  background-color: #f3f3d2;\n",
       "  color: #000000;\n",
       "}\n",
       "#T_2bbcf_row13_col26, #T_2bbcf_row20_col28, #T_2bbcf_row25_col13, #T_2bbcf_row27_col28, #T_2bbcf_row28_col4, #T_2bbcf_row31_col10, #T_2bbcf_row31_col28 {\n",
       "  background-color: #f3f3ce;\n",
       "  color: #000000;\n",
       "}\n",
       "#T_2bbcf_row14_col12, #T_2bbcf_row25_col29, #T_2bbcf_row28_col29 {\n",
       "  background-color: #f5f5ab;\n",
       "  color: #000000;\n",
       "}\n",
       "#T_2bbcf_row14_col13 {\n",
       "  background-color: #f5f5b3;\n",
       "  color: #000000;\n",
       "}\n",
       "#T_2bbcf_row14_col16, #T_2bbcf_row16_col15, #T_2bbcf_row21_col21 {\n",
       "  background-color: #fcfc3a;\n",
       "  color: #000000;\n",
       "}\n",
       "#T_2bbcf_row14_col18, #T_2bbcf_row17_col18, #T_2bbcf_row21_col15 {\n",
       "  background-color: #fbfb49;\n",
       "  color: #000000;\n",
       "}\n",
       "#T_2bbcf_row14_col23 {\n",
       "  background-color: #fbfb3c;\n",
       "  color: #000000;\n",
       "}\n",
       "#T_2bbcf_row14_col35 {\n",
       "  background-color: #fdfd28;\n",
       "  color: #000000;\n",
       "}\n",
       "#T_2bbcf_row15_col3, #T_2bbcf_row15_col13, #T_2bbcf_row18_col3, #T_2bbcf_row32_col23 {\n",
       "  background-color: #f4f4b4;\n",
       "  color: #000000;\n",
       "}\n",
       "#T_2bbcf_row15_col18, #T_2bbcf_row15_col25, #T_2bbcf_row22_col15, #T_2bbcf_row23_col21, #T_2bbcf_row25_col21 {\n",
       "  background-color: #fafa4f;\n",
       "  color: #000000;\n",
       "}\n",
       "#T_2bbcf_row15_col23, #T_2bbcf_row17_col29, #T_2bbcf_row28_col23, #T_2bbcf_row30_col15 {\n",
       "  background-color: #f8f87c;\n",
       "  color: #000000;\n",
       "}\n",
       "#T_2bbcf_row15_col39, #T_2bbcf_row17_col40, #T_2bbcf_row18_col23, #T_2bbcf_row27_col23 {\n",
       "  background-color: #f6f6a1;\n",
       "  color: #000000;\n",
       "}\n",
       "#T_2bbcf_row16_col4, #T_2bbcf_row17_col4 {\n",
       "  background-color: #f8f87e;\n",
       "  color: #000000;\n",
       "}\n",
       "#T_2bbcf_row16_col10, #T_2bbcf_row17_col10, #T_2bbcf_row20_col10, #T_2bbcf_row29_col38, #T_2bbcf_row32_col38 {\n",
       "  background-color: #f7f782;\n",
       "  color: #000000;\n",
       "}\n",
       "#T_2bbcf_row16_col16, #T_2bbcf_row23_col16 {\n",
       "  background-color: #fcfc34;\n",
       "  color: #000000;\n",
       "}\n",
       "#T_2bbcf_row16_col29, #T_2bbcf_row17_col24, #T_2bbcf_row20_col17, #T_2bbcf_row24_col18, #T_2bbcf_row30_col16 {\n",
       "  background-color: #f9f95f;\n",
       "  color: #000000;\n",
       "}\n",
       "#T_2bbcf_row16_col37, #T_2bbcf_row18_col17, #T_2bbcf_row21_col17, #T_2bbcf_row31_col19 {\n",
       "  background-color: #f8f874;\n",
       "  color: #000000;\n",
       "}\n",
       "#T_2bbcf_row16_col39, #T_2bbcf_row23_col39, #T_2bbcf_row26_col17 {\n",
       "  background-color: #f5f5a7;\n",
       "  color: #000000;\n",
       "}\n",
       "#T_2bbcf_row17_col12, #T_2bbcf_row20_col13 {\n",
       "  background-color: #f4f4bd;\n",
       "  color: #000000;\n",
       "}\n",
       "#T_2bbcf_row17_col13, #T_2bbcf_row27_col13, #T_2bbcf_row31_col27 {\n",
       "  background-color: #f3f3d5;\n",
       "  color: #000000;\n",
       "}\n",
       "#T_2bbcf_row17_col20 {\n",
       "  background-color: #fefe0f;\n",
       "  color: #000000;\n",
       "}\n",
       "#T_2bbcf_row18_col10, #T_2bbcf_row18_col22, #T_2bbcf_row19_col10 {\n",
       "  background-color: #f8f87a;\n",
       "  color: #000000;\n",
       "}\n",
       "#T_2bbcf_row18_col12 {\n",
       "  background-color: #f3f3c5;\n",
       "  color: #000000;\n",
       "}\n",
       "#T_2bbcf_row18_col13, #T_2bbcf_row27_col4 {\n",
       "  background-color: #f4f4c0;\n",
       "  color: #000000;\n",
       "}\n",
       "#T_2bbcf_row19_col3, #T_2bbcf_row30_col25 {\n",
       "  background-color: #f4f4c1;\n",
       "  color: #000000;\n",
       "}\n",
       "#T_2bbcf_row19_col13 {\n",
       "  background-color: #f3f3ca;\n",
       "  color: #000000;\n",
       "}\n",
       "#T_2bbcf_row19_col17, #T_2bbcf_row19_col26, #T_2bbcf_row27_col20, #T_2bbcf_row31_col17 {\n",
       "  background-color: #f6f697;\n",
       "  color: #000000;\n",
       "}\n",
       "#T_2bbcf_row20_col3, #T_2bbcf_row22_col3, #T_2bbcf_row23_col3, #T_2bbcf_row23_col23, #T_2bbcf_row30_col3 {\n",
       "  background-color: #f6f698;\n",
       "  color: #000000;\n",
       "}\n",
       "#T_2bbcf_row20_col4, #T_2bbcf_row27_col17, #T_2bbcf_row27_col22, #T_2bbcf_row27_col26, #T_2bbcf_row32_col22 {\n",
       "  background-color: #f7f78d;\n",
       "  color: #000000;\n",
       "}\n",
       "#T_2bbcf_row20_col23, #T_2bbcf_row27_col36, #T_2bbcf_row32_col40 {\n",
       "  background-color: #f5f5af;\n",
       "  color: #000000;\n",
       "}\n",
       "#T_2bbcf_row20_col25, #T_2bbcf_row21_col19, #T_2bbcf_row21_col25, #T_2bbcf_row27_col24 {\n",
       "  background-color: #fbfb47;\n",
       "  color: #000000;\n",
       "}\n",
       "#T_2bbcf_row20_col27, #T_2bbcf_row29_col13 {\n",
       "  background-color: #f2f2d7;\n",
       "  color: #000000;\n",
       "}\n",
       "#T_2bbcf_row20_col38 {\n",
       "  background-color: #f9f965;\n",
       "  color: #000000;\n",
       "}\n",
       "#T_2bbcf_row20_col40, #T_2bbcf_row28_col40, #T_2bbcf_row29_col35 {\n",
       "  background-color: #f8f878;\n",
       "  color: #000000;\n",
       "}\n",
       "#T_2bbcf_row21_col10, #T_2bbcf_row31_col35 {\n",
       "  background-color: #f7f789;\n",
       "  color: #000000;\n",
       "}\n",
       "#T_2bbcf_row21_col20 {\n",
       "  background-color: #fefe19;\n",
       "  color: #000000;\n",
       "}\n",
       "#T_2bbcf_row22_col4, #T_2bbcf_row23_col4, #T_2bbcf_row24_col4 {\n",
       "  background-color: #f5f5b1;\n",
       "  color: #000000;\n",
       "}\n",
       "#T_2bbcf_row22_col12, #T_2bbcf_row23_col12, #T_2bbcf_row24_col12, #T_2bbcf_row25_col27, #T_2bbcf_row26_col12 {\n",
       "  background-color: #f2f2da;\n",
       "  color: #000000;\n",
       "}\n",
       "#T_2bbcf_row22_col19, #T_2bbcf_row28_col27 {\n",
       "  background-color: #fbfb41;\n",
       "  color: #000000;\n",
       "}\n",
       "#T_2bbcf_row22_col29, #T_2bbcf_row27_col15 {\n",
       "  background-color: #f9f969;\n",
       "  color: #000000;\n",
       "}\n",
       "#T_2bbcf_row24_col16, #T_2bbcf_row25_col38 {\n",
       "  background-color: #f7f78c;\n",
       "  color: #000000;\n",
       "}\n",
       "#T_2bbcf_row24_col25 {\n",
       "  background-color: #f4f4ba;\n",
       "  color: #000000;\n",
       "}\n",
       "#T_2bbcf_row25_col4, #T_2bbcf_row26_col4 {\n",
       "  background-color: #f4f4b9;\n",
       "  color: #000000;\n",
       "}\n",
       "#T_2bbcf_row25_col10 {\n",
       "  background-color: #f5f5b0;\n",
       "  color: #000000;\n",
       "}\n",
       "#T_2bbcf_row25_col15, #T_2bbcf_row29_col22 {\n",
       "  background-color: #f9f96c;\n",
       "  color: #000000;\n",
       "}\n",
       "#T_2bbcf_row25_col18, #T_2bbcf_row27_col21 {\n",
       "  background-color: #f6f694;\n",
       "  color: #000000;\n",
       "}\n",
       "#T_2bbcf_row26_col10, #T_2bbcf_row28_col39 {\n",
       "  background-color: #f4f4b7;\n",
       "  color: #000000;\n",
       "}\n",
       "#T_2bbcf_row26_col13, #T_2bbcf_row29_col28 {\n",
       "  background-color: #f3f3d0;\n",
       "  color: #000000;\n",
       "}\n",
       "#T_2bbcf_row26_col18, #T_2bbcf_row30_col17 {\n",
       "  background-color: #f5f5a2;\n",
       "  color: #000000;\n",
       "}\n",
       "#T_2bbcf_row26_col21 {\n",
       "  background-color: #fefe0a;\n",
       "  color: #000000;\n",
       "}\n",
       "#T_2bbcf_row26_col37 {\n",
       "  background-color: #f4f4bc;\n",
       "  color: #000000;\n",
       "}\n",
       "#T_2bbcf_row27_col10, #T_2bbcf_row29_col10 {\n",
       "  background-color: #f4f4bf;\n",
       "  color: #000000;\n",
       "}\n",
       "#T_2bbcf_row29_col39 {\n",
       "  background-color: #f9f96d;\n",
       "  color: #000000;\n",
       "}\n",
       "#T_2bbcf_row30_col18, #T_2bbcf_row30_col23, #T_2bbcf_row31_col20 {\n",
       "  background-color: #f7f781;\n",
       "  color: #000000;\n",
       "}\n",
       "#T_2bbcf_row30_col29 {\n",
       "  background-color: #f3f3c7;\n",
       "  color: #000000;\n",
       "}\n",
       "#T_2bbcf_row30_col35 {\n",
       "  background-color: #f7f780;\n",
       "  color: #000000;\n",
       "}\n",
       "#T_2bbcf_row30_col38 {\n",
       "  background-color: #f6f69f;\n",
       "  color: #000000;\n",
       "}\n",
       "#T_2bbcf_row32_col25 {\n",
       "  background-color: #f6f696;\n",
       "  color: #000000;\n",
       "}\n",
       "</style>\n",
       "<table id=\"T_2bbcf\">\n",
       "  <thead>\n",
       "    <tr>\n",
       "      <th class=\"blank level0\" >&nbsp;</th>\n",
       "      <th id=\"T_2bbcf_level0_col0\" class=\"col_heading level0 col0\" >Name</th>\n",
       "      <th id=\"T_2bbcf_level0_col1\" class=\"col_heading level0 col1\" >LongName</th>\n",
       "      <th id=\"T_2bbcf_level0_col2\" class=\"col_heading level0 col2\" >Nationality</th>\n",
       "      <th id=\"T_2bbcf_level0_col3\" class=\"col_heading level0 col3\" >Age</th>\n",
       "      <th id=\"T_2bbcf_level0_col4\" class=\"col_heading level0 col4\" >OVA</th>\n",
       "      <th id=\"T_2bbcf_level0_col5\" class=\"col_heading level0 col5\" >Club</th>\n",
       "      <th id=\"T_2bbcf_level0_col6\" class=\"col_heading level0 col6\" >Positions</th>\n",
       "      <th id=\"T_2bbcf_level0_col7\" class=\"col_heading level0 col7\" >Height</th>\n",
       "      <th id=\"T_2bbcf_level0_col8\" class=\"col_heading level0 col8\" >Weight</th>\n",
       "      <th id=\"T_2bbcf_level0_col9\" class=\"col_heading level0 col9\" >Preferred Foot</th>\n",
       "      <th id=\"T_2bbcf_level0_col10\" class=\"col_heading level0 col10\" >BOV</th>\n",
       "      <th id=\"T_2bbcf_level0_col11\" class=\"col_heading level0 col11\" >Best Position</th>\n",
       "      <th id=\"T_2bbcf_level0_col12\" class=\"col_heading level0 col12\" >Value</th>\n",
       "      <th id=\"T_2bbcf_level0_col13\" class=\"col_heading level0 col13\" >Wage</th>\n",
       "      <th id=\"T_2bbcf_level0_col14\" class=\"col_heading level0 col14\" >Release Clause</th>\n",
       "      <th id=\"T_2bbcf_level0_col15\" class=\"col_heading level0 col15\" >Skill</th>\n",
       "      <th id=\"T_2bbcf_level0_col16\" class=\"col_heading level0 col16\" >Dribbling</th>\n",
       "      <th id=\"T_2bbcf_level0_col17\" class=\"col_heading level0 col17\" >FK Accuracy</th>\n",
       "      <th id=\"T_2bbcf_level0_col18\" class=\"col_heading level0 col18\" >Long Passing</th>\n",
       "      <th id=\"T_2bbcf_level0_col19\" class=\"col_heading level0 col19\" >Ball Control</th>\n",
       "      <th id=\"T_2bbcf_level0_col20\" class=\"col_heading level0 col20\" >Acceleration</th>\n",
       "      <th id=\"T_2bbcf_level0_col21\" class=\"col_heading level0 col21\" >Sprint Speed</th>\n",
       "      <th id=\"T_2bbcf_level0_col22\" class=\"col_heading level0 col22\" >Shot Power</th>\n",
       "      <th id=\"T_2bbcf_level0_col23\" class=\"col_heading level0 col23\" >Jumping</th>\n",
       "      <th id=\"T_2bbcf_level0_col24\" class=\"col_heading level0 col24\" >Stamina</th>\n",
       "      <th id=\"T_2bbcf_level0_col25\" class=\"col_heading level0 col25\" >Vision</th>\n",
       "      <th id=\"T_2bbcf_level0_col26\" class=\"col_heading level0 col26\" >Penalties</th>\n",
       "      <th id=\"T_2bbcf_level0_col27\" class=\"col_heading level0 col27\" >Goalkeeping</th>\n",
       "      <th id=\"T_2bbcf_level0_col28\" class=\"col_heading level0 col28\" >GK Reflexes</th>\n",
       "      <th id=\"T_2bbcf_level0_col29\" class=\"col_heading level0 col29\" >Base Stats</th>\n",
       "      <th id=\"T_2bbcf_level0_col30\" class=\"col_heading level0 col30\" >W/F</th>\n",
       "      <th id=\"T_2bbcf_level0_col31\" class=\"col_heading level0 col31\" >SM</th>\n",
       "      <th id=\"T_2bbcf_level0_col32\" class=\"col_heading level0 col32\" >A/W</th>\n",
       "      <th id=\"T_2bbcf_level0_col33\" class=\"col_heading level0 col33\" >D/W</th>\n",
       "      <th id=\"T_2bbcf_level0_col34\" class=\"col_heading level0 col34\" >IR</th>\n",
       "      <th id=\"T_2bbcf_level0_col35\" class=\"col_heading level0 col35\" >PAC</th>\n",
       "      <th id=\"T_2bbcf_level0_col36\" class=\"col_heading level0 col36\" >SHO</th>\n",
       "      <th id=\"T_2bbcf_level0_col37\" class=\"col_heading level0 col37\" >PAS</th>\n",
       "      <th id=\"T_2bbcf_level0_col38\" class=\"col_heading level0 col38\" >DRI</th>\n",
       "      <th id=\"T_2bbcf_level0_col39\" class=\"col_heading level0 col39\" >DEF</th>\n",
       "      <th id=\"T_2bbcf_level0_col40\" class=\"col_heading level0 col40\" >PHY</th>\n",
       "    </tr>\n",
       "  </thead>\n",
       "  <tbody>\n",
       "    <tr>\n",
       "      <th id=\"T_2bbcf_level0_row0\" class=\"row_heading level0 row0\" >0</th>\n",
       "      <td id=\"T_2bbcf_row0_col0\" class=\"data row0 col0\" >L. Messi</td>\n",
       "      <td id=\"T_2bbcf_row0_col1\" class=\"data row0 col1\" >Lionel Messi</td>\n",
       "      <td id=\"T_2bbcf_row0_col2\" class=\"data row0 col2\" >Argentina</td>\n",
       "      <td id=\"T_2bbcf_row0_col3\" class=\"data row0 col3\" >33</td>\n",
       "      <td id=\"T_2bbcf_row0_col4\" class=\"data row0 col4\" >93</td>\n",
       "      <td id=\"T_2bbcf_row0_col5\" class=\"data row0 col5\" >FC Barcelona</td>\n",
       "      <td id=\"T_2bbcf_row0_col6\" class=\"data row0 col6\" >RW, ST, CF</td>\n",
       "      <td id=\"T_2bbcf_row0_col7\" class=\"data row0 col7\" >170cm</td>\n",
       "      <td id=\"T_2bbcf_row0_col8\" class=\"data row0 col8\" >72kg</td>\n",
       "      <td id=\"T_2bbcf_row0_col9\" class=\"data row0 col9\" >Left</td>\n",
       "      <td id=\"T_2bbcf_row0_col10\" class=\"data row0 col10\" >93</td>\n",
       "      <td id=\"T_2bbcf_row0_col11\" class=\"data row0 col11\" >RW</td>\n",
       "      <td id=\"T_2bbcf_row0_col12\" class=\"data row0 col12\" >103500000.000000</td>\n",
       "      <td id=\"T_2bbcf_row0_col13\" class=\"data row0 col13\" >560000.000000</td>\n",
       "      <td id=\"T_2bbcf_row0_col14\" class=\"data row0 col14\" >138.4M</td>\n",
       "      <td id=\"T_2bbcf_row0_col15\" class=\"data row0 col15\" >470</td>\n",
       "      <td id=\"T_2bbcf_row0_col16\" class=\"data row0 col16\" >96</td>\n",
       "      <td id=\"T_2bbcf_row0_col17\" class=\"data row0 col17\" >94</td>\n",
       "      <td id=\"T_2bbcf_row0_col18\" class=\"data row0 col18\" >91</td>\n",
       "      <td id=\"T_2bbcf_row0_col19\" class=\"data row0 col19\" >96</td>\n",
       "      <td id=\"T_2bbcf_row0_col20\" class=\"data row0 col20\" >91</td>\n",
       "      <td id=\"T_2bbcf_row0_col21\" class=\"data row0 col21\" >80</td>\n",
       "      <td id=\"T_2bbcf_row0_col22\" class=\"data row0 col22\" >86</td>\n",
       "      <td id=\"T_2bbcf_row0_col23\" class=\"data row0 col23\" >68</td>\n",
       "      <td id=\"T_2bbcf_row0_col24\" class=\"data row0 col24\" >72</td>\n",
       "      <td id=\"T_2bbcf_row0_col25\" class=\"data row0 col25\" >95</td>\n",
       "      <td id=\"T_2bbcf_row0_col26\" class=\"data row0 col26\" >75</td>\n",
       "      <td id=\"T_2bbcf_row0_col27\" class=\"data row0 col27\" >54</td>\n",
       "      <td id=\"T_2bbcf_row0_col28\" class=\"data row0 col28\" >8</td>\n",
       "      <td id=\"T_2bbcf_row0_col29\" class=\"data row0 col29\" >466</td>\n",
       "      <td id=\"T_2bbcf_row0_col30\" class=\"data row0 col30\" >4</td>\n",
       "      <td id=\"T_2bbcf_row0_col31\" class=\"data row0 col31\" >4</td>\n",
       "      <td id=\"T_2bbcf_row0_col32\" class=\"data row0 col32\" >Medium</td>\n",
       "      <td id=\"T_2bbcf_row0_col33\" class=\"data row0 col33\" >Low</td>\n",
       "      <td id=\"T_2bbcf_row0_col34\" class=\"data row0 col34\" >5</td>\n",
       "      <td id=\"T_2bbcf_row0_col35\" class=\"data row0 col35\" >85</td>\n",
       "      <td id=\"T_2bbcf_row0_col36\" class=\"data row0 col36\" >92</td>\n",
       "      <td id=\"T_2bbcf_row0_col37\" class=\"data row0 col37\" >91</td>\n",
       "      <td id=\"T_2bbcf_row0_col38\" class=\"data row0 col38\" >95</td>\n",
       "      <td id=\"T_2bbcf_row0_col39\" class=\"data row0 col39\" >38</td>\n",
       "      <td id=\"T_2bbcf_row0_col40\" class=\"data row0 col40\" >65</td>\n",
       "    </tr>\n",
       "    <tr>\n",
       "      <th id=\"T_2bbcf_level0_row1\" class=\"row_heading level0 row1\" >9</th>\n",
       "      <td id=\"T_2bbcf_row1_col0\" class=\"data row1 col0\" >M. ter Stegen</td>\n",
       "      <td id=\"T_2bbcf_row1_col1\" class=\"data row1 col1\" >Marc-André ter Stegen</td>\n",
       "      <td id=\"T_2bbcf_row1_col2\" class=\"data row1 col2\" >Germany</td>\n",
       "      <td id=\"T_2bbcf_row1_col3\" class=\"data row1 col3\" >28</td>\n",
       "      <td id=\"T_2bbcf_row1_col4\" class=\"data row1 col4\" >90</td>\n",
       "      <td id=\"T_2bbcf_row1_col5\" class=\"data row1 col5\" >FC Barcelona</td>\n",
       "      <td id=\"T_2bbcf_row1_col6\" class=\"data row1 col6\" >GK</td>\n",
       "      <td id=\"T_2bbcf_row1_col7\" class=\"data row1 col7\" >187cm</td>\n",
       "      <td id=\"T_2bbcf_row1_col8\" class=\"data row1 col8\" >85kg</td>\n",
       "      <td id=\"T_2bbcf_row1_col9\" class=\"data row1 col9\" >Right</td>\n",
       "      <td id=\"T_2bbcf_row1_col10\" class=\"data row1 col10\" >90</td>\n",
       "      <td id=\"T_2bbcf_row1_col11\" class=\"data row1 col11\" >GK</td>\n",
       "      <td id=\"T_2bbcf_row1_col12\" class=\"data row1 col12\" >110000000.000000</td>\n",
       "      <td id=\"T_2bbcf_row1_col13\" class=\"data row1 col13\" >260000.000000</td>\n",
       "      <td id=\"T_2bbcf_row1_col14\" class=\"data row1 col14\" >147.7M</td>\n",
       "      <td id=\"T_2bbcf_row1_col15\" class=\"data row1 col15\" >144</td>\n",
       "      <td id=\"T_2bbcf_row1_col16\" class=\"data row1 col16\" >21</td>\n",
       "      <td id=\"T_2bbcf_row1_col17\" class=\"data row1 col17\" >12</td>\n",
       "      <td id=\"T_2bbcf_row1_col18\" class=\"data row1 col18\" >63</td>\n",
       "      <td id=\"T_2bbcf_row1_col19\" class=\"data row1 col19\" >30</td>\n",
       "      <td id=\"T_2bbcf_row1_col20\" class=\"data row1 col20\" >38</td>\n",
       "      <td id=\"T_2bbcf_row1_col21\" class=\"data row1 col21\" >50</td>\n",
       "      <td id=\"T_2bbcf_row1_col22\" class=\"data row1 col22\" >66</td>\n",
       "      <td id=\"T_2bbcf_row1_col23\" class=\"data row1 col23\" >79</td>\n",
       "      <td id=\"T_2bbcf_row1_col24\" class=\"data row1 col24\" >35</td>\n",
       "      <td id=\"T_2bbcf_row1_col25\" class=\"data row1 col25\" >70</td>\n",
       "      <td id=\"T_2bbcf_row1_col26\" class=\"data row1 col26\" >25</td>\n",
       "      <td id=\"T_2bbcf_row1_col27\" class=\"data row1 col27\" >439</td>\n",
       "      <td id=\"T_2bbcf_row1_col28\" class=\"data row1 col28\" >90</td>\n",
       "      <td id=\"T_2bbcf_row1_col29\" class=\"data row1 col29\" >484</td>\n",
       "      <td id=\"T_2bbcf_row1_col30\" class=\"data row1 col30\" >4</td>\n",
       "      <td id=\"T_2bbcf_row1_col31\" class=\"data row1 col31\" >1</td>\n",
       "      <td id=\"T_2bbcf_row1_col32\" class=\"data row1 col32\" >Medium</td>\n",
       "      <td id=\"T_2bbcf_row1_col33\" class=\"data row1 col33\" >Medium</td>\n",
       "      <td id=\"T_2bbcf_row1_col34\" class=\"data row1 col34\" >3</td>\n",
       "      <td id=\"T_2bbcf_row1_col35\" class=\"data row1 col35\" >88</td>\n",
       "      <td id=\"T_2bbcf_row1_col36\" class=\"data row1 col36\" >85</td>\n",
       "      <td id=\"T_2bbcf_row1_col37\" class=\"data row1 col37\" >88</td>\n",
       "      <td id=\"T_2bbcf_row1_col38\" class=\"data row1 col38\" >90</td>\n",
       "      <td id=\"T_2bbcf_row1_col39\" class=\"data row1 col39\" >45</td>\n",
       "      <td id=\"T_2bbcf_row1_col40\" class=\"data row1 col40\" >88</td>\n",
       "    </tr>\n",
       "    <tr>\n",
       "      <th id=\"T_2bbcf_level0_row2\" class=\"row_heading level0 row2\" >28</th>\n",
       "      <td id=\"T_2bbcf_row2_col0\" class=\"data row2 col0\" >A. Griezmann</td>\n",
       "      <td id=\"T_2bbcf_row2_col1\" class=\"data row2 col1\" >Antoine Griezmann</td>\n",
       "      <td id=\"T_2bbcf_row2_col2\" class=\"data row2 col2\" >France</td>\n",
       "      <td id=\"T_2bbcf_row2_col3\" class=\"data row2 col3\" >29</td>\n",
       "      <td id=\"T_2bbcf_row2_col4\" class=\"data row2 col4\" >87</td>\n",
       "      <td id=\"T_2bbcf_row2_col5\" class=\"data row2 col5\" >FC Barcelona</td>\n",
       "      <td id=\"T_2bbcf_row2_col6\" class=\"data row2 col6\" >ST, CF, LW</td>\n",
       "      <td id=\"T_2bbcf_row2_col7\" class=\"data row2 col7\" >176cm</td>\n",
       "      <td id=\"T_2bbcf_row2_col8\" class=\"data row2 col8\" >73kg</td>\n",
       "      <td id=\"T_2bbcf_row2_col9\" class=\"data row2 col9\" >Left</td>\n",
       "      <td id=\"T_2bbcf_row2_col10\" class=\"data row2 col10\" >87</td>\n",
       "      <td id=\"T_2bbcf_row2_col11\" class=\"data row2 col11\" >ST</td>\n",
       "      <td id=\"T_2bbcf_row2_col12\" class=\"data row2 col12\" >79500000.000000</td>\n",
       "      <td id=\"T_2bbcf_row2_col13\" class=\"data row2 col13\" >290000.000000</td>\n",
       "      <td id=\"T_2bbcf_row2_col14\" class=\"data row2 col14\" >103.5M</td>\n",
       "      <td id=\"T_2bbcf_row2_col15\" class=\"data row2 col15\" >429</td>\n",
       "      <td id=\"T_2bbcf_row2_col16\" class=\"data row2 col16\" >87</td>\n",
       "      <td id=\"T_2bbcf_row2_col17\" class=\"data row2 col17\" >85</td>\n",
       "      <td id=\"T_2bbcf_row2_col18\" class=\"data row2 col18\" >82</td>\n",
       "      <td id=\"T_2bbcf_row2_col19\" class=\"data row2 col19\" >89</td>\n",
       "      <td id=\"T_2bbcf_row2_col20\" class=\"data row2 col20\" >80</td>\n",
       "      <td id=\"T_2bbcf_row2_col21\" class=\"data row2 col21\" >79</td>\n",
       "      <td id=\"T_2bbcf_row2_col22\" class=\"data row2 col22\" >81</td>\n",
       "      <td id=\"T_2bbcf_row2_col23\" class=\"data row2 col23\" >90</td>\n",
       "      <td id=\"T_2bbcf_row2_col24\" class=\"data row2 col24\" >86</td>\n",
       "      <td id=\"T_2bbcf_row2_col25\" class=\"data row2 col25\" >85</td>\n",
       "      <td id=\"T_2bbcf_row2_col26\" class=\"data row2 col26\" >86</td>\n",
       "      <td id=\"T_2bbcf_row2_col27\" class=\"data row2 col27\" >63</td>\n",
       "      <td id=\"T_2bbcf_row2_col28\" class=\"data row2 col28\" >14</td>\n",
       "      <td id=\"T_2bbcf_row2_col29\" class=\"data row2 col29\" >465</td>\n",
       "      <td id=\"T_2bbcf_row2_col30\" class=\"data row2 col30\" >3</td>\n",
       "      <td id=\"T_2bbcf_row2_col31\" class=\"data row2 col31\" >4</td>\n",
       "      <td id=\"T_2bbcf_row2_col32\" class=\"data row2 col32\" >Medium</td>\n",
       "      <td id=\"T_2bbcf_row2_col33\" class=\"data row2 col33\" >Medium</td>\n",
       "      <td id=\"T_2bbcf_row2_col34\" class=\"data row2 col34\" >4</td>\n",
       "      <td id=\"T_2bbcf_row2_col35\" class=\"data row2 col35\" >79</td>\n",
       "      <td id=\"T_2bbcf_row2_col36\" class=\"data row2 col36\" >85</td>\n",
       "      <td id=\"T_2bbcf_row2_col37\" class=\"data row2 col37\" >84</td>\n",
       "      <td id=\"T_2bbcf_row2_col38\" class=\"data row2 col38\" >88</td>\n",
       "      <td id=\"T_2bbcf_row2_col39\" class=\"data row2 col39\" >57</td>\n",
       "      <td id=\"T_2bbcf_row2_col40\" class=\"data row2 col40\" >72</td>\n",
       "    </tr>\n",
       "    <tr>\n",
       "      <th id=\"T_2bbcf_level0_row3\" class=\"row_heading level0 row3\" >40</th>\n",
       "      <td id=\"T_2bbcf_row3_col0\" class=\"data row3 col0\" >Sergio Busquets</td>\n",
       "      <td id=\"T_2bbcf_row3_col1\" class=\"data row3 col1\" >Sergio Busquets Burgos</td>\n",
       "      <td id=\"T_2bbcf_row3_col2\" class=\"data row3 col2\" >Spain</td>\n",
       "      <td id=\"T_2bbcf_row3_col3\" class=\"data row3 col3\" >31</td>\n",
       "      <td id=\"T_2bbcf_row3_col4\" class=\"data row3 col4\" >87</td>\n",
       "      <td id=\"T_2bbcf_row3_col5\" class=\"data row3 col5\" >FC Barcelona</td>\n",
       "      <td id=\"T_2bbcf_row3_col6\" class=\"data row3 col6\" >CDM, CM</td>\n",
       "      <td id=\"T_2bbcf_row3_col7\" class=\"data row3 col7\" >189cm</td>\n",
       "      <td id=\"T_2bbcf_row3_col8\" class=\"data row3 col8\" >76kg</td>\n",
       "      <td id=\"T_2bbcf_row3_col9\" class=\"data row3 col9\" >Right</td>\n",
       "      <td id=\"T_2bbcf_row3_col10\" class=\"data row3 col10\" >87</td>\n",
       "      <td id=\"T_2bbcf_row3_col11\" class=\"data row3 col11\" >CDM</td>\n",
       "      <td id=\"T_2bbcf_row3_col12\" class=\"data row3 col12\" >56000000.000000</td>\n",
       "      <td id=\"T_2bbcf_row3_col13\" class=\"data row3 col13\" >240000.000000</td>\n",
       "      <td id=\"T_2bbcf_row3_col14\" class=\"data row3 col14\" >77.9M</td>\n",
       "      <td id=\"T_2bbcf_row3_col15\" class=\"data row3 col15\" >386</td>\n",
       "      <td id=\"T_2bbcf_row3_col16\" class=\"data row3 col16\" >81</td>\n",
       "      <td id=\"T_2bbcf_row3_col17\" class=\"data row3 col17\" >68</td>\n",
       "      <td id=\"T_2bbcf_row3_col18\" class=\"data row3 col18\" >83</td>\n",
       "      <td id=\"T_2bbcf_row3_col19\" class=\"data row3 col19\" >88</td>\n",
       "      <td id=\"T_2bbcf_row3_col20\" class=\"data row3 col20\" >40</td>\n",
       "      <td id=\"T_2bbcf_row3_col21\" class=\"data row3 col21\" >43</td>\n",
       "      <td id=\"T_2bbcf_row3_col22\" class=\"data row3 col22\" >61</td>\n",
       "      <td id=\"T_2bbcf_row3_col23\" class=\"data row3 col23\" >66</td>\n",
       "      <td id=\"T_2bbcf_row3_col24\" class=\"data row3 col24\" >81</td>\n",
       "      <td id=\"T_2bbcf_row3_col25\" class=\"data row3 col25\" >84</td>\n",
       "      <td id=\"T_2bbcf_row3_col26\" class=\"data row3 col26\" >60</td>\n",
       "      <td id=\"T_2bbcf_row3_col27\" class=\"data row3 col27\" >48</td>\n",
       "      <td id=\"T_2bbcf_row3_col28\" class=\"data row3 col28\" >13</td>\n",
       "      <td id=\"T_2bbcf_row3_col29\" class=\"data row3 col29\" >424</td>\n",
       "      <td id=\"T_2bbcf_row3_col30\" class=\"data row3 col30\" >3</td>\n",
       "      <td id=\"T_2bbcf_row3_col31\" class=\"data row3 col31\" >3</td>\n",
       "      <td id=\"T_2bbcf_row3_col32\" class=\"data row3 col32\" >Medium</td>\n",
       "      <td id=\"T_2bbcf_row3_col33\" class=\"data row3 col33\" >Medium</td>\n",
       "      <td id=\"T_2bbcf_row3_col34\" class=\"data row3 col34\" >4</td>\n",
       "      <td id=\"T_2bbcf_row3_col35\" class=\"data row3 col35\" >42</td>\n",
       "      <td id=\"T_2bbcf_row3_col36\" class=\"data row3 col36\" >62</td>\n",
       "      <td id=\"T_2bbcf_row3_col37\" class=\"data row3 col37\" >80</td>\n",
       "      <td id=\"T_2bbcf_row3_col38\" class=\"data row3 col38\" >80</td>\n",
       "      <td id=\"T_2bbcf_row3_col39\" class=\"data row3 col39\" >83</td>\n",
       "      <td id=\"T_2bbcf_row3_col40\" class=\"data row3 col40\" >77</td>\n",
       "    </tr>\n",
       "    <tr>\n",
       "      <th id=\"T_2bbcf_level0_row4\" class=\"row_heading level0 row4\" >55</th>\n",
       "      <td id=\"T_2bbcf_row4_col0\" class=\"data row4 col0\" >Piqué</td>\n",
       "      <td id=\"T_2bbcf_row4_col1\" class=\"data row4 col1\" >Gerard Piqué Bernabeu</td>\n",
       "      <td id=\"T_2bbcf_row4_col2\" class=\"data row4 col2\" >Spain</td>\n",
       "      <td id=\"T_2bbcf_row4_col3\" class=\"data row4 col3\" >33</td>\n",
       "      <td id=\"T_2bbcf_row4_col4\" class=\"data row4 col4\" >86</td>\n",
       "      <td id=\"T_2bbcf_row4_col5\" class=\"data row4 col5\" >FC Barcelona</td>\n",
       "      <td id=\"T_2bbcf_row4_col6\" class=\"data row4 col6\" >CB</td>\n",
       "      <td id=\"T_2bbcf_row4_col7\" class=\"data row4 col7\" >194cm</td>\n",
       "      <td id=\"T_2bbcf_row4_col8\" class=\"data row4 col8\" >85kg</td>\n",
       "      <td id=\"T_2bbcf_row4_col9\" class=\"data row4 col9\" >Right</td>\n",
       "      <td id=\"T_2bbcf_row4_col10\" class=\"data row4 col10\" >86</td>\n",
       "      <td id=\"T_2bbcf_row4_col11\" class=\"data row4 col11\" >CB</td>\n",
       "      <td id=\"T_2bbcf_row4_col12\" class=\"data row4 col12\" >32500000.000000</td>\n",
       "      <td id=\"T_2bbcf_row4_col13\" class=\"data row4 col13\" >220000.000000</td>\n",
       "      <td id=\"T_2bbcf_row4_col14\" class=\"data row4 col14\" >43.1M</td>\n",
       "      <td id=\"T_2bbcf_row4_col15\" class=\"data row4 col15\" >325</td>\n",
       "      <td id=\"T_2bbcf_row4_col16\" class=\"data row4 col16\" >63</td>\n",
       "      <td id=\"T_2bbcf_row4_col17\" class=\"data row4 col17\" >43</td>\n",
       "      <td id=\"T_2bbcf_row4_col18\" class=\"data row4 col18\" >81</td>\n",
       "      <td id=\"T_2bbcf_row4_col19\" class=\"data row4 col19\" >80</td>\n",
       "      <td id=\"T_2bbcf_row4_col20\" class=\"data row4 col20\" >48</td>\n",
       "      <td id=\"T_2bbcf_row4_col21\" class=\"data row4 col21\" >64</td>\n",
       "      <td id=\"T_2bbcf_row4_col22\" class=\"data row4 col22\" >62</td>\n",
       "      <td id=\"T_2bbcf_row4_col23\" class=\"data row4 col23\" >74</td>\n",
       "      <td id=\"T_2bbcf_row4_col24\" class=\"data row4 col24\" >69</td>\n",
       "      <td id=\"T_2bbcf_row4_col25\" class=\"data row4 col25\" >72</td>\n",
       "      <td id=\"T_2bbcf_row4_col26\" class=\"data row4 col26\" >69</td>\n",
       "      <td id=\"T_2bbcf_row4_col27\" class=\"data row4 col27\" >58</td>\n",
       "      <td id=\"T_2bbcf_row4_col28\" class=\"data row4 col28\" >8</td>\n",
       "      <td id=\"T_2bbcf_row4_col29\" class=\"data row4 col29\" >422</td>\n",
       "      <td id=\"T_2bbcf_row4_col30\" class=\"data row4 col30\" >3</td>\n",
       "      <td id=\"T_2bbcf_row4_col31\" class=\"data row4 col31\" >2</td>\n",
       "      <td id=\"T_2bbcf_row4_col32\" class=\"data row4 col32\" >High</td>\n",
       "      <td id=\"T_2bbcf_row4_col33\" class=\"data row4 col33\" >Medium</td>\n",
       "      <td id=\"T_2bbcf_row4_col34\" class=\"data row4 col34\" >4</td>\n",
       "      <td id=\"T_2bbcf_row4_col35\" class=\"data row4 col35\" >57</td>\n",
       "      <td id=\"T_2bbcf_row4_col36\" class=\"data row4 col36\" >61</td>\n",
       "      <td id=\"T_2bbcf_row4_col37\" class=\"data row4 col37\" >71</td>\n",
       "      <td id=\"T_2bbcf_row4_col38\" class=\"data row4 col38\" >67</td>\n",
       "      <td id=\"T_2bbcf_row4_col39\" class=\"data row4 col39\" >86</td>\n",
       "      <td id=\"T_2bbcf_row4_col40\" class=\"data row4 col40\" >80</td>\n",
       "    </tr>\n",
       "    <tr>\n",
       "      <th id=\"T_2bbcf_level0_row5\" class=\"row_heading level0 row5\" >60</th>\n",
       "      <td id=\"T_2bbcf_row5_col0\" class=\"data row5 col0\" >Jordi Alba</td>\n",
       "      <td id=\"T_2bbcf_row5_col1\" class=\"data row5 col1\" >Jordi Alba Ramos</td>\n",
       "      <td id=\"T_2bbcf_row5_col2\" class=\"data row5 col2\" >Spain</td>\n",
       "      <td id=\"T_2bbcf_row5_col3\" class=\"data row5 col3\" >31</td>\n",
       "      <td id=\"T_2bbcf_row5_col4\" class=\"data row5 col4\" >86</td>\n",
       "      <td id=\"T_2bbcf_row5_col5\" class=\"data row5 col5\" >FC Barcelona</td>\n",
       "      <td id=\"T_2bbcf_row5_col6\" class=\"data row5 col6\" >LB</td>\n",
       "      <td id=\"T_2bbcf_row5_col7\" class=\"data row5 col7\" >170cm</td>\n",
       "      <td id=\"T_2bbcf_row5_col8\" class=\"data row5 col8\" >68kg</td>\n",
       "      <td id=\"T_2bbcf_row5_col9\" class=\"data row5 col9\" >Left</td>\n",
       "      <td id=\"T_2bbcf_row5_col10\" class=\"data row5 col10\" >86</td>\n",
       "      <td id=\"T_2bbcf_row5_col11\" class=\"data row5 col11\" >LB</td>\n",
       "      <td id=\"T_2bbcf_row5_col12\" class=\"data row5 col12\" >49500000.000000</td>\n",
       "      <td id=\"T_2bbcf_row5_col13\" class=\"data row5 col13\" >220000.000000</td>\n",
       "      <td id=\"T_2bbcf_row5_col14\" class=\"data row5 col14\" >65.6M</td>\n",
       "      <td id=\"T_2bbcf_row5_col15\" class=\"data row5 col15\" >387</td>\n",
       "      <td id=\"T_2bbcf_row5_col16\" class=\"data row5 col16\" >81</td>\n",
       "      <td id=\"T_2bbcf_row5_col17\" class=\"data row5 col17\" >63</td>\n",
       "      <td id=\"T_2bbcf_row5_col18\" class=\"data row5 col18\" >79</td>\n",
       "      <td id=\"T_2bbcf_row5_col19\" class=\"data row5 col19\" >84</td>\n",
       "      <td id=\"T_2bbcf_row5_col20\" class=\"data row5 col20\" >88</td>\n",
       "      <td id=\"T_2bbcf_row5_col21\" class=\"data row5 col21\" >88</td>\n",
       "      <td id=\"T_2bbcf_row5_col22\" class=\"data row5 col22\" >64</td>\n",
       "      <td id=\"T_2bbcf_row5_col23\" class=\"data row5 col23\" >80</td>\n",
       "      <td id=\"T_2bbcf_row5_col24\" class=\"data row5 col24\" >88</td>\n",
       "      <td id=\"T_2bbcf_row5_col25\" class=\"data row5 col25\" >78</td>\n",
       "      <td id=\"T_2bbcf_row5_col26\" class=\"data row5 col26\" >59</td>\n",
       "      <td id=\"T_2bbcf_row5_col27\" class=\"data row5 col27\" >60</td>\n",
       "      <td id=\"T_2bbcf_row5_col28\" class=\"data row5 col28\" >13</td>\n",
       "      <td id=\"T_2bbcf_row5_col29\" class=\"data row5 col29\" >471</td>\n",
       "      <td id=\"T_2bbcf_row5_col30\" class=\"data row5 col30\" >3</td>\n",
       "      <td id=\"T_2bbcf_row5_col31\" class=\"data row5 col31\" >3</td>\n",
       "      <td id=\"T_2bbcf_row5_col32\" class=\"data row5 col32\" >High</td>\n",
       "      <td id=\"T_2bbcf_row5_col33\" class=\"data row5 col33\" >Medium</td>\n",
       "      <td id=\"T_2bbcf_row5_col34\" class=\"data row5 col34\" >3</td>\n",
       "      <td id=\"T_2bbcf_row5_col35\" class=\"data row5 col35\" >88</td>\n",
       "      <td id=\"T_2bbcf_row5_col36\" class=\"data row5 col36\" >69</td>\n",
       "      <td id=\"T_2bbcf_row5_col37\" class=\"data row5 col37\" >81</td>\n",
       "      <td id=\"T_2bbcf_row5_col38\" class=\"data row5 col38\" >83</td>\n",
       "      <td id=\"T_2bbcf_row5_col39\" class=\"data row5 col39\" >78</td>\n",
       "      <td id=\"T_2bbcf_row5_col40\" class=\"data row5 col40\" >72</td>\n",
       "    </tr>\n",
       "    <tr>\n",
       "      <th id=\"T_2bbcf_level0_row6\" class=\"row_heading level0 row6\" >73</th>\n",
       "      <td id=\"T_2bbcf_row6_col0\" class=\"data row6 col0\" >C. Lenglet</td>\n",
       "      <td id=\"T_2bbcf_row6_col1\" class=\"data row6 col1\" >Clément Lenglet</td>\n",
       "      <td id=\"T_2bbcf_row6_col2\" class=\"data row6 col2\" >France</td>\n",
       "      <td id=\"T_2bbcf_row6_col3\" class=\"data row6 col3\" >25</td>\n",
       "      <td id=\"T_2bbcf_row6_col4\" class=\"data row6 col4\" >85</td>\n",
       "      <td id=\"T_2bbcf_row6_col5\" class=\"data row6 col5\" >FC Barcelona</td>\n",
       "      <td id=\"T_2bbcf_row6_col6\" class=\"data row6 col6\" >CB</td>\n",
       "      <td id=\"T_2bbcf_row6_col7\" class=\"data row6 col7\" >186cm</td>\n",
       "      <td id=\"T_2bbcf_row6_col8\" class=\"data row6 col8\" >81kg</td>\n",
       "      <td id=\"T_2bbcf_row6_col9\" class=\"data row6 col9\" >Left</td>\n",
       "      <td id=\"T_2bbcf_row6_col10\" class=\"data row6 col10\" >86</td>\n",
       "      <td id=\"T_2bbcf_row6_col11\" class=\"data row6 col11\" >CB</td>\n",
       "      <td id=\"T_2bbcf_row6_col12\" class=\"data row6 col12\" >67000000.000000</td>\n",
       "      <td id=\"T_2bbcf_row6_col13\" class=\"data row6 col13\" >190000.000000</td>\n",
       "      <td id=\"T_2bbcf_row6_col14\" class=\"data row6 col14\" >94.6M</td>\n",
       "      <td id=\"T_2bbcf_row6_col15\" class=\"data row6 col15\" >297</td>\n",
       "      <td id=\"T_2bbcf_row6_col16\" class=\"data row6 col16\" >57</td>\n",
       "      <td id=\"T_2bbcf_row6_col17\" class=\"data row6 col17\" >31</td>\n",
       "      <td id=\"T_2bbcf_row6_col18\" class=\"data row6 col18\" >74</td>\n",
       "      <td id=\"T_2bbcf_row6_col19\" class=\"data row6 col19\" >76</td>\n",
       "      <td id=\"T_2bbcf_row6_col20\" class=\"data row6 col20\" >76</td>\n",
       "      <td id=\"T_2bbcf_row6_col21\" class=\"data row6 col21\" >72</td>\n",
       "      <td id=\"T_2bbcf_row6_col22\" class=\"data row6 col22\" >58</td>\n",
       "      <td id=\"T_2bbcf_row6_col23\" class=\"data row6 col23\" >85</td>\n",
       "      <td id=\"T_2bbcf_row6_col24\" class=\"data row6 col24\" >75</td>\n",
       "      <td id=\"T_2bbcf_row6_col25\" class=\"data row6 col25\" >66</td>\n",
       "      <td id=\"T_2bbcf_row6_col26\" class=\"data row6 col26\" >49</td>\n",
       "      <td id=\"T_2bbcf_row6_col27\" class=\"data row6 col27\" >48</td>\n",
       "      <td id=\"T_2bbcf_row6_col28\" class=\"data row6 col28\" >7</td>\n",
       "      <td id=\"T_2bbcf_row6_col29\" class=\"data row6 col29\" >419</td>\n",
       "      <td id=\"T_2bbcf_row6_col30\" class=\"data row6 col30\" >4</td>\n",
       "      <td id=\"T_2bbcf_row6_col31\" class=\"data row6 col31\" >2</td>\n",
       "      <td id=\"T_2bbcf_row6_col32\" class=\"data row6 col32\" >Medium</td>\n",
       "      <td id=\"T_2bbcf_row6_col33\" class=\"data row6 col33\" >High</td>\n",
       "      <td id=\"T_2bbcf_row6_col34\" class=\"data row6 col34\" >2</td>\n",
       "      <td id=\"T_2bbcf_row6_col35\" class=\"data row6 col35\" >74</td>\n",
       "      <td id=\"T_2bbcf_row6_col36\" class=\"data row6 col36\" >45</td>\n",
       "      <td id=\"T_2bbcf_row6_col37\" class=\"data row6 col37\" >67</td>\n",
       "      <td id=\"T_2bbcf_row6_col38\" class=\"data row6 col38\" >65</td>\n",
       "      <td id=\"T_2bbcf_row6_col39\" class=\"data row6 col39\" >87</td>\n",
       "      <td id=\"T_2bbcf_row6_col40\" class=\"data row6 col40\" >81</td>\n",
       "    </tr>\n",
       "    <tr>\n",
       "      <th id=\"T_2bbcf_level0_row7\" class=\"row_heading level0 row7\" >80</th>\n",
       "      <td id=\"T_2bbcf_row7_col0\" class=\"data row7 col0\" >F. de Jong</td>\n",
       "      <td id=\"T_2bbcf_row7_col1\" class=\"data row7 col1\" >Frenkie de Jong</td>\n",
       "      <td id=\"T_2bbcf_row7_col2\" class=\"data row7 col2\" >Netherlands</td>\n",
       "      <td id=\"T_2bbcf_row7_col3\" class=\"data row7 col3\" >23</td>\n",
       "      <td id=\"T_2bbcf_row7_col4\" class=\"data row7 col4\" >85</td>\n",
       "      <td id=\"T_2bbcf_row7_col5\" class=\"data row7 col5\" >FC Barcelona</td>\n",
       "      <td id=\"T_2bbcf_row7_col6\" class=\"data row7 col6\" >CM</td>\n",
       "      <td id=\"T_2bbcf_row7_col7\" class=\"data row7 col7\" >180cm</td>\n",
       "      <td id=\"T_2bbcf_row7_col8\" class=\"data row7 col8\" >74kg</td>\n",
       "      <td id=\"T_2bbcf_row7_col9\" class=\"data row7 col9\" >Right</td>\n",
       "      <td id=\"T_2bbcf_row7_col10\" class=\"data row7 col10\" >87</td>\n",
       "      <td id=\"T_2bbcf_row7_col11\" class=\"data row7 col11\" >CM</td>\n",
       "      <td id=\"T_2bbcf_row7_col12\" class=\"data row7 col12\" >81000000.000000</td>\n",
       "      <td id=\"T_2bbcf_row7_col13\" class=\"data row7 col13\" >190000.000000</td>\n",
       "      <td id=\"T_2bbcf_row7_col14\" class=\"data row7 col14\" >107.3M</td>\n",
       "      <td id=\"T_2bbcf_row7_col15\" class=\"data row7 col15\" >409</td>\n",
       "      <td id=\"T_2bbcf_row7_col16\" class=\"data row7 col16\" >87</td>\n",
       "      <td id=\"T_2bbcf_row7_col17\" class=\"data row7 col17\" >64</td>\n",
       "      <td id=\"T_2bbcf_row7_col18\" class=\"data row7 col18\" >86</td>\n",
       "      <td id=\"T_2bbcf_row7_col19\" class=\"data row7 col19\" >88</td>\n",
       "      <td id=\"T_2bbcf_row7_col20\" class=\"data row7 col20\" >80</td>\n",
       "      <td id=\"T_2bbcf_row7_col21\" class=\"data row7 col21\" >80</td>\n",
       "      <td id=\"T_2bbcf_row7_col22\" class=\"data row7 col22\" >68</td>\n",
       "      <td id=\"T_2bbcf_row7_col23\" class=\"data row7 col23\" >76</td>\n",
       "      <td id=\"T_2bbcf_row7_col24\" class=\"data row7 col24\" >90</td>\n",
       "      <td id=\"T_2bbcf_row7_col25\" class=\"data row7 col25\" >86</td>\n",
       "      <td id=\"T_2bbcf_row7_col26\" class=\"data row7 col26\" >45</td>\n",
       "      <td id=\"T_2bbcf_row7_col27\" class=\"data row7 col27\" >49</td>\n",
       "      <td id=\"T_2bbcf_row7_col28\" class=\"data row7 col28\" >9</td>\n",
       "      <td id=\"T_2bbcf_row7_col29\" class=\"data row7 col29\" >468</td>\n",
       "      <td id=\"T_2bbcf_row7_col30\" class=\"data row7 col30\" >3</td>\n",
       "      <td id=\"T_2bbcf_row7_col31\" class=\"data row7 col31\" >4</td>\n",
       "      <td id=\"T_2bbcf_row7_col32\" class=\"data row7 col32\" >Medium</td>\n",
       "      <td id=\"T_2bbcf_row7_col33\" class=\"data row7 col33\" >High</td>\n",
       "      <td id=\"T_2bbcf_row7_col34\" class=\"data row7 col34\" >3</td>\n",
       "      <td id=\"T_2bbcf_row7_col35\" class=\"data row7 col35\" >80</td>\n",
       "      <td id=\"T_2bbcf_row7_col36\" class=\"data row7 col36\" >64</td>\n",
       "      <td id=\"T_2bbcf_row7_col37\" class=\"data row7 col37\" >84</td>\n",
       "      <td id=\"T_2bbcf_row7_col38\" class=\"data row7 col38\" >87</td>\n",
       "      <td id=\"T_2bbcf_row7_col39\" class=\"data row7 col39\" >76</td>\n",
       "      <td id=\"T_2bbcf_row7_col40\" class=\"data row7 col40\" >77</td>\n",
       "    </tr>\n",
       "    <tr>\n",
       "      <th id=\"T_2bbcf_level0_row8\" class=\"row_heading level0 row8\" >97</th>\n",
       "      <td id=\"T_2bbcf_row8_col0\" class=\"data row8 col0\" >M. Pjanić</td>\n",
       "      <td id=\"T_2bbcf_row8_col1\" class=\"data row8 col1\" >Miralem Pjanić</td>\n",
       "      <td id=\"T_2bbcf_row8_col2\" class=\"data row8 col2\" >Bosnia Herzegovina</td>\n",
       "      <td id=\"T_2bbcf_row8_col3\" class=\"data row8 col3\" >30</td>\n",
       "      <td id=\"T_2bbcf_row8_col4\" class=\"data row8 col4\" >85</td>\n",
       "      <td id=\"T_2bbcf_row8_col5\" class=\"data row8 col5\" >FC Barcelona</td>\n",
       "      <td id=\"T_2bbcf_row8_col6\" class=\"data row8 col6\" >CM</td>\n",
       "      <td id=\"T_2bbcf_row8_col7\" class=\"data row8 col7\" >178cm</td>\n",
       "      <td id=\"T_2bbcf_row8_col8\" class=\"data row8 col8\" >72kg</td>\n",
       "      <td id=\"T_2bbcf_row8_col9\" class=\"data row8 col9\" >Right</td>\n",
       "      <td id=\"T_2bbcf_row8_col10\" class=\"data row8 col10\" >85</td>\n",
       "      <td id=\"T_2bbcf_row8_col11\" class=\"data row8 col11\" >CM</td>\n",
       "      <td id=\"T_2bbcf_row8_col12\" class=\"data row8 col12\" >51500000.000000</td>\n",
       "      <td id=\"T_2bbcf_row8_col13\" class=\"data row8 col13\" >220000.000000</td>\n",
       "      <td id=\"T_2bbcf_row8_col14\" class=\"data row8 col14\" >72.8M</td>\n",
       "      <td id=\"T_2bbcf_row8_col15\" class=\"data row8 col15\" >440</td>\n",
       "      <td id=\"T_2bbcf_row8_col16\" class=\"data row8 col16\" >86</td>\n",
       "      <td id=\"T_2bbcf_row8_col17\" class=\"data row8 col17\" >92</td>\n",
       "      <td id=\"T_2bbcf_row8_col18\" class=\"data row8 col18\" >87</td>\n",
       "      <td id=\"T_2bbcf_row8_col19\" class=\"data row8 col19\" >89</td>\n",
       "      <td id=\"T_2bbcf_row8_col20\" class=\"data row8 col20\" >68</td>\n",
       "      <td id=\"T_2bbcf_row8_col21\" class=\"data row8 col21\" >66</td>\n",
       "      <td id=\"T_2bbcf_row8_col22\" class=\"data row8 col22\" >78</td>\n",
       "      <td id=\"T_2bbcf_row8_col23\" class=\"data row8 col23\" >59</td>\n",
       "      <td id=\"T_2bbcf_row8_col24\" class=\"data row8 col24\" >81</td>\n",
       "      <td id=\"T_2bbcf_row8_col25\" class=\"data row8 col25\" >88</td>\n",
       "      <td id=\"T_2bbcf_row8_col26\" class=\"data row8 col26\" >79</td>\n",
       "      <td id=\"T_2bbcf_row8_col27\" class=\"data row8 col27\" >42</td>\n",
       "      <td id=\"T_2bbcf_row8_col28\" class=\"data row8 col28\" >8</td>\n",
       "      <td id=\"T_2bbcf_row8_col29\" class=\"data row8 col29\" >449</td>\n",
       "      <td id=\"T_2bbcf_row8_col30\" class=\"data row8 col30\" >4</td>\n",
       "      <td id=\"T_2bbcf_row8_col31\" class=\"data row8 col31\" >3</td>\n",
       "      <td id=\"T_2bbcf_row8_col32\" class=\"data row8 col32\" >Medium</td>\n",
       "      <td id=\"T_2bbcf_row8_col33\" class=\"data row8 col33\" >Medium</td>\n",
       "      <td id=\"T_2bbcf_row8_col34\" class=\"data row8 col34\" >3</td>\n",
       "      <td id=\"T_2bbcf_row8_col35\" class=\"data row8 col35\" >67</td>\n",
       "      <td id=\"T_2bbcf_row8_col36\" class=\"data row8 col36\" >68</td>\n",
       "      <td id=\"T_2bbcf_row8_col37\" class=\"data row8 col37\" >87</td>\n",
       "      <td id=\"T_2bbcf_row8_col38\" class=\"data row8 col38\" >85</td>\n",
       "      <td id=\"T_2bbcf_row8_col39\" class=\"data row8 col39\" >75</td>\n",
       "      <td id=\"T_2bbcf_row8_col40\" class=\"data row8 col40\" >67</td>\n",
       "    </tr>\n",
       "    <tr>\n",
       "      <th id=\"T_2bbcf_level0_row9\" class=\"row_heading level0 row9\" >144</th>\n",
       "      <td id=\"T_2bbcf_row9_col0\" class=\"data row9 col0\" >O. Dembélé</td>\n",
       "      <td id=\"T_2bbcf_row9_col1\" class=\"data row9 col1\" >Ousmane Dembélé</td>\n",
       "      <td id=\"T_2bbcf_row9_col2\" class=\"data row9 col2\" >France</td>\n",
       "      <td id=\"T_2bbcf_row9_col3\" class=\"data row9 col3\" >23</td>\n",
       "      <td id=\"T_2bbcf_row9_col4\" class=\"data row9 col4\" >83</td>\n",
       "      <td id=\"T_2bbcf_row9_col5\" class=\"data row9 col5\" >FC Barcelona</td>\n",
       "      <td id=\"T_2bbcf_row9_col6\" class=\"data row9 col6\" >LW, RW</td>\n",
       "      <td id=\"T_2bbcf_row9_col7\" class=\"data row9 col7\" >178cm</td>\n",
       "      <td id=\"T_2bbcf_row9_col8\" class=\"data row9 col8\" >67kg</td>\n",
       "      <td id=\"T_2bbcf_row9_col9\" class=\"data row9 col9\" >Left</td>\n",
       "      <td id=\"T_2bbcf_row9_col10\" class=\"data row9 col10\" >85</td>\n",
       "      <td id=\"T_2bbcf_row9_col11\" class=\"data row9 col11\" >LM</td>\n",
       "      <td id=\"T_2bbcf_row9_col12\" class=\"data row9 col12\" >57500000.000000</td>\n",
       "      <td id=\"T_2bbcf_row9_col13\" class=\"data row9 col13\" >175000.000000</td>\n",
       "      <td id=\"T_2bbcf_row9_col14\" class=\"data row9 col14\" >79.9M</td>\n",
       "      <td id=\"T_2bbcf_row9_col15\" class=\"data row9 col15\" >395</td>\n",
       "      <td id=\"T_2bbcf_row9_col16\" class=\"data row9 col16\" >89</td>\n",
       "      <td id=\"T_2bbcf_row9_col17\" class=\"data row9 col17\" >64</td>\n",
       "      <td id=\"T_2bbcf_row9_col18\" class=\"data row9 col18\" >76</td>\n",
       "      <td id=\"T_2bbcf_row9_col19\" class=\"data row9 col19\" >84</td>\n",
       "      <td id=\"T_2bbcf_row9_col20\" class=\"data row9 col20\" >93</td>\n",
       "      <td id=\"T_2bbcf_row9_col21\" class=\"data row9 col21\" >92</td>\n",
       "      <td id=\"T_2bbcf_row9_col22\" class=\"data row9 col22\" >83</td>\n",
       "      <td id=\"T_2bbcf_row9_col23\" class=\"data row9 col23\" >58</td>\n",
       "      <td id=\"T_2bbcf_row9_col24\" class=\"data row9 col24\" >68</td>\n",
       "      <td id=\"T_2bbcf_row9_col25\" class=\"data row9 col25\" >76</td>\n",
       "      <td id=\"T_2bbcf_row9_col26\" class=\"data row9 col26\" >75</td>\n",
       "      <td id=\"T_2bbcf_row9_col27\" class=\"data row9 col27\" >49</td>\n",
       "      <td id=\"T_2bbcf_row9_col28\" class=\"data row9 col28\" >13</td>\n",
       "      <td id=\"T_2bbcf_row9_col29\" class=\"data row9 col29\" >425</td>\n",
       "      <td id=\"T_2bbcf_row9_col30\" class=\"data row9 col30\" >5</td>\n",
       "      <td id=\"T_2bbcf_row9_col31\" class=\"data row9 col31\" >5</td>\n",
       "      <td id=\"T_2bbcf_row9_col32\" class=\"data row9 col32\" >High</td>\n",
       "      <td id=\"T_2bbcf_row9_col33\" class=\"data row9 col33\" >Medium</td>\n",
       "      <td id=\"T_2bbcf_row9_col34\" class=\"data row9 col34\" >3</td>\n",
       "      <td id=\"T_2bbcf_row9_col35\" class=\"data row9 col35\" >92</td>\n",
       "      <td id=\"T_2bbcf_row9_col36\" class=\"data row9 col36\" >77</td>\n",
       "      <td id=\"T_2bbcf_row9_col37\" class=\"data row9 col37\" >77</td>\n",
       "      <td id=\"T_2bbcf_row9_col38\" class=\"data row9 col38\" >87</td>\n",
       "      <td id=\"T_2bbcf_row9_col39\" class=\"data row9 col39\" >36</td>\n",
       "      <td id=\"T_2bbcf_row9_col40\" class=\"data row9 col40\" >56</td>\n",
       "    </tr>\n",
       "    <tr>\n",
       "      <th id=\"T_2bbcf_level0_row10\" class=\"row_heading level0 row10\" >171</th>\n",
       "      <td id=\"T_2bbcf_row10_col0\" class=\"data row10 col0\" >S. Umtiti</td>\n",
       "      <td id=\"T_2bbcf_row10_col1\" class=\"data row10 col1\" >Samuel Umtiti</td>\n",
       "      <td id=\"T_2bbcf_row10_col2\" class=\"data row10 col2\" >France</td>\n",
       "      <td id=\"T_2bbcf_row10_col3\" class=\"data row10 col3\" >26</td>\n",
       "      <td id=\"T_2bbcf_row10_col4\" class=\"data row10 col4\" >83</td>\n",
       "      <td id=\"T_2bbcf_row10_col5\" class=\"data row10 col5\" >FC Barcelona</td>\n",
       "      <td id=\"T_2bbcf_row10_col6\" class=\"data row10 col6\" >CB</td>\n",
       "      <td id=\"T_2bbcf_row10_col7\" class=\"data row10 col7\" >182cm</td>\n",
       "      <td id=\"T_2bbcf_row10_col8\" class=\"data row10 col8\" >75kg</td>\n",
       "      <td id=\"T_2bbcf_row10_col9\" class=\"data row10 col9\" >Left</td>\n",
       "      <td id=\"T_2bbcf_row10_col10\" class=\"data row10 col10\" >85</td>\n",
       "      <td id=\"T_2bbcf_row10_col11\" class=\"data row10 col11\" >CB</td>\n",
       "      <td id=\"T_2bbcf_row10_col12\" class=\"data row10 col12\" >42000000.000000</td>\n",
       "      <td id=\"T_2bbcf_row10_col13\" class=\"data row10 col13\" >170000.000000</td>\n",
       "      <td id=\"T_2bbcf_row10_col14\" class=\"data row10 col14\" >60.6M</td>\n",
       "      <td id=\"T_2bbcf_row10_col15\" class=\"data row10 col15\" >348</td>\n",
       "      <td id=\"T_2bbcf_row10_col16\" class=\"data row10 col16\" >64</td>\n",
       "      <td id=\"T_2bbcf_row10_col17\" class=\"data row10 col17\" >62</td>\n",
       "      <td id=\"T_2bbcf_row10_col18\" class=\"data row10 col18\" >73</td>\n",
       "      <td id=\"T_2bbcf_row10_col19\" class=\"data row10 col19\" >77</td>\n",
       "      <td id=\"T_2bbcf_row10_col20\" class=\"data row10 col20\" >65</td>\n",
       "      <td id=\"T_2bbcf_row10_col21\" class=\"data row10 col21\" >67</td>\n",
       "      <td id=\"T_2bbcf_row10_col22\" class=\"data row10 col22\" >83</td>\n",
       "      <td id=\"T_2bbcf_row10_col23\" class=\"data row10 col23\" >85</td>\n",
       "      <td id=\"T_2bbcf_row10_col24\" class=\"data row10 col24\" >65</td>\n",
       "      <td id=\"T_2bbcf_row10_col25\" class=\"data row10 col25\" >58</td>\n",
       "      <td id=\"T_2bbcf_row10_col26\" class=\"data row10 col26\" >61</td>\n",
       "      <td id=\"T_2bbcf_row10_col27\" class=\"data row10 col27\" >66</td>\n",
       "      <td id=\"T_2bbcf_row10_col28\" class=\"data row10 col28\" >15</td>\n",
       "      <td id=\"T_2bbcf_row10_col29\" class=\"data row10 col29\" >428</td>\n",
       "      <td id=\"T_2bbcf_row10_col30\" class=\"data row10 col30\" >3</td>\n",
       "      <td id=\"T_2bbcf_row10_col31\" class=\"data row10 col31\" >2</td>\n",
       "      <td id=\"T_2bbcf_row10_col32\" class=\"data row10 col32\" >Medium</td>\n",
       "      <td id=\"T_2bbcf_row10_col33\" class=\"data row10 col33\" >Medium</td>\n",
       "      <td id=\"T_2bbcf_row10_col34\" class=\"data row10 col34\" >3</td>\n",
       "      <td id=\"T_2bbcf_row10_col35\" class=\"data row10 col35\" >66</td>\n",
       "      <td id=\"T_2bbcf_row10_col36\" class=\"data row10 col36\" >62</td>\n",
       "      <td id=\"T_2bbcf_row10_col37\" class=\"data row10 col37\" >69</td>\n",
       "      <td id=\"T_2bbcf_row10_col38\" class=\"data row10 col38\" >69</td>\n",
       "      <td id=\"T_2bbcf_row10_col39\" class=\"data row10 col39\" >83</td>\n",
       "      <td id=\"T_2bbcf_row10_col40\" class=\"data row10 col40\" >79</td>\n",
       "    </tr>\n",
       "    <tr>\n",
       "      <th id=\"T_2bbcf_level0_row11\" class=\"row_heading level0 row11\" >182</th>\n",
       "      <td id=\"T_2bbcf_row11_col0\" class=\"data row11 col0\" >Sergi Roberto</td>\n",
       "      <td id=\"T_2bbcf_row11_col1\" class=\"data row11 col1\" >Sergio Roberto Carnicer</td>\n",
       "      <td id=\"T_2bbcf_row11_col2\" class=\"data row11 col2\" >Spain</td>\n",
       "      <td id=\"T_2bbcf_row11_col3\" class=\"data row11 col3\" >28</td>\n",
       "      <td id=\"T_2bbcf_row11_col4\" class=\"data row11 col4\" >83</td>\n",
       "      <td id=\"T_2bbcf_row11_col5\" class=\"data row11 col5\" >FC Barcelona</td>\n",
       "      <td id=\"T_2bbcf_row11_col6\" class=\"data row11 col6\" >RB, CM</td>\n",
       "      <td id=\"T_2bbcf_row11_col7\" class=\"data row11 col7\" >178cm</td>\n",
       "      <td id=\"T_2bbcf_row11_col8\" class=\"data row11 col8\" >68kg</td>\n",
       "      <td id=\"T_2bbcf_row11_col9\" class=\"data row11 col9\" >Right</td>\n",
       "      <td id=\"T_2bbcf_row11_col10\" class=\"data row11 col10\" >83</td>\n",
       "      <td id=\"T_2bbcf_row11_col11\" class=\"data row11 col11\" >RB</td>\n",
       "      <td id=\"T_2bbcf_row11_col12\" class=\"data row11 col12\" >33000000.000000</td>\n",
       "      <td id=\"T_2bbcf_row11_col13\" class=\"data row11 col13\" >175000.000000</td>\n",
       "      <td id=\"T_2bbcf_row11_col14\" class=\"data row11 col14\" >45.1M</td>\n",
       "      <td id=\"T_2bbcf_row11_col15\" class=\"data row11 col15\" >376</td>\n",
       "      <td id=\"T_2bbcf_row11_col16\" class=\"data row11 col16\" >78</td>\n",
       "      <td id=\"T_2bbcf_row11_col17\" class=\"data row11 col17\" >60</td>\n",
       "      <td id=\"T_2bbcf_row11_col18\" class=\"data row11 col18\" >78</td>\n",
       "      <td id=\"T_2bbcf_row11_col19\" class=\"data row11 col19\" >82</td>\n",
       "      <td id=\"T_2bbcf_row11_col20\" class=\"data row11 col20\" >75</td>\n",
       "      <td id=\"T_2bbcf_row11_col21\" class=\"data row11 col21\" >79</td>\n",
       "      <td id=\"T_2bbcf_row11_col22\" class=\"data row11 col22\" >65</td>\n",
       "      <td id=\"T_2bbcf_row11_col23\" class=\"data row11 col23\" >43</td>\n",
       "      <td id=\"T_2bbcf_row11_col24\" class=\"data row11 col24\" >92</td>\n",
       "      <td id=\"T_2bbcf_row11_col25\" class=\"data row11 col25\" >83</td>\n",
       "      <td id=\"T_2bbcf_row11_col26\" class=\"data row11 col26\" >57</td>\n",
       "      <td id=\"T_2bbcf_row11_col27\" class=\"data row11 col27\" >66</td>\n",
       "      <td id=\"T_2bbcf_row11_col28\" class=\"data row11 col28\" >10</td>\n",
       "      <td id=\"T_2bbcf_row11_col29\" class=\"data row11 col29\" >449</td>\n",
       "      <td id=\"T_2bbcf_row11_col30\" class=\"data row11 col30\" >3</td>\n",
       "      <td id=\"T_2bbcf_row11_col31\" class=\"data row11 col31\" >4</td>\n",
       "      <td id=\"T_2bbcf_row11_col32\" class=\"data row11 col32\" >Medium</td>\n",
       "      <td id=\"T_2bbcf_row11_col33\" class=\"data row11 col33\" >Medium</td>\n",
       "      <td id=\"T_2bbcf_row11_col34\" class=\"data row11 col34\" >3</td>\n",
       "      <td id=\"T_2bbcf_row11_col35\" class=\"data row11 col35\" >77</td>\n",
       "      <td id=\"T_2bbcf_row11_col36\" class=\"data row11 col36\" >63</td>\n",
       "      <td id=\"T_2bbcf_row11_col37\" class=\"data row11 col37\" >81</td>\n",
       "      <td id=\"T_2bbcf_row11_col38\" class=\"data row11 col38\" >78</td>\n",
       "      <td id=\"T_2bbcf_row11_col39\" class=\"data row11 col39\" >77</td>\n",
       "      <td id=\"T_2bbcf_row11_col40\" class=\"data row11 col40\" >73</td>\n",
       "    </tr>\n",
       "    <tr>\n",
       "      <th id=\"T_2bbcf_level0_row12\" class=\"row_heading level0 row12\" >192</th>\n",
       "      <td id=\"T_2bbcf_row12_col0\" class=\"data row12 col0\" >Coutinho</td>\n",
       "      <td id=\"T_2bbcf_row12_col1\" class=\"data row12 col1\" >Philippe Coutinho Correia</td>\n",
       "      <td id=\"T_2bbcf_row12_col2\" class=\"data row12 col2\" >Brazil</td>\n",
       "      <td id=\"T_2bbcf_row12_col3\" class=\"data row12 col3\" >28</td>\n",
       "      <td id=\"T_2bbcf_row12_col4\" class=\"data row12 col4\" >83</td>\n",
       "      <td id=\"T_2bbcf_row12_col5\" class=\"data row12 col5\" >FC Barcelona</td>\n",
       "      <td id=\"T_2bbcf_row12_col6\" class=\"data row12 col6\" >CAM, LW, CM</td>\n",
       "      <td id=\"T_2bbcf_row12_col7\" class=\"data row12 col7\" >172cm</td>\n",
       "      <td id=\"T_2bbcf_row12_col8\" class=\"data row12 col8\" >68kg</td>\n",
       "      <td id=\"T_2bbcf_row12_col9\" class=\"data row12 col9\" >Right</td>\n",
       "      <td id=\"T_2bbcf_row12_col10\" class=\"data row12 col10\" >83</td>\n",
       "      <td id=\"T_2bbcf_row12_col11\" class=\"data row12 col11\" >CAM</td>\n",
       "      <td id=\"T_2bbcf_row12_col12\" class=\"data row12 col12\" >36500000.000000</td>\n",
       "      <td id=\"T_2bbcf_row12_col13\" class=\"data row12 col13\" >190000.000000</td>\n",
       "      <td id=\"T_2bbcf_row12_col14\" class=\"data row12 col14\" >53.3M</td>\n",
       "      <td id=\"T_2bbcf_row12_col15\" class=\"data row12 col15\" >432</td>\n",
       "      <td id=\"T_2bbcf_row12_col16\" class=\"data row12 col16\" >89</td>\n",
       "      <td id=\"T_2bbcf_row12_col17\" class=\"data row12 col17\" >86</td>\n",
       "      <td id=\"T_2bbcf_row12_col18\" class=\"data row12 col18\" >78</td>\n",
       "      <td id=\"T_2bbcf_row12_col19\" class=\"data row12 col19\" >89</td>\n",
       "      <td id=\"T_2bbcf_row12_col20\" class=\"data row12 col20\" >77</td>\n",
       "      <td id=\"T_2bbcf_row12_col21\" class=\"data row12 col21\" >68</td>\n",
       "      <td id=\"T_2bbcf_row12_col22\" class=\"data row12 col22\" >82</td>\n",
       "      <td id=\"T_2bbcf_row12_col23\" class=\"data row12 col23\" >58</td>\n",
       "      <td id=\"T_2bbcf_row12_col24\" class=\"data row12 col24\" >74</td>\n",
       "      <td id=\"T_2bbcf_row12_col25\" class=\"data row12 col25\" >83</td>\n",
       "      <td id=\"T_2bbcf_row12_col26\" class=\"data row12 col26\" >70</td>\n",
       "      <td id=\"T_2bbcf_row12_col27\" class=\"data row12 col27\" >48</td>\n",
       "      <td id=\"T_2bbcf_row12_col28\" class=\"data row12 col28\" >6</td>\n",
       "      <td id=\"T_2bbcf_row12_col29\" class=\"data row12 col29\" >433</td>\n",
       "      <td id=\"T_2bbcf_row12_col30\" class=\"data row12 col30\" >4</td>\n",
       "      <td id=\"T_2bbcf_row12_col31\" class=\"data row12 col31\" >5</td>\n",
       "      <td id=\"T_2bbcf_row12_col32\" class=\"data row12 col32\" >High</td>\n",
       "      <td id=\"T_2bbcf_row12_col33\" class=\"data row12 col33\" >Medium</td>\n",
       "      <td id=\"T_2bbcf_row12_col34\" class=\"data row12 col34\" >4</td>\n",
       "      <td id=\"T_2bbcf_row12_col35\" class=\"data row12 col35\" >72</td>\n",
       "      <td id=\"T_2bbcf_row12_col36\" class=\"data row12 col36\" >79</td>\n",
       "      <td id=\"T_2bbcf_row12_col37\" class=\"data row12 col37\" >82</td>\n",
       "      <td id=\"T_2bbcf_row12_col38\" class=\"data row12 col38\" >89</td>\n",
       "      <td id=\"T_2bbcf_row12_col39\" class=\"data row12 col39\" >52</td>\n",
       "      <td id=\"T_2bbcf_row12_col40\" class=\"data row12 col40\" >59</td>\n",
       "    </tr>\n",
       "    <tr>\n",
       "      <th id=\"T_2bbcf_level0_row13\" class=\"row_heading level0 row13\" >250</th>\n",
       "      <td id=\"T_2bbcf_row13_col0\" class=\"data row13 col0\" >Neto</td>\n",
       "      <td id=\"T_2bbcf_row13_col1\" class=\"data row13 col1\" >Norberto Murara Neto</td>\n",
       "      <td id=\"T_2bbcf_row13_col2\" class=\"data row13 col2\" >Brazil</td>\n",
       "      <td id=\"T_2bbcf_row13_col3\" class=\"data row13 col3\" >30</td>\n",
       "      <td id=\"T_2bbcf_row13_col4\" class=\"data row13 col4\" >82</td>\n",
       "      <td id=\"T_2bbcf_row13_col5\" class=\"data row13 col5\" >FC Barcelona</td>\n",
       "      <td id=\"T_2bbcf_row13_col6\" class=\"data row13 col6\" >GK</td>\n",
       "      <td id=\"T_2bbcf_row13_col7\" class=\"data row13 col7\" >190cm</td>\n",
       "      <td id=\"T_2bbcf_row13_col8\" class=\"data row13 col8\" >84kg</td>\n",
       "      <td id=\"T_2bbcf_row13_col9\" class=\"data row13 col9\" >Right</td>\n",
       "      <td id=\"T_2bbcf_row13_col10\" class=\"data row13 col10\" >82</td>\n",
       "      <td id=\"T_2bbcf_row13_col11\" class=\"data row13 col11\" >GK</td>\n",
       "      <td id=\"T_2bbcf_row13_col12\" class=\"data row13 col12\" >20500000.000000</td>\n",
       "      <td id=\"T_2bbcf_row13_col13\" class=\"data row13 col13\" >125000.000000</td>\n",
       "      <td id=\"T_2bbcf_row13_col14\" class=\"data row13 col14\" >30.8M</td>\n",
       "      <td id=\"T_2bbcf_row13_col15\" class=\"data row13 col15\" >109</td>\n",
       "      <td id=\"T_2bbcf_row13_col16\" class=\"data row13 col16\" >19</td>\n",
       "      <td id=\"T_2bbcf_row13_col17\" class=\"data row13 col17\" >13</td>\n",
       "      <td id=\"T_2bbcf_row13_col18\" class=\"data row13 col18\" >41</td>\n",
       "      <td id=\"T_2bbcf_row13_col19\" class=\"data row13 col19\" >24</td>\n",
       "      <td id=\"T_2bbcf_row13_col20\" class=\"data row13 col20\" >56</td>\n",
       "      <td id=\"T_2bbcf_row13_col21\" class=\"data row13 col21\" >52</td>\n",
       "      <td id=\"T_2bbcf_row13_col22\" class=\"data row13 col22\" >59</td>\n",
       "      <td id=\"T_2bbcf_row13_col23\" class=\"data row13 col23\" >83</td>\n",
       "      <td id=\"T_2bbcf_row13_col24\" class=\"data row13 col24\" >41</td>\n",
       "      <td id=\"T_2bbcf_row13_col25\" class=\"data row13 col25\" >42</td>\n",
       "      <td id=\"T_2bbcf_row13_col26\" class=\"data row13 col26\" >22</td>\n",
       "      <td id=\"T_2bbcf_row13_col27\" class=\"data row13 col27\" >400</td>\n",
       "      <td id=\"T_2bbcf_row13_col28\" class=\"data row13 col28\" >80</td>\n",
       "      <td id=\"T_2bbcf_row13_col29\" class=\"data row13 col29\" >454</td>\n",
       "      <td id=\"T_2bbcf_row13_col30\" class=\"data row13 col30\" >2</td>\n",
       "      <td id=\"T_2bbcf_row13_col31\" class=\"data row13 col31\" >1</td>\n",
       "      <td id=\"T_2bbcf_row13_col32\" class=\"data row13 col32\" >Medium</td>\n",
       "      <td id=\"T_2bbcf_row13_col33\" class=\"data row13 col33\" >Medium</td>\n",
       "      <td id=\"T_2bbcf_row13_col34\" class=\"data row13 col34\" >2</td>\n",
       "      <td id=\"T_2bbcf_row13_col35\" class=\"data row13 col35\" >84</td>\n",
       "      <td id=\"T_2bbcf_row13_col36\" class=\"data row13 col36\" >79</td>\n",
       "      <td id=\"T_2bbcf_row13_col37\" class=\"data row13 col37\" >78</td>\n",
       "      <td id=\"T_2bbcf_row13_col38\" class=\"data row13 col38\" >80</td>\n",
       "      <td id=\"T_2bbcf_row13_col39\" class=\"data row13 col39\" >54</td>\n",
       "      <td id=\"T_2bbcf_row13_col40\" class=\"data row13 col40\" >79</td>\n",
       "    </tr>\n",
       "    <tr>\n",
       "      <th id=\"T_2bbcf_level0_row14\" class=\"row_heading level0 row14\" >518</th>\n",
       "      <td id=\"T_2bbcf_row14_col0\" class=\"data row14 col0\" >Junior Firpo</td>\n",
       "      <td id=\"T_2bbcf_row14_col1\" class=\"data row14 col1\" >Héctor Junior Firpo Adamés</td>\n",
       "      <td id=\"T_2bbcf_row14_col2\" class=\"data row14 col2\" >Spain</td>\n",
       "      <td id=\"T_2bbcf_row14_col3\" class=\"data row14 col3\" >23</td>\n",
       "      <td id=\"T_2bbcf_row14_col4\" class=\"data row14 col4\" >79</td>\n",
       "      <td id=\"T_2bbcf_row14_col5\" class=\"data row14 col5\" >FC Barcelona</td>\n",
       "      <td id=\"T_2bbcf_row14_col6\" class=\"data row14 col6\" >LB, LM</td>\n",
       "      <td id=\"T_2bbcf_row14_col7\" class=\"data row14 col7\" >184cm</td>\n",
       "      <td id=\"T_2bbcf_row14_col8\" class=\"data row14 col8\" >78kg</td>\n",
       "      <td id=\"T_2bbcf_row14_col9\" class=\"data row14 col9\" >Left</td>\n",
       "      <td id=\"T_2bbcf_row14_col10\" class=\"data row14 col10\" >79</td>\n",
       "      <td id=\"T_2bbcf_row14_col11\" class=\"data row14 col11\" >LB</td>\n",
       "      <td id=\"T_2bbcf_row14_col12\" class=\"data row14 col12\" >26000000.000000</td>\n",
       "      <td id=\"T_2bbcf_row14_col13\" class=\"data row14 col13\" >110000.000000</td>\n",
       "      <td id=\"T_2bbcf_row14_col14\" class=\"data row14 col14\" >34.9M</td>\n",
       "      <td id=\"T_2bbcf_row14_col15\" class=\"data row14 col15\" >327</td>\n",
       "      <td id=\"T_2bbcf_row14_col16\" class=\"data row14 col16\" >74</td>\n",
       "      <td id=\"T_2bbcf_row14_col17\" class=\"data row14 col17\" >43</td>\n",
       "      <td id=\"T_2bbcf_row14_col18\" class=\"data row14 col18\" >69</td>\n",
       "      <td id=\"T_2bbcf_row14_col19\" class=\"data row14 col19\" >76</td>\n",
       "      <td id=\"T_2bbcf_row14_col20\" class=\"data row14 col20\" >83</td>\n",
       "      <td id=\"T_2bbcf_row14_col21\" class=\"data row14 col21\" >83</td>\n",
       "      <td id=\"T_2bbcf_row14_col22\" class=\"data row14 col22\" >68</td>\n",
       "      <td id=\"T_2bbcf_row14_col23\" class=\"data row14 col23\" >77</td>\n",
       "      <td id=\"T_2bbcf_row14_col24\" class=\"data row14 col24\" >79</td>\n",
       "      <td id=\"T_2bbcf_row14_col25\" class=\"data row14 col25\" >67</td>\n",
       "      <td id=\"T_2bbcf_row14_col26\" class=\"data row14 col26\" >38</td>\n",
       "      <td id=\"T_2bbcf_row14_col27\" class=\"data row14 col27\" >49</td>\n",
       "      <td id=\"T_2bbcf_row14_col28\" class=\"data row14 col28\" >14</td>\n",
       "      <td id=\"T_2bbcf_row14_col29\" class=\"data row14 col29\" >442</td>\n",
       "      <td id=\"T_2bbcf_row14_col30\" class=\"data row14 col30\" >3</td>\n",
       "      <td id=\"T_2bbcf_row14_col31\" class=\"data row14 col31\" >3</td>\n",
       "      <td id=\"T_2bbcf_row14_col32\" class=\"data row14 col32\" >Medium</td>\n",
       "      <td id=\"T_2bbcf_row14_col33\" class=\"data row14 col33\" >Medium</td>\n",
       "      <td id=\"T_2bbcf_row14_col34\" class=\"data row14 col34\" >1</td>\n",
       "      <td id=\"T_2bbcf_row14_col35\" class=\"data row14 col35\" >83</td>\n",
       "      <td id=\"T_2bbcf_row14_col36\" class=\"data row14 col36\" >64</td>\n",
       "      <td id=\"T_2bbcf_row14_col37\" class=\"data row14 col37\" >71</td>\n",
       "      <td id=\"T_2bbcf_row14_col38\" class=\"data row14 col38\" >73</td>\n",
       "      <td id=\"T_2bbcf_row14_col39\" class=\"data row14 col39\" >75</td>\n",
       "      <td id=\"T_2bbcf_row14_col40\" class=\"data row14 col40\" >76</td>\n",
       "    </tr>\n",
       "    <tr>\n",
       "      <th id=\"T_2bbcf_level0_row15\" class=\"row_heading level0 row15\" >690</th>\n",
       "      <td id=\"T_2bbcf_row15_col0\" class=\"data row15 col0\" >Trincão</td>\n",
       "      <td id=\"T_2bbcf_row15_col1\" class=\"data row15 col1\" >Francisco Mota Castro Trincão</td>\n",
       "      <td id=\"T_2bbcf_row15_col2\" class=\"data row15 col2\" >Portugal</td>\n",
       "      <td id=\"T_2bbcf_row15_col3\" class=\"data row15 col3\" >20</td>\n",
       "      <td id=\"T_2bbcf_row15_col4\" class=\"data row15 col4\" >78</td>\n",
       "      <td id=\"T_2bbcf_row15_col5\" class=\"data row15 col5\" >FC Barcelona</td>\n",
       "      <td id=\"T_2bbcf_row15_col6\" class=\"data row15 col6\" >RW, LW, CAM</td>\n",
       "      <td id=\"T_2bbcf_row15_col7\" class=\"data row15 col7\" >183cm</td>\n",
       "      <td id=\"T_2bbcf_row15_col8\" class=\"data row15 col8\" >77kg</td>\n",
       "      <td id=\"T_2bbcf_row15_col9\" class=\"data row15 col9\" >Left</td>\n",
       "      <td id=\"T_2bbcf_row15_col10\" class=\"data row15 col10\" >79</td>\n",
       "      <td id=\"T_2bbcf_row15_col11\" class=\"data row15 col11\" >CAM</td>\n",
       "      <td id=\"T_2bbcf_row15_col12\" class=\"data row15 col12\" >34000000.000000</td>\n",
       "      <td id=\"T_2bbcf_row15_col13\" class=\"data row15 col13\" >105000.000000</td>\n",
       "      <td id=\"T_2bbcf_row15_col14\" class=\"data row15 col14\" >53.5M</td>\n",
       "      <td id=\"T_2bbcf_row15_col15\" class=\"data row15 col15\" >375</td>\n",
       "      <td id=\"T_2bbcf_row15_col16\" class=\"data row15 col16\" >85</td>\n",
       "      <td id=\"T_2bbcf_row15_col17\" class=\"data row15 col17\" >56</td>\n",
       "      <td id=\"T_2bbcf_row15_col18\" class=\"data row15 col18\" >67</td>\n",
       "      <td id=\"T_2bbcf_row15_col19\" class=\"data row15 col19\" >83</td>\n",
       "      <td id=\"T_2bbcf_row15_col20\" class=\"data row15 col20\" >81</td>\n",
       "      <td id=\"T_2bbcf_row15_col21\" class=\"data row15 col21\" >78</td>\n",
       "      <td id=\"T_2bbcf_row15_col22\" class=\"data row15 col22\" >74</td>\n",
       "      <td id=\"T_2bbcf_row15_col23\" class=\"data row15 col23\" >63</td>\n",
       "      <td id=\"T_2bbcf_row15_col24\" class=\"data row15 col24\" >77</td>\n",
       "      <td id=\"T_2bbcf_row15_col25\" class=\"data row15 col25\" >75</td>\n",
       "      <td id=\"T_2bbcf_row15_col26\" class=\"data row15 col26\" >67</td>\n",
       "      <td id=\"T_2bbcf_row15_col27\" class=\"data row15 col27\" >42</td>\n",
       "      <td id=\"T_2bbcf_row15_col28\" class=\"data row15 col28\" >7</td>\n",
       "      <td id=\"T_2bbcf_row15_col29\" class=\"data row15 col29\" >412</td>\n",
       "      <td id=\"T_2bbcf_row15_col30\" class=\"data row15 col30\" >3</td>\n",
       "      <td id=\"T_2bbcf_row15_col31\" class=\"data row15 col31\" >4</td>\n",
       "      <td id=\"T_2bbcf_row15_col32\" class=\"data row15 col32\" >Medium</td>\n",
       "      <td id=\"T_2bbcf_row15_col33\" class=\"data row15 col33\" >Medium</td>\n",
       "      <td id=\"T_2bbcf_row15_col34\" class=\"data row15 col34\" >1</td>\n",
       "      <td id=\"T_2bbcf_row15_col35\" class=\"data row15 col35\" >79</td>\n",
       "      <td id=\"T_2bbcf_row15_col36\" class=\"data row15 col36\" >73</td>\n",
       "      <td id=\"T_2bbcf_row15_col37\" class=\"data row15 col37\" >71</td>\n",
       "      <td id=\"T_2bbcf_row15_col38\" class=\"data row15 col38\" >83</td>\n",
       "      <td id=\"T_2bbcf_row15_col39\" class=\"data row15 col39\" >37</td>\n",
       "      <td id=\"T_2bbcf_row15_col40\" class=\"data row15 col40\" >69</td>\n",
       "    </tr>\n",
       "    <tr>\n",
       "      <th id=\"T_2bbcf_level0_row16\" class=\"row_heading level0 row16\" >1237</th>\n",
       "      <td id=\"T_2bbcf_row16_col0\" class=\"data row16 col0\" >M. Braithwaite</td>\n",
       "      <td id=\"T_2bbcf_row16_col1\" class=\"data row16 col1\" >Martin Braithwaite</td>\n",
       "      <td id=\"T_2bbcf_row16_col2\" class=\"data row16 col2\" >Denmark</td>\n",
       "      <td id=\"T_2bbcf_row16_col3\" class=\"data row16 col3\" >29</td>\n",
       "      <td id=\"T_2bbcf_row16_col4\" class=\"data row16 col4\" >76</td>\n",
       "      <td id=\"T_2bbcf_row16_col5\" class=\"data row16 col5\" >FC Barcelona</td>\n",
       "      <td id=\"T_2bbcf_row16_col6\" class=\"data row16 col6\" >ST, LM</td>\n",
       "      <td id=\"T_2bbcf_row16_col7\" class=\"data row16 col7\" >177cm</td>\n",
       "      <td id=\"T_2bbcf_row16_col8\" class=\"data row16 col8\" >73kg</td>\n",
       "      <td id=\"T_2bbcf_row16_col9\" class=\"data row16 col9\" >Right</td>\n",
       "      <td id=\"T_2bbcf_row16_col10\" class=\"data row16 col10\" >76</td>\n",
       "      <td id=\"T_2bbcf_row16_col11\" class=\"data row16 col11\" >ST</td>\n",
       "      <td id=\"T_2bbcf_row16_col12\" class=\"data row16 col12\" >7500000.000000</td>\n",
       "      <td id=\"T_2bbcf_row16_col13\" class=\"data row16 col13\" >125000.000000</td>\n",
       "      <td id=\"T_2bbcf_row16_col14\" class=\"data row16 col14\" >15.4M</td>\n",
       "      <td id=\"T_2bbcf_row16_col15\" class=\"data row16 col15\" >367</td>\n",
       "      <td id=\"T_2bbcf_row16_col16\" class=\"data row16 col16\" >76</td>\n",
       "      <td id=\"T_2bbcf_row16_col17\" class=\"data row16 col17\" >75</td>\n",
       "      <td id=\"T_2bbcf_row16_col18\" class=\"data row16 col18\" >65</td>\n",
       "      <td id=\"T_2bbcf_row16_col19\" class=\"data row16 col19\" >80</td>\n",
       "      <td id=\"T_2bbcf_row16_col20\" class=\"data row16 col20\" >80</td>\n",
       "      <td id=\"T_2bbcf_row16_col21\" class=\"data row16 col21\" >80</td>\n",
       "      <td id=\"T_2bbcf_row16_col22\" class=\"data row16 col22\" >77</td>\n",
       "      <td id=\"T_2bbcf_row16_col23\" class=\"data row16 col23\" >81</td>\n",
       "      <td id=\"T_2bbcf_row16_col24\" class=\"data row16 col24\" >76</td>\n",
       "      <td id=\"T_2bbcf_row16_col25\" class=\"data row16 col25\" >69</td>\n",
       "      <td id=\"T_2bbcf_row16_col26\" class=\"data row16 col26\" >73</td>\n",
       "      <td id=\"T_2bbcf_row16_col27\" class=\"data row16 col27\" >53</td>\n",
       "      <td id=\"T_2bbcf_row16_col28\" class=\"data row16 col28\" >8</td>\n",
       "      <td id=\"T_2bbcf_row16_col29\" class=\"data row16 col29\" >411</td>\n",
       "      <td id=\"T_2bbcf_row16_col30\" class=\"data row16 col30\" >4</td>\n",
       "      <td id=\"T_2bbcf_row16_col31\" class=\"data row16 col31\" >4</td>\n",
       "      <td id=\"T_2bbcf_row16_col32\" class=\"data row16 col32\" >Medium</td>\n",
       "      <td id=\"T_2bbcf_row16_col33\" class=\"data row16 col33\" >High</td>\n",
       "      <td id=\"T_2bbcf_row16_col34\" class=\"data row16 col34\" >2</td>\n",
       "      <td id=\"T_2bbcf_row16_col35\" class=\"data row16 col35\" >80</td>\n",
       "      <td id=\"T_2bbcf_row16_col36\" class=\"data row16 col36\" >75</td>\n",
       "      <td id=\"T_2bbcf_row16_col37\" class=\"data row16 col37\" >70</td>\n",
       "      <td id=\"T_2bbcf_row16_col38\" class=\"data row16 col38\" >77</td>\n",
       "      <td id=\"T_2bbcf_row16_col39\" class=\"data row16 col39\" >35</td>\n",
       "      <td id=\"T_2bbcf_row16_col40\" class=\"data row16 col40\" >74</td>\n",
       "    </tr>\n",
       "    <tr>\n",
       "      <th id=\"T_2bbcf_level0_row17\" class=\"row_heading level0 row17\" >1265</th>\n",
       "      <td id=\"T_2bbcf_row17_col0\" class=\"data row17 col0\" >Ansu Fati</td>\n",
       "      <td id=\"T_2bbcf_row17_col1\" class=\"data row17 col1\" >Anssumane Fati</td>\n",
       "      <td id=\"T_2bbcf_row17_col2\" class=\"data row17 col2\" >Spain</td>\n",
       "      <td id=\"T_2bbcf_row17_col3\" class=\"data row17 col3\" >17</td>\n",
       "      <td id=\"T_2bbcf_row17_col4\" class=\"data row17 col4\" >76</td>\n",
       "      <td id=\"T_2bbcf_row17_col5\" class=\"data row17 col5\" >FC Barcelona</td>\n",
       "      <td id=\"T_2bbcf_row17_col6\" class=\"data row17 col6\" >LW</td>\n",
       "      <td id=\"T_2bbcf_row17_col7\" class=\"data row17 col7\" >178cm</td>\n",
       "      <td id=\"T_2bbcf_row17_col8\" class=\"data row17 col8\" >66kg</td>\n",
       "      <td id=\"T_2bbcf_row17_col9\" class=\"data row17 col9\" >Right</td>\n",
       "      <td id=\"T_2bbcf_row17_col10\" class=\"data row17 col10\" >76</td>\n",
       "      <td id=\"T_2bbcf_row17_col11\" class=\"data row17 col11\" >LW</td>\n",
       "      <td id=\"T_2bbcf_row17_col12\" class=\"data row17 col12\" >17000000.000000</td>\n",
       "      <td id=\"T_2bbcf_row17_col13\" class=\"data row17 col13\" >24000.000000</td>\n",
       "      <td id=\"T_2bbcf_row17_col14\" class=\"data row17 col14\" >40.1M</td>\n",
       "      <td id=\"T_2bbcf_row17_col15\" class=\"data row17 col15\" >334</td>\n",
       "      <td id=\"T_2bbcf_row17_col16\" class=\"data row17 col16\" >79</td>\n",
       "      <td id=\"T_2bbcf_row17_col17\" class=\"data row17 col17\" >45</td>\n",
       "      <td id=\"T_2bbcf_row17_col18\" class=\"data row17 col18\" >69</td>\n",
       "      <td id=\"T_2bbcf_row17_col19\" class=\"data row17 col19\" >77</td>\n",
       "      <td id=\"T_2bbcf_row17_col20\" class=\"data row17 col20\" >89</td>\n",
       "      <td id=\"T_2bbcf_row17_col21\" class=\"data row17 col21\" >87</td>\n",
       "      <td id=\"T_2bbcf_row17_col22\" class=\"data row17 col22\" >67</td>\n",
       "      <td id=\"T_2bbcf_row17_col23\" class=\"data row17 col23\" >73</td>\n",
       "      <td id=\"T_2bbcf_row17_col24\" class=\"data row17 col24\" >64</td>\n",
       "      <td id=\"T_2bbcf_row17_col25\" class=\"data row17 col25\" >67</td>\n",
       "      <td id=\"T_2bbcf_row17_col26\" class=\"data row17 col26\" >74</td>\n",
       "      <td id=\"T_2bbcf_row17_col27\" class=\"data row17 col27\" >40</td>\n",
       "      <td id=\"T_2bbcf_row17_col28\" class=\"data row17 col28\" >7</td>\n",
       "      <td id=\"T_2bbcf_row17_col29\" class=\"data row17 col29\" >388</td>\n",
       "      <td id=\"T_2bbcf_row17_col30\" class=\"data row17 col30\" >4</td>\n",
       "      <td id=\"T_2bbcf_row17_col31\" class=\"data row17 col31\" >4</td>\n",
       "      <td id=\"T_2bbcf_row17_col32\" class=\"data row17 col32\" >High</td>\n",
       "      <td id=\"T_2bbcf_row17_col33\" class=\"data row17 col33\" >Medium</td>\n",
       "      <td id=\"T_2bbcf_row17_col34\" class=\"data row17 col34\" >1</td>\n",
       "      <td id=\"T_2bbcf_row17_col35\" class=\"data row17 col35\" >88</td>\n",
       "      <td id=\"T_2bbcf_row17_col36\" class=\"data row17 col36\" >71</td>\n",
       "      <td id=\"T_2bbcf_row17_col37\" class=\"data row17 col37\" >68</td>\n",
       "      <td id=\"T_2bbcf_row17_col38\" class=\"data row17 col38\" >79</td>\n",
       "      <td id=\"T_2bbcf_row17_col39\" class=\"data row17 col39\" >29</td>\n",
       "      <td id=\"T_2bbcf_row17_col40\" class=\"data row17 col40\" >53</td>\n",
       "    </tr>\n",
       "    <tr>\n",
       "      <th id=\"T_2bbcf_level0_row18\" class=\"row_heading level0 row18\" >1761</th>\n",
       "      <td id=\"T_2bbcf_row18_col0\" class=\"data row18 col0\" >Riqui Puig</td>\n",
       "      <td id=\"T_2bbcf_row18_col1\" class=\"data row18 col1\" >Ricard Puig Martí</td>\n",
       "      <td id=\"T_2bbcf_row18_col2\" class=\"data row18 col2\" >Spain</td>\n",
       "      <td id=\"T_2bbcf_row18_col3\" class=\"data row18 col3\" >20</td>\n",
       "      <td id=\"T_2bbcf_row18_col4\" class=\"data row18 col4\" >75</td>\n",
       "      <td id=\"T_2bbcf_row18_col5\" class=\"data row18 col5\" >FC Barcelona</td>\n",
       "      <td id=\"T_2bbcf_row18_col6\" class=\"data row18 col6\" >CM, CAM</td>\n",
       "      <td id=\"T_2bbcf_row18_col7\" class=\"data row18 col7\" >169cm</td>\n",
       "      <td id=\"T_2bbcf_row18_col8\" class=\"data row18 col8\" >56kg</td>\n",
       "      <td id=\"T_2bbcf_row18_col9\" class=\"data row18 col9\" >Right</td>\n",
       "      <td id=\"T_2bbcf_row18_col10\" class=\"data row18 col10\" >77</td>\n",
       "      <td id=\"T_2bbcf_row18_col11\" class=\"data row18 col11\" >CAM</td>\n",
       "      <td id=\"T_2bbcf_row18_col12\" class=\"data row18 col12\" >13500000.000000</td>\n",
       "      <td id=\"T_2bbcf_row18_col13\" class=\"data row18 col13\" >77000.000000</td>\n",
       "      <td id=\"T_2bbcf_row18_col14\" class=\"data row18 col14\" >33.4M</td>\n",
       "      <td id=\"T_2bbcf_row18_col15\" class=\"data row18 col15\" >360</td>\n",
       "      <td id=\"T_2bbcf_row18_col16\" class=\"data row18 col16\" >81</td>\n",
       "      <td id=\"T_2bbcf_row18_col17\" class=\"data row18 col17\" >51</td>\n",
       "      <td id=\"T_2bbcf_row18_col18\" class=\"data row18 col18\" >79</td>\n",
       "      <td id=\"T_2bbcf_row18_col19\" class=\"data row18 col19\" >83</td>\n",
       "      <td id=\"T_2bbcf_row18_col20\" class=\"data row18 col20\" >69</td>\n",
       "      <td id=\"T_2bbcf_row18_col21\" class=\"data row18 col21\" >67</td>\n",
       "      <td id=\"T_2bbcf_row18_col22\" class=\"data row18 col22\" >60</td>\n",
       "      <td id=\"T_2bbcf_row18_col23\" class=\"data row18 col23\" >55</td>\n",
       "      <td id=\"T_2bbcf_row18_col24\" class=\"data row18 col24\" >66</td>\n",
       "      <td id=\"T_2bbcf_row18_col25\" class=\"data row18 col25\" >82</td>\n",
       "      <td id=\"T_2bbcf_row18_col26\" class=\"data row18 col26\" >55</td>\n",
       "      <td id=\"T_2bbcf_row18_col27\" class=\"data row18 col27\" >62</td>\n",
       "      <td id=\"T_2bbcf_row18_col28\" class=\"data row18 col28\" >9</td>\n",
       "      <td id=\"T_2bbcf_row18_col29\" class=\"data row18 col29\" >402</td>\n",
       "      <td id=\"T_2bbcf_row18_col30\" class=\"data row18 col30\" >3</td>\n",
       "      <td id=\"T_2bbcf_row18_col31\" class=\"data row18 col31\" >3</td>\n",
       "      <td id=\"T_2bbcf_row18_col32\" class=\"data row18 col32\" >High</td>\n",
       "      <td id=\"T_2bbcf_row18_col33\" class=\"data row18 col33\" >Medium</td>\n",
       "      <td id=\"T_2bbcf_row18_col34\" class=\"data row18 col34\" >1</td>\n",
       "      <td id=\"T_2bbcf_row18_col35\" class=\"data row18 col35\" >68</td>\n",
       "      <td id=\"T_2bbcf_row18_col36\" class=\"data row18 col36\" >59</td>\n",
       "      <td id=\"T_2bbcf_row18_col37\" class=\"data row18 col37\" >75</td>\n",
       "      <td id=\"T_2bbcf_row18_col38\" class=\"data row18 col38\" >81</td>\n",
       "      <td id=\"T_2bbcf_row18_col39\" class=\"data row18 col39\" >56</td>\n",
       "      <td id=\"T_2bbcf_row18_col40\" class=\"data row18 col40\" >63</td>\n",
       "    </tr>\n",
       "    <tr>\n",
       "      <th id=\"T_2bbcf_level0_row19\" class=\"row_heading level0 row19\" >1818</th>\n",
       "      <td id=\"T_2bbcf_row19_col0\" class=\"data row19 col0\" >S. Dest</td>\n",
       "      <td id=\"T_2bbcf_row19_col1\" class=\"data row19 col1\" >Sergiño Dest</td>\n",
       "      <td id=\"T_2bbcf_row19_col2\" class=\"data row19 col2\" >United States</td>\n",
       "      <td id=\"T_2bbcf_row19_col3\" class=\"data row19 col3\" >19</td>\n",
       "      <td id=\"T_2bbcf_row19_col4\" class=\"data row19 col4\" >75</td>\n",
       "      <td id=\"T_2bbcf_row19_col5\" class=\"data row19 col5\" >FC Barcelona</td>\n",
       "      <td id=\"T_2bbcf_row19_col6\" class=\"data row19 col6\" >RB</td>\n",
       "      <td id=\"T_2bbcf_row19_col7\" class=\"data row19 col7\" >175cm</td>\n",
       "      <td id=\"T_2bbcf_row19_col8\" class=\"data row19 col8\" >62kg</td>\n",
       "      <td id=\"T_2bbcf_row19_col9\" class=\"data row19 col9\" >Right</td>\n",
       "      <td id=\"T_2bbcf_row19_col10\" class=\"data row19 col10\" >77</td>\n",
       "      <td id=\"T_2bbcf_row19_col11\" class=\"data row19 col11\" >RM</td>\n",
       "      <td id=\"T_2bbcf_row19_col12\" class=\"data row19 col12\" >11500000.000000</td>\n",
       "      <td id=\"T_2bbcf_row19_col13\" class=\"data row19 col13\" >50000.000000</td>\n",
       "      <td id=\"T_2bbcf_row19_col14\" class=\"data row19 col14\" >22.5M</td>\n",
       "      <td id=\"T_2bbcf_row19_col15\" class=\"data row19 col15\" >332</td>\n",
       "      <td id=\"T_2bbcf_row19_col16\" class=\"data row19 col16\" >80</td>\n",
       "      <td id=\"T_2bbcf_row19_col17\" class=\"data row19 col17\" >38</td>\n",
       "      <td id=\"T_2bbcf_row19_col18\" class=\"data row19 col18\" >65</td>\n",
       "      <td id=\"T_2bbcf_row19_col19\" class=\"data row19 col19\" >77</td>\n",
       "      <td id=\"T_2bbcf_row19_col20\" class=\"data row19 col20\" >88</td>\n",
       "      <td id=\"T_2bbcf_row19_col21\" class=\"data row19 col21\" >86</td>\n",
       "      <td id=\"T_2bbcf_row19_col22\" class=\"data row19 col22\" >65</td>\n",
       "      <td id=\"T_2bbcf_row19_col23\" class=\"data row19 col23\" >56</td>\n",
       "      <td id=\"T_2bbcf_row19_col24\" class=\"data row19 col24\" >78</td>\n",
       "      <td id=\"T_2bbcf_row19_col25\" class=\"data row19 col25\" >72</td>\n",
       "      <td id=\"T_2bbcf_row19_col26\" class=\"data row19 col26\" >39</td>\n",
       "      <td id=\"T_2bbcf_row19_col27\" class=\"data row19 col27\" >61</td>\n",
       "      <td id=\"T_2bbcf_row19_col28\" class=\"data row19 col28\" >15</td>\n",
       "      <td id=\"T_2bbcf_row19_col29\" class=\"data row19 col29\" >426</td>\n",
       "      <td id=\"T_2bbcf_row19_col30\" class=\"data row19 col30\" >4</td>\n",
       "      <td id=\"T_2bbcf_row19_col31\" class=\"data row19 col31\" >4</td>\n",
       "      <td id=\"T_2bbcf_row19_col32\" class=\"data row19 col32\" >High</td>\n",
       "      <td id=\"T_2bbcf_row19_col33\" class=\"data row19 col33\" >Low</td>\n",
       "      <td id=\"T_2bbcf_row19_col34\" class=\"data row19 col34\" >1</td>\n",
       "      <td id=\"T_2bbcf_row19_col35\" class=\"data row19 col35\" >87</td>\n",
       "      <td id=\"T_2bbcf_row19_col36\" class=\"data row19 col36\" >58</td>\n",
       "      <td id=\"T_2bbcf_row19_col37\" class=\"data row19 col37\" >71</td>\n",
       "      <td id=\"T_2bbcf_row19_col38\" class=\"data row19 col38\" >79</td>\n",
       "      <td id=\"T_2bbcf_row19_col39\" class=\"data row19 col39\" >67</td>\n",
       "      <td id=\"T_2bbcf_row19_col40\" class=\"data row19 col40\" >64</td>\n",
       "    </tr>\n",
       "    <tr>\n",
       "      <th id=\"T_2bbcf_level0_row20\" class=\"row_heading level0 row20\" >2310</th>\n",
       "      <td id=\"T_2bbcf_row20_col0\" class=\"data row20 col0\" >Aleñá</td>\n",
       "      <td id=\"T_2bbcf_row20_col1\" class=\"data row20 col1\" >Carles Aleñá Castillo</td>\n",
       "      <td id=\"T_2bbcf_row20_col2\" class=\"data row20 col2\" >Spain</td>\n",
       "      <td id=\"T_2bbcf_row20_col3\" class=\"data row20 col3\" >22</td>\n",
       "      <td id=\"T_2bbcf_row20_col4\" class=\"data row20 col4\" >74</td>\n",
       "      <td id=\"T_2bbcf_row20_col5\" class=\"data row20 col5\" >FC Barcelona</td>\n",
       "      <td id=\"T_2bbcf_row20_col6\" class=\"data row20 col6\" >CM, RM</td>\n",
       "      <td id=\"T_2bbcf_row20_col7\" class=\"data row20 col7\" >180cm</td>\n",
       "      <td id=\"T_2bbcf_row20_col8\" class=\"data row20 col8\" >73kg</td>\n",
       "      <td id=\"T_2bbcf_row20_col9\" class=\"data row20 col9\" >Left</td>\n",
       "      <td id=\"T_2bbcf_row20_col10\" class=\"data row20 col10\" >76</td>\n",
       "      <td id=\"T_2bbcf_row20_col11\" class=\"data row20 col11\" >CAM</td>\n",
       "      <td id=\"T_2bbcf_row20_col12\" class=\"data row20 col12\" >9500000.000000</td>\n",
       "      <td id=\"T_2bbcf_row20_col13\" class=\"data row20 col13\" >84000.000000</td>\n",
       "      <td id=\"T_2bbcf_row20_col14\" class=\"data row20 col14\" >18M</td>\n",
       "      <td id=\"T_2bbcf_row20_col15\" class=\"data row20 col15\" >349</td>\n",
       "      <td id=\"T_2bbcf_row20_col16\" class=\"data row20 col16\" >73</td>\n",
       "      <td id=\"T_2bbcf_row20_col17\" class=\"data row20 col17\" >59</td>\n",
       "      <td id=\"T_2bbcf_row20_col18\" class=\"data row20 col18\" >74</td>\n",
       "      <td id=\"T_2bbcf_row20_col19\" class=\"data row20 col19\" >76</td>\n",
       "      <td id=\"T_2bbcf_row20_col20\" class=\"data row20 col20\" >72</td>\n",
       "      <td id=\"T_2bbcf_row20_col21\" class=\"data row20 col21\" >71</td>\n",
       "      <td id=\"T_2bbcf_row20_col22\" class=\"data row20 col22\" >68</td>\n",
       "      <td id=\"T_2bbcf_row20_col23\" class=\"data row20 col23\" >52</td>\n",
       "      <td id=\"T_2bbcf_row20_col24\" class=\"data row20 col24\" >66</td>\n",
       "      <td id=\"T_2bbcf_row20_col25\" class=\"data row20 col25\" >77</td>\n",
       "      <td id=\"T_2bbcf_row20_col26\" class=\"data row20 col26\" >73</td>\n",
       "      <td id=\"T_2bbcf_row20_col27\" class=\"data row20 col27\" >51</td>\n",
       "      <td id=\"T_2bbcf_row20_col28\" class=\"data row20 col28\" >12</td>\n",
       "      <td id=\"T_2bbcf_row20_col29\" class=\"data row20 col29\" >407</td>\n",
       "      <td id=\"T_2bbcf_row20_col30\" class=\"data row20 col30\" >2</td>\n",
       "      <td id=\"T_2bbcf_row20_col31\" class=\"data row20 col31\" >4</td>\n",
       "      <td id=\"T_2bbcf_row20_col32\" class=\"data row20 col32\" >Medium</td>\n",
       "      <td id=\"T_2bbcf_row20_col33\" class=\"data row20 col33\" >Medium</td>\n",
       "      <td id=\"T_2bbcf_row20_col34\" class=\"data row20 col34\" >1</td>\n",
       "      <td id=\"T_2bbcf_row20_col35\" class=\"data row20 col35\" >71</td>\n",
       "      <td id=\"T_2bbcf_row20_col36\" class=\"data row20 col36\" >67</td>\n",
       "      <td id=\"T_2bbcf_row20_col37\" class=\"data row20 col37\" >73</td>\n",
       "      <td id=\"T_2bbcf_row20_col38\" class=\"data row20 col38\" >74</td>\n",
       "      <td id=\"T_2bbcf_row20_col39\" class=\"data row20 col39\" >60</td>\n",
       "      <td id=\"T_2bbcf_row20_col40\" class=\"data row20 col40\" >62</td>\n",
       "    </tr>\n",
       "    <tr>\n",
       "      <th id=\"T_2bbcf_level0_row21\" class=\"row_heading level0 row21\" >3791</th>\n",
       "      <td id=\"T_2bbcf_row21_col0\" class=\"data row21 col0\" >Pedri</td>\n",
       "      <td id=\"T_2bbcf_row21_col1\" class=\"data row21 col1\" >Pedro González López</td>\n",
       "      <td id=\"T_2bbcf_row21_col2\" class=\"data row21 col2\" >Spain</td>\n",
       "      <td id=\"T_2bbcf_row21_col3\" class=\"data row21 col3\" >17</td>\n",
       "      <td id=\"T_2bbcf_row21_col4\" class=\"data row21 col4\" >72</td>\n",
       "      <td id=\"T_2bbcf_row21_col5\" class=\"data row21 col5\" >FC Barcelona</td>\n",
       "      <td id=\"T_2bbcf_row21_col6\" class=\"data row21 col6\" >LM, CAM, CM</td>\n",
       "      <td id=\"T_2bbcf_row21_col7\" class=\"data row21 col7\" >174cm</td>\n",
       "      <td id=\"T_2bbcf_row21_col8\" class=\"data row21 col8\" >61kg</td>\n",
       "      <td id=\"T_2bbcf_row21_col9\" class=\"data row21 col9\" >Right</td>\n",
       "      <td id=\"T_2bbcf_row21_col10\" class=\"data row21 col10\" >75</td>\n",
       "      <td id=\"T_2bbcf_row21_col11\" class=\"data row21 col11\" >CAM</td>\n",
       "      <td id=\"T_2bbcf_row21_col12\" class=\"data row21 col12\" >6000000.000000</td>\n",
       "      <td id=\"T_2bbcf_row21_col13\" class=\"data row21 col13\" >10000.000000</td>\n",
       "      <td id=\"T_2bbcf_row21_col14\" class=\"data row21 col14\" >16.1M</td>\n",
       "      <td id=\"T_2bbcf_row21_col15\" class=\"data row21 col15\" >340</td>\n",
       "      <td id=\"T_2bbcf_row21_col16\" class=\"data row21 col16\" >77</td>\n",
       "      <td id=\"T_2bbcf_row21_col17\" class=\"data row21 col17\" >51</td>\n",
       "      <td id=\"T_2bbcf_row21_col18\" class=\"data row21 col18\" >77</td>\n",
       "      <td id=\"T_2bbcf_row21_col19\" class=\"data row21 col19\" >71</td>\n",
       "      <td id=\"T_2bbcf_row21_col20\" class=\"data row21 col20\" >86</td>\n",
       "      <td id=\"T_2bbcf_row21_col21\" class=\"data row21 col21\" >75</td>\n",
       "      <td id=\"T_2bbcf_row21_col22\" class=\"data row21 col22\" >61</td>\n",
       "      <td id=\"T_2bbcf_row21_col23\" class=\"data row21 col23\" >67</td>\n",
       "      <td id=\"T_2bbcf_row21_col24\" class=\"data row21 col24\" >58</td>\n",
       "      <td id=\"T_2bbcf_row21_col25\" class=\"data row21 col25\" >77</td>\n",
       "      <td id=\"T_2bbcf_row21_col26\" class=\"data row21 col26\" >53</td>\n",
       "      <td id=\"T_2bbcf_row21_col27\" class=\"data row21 col27\" >46</td>\n",
       "      <td id=\"T_2bbcf_row21_col28\" class=\"data row21 col28\" >8</td>\n",
       "      <td id=\"T_2bbcf_row21_col29\" class=\"data row21 col29\" >386</td>\n",
       "      <td id=\"T_2bbcf_row21_col30\" class=\"data row21 col30\" >4</td>\n",
       "      <td id=\"T_2bbcf_row21_col31\" class=\"data row21 col31\" >4</td>\n",
       "      <td id=\"T_2bbcf_row21_col32\" class=\"data row21 col32\" >High</td>\n",
       "      <td id=\"T_2bbcf_row21_col33\" class=\"data row21 col33\" >Medium</td>\n",
       "      <td id=\"T_2bbcf_row21_col34\" class=\"data row21 col34\" >1</td>\n",
       "      <td id=\"T_2bbcf_row21_col35\" class=\"data row21 col35\" >80</td>\n",
       "      <td id=\"T_2bbcf_row21_col36\" class=\"data row21 col36\" >61</td>\n",
       "      <td id=\"T_2bbcf_row21_col37\" class=\"data row21 col37\" >71</td>\n",
       "      <td id=\"T_2bbcf_row21_col38\" class=\"data row21 col38\" >76</td>\n",
       "      <td id=\"T_2bbcf_row21_col39\" class=\"data row21 col39\" >46</td>\n",
       "      <td id=\"T_2bbcf_row21_col40\" class=\"data row21 col40\" >52</td>\n",
       "    </tr>\n",
       "    <tr>\n",
       "      <th id=\"T_2bbcf_level0_row22\" class=\"row_heading level0 row22\" >6038</th>\n",
       "      <td id=\"T_2bbcf_row22_col0\" class=\"data row22 col0\" >Matheus Fernandes</td>\n",
       "      <td id=\"T_2bbcf_row22_col1\" class=\"data row22 col1\" >Matheus Fernandes Siqueira</td>\n",
       "      <td id=\"T_2bbcf_row22_col2\" class=\"data row22 col2\" >Brazil</td>\n",
       "      <td id=\"T_2bbcf_row22_col3\" class=\"data row22 col3\" >22</td>\n",
       "      <td id=\"T_2bbcf_row22_col4\" class=\"data row22 col4\" >69</td>\n",
       "      <td id=\"T_2bbcf_row22_col5\" class=\"data row22 col5\" >FC Barcelona</td>\n",
       "      <td id=\"T_2bbcf_row22_col6\" class=\"data row22 col6\" >CM</td>\n",
       "      <td id=\"T_2bbcf_row22_col7\" class=\"data row22 col7\" >183cm</td>\n",
       "      <td id=\"T_2bbcf_row22_col8\" class=\"data row22 col8\" >71kg</td>\n",
       "      <td id=\"T_2bbcf_row22_col9\" class=\"data row22 col9\" >Right</td>\n",
       "      <td id=\"T_2bbcf_row22_col10\" class=\"data row22 col10\" >71</td>\n",
       "      <td id=\"T_2bbcf_row22_col11\" class=\"data row22 col11\" >CM</td>\n",
       "      <td id=\"T_2bbcf_row22_col12\" class=\"data row22 col12\" >3100000.000000</td>\n",
       "      <td id=\"T_2bbcf_row22_col13\" class=\"data row22 col13\" >44000.000000</td>\n",
       "      <td id=\"T_2bbcf_row22_col14\" class=\"data row22 col14\" >3.6M</td>\n",
       "      <td id=\"T_2bbcf_row22_col15\" class=\"data row22 col15\" >330</td>\n",
       "      <td id=\"T_2bbcf_row22_col16\" class=\"data row22 col16\" >75</td>\n",
       "      <td id=\"T_2bbcf_row22_col17\" class=\"data row22 col17\" >47</td>\n",
       "      <td id=\"T_2bbcf_row22_col18\" class=\"data row22 col18\" >68</td>\n",
       "      <td id=\"T_2bbcf_row22_col19\" class=\"data row22 col19\" >73</td>\n",
       "      <td id=\"T_2bbcf_row22_col20\" class=\"data row22 col20\" >69</td>\n",
       "      <td id=\"T_2bbcf_row22_col21\" class=\"data row22 col21\" >66</td>\n",
       "      <td id=\"T_2bbcf_row22_col22\" class=\"data row22 col22\" >75</td>\n",
       "      <td id=\"T_2bbcf_row22_col23\" class=\"data row22 col23\" >82</td>\n",
       "      <td id=\"T_2bbcf_row22_col24\" class=\"data row22 col24\" >78</td>\n",
       "      <td id=\"T_2bbcf_row22_col25\" class=\"data row22 col25\" >65</td>\n",
       "      <td id=\"T_2bbcf_row22_col26\" class=\"data row22 col26\" >47</td>\n",
       "      <td id=\"T_2bbcf_row22_col27\" class=\"data row22 col27\" >50</td>\n",
       "      <td id=\"T_2bbcf_row22_col28\" class=\"data row22 col28\" >6</td>\n",
       "      <td id=\"T_2bbcf_row22_col29\" class=\"data row22 col29\" >403</td>\n",
       "      <td id=\"T_2bbcf_row22_col30\" class=\"data row22 col30\" >3</td>\n",
       "      <td id=\"T_2bbcf_row22_col31\" class=\"data row22 col31\" >3</td>\n",
       "      <td id=\"T_2bbcf_row22_col32\" class=\"data row22 col32\" >Medium</td>\n",
       "      <td id=\"T_2bbcf_row22_col33\" class=\"data row22 col33\" >Medium</td>\n",
       "      <td id=\"T_2bbcf_row22_col34\" class=\"data row22 col34\" >1</td>\n",
       "      <td id=\"T_2bbcf_row22_col35\" class=\"data row22 col35\" >67</td>\n",
       "      <td id=\"T_2bbcf_row22_col36\" class=\"data row22 col36\" >60</td>\n",
       "      <td id=\"T_2bbcf_row22_col37\" class=\"data row22 col37\" >64</td>\n",
       "      <td id=\"T_2bbcf_row22_col38\" class=\"data row22 col38\" >73</td>\n",
       "      <td id=\"T_2bbcf_row22_col39\" class=\"data row22 col39\" >66</td>\n",
       "      <td id=\"T_2bbcf_row22_col40\" class=\"data row22 col40\" >73</td>\n",
       "    </tr>\n",
       "    <tr>\n",
       "      <th id=\"T_2bbcf_level0_row23\" class=\"row_heading level0 row23\" >6153</th>\n",
       "      <td id=\"T_2bbcf_row23_col0\" class=\"data row23 col0\" >Matheus Pereira</td>\n",
       "      <td id=\"T_2bbcf_row23_col1\" class=\"data row23 col1\" >Matheus Pereira da Silva</td>\n",
       "      <td id=\"T_2bbcf_row23_col2\" class=\"data row23 col2\" >Brazil</td>\n",
       "      <td id=\"T_2bbcf_row23_col3\" class=\"data row23 col3\" >22</td>\n",
       "      <td id=\"T_2bbcf_row23_col4\" class=\"data row23 col4\" >69</td>\n",
       "      <td id=\"T_2bbcf_row23_col5\" class=\"data row23 col5\" >FC Barcelona</td>\n",
       "      <td id=\"T_2bbcf_row23_col6\" class=\"data row23 col6\" >CAM, RM</td>\n",
       "      <td id=\"T_2bbcf_row23_col7\" class=\"data row23 col7\" >181cm</td>\n",
       "      <td id=\"T_2bbcf_row23_col8\" class=\"data row23 col8\" >68kg</td>\n",
       "      <td id=\"T_2bbcf_row23_col9\" class=\"data row23 col9\" >Left</td>\n",
       "      <td id=\"T_2bbcf_row23_col10\" class=\"data row23 col10\" >71</td>\n",
       "      <td id=\"T_2bbcf_row23_col11\" class=\"data row23 col11\" >CAM</td>\n",
       "      <td id=\"T_2bbcf_row23_col12\" class=\"data row23 col12\" >3100000.000000</td>\n",
       "      <td id=\"T_2bbcf_row23_col13\" class=\"data row23 col13\" >44000.000000</td>\n",
       "      <td id=\"T_2bbcf_row23_col14\" class=\"data row23 col14\" >3.4M</td>\n",
       "      <td id=\"T_2bbcf_row23_col15\" class=\"data row23 col15\" >351</td>\n",
       "      <td id=\"T_2bbcf_row23_col16\" class=\"data row23 col16\" >76</td>\n",
       "      <td id=\"T_2bbcf_row23_col17\" class=\"data row23 col17\" >64</td>\n",
       "      <td id=\"T_2bbcf_row23_col18\" class=\"data row23 col18\" >63</td>\n",
       "      <td id=\"T_2bbcf_row23_col19\" class=\"data row23 col19\" >75</td>\n",
       "      <td id=\"T_2bbcf_row23_col20\" class=\"data row23 col20\" >69</td>\n",
       "      <td id=\"T_2bbcf_row23_col21\" class=\"data row23 col21\" >69</td>\n",
       "      <td id=\"T_2bbcf_row23_col22\" class=\"data row23 col22\" >58</td>\n",
       "      <td id=\"T_2bbcf_row23_col23\" class=\"data row23 col23\" >57</td>\n",
       "      <td id=\"T_2bbcf_row23_col24\" class=\"data row23 col24\" >69</td>\n",
       "      <td id=\"T_2bbcf_row23_col25\" class=\"data row23 col25\" >67</td>\n",
       "      <td id=\"T_2bbcf_row23_col26\" class=\"data row23 col26\" >62</td>\n",
       "      <td id=\"T_2bbcf_row23_col27\" class=\"data row23 col27\" >48</td>\n",
       "      <td id=\"T_2bbcf_row23_col28\" class=\"data row23 col28\" >10</td>\n",
       "      <td id=\"T_2bbcf_row23_col29\" class=\"data row23 col29\" >362</td>\n",
       "      <td id=\"T_2bbcf_row23_col30\" class=\"data row23 col30\" >3</td>\n",
       "      <td id=\"T_2bbcf_row23_col31\" class=\"data row23 col31\" >4</td>\n",
       "      <td id=\"T_2bbcf_row23_col32\" class=\"data row23 col32\" >Medium</td>\n",
       "      <td id=\"T_2bbcf_row23_col33\" class=\"data row23 col33\" >Medium</td>\n",
       "      <td id=\"T_2bbcf_row23_col34\" class=\"data row23 col34\" >1</td>\n",
       "      <td id=\"T_2bbcf_row23_col35\" class=\"data row23 col35\" >69</td>\n",
       "      <td id=\"T_2bbcf_row23_col36\" class=\"data row23 col36\" >60</td>\n",
       "      <td id=\"T_2bbcf_row23_col37\" class=\"data row23 col37\" >65</td>\n",
       "      <td id=\"T_2bbcf_row23_col38\" class=\"data row23 col38\" >75</td>\n",
       "      <td id=\"T_2bbcf_row23_col39\" class=\"data row23 col39\" >35</td>\n",
       "      <td id=\"T_2bbcf_row23_col40\" class=\"data row23 col40\" >58</td>\n",
       "    </tr>\n",
       "    <tr>\n",
       "      <th id=\"T_2bbcf_level0_row24\" class=\"row_heading level0 row24\" >6258</th>\n",
       "      <td id=\"T_2bbcf_row24_col0\" class=\"data row24 col0\" >R. Araujo</td>\n",
       "      <td id=\"T_2bbcf_row24_col1\" class=\"data row24 col1\" >Ronald Araujo</td>\n",
       "      <td id=\"T_2bbcf_row24_col2\" class=\"data row24 col2\" >Uruguay</td>\n",
       "      <td id=\"T_2bbcf_row24_col3\" class=\"data row24 col3\" >21</td>\n",
       "      <td id=\"T_2bbcf_row24_col4\" class=\"data row24 col4\" >69</td>\n",
       "      <td id=\"T_2bbcf_row24_col5\" class=\"data row24 col5\" >FC Barcelona</td>\n",
       "      <td id=\"T_2bbcf_row24_col6\" class=\"data row24 col6\" >CB</td>\n",
       "      <td id=\"T_2bbcf_row24_col7\" class=\"data row24 col7\" >188cm</td>\n",
       "      <td id=\"T_2bbcf_row24_col8\" class=\"data row24 col8\" >79kg</td>\n",
       "      <td id=\"T_2bbcf_row24_col9\" class=\"data row24 col9\" >Right</td>\n",
       "      <td id=\"T_2bbcf_row24_col10\" class=\"data row24 col10\" >71</td>\n",
       "      <td id=\"T_2bbcf_row24_col11\" class=\"data row24 col11\" >CB</td>\n",
       "      <td id=\"T_2bbcf_row24_col12\" class=\"data row24 col12\" >3200000.000000</td>\n",
       "      <td id=\"T_2bbcf_row24_col13\" class=\"data row24 col13\" >33000.000000</td>\n",
       "      <td id=\"T_2bbcf_row24_col14\" class=\"data row24 col14\" >3.8M</td>\n",
       "      <td id=\"T_2bbcf_row24_col15\" class=\"data row24 col15\" >234</td>\n",
       "      <td id=\"T_2bbcf_row24_col16\" class=\"data row24 col16\" >43</td>\n",
       "      <td id=\"T_2bbcf_row24_col17\" class=\"data row24 col17\" >45</td>\n",
       "      <td id=\"T_2bbcf_row24_col18\" class=\"data row24 col18\" >62</td>\n",
       "      <td id=\"T_2bbcf_row24_col19\" class=\"data row24 col19\" >60</td>\n",
       "      <td id=\"T_2bbcf_row24_col20\" class=\"data row24 col20\" >60</td>\n",
       "      <td id=\"T_2bbcf_row24_col21\" class=\"data row24 col21\" >64</td>\n",
       "      <td id=\"T_2bbcf_row24_col22\" class=\"data row24 col22\" >39</td>\n",
       "      <td id=\"T_2bbcf_row24_col23\" class=\"data row24 col23\" >72</td>\n",
       "      <td id=\"T_2bbcf_row24_col24\" class=\"data row24 col24\" >61</td>\n",
       "      <td id=\"T_2bbcf_row24_col25\" class=\"data row24 col25\" >48</td>\n",
       "      <td id=\"T_2bbcf_row24_col26\" class=\"data row24 col26\" >33</td>\n",
       "      <td id=\"T_2bbcf_row24_col27\" class=\"data row24 col27\" >53</td>\n",
       "      <td id=\"T_2bbcf_row24_col28\" class=\"data row24 col28\" >8</td>\n",
       "      <td id=\"T_2bbcf_row24_col29\" class=\"data row24 col29\" >330</td>\n",
       "      <td id=\"T_2bbcf_row24_col30\" class=\"data row24 col30\" >3</td>\n",
       "      <td id=\"T_2bbcf_row24_col31\" class=\"data row24 col31\" >2</td>\n",
       "      <td id=\"T_2bbcf_row24_col32\" class=\"data row24 col32\" >Medium</td>\n",
       "      <td id=\"T_2bbcf_row24_col33\" class=\"data row24 col33\" >Medium</td>\n",
       "      <td id=\"T_2bbcf_row24_col34\" class=\"data row24 col34\" >1</td>\n",
       "      <td id=\"T_2bbcf_row24_col35\" class=\"data row24 col35\" >62</td>\n",
       "      <td id=\"T_2bbcf_row24_col36\" class=\"data row24 col36\" >30</td>\n",
       "      <td id=\"T_2bbcf_row24_col37\" class=\"data row24 col37\" >51</td>\n",
       "      <td id=\"T_2bbcf_row24_col38\" class=\"data row24 col38\" >49</td>\n",
       "      <td id=\"T_2bbcf_row24_col39\" class=\"data row24 col39\" >68</td>\n",
       "      <td id=\"T_2bbcf_row24_col40\" class=\"data row24 col40\" >70</td>\n",
       "    </tr>\n",
       "    <tr>\n",
       "      <th id=\"T_2bbcf_level0_row25\" class=\"row_heading level0 row25\" >6871</th>\n",
       "      <td id=\"T_2bbcf_row25_col0\" class=\"data row25 col0\" >R. Manaj</td>\n",
       "      <td id=\"T_2bbcf_row25_col1\" class=\"data row25 col1\" >Rey Manaj</td>\n",
       "      <td id=\"T_2bbcf_row25_col2\" class=\"data row25 col2\" >Albania</td>\n",
       "      <td id=\"T_2bbcf_row25_col3\" class=\"data row25 col3\" >23</td>\n",
       "      <td id=\"T_2bbcf_row25_col4\" class=\"data row25 col4\" >68</td>\n",
       "      <td id=\"T_2bbcf_row25_col5\" class=\"data row25 col5\" >FC Barcelona</td>\n",
       "      <td id=\"T_2bbcf_row25_col6\" class=\"data row25 col6\" >ST</td>\n",
       "      <td id=\"T_2bbcf_row25_col7\" class=\"data row25 col7\" >182cm</td>\n",
       "      <td id=\"T_2bbcf_row25_col8\" class=\"data row25 col8\" >76kg</td>\n",
       "      <td id=\"T_2bbcf_row25_col9\" class=\"data row25 col9\" >Right</td>\n",
       "      <td id=\"T_2bbcf_row25_col10\" class=\"data row25 col10\" >70</td>\n",
       "      <td id=\"T_2bbcf_row25_col11\" class=\"data row25 col11\" >ST</td>\n",
       "      <td id=\"T_2bbcf_row25_col12\" class=\"data row25 col12\" >2700000.000000</td>\n",
       "      <td id=\"T_2bbcf_row25_col13\" class=\"data row25 col13\" >41000.000000</td>\n",
       "      <td id=\"T_2bbcf_row25_col14\" class=\"data row25 col14\" >3.2M</td>\n",
       "      <td id=\"T_2bbcf_row25_col15\" class=\"data row25 col15\" >279</td>\n",
       "      <td id=\"T_2bbcf_row25_col16\" class=\"data row25 col16\" >64</td>\n",
       "      <td id=\"T_2bbcf_row25_col17\" class=\"data row25 col17\" >57</td>\n",
       "      <td id=\"T_2bbcf_row25_col18\" class=\"data row25 col18\" >46</td>\n",
       "      <td id=\"T_2bbcf_row25_col19\" class=\"data row25 col19\" >70</td>\n",
       "      <td id=\"T_2bbcf_row25_col20\" class=\"data row25 col20\" >70</td>\n",
       "      <td id=\"T_2bbcf_row25_col21\" class=\"data row25 col21\" >69</td>\n",
       "      <td id=\"T_2bbcf_row25_col22\" class=\"data row25 col22\" >67</td>\n",
       "      <td id=\"T_2bbcf_row25_col23\" class=\"data row25 col23\" >68</td>\n",
       "      <td id=\"T_2bbcf_row25_col24\" class=\"data row25 col24\" >65</td>\n",
       "      <td id=\"T_2bbcf_row25_col25\" class=\"data row25 col25\" >49</td>\n",
       "      <td id=\"T_2bbcf_row25_col26\" class=\"data row25 col26\" >72</td>\n",
       "      <td id=\"T_2bbcf_row25_col27\" class=\"data row25 col27\" >47</td>\n",
       "      <td id=\"T_2bbcf_row25_col28\" class=\"data row25 col28\" >14</td>\n",
       "      <td id=\"T_2bbcf_row25_col29\" class=\"data row25 col29\" >352</td>\n",
       "      <td id=\"T_2bbcf_row25_col30\" class=\"data row25 col30\" >4</td>\n",
       "      <td id=\"T_2bbcf_row25_col31\" class=\"data row25 col31\" >3</td>\n",
       "      <td id=\"T_2bbcf_row25_col32\" class=\"data row25 col32\" >Medium</td>\n",
       "      <td id=\"T_2bbcf_row25_col33\" class=\"data row25 col33\" >Medium</td>\n",
       "      <td id=\"T_2bbcf_row25_col34\" class=\"data row25 col34\" >1</td>\n",
       "      <td id=\"T_2bbcf_row25_col35\" class=\"data row25 col35\" >69</td>\n",
       "      <td id=\"T_2bbcf_row25_col36\" class=\"data row25 col36\" >66</td>\n",
       "      <td id=\"T_2bbcf_row25_col37\" class=\"data row25 col37\" >53</td>\n",
       "      <td id=\"T_2bbcf_row25_col38\" class=\"data row25 col38\" >66</td>\n",
       "      <td id=\"T_2bbcf_row25_col39\" class=\"data row25 col39\" >29</td>\n",
       "      <td id=\"T_2bbcf_row25_col40\" class=\"data row25 col40\" >69</td>\n",
       "    </tr>\n",
       "    <tr>\n",
       "      <th id=\"T_2bbcf_level0_row26\" class=\"row_heading level0 row26\" >7326</th>\n",
       "      <td id=\"T_2bbcf_row26_col0\" class=\"data row26 col0\" >H. Abe</td>\n",
       "      <td id=\"T_2bbcf_row26_col1\" class=\"data row26 col1\" >Hiroki Abe</td>\n",
       "      <td id=\"T_2bbcf_row26_col2\" class=\"data row26 col2\" >Japan</td>\n",
       "      <td id=\"T_2bbcf_row26_col3\" class=\"data row26 col3\" >21</td>\n",
       "      <td id=\"T_2bbcf_row26_col4\" class=\"data row26 col4\" >68</td>\n",
       "      <td id=\"T_2bbcf_row26_col5\" class=\"data row26 col5\" >FC Barcelona</td>\n",
       "      <td id=\"T_2bbcf_row26_col6\" class=\"data row26 col6\" >LW, LM</td>\n",
       "      <td id=\"T_2bbcf_row26_col7\" class=\"data row26 col7\" >171cm</td>\n",
       "      <td id=\"T_2bbcf_row26_col8\" class=\"data row26 col8\" >65kg</td>\n",
       "      <td id=\"T_2bbcf_row26_col9\" class=\"data row26 col9\" >Right</td>\n",
       "      <td id=\"T_2bbcf_row26_col10\" class=\"data row26 col10\" >69</td>\n",
       "      <td id=\"T_2bbcf_row26_col11\" class=\"data row26 col11\" >RM</td>\n",
       "      <td id=\"T_2bbcf_row26_col12\" class=\"data row26 col12\" >3000000.000000</td>\n",
       "      <td id=\"T_2bbcf_row26_col13\" class=\"data row26 col13\" >36000.000000</td>\n",
       "      <td id=\"T_2bbcf_row26_col14\" class=\"data row26 col14\" >4.5M</td>\n",
       "      <td id=\"T_2bbcf_row26_col15\" class=\"data row26 col15\" >272</td>\n",
       "      <td id=\"T_2bbcf_row26_col16\" class=\"data row26 col16\" >75</td>\n",
       "      <td id=\"T_2bbcf_row26_col17\" class=\"data row26 col17\" >32</td>\n",
       "      <td id=\"T_2bbcf_row26_col18\" class=\"data row26 col18\" >42</td>\n",
       "      <td id=\"T_2bbcf_row26_col19\" class=\"data row26 col19\" >70</td>\n",
       "      <td id=\"T_2bbcf_row26_col20\" class=\"data row26 col20\" >87</td>\n",
       "      <td id=\"T_2bbcf_row26_col21\" class=\"data row26 col21\" >89</td>\n",
       "      <td id=\"T_2bbcf_row26_col22\" class=\"data row26 col22\" >66</td>\n",
       "      <td id=\"T_2bbcf_row26_col23\" class=\"data row26 col23\" >68</td>\n",
       "      <td id=\"T_2bbcf_row26_col24\" class=\"data row26 col24\" >73</td>\n",
       "      <td id=\"T_2bbcf_row26_col25\" class=\"data row26 col25\" >65</td>\n",
       "      <td id=\"T_2bbcf_row26_col26\" class=\"data row26 col26\" >58</td>\n",
       "      <td id=\"T_2bbcf_row26_col27\" class=\"data row26 col27\" >48</td>\n",
       "      <td id=\"T_2bbcf_row26_col28\" class=\"data row26 col28\" >7</td>\n",
       "      <td id=\"T_2bbcf_row26_col29\" class=\"data row26 col29\" >370</td>\n",
       "      <td id=\"T_2bbcf_row26_col30\" class=\"data row26 col30\" >3</td>\n",
       "      <td id=\"T_2bbcf_row26_col31\" class=\"data row26 col31\" >3</td>\n",
       "      <td id=\"T_2bbcf_row26_col32\" class=\"data row26 col32\" >Medium</td>\n",
       "      <td id=\"T_2bbcf_row26_col33\" class=\"data row26 col33\" >Medium</td>\n",
       "      <td id=\"T_2bbcf_row26_col34\" class=\"data row26 col34\" >1</td>\n",
       "      <td id=\"T_2bbcf_row26_col35\" class=\"data row26 col35\" >88</td>\n",
       "      <td id=\"T_2bbcf_row26_col36\" class=\"data row26 col36\" >61</td>\n",
       "      <td id=\"T_2bbcf_row26_col37\" class=\"data row26 col37\" >57</td>\n",
       "      <td id=\"T_2bbcf_row26_col38\" class=\"data row26 col38\" >73</td>\n",
       "      <td id=\"T_2bbcf_row26_col39\" class=\"data row26 col39\" >33</td>\n",
       "      <td id=\"T_2bbcf_row26_col40\" class=\"data row26 col40\" >58</td>\n",
       "    </tr>\n",
       "    <tr>\n",
       "      <th id=\"T_2bbcf_level0_row27\" class=\"row_heading level0 row27\" >7980</th>\n",
       "      <td id=\"T_2bbcf_row27_col0\" class=\"data row27 col0\" >Oriol Busquets</td>\n",
       "      <td id=\"T_2bbcf_row27_col1\" class=\"data row27 col1\" >Oriol Busquets Mas</td>\n",
       "      <td id=\"T_2bbcf_row27_col2\" class=\"data row27 col2\" >Spain</td>\n",
       "      <td id=\"T_2bbcf_row27_col3\" class=\"data row27 col3\" >21</td>\n",
       "      <td id=\"T_2bbcf_row27_col4\" class=\"data row27 col4\" >67</td>\n",
       "      <td id=\"T_2bbcf_row27_col5\" class=\"data row27 col5\" >FC Barcelona</td>\n",
       "      <td id=\"T_2bbcf_row27_col6\" class=\"data row27 col6\" >CDM, CB</td>\n",
       "      <td id=\"T_2bbcf_row27_col7\" class=\"data row27 col7\" >185cm</td>\n",
       "      <td id=\"T_2bbcf_row27_col8\" class=\"data row27 col8\" >77kg</td>\n",
       "      <td id=\"T_2bbcf_row27_col9\" class=\"data row27 col9\" >Right</td>\n",
       "      <td id=\"T_2bbcf_row27_col10\" class=\"data row27 col10\" >68</td>\n",
       "      <td id=\"T_2bbcf_row27_col11\" class=\"data row27 col11\" >CDM</td>\n",
       "      <td id=\"T_2bbcf_row27_col12\" class=\"data row27 col12\" >2200000.000000</td>\n",
       "      <td id=\"T_2bbcf_row27_col13\" class=\"data row27 col13\" >24000.000000</td>\n",
       "      <td id=\"T_2bbcf_row27_col14\" class=\"data row27 col14\" >2.7M</td>\n",
       "      <td id=\"T_2bbcf_row27_col15\" class=\"data row27 col15\" >284</td>\n",
       "      <td id=\"T_2bbcf_row27_col16\" class=\"data row27 col16\" >63</td>\n",
       "      <td id=\"T_2bbcf_row27_col17\" class=\"data row27 col17\" >42</td>\n",
       "      <td id=\"T_2bbcf_row27_col18\" class=\"data row27 col18\" >66</td>\n",
       "      <td id=\"T_2bbcf_row27_col19\" class=\"data row27 col19\" >67</td>\n",
       "      <td id=\"T_2bbcf_row27_col20\" class=\"data row27 col20\" >52</td>\n",
       "      <td id=\"T_2bbcf_row27_col21\" class=\"data row27 col21\" >49</td>\n",
       "      <td id=\"T_2bbcf_row27_col22\" class=\"data row27 col22\" >56</td>\n",
       "      <td id=\"T_2bbcf_row27_col23\" class=\"data row27 col23\" >55</td>\n",
       "      <td id=\"T_2bbcf_row27_col24\" class=\"data row27 col24\" >71</td>\n",
       "      <td id=\"T_2bbcf_row27_col25\" class=\"data row27 col25\" >66</td>\n",
       "      <td id=\"T_2bbcf_row27_col26\" class=\"data row27 col26\" >42</td>\n",
       "      <td id=\"T_2bbcf_row27_col27\" class=\"data row27 col27\" >42</td>\n",
       "      <td id=\"T_2bbcf_row27_col28\" class=\"data row27 col28\" >12</td>\n",
       "      <td id=\"T_2bbcf_row27_col29\" class=\"data row27 col29\" >351</td>\n",
       "      <td id=\"T_2bbcf_row27_col30\" class=\"data row27 col30\" >3</td>\n",
       "      <td id=\"T_2bbcf_row27_col31\" class=\"data row27 col31\" >3</td>\n",
       "      <td id=\"T_2bbcf_row27_col32\" class=\"data row27 col32\" >Medium</td>\n",
       "      <td id=\"T_2bbcf_row27_col33\" class=\"data row27 col33\" >Medium</td>\n",
       "      <td id=\"T_2bbcf_row27_col34\" class=\"data row27 col34\" >1</td>\n",
       "      <td id=\"T_2bbcf_row27_col35\" class=\"data row27 col35\" >50</td>\n",
       "      <td id=\"T_2bbcf_row27_col36\" class=\"data row27 col36\" >43</td>\n",
       "      <td id=\"T_2bbcf_row27_col37\" class=\"data row27 col37\" >63</td>\n",
       "      <td id=\"T_2bbcf_row27_col38\" class=\"data row27 col38\" >64</td>\n",
       "      <td id=\"T_2bbcf_row27_col39\" class=\"data row27 col39\" >64</td>\n",
       "      <td id=\"T_2bbcf_row27_col40\" class=\"data row27 col40\" >67</td>\n",
       "    </tr>\n",
       "    <tr>\n",
       "      <th id=\"T_2bbcf_level0_row28\" class=\"row_heading level0 row28\" >10155</th>\n",
       "      <td id=\"T_2bbcf_row28_col0\" class=\"data row28 col0\" >Iñaki Peña</td>\n",
       "      <td id=\"T_2bbcf_row28_col1\" class=\"data row28 col1\" >Ignacio Peña Sotorres</td>\n",
       "      <td id=\"T_2bbcf_row28_col2\" class=\"data row28 col2\" >Spain</td>\n",
       "      <td id=\"T_2bbcf_row28_col3\" class=\"data row28 col3\" >21</td>\n",
       "      <td id=\"T_2bbcf_row28_col4\" class=\"data row28 col4\" >65</td>\n",
       "      <td id=\"T_2bbcf_row28_col5\" class=\"data row28 col5\" >FC Barcelona</td>\n",
       "      <td id=\"T_2bbcf_row28_col6\" class=\"data row28 col6\" >GK</td>\n",
       "      <td id=\"T_2bbcf_row28_col7\" class=\"data row28 col7\" >184cm</td>\n",
       "      <td id=\"T_2bbcf_row28_col8\" class=\"data row28 col8\" >78kg</td>\n",
       "      <td id=\"T_2bbcf_row28_col9\" class=\"data row28 col9\" >Right</td>\n",
       "      <td id=\"T_2bbcf_row28_col10\" class=\"data row28 col10\" >65</td>\n",
       "      <td id=\"T_2bbcf_row28_col11\" class=\"data row28 col11\" >GK</td>\n",
       "      <td id=\"T_2bbcf_row28_col12\" class=\"data row28 col12\" >1500000.000000</td>\n",
       "      <td id=\"T_2bbcf_row28_col13\" class=\"data row28 col13\" >13000.000000</td>\n",
       "      <td id=\"T_2bbcf_row28_col14\" class=\"data row28 col14\" >2.7M</td>\n",
       "      <td id=\"T_2bbcf_row28_col15\" class=\"data row28 col15\" >78</td>\n",
       "      <td id=\"T_2bbcf_row28_col16\" class=\"data row28 col16\" >12</td>\n",
       "      <td id=\"T_2bbcf_row28_col17\" class=\"data row28 col17\" >12</td>\n",
       "      <td id=\"T_2bbcf_row28_col18\" class=\"data row28 col18\" >24</td>\n",
       "      <td id=\"T_2bbcf_row28_col19\" class=\"data row28 col19\" >18</td>\n",
       "      <td id=\"T_2bbcf_row28_col20\" class=\"data row28 col20\" >33</td>\n",
       "      <td id=\"T_2bbcf_row28_col21\" class=\"data row28 col21\" >28</td>\n",
       "      <td id=\"T_2bbcf_row28_col22\" class=\"data row28 col22\" >50</td>\n",
       "      <td id=\"T_2bbcf_row28_col23\" class=\"data row28 col23\" >63</td>\n",
       "      <td id=\"T_2bbcf_row28_col24\" class=\"data row28 col24\" >27</td>\n",
       "      <td id=\"T_2bbcf_row28_col25\" class=\"data row28 col25\" >39</td>\n",
       "      <td id=\"T_2bbcf_row28_col26\" class=\"data row28 col26\" >17</td>\n",
       "      <td id=\"T_2bbcf_row28_col27\" class=\"data row28 col27\" >322</td>\n",
       "      <td id=\"T_2bbcf_row28_col28\" class=\"data row28 col28\" >67</td>\n",
       "      <td id=\"T_2bbcf_row28_col29\" class=\"data row28 col29\" >352</td>\n",
       "      <td id=\"T_2bbcf_row28_col30\" class=\"data row28 col30\" >3</td>\n",
       "      <td id=\"T_2bbcf_row28_col31\" class=\"data row28 col31\" >1</td>\n",
       "      <td id=\"T_2bbcf_row28_col32\" class=\"data row28 col32\" >Medium</td>\n",
       "      <td id=\"T_2bbcf_row28_col33\" class=\"data row28 col33\" >Medium</td>\n",
       "      <td id=\"T_2bbcf_row28_col34\" class=\"data row28 col34\" >1</td>\n",
       "      <td id=\"T_2bbcf_row28_col35\" class=\"data row28 col35\" >66</td>\n",
       "      <td id=\"T_2bbcf_row28_col36\" class=\"data row28 col36\" >61</td>\n",
       "      <td id=\"T_2bbcf_row28_col37\" class=\"data row28 col37\" >66</td>\n",
       "      <td id=\"T_2bbcf_row28_col38\" class=\"data row28 col38\" >67</td>\n",
       "      <td id=\"T_2bbcf_row28_col39\" class=\"data row28 col39\" >30</td>\n",
       "      <td id=\"T_2bbcf_row28_col40\" class=\"data row28 col40\" >62</td>\n",
       "    </tr>\n",
       "    <tr>\n",
       "      <th id=\"T_2bbcf_level0_row29\" class=\"row_heading level0 row29\" >11005</th>\n",
       "      <td id=\"T_2bbcf_row29_col0\" class=\"data row29 col0\" >Collado</td>\n",
       "      <td id=\"T_2bbcf_row29_col1\" class=\"data row29 col1\" >Álex Collado Gutiérrez</td>\n",
       "      <td id=\"T_2bbcf_row29_col2\" class=\"data row29 col2\" >Spain</td>\n",
       "      <td id=\"T_2bbcf_row29_col3\" class=\"data row29 col3\" >21</td>\n",
       "      <td id=\"T_2bbcf_row29_col4\" class=\"data row29 col4\" >64</td>\n",
       "      <td id=\"T_2bbcf_row29_col5\" class=\"data row29 col5\" >FC Barcelona</td>\n",
       "      <td id=\"T_2bbcf_row29_col6\" class=\"data row29 col6\" >CM</td>\n",
       "      <td id=\"T_2bbcf_row29_col7\" class=\"data row29 col7\" >177cm</td>\n",
       "      <td id=\"T_2bbcf_row29_col8\" class=\"data row29 col8\" >66kg</td>\n",
       "      <td id=\"T_2bbcf_row29_col9\" class=\"data row29 col9\" >Left</td>\n",
       "      <td id=\"T_2bbcf_row29_col10\" class=\"data row29 col10\" >68</td>\n",
       "      <td id=\"T_2bbcf_row29_col11\" class=\"data row29 col11\" >CAM</td>\n",
       "      <td id=\"T_2bbcf_row29_col12\" class=\"data row29 col12\" >1400000.000000</td>\n",
       "      <td id=\"T_2bbcf_row29_col13\" class=\"data row29 col13\" >18000.000000</td>\n",
       "      <td id=\"T_2bbcf_row29_col14\" class=\"data row29 col14\" >2.6M</td>\n",
       "      <td id=\"T_2bbcf_row29_col15\" class=\"data row29 col15\" >317</td>\n",
       "      <td id=\"T_2bbcf_row29_col16\" class=\"data row29 col16\" >70</td>\n",
       "      <td id=\"T_2bbcf_row29_col17\" class=\"data row29 col17\" >56</td>\n",
       "      <td id=\"T_2bbcf_row29_col18\" class=\"data row29 col18\" >66</td>\n",
       "      <td id=\"T_2bbcf_row29_col19\" class=\"data row29 col19\" >65</td>\n",
       "      <td id=\"T_2bbcf_row29_col20\" class=\"data row29 col20\" >65</td>\n",
       "      <td id=\"T_2bbcf_row29_col21\" class=\"data row29 col21\" >65</td>\n",
       "      <td id=\"T_2bbcf_row29_col22\" class=\"data row29 col22\" >63</td>\n",
       "      <td id=\"T_2bbcf_row29_col23\" class=\"data row29 col23\" >42</td>\n",
       "      <td id=\"T_2bbcf_row29_col24\" class=\"data row29 col24\" >42</td>\n",
       "      <td id=\"T_2bbcf_row29_col25\" class=\"data row29 col25\" >69</td>\n",
       "      <td id=\"T_2bbcf_row29_col26\" class=\"data row29 col26\" >63</td>\n",
       "      <td id=\"T_2bbcf_row29_col27\" class=\"data row29 col27\" >54</td>\n",
       "      <td id=\"T_2bbcf_row29_col28\" class=\"data row29 col28\" >11</td>\n",
       "      <td id=\"T_2bbcf_row29_col29\" class=\"data row29 col29\" >351</td>\n",
       "      <td id=\"T_2bbcf_row29_col30\" class=\"data row29 col30\" >3</td>\n",
       "      <td id=\"T_2bbcf_row29_col31\" class=\"data row29 col31\" >3</td>\n",
       "      <td id=\"T_2bbcf_row29_col32\" class=\"data row29 col32\" >Medium</td>\n",
       "      <td id=\"T_2bbcf_row29_col33\" class=\"data row29 col33\" >Medium</td>\n",
       "      <td id=\"T_2bbcf_row29_col34\" class=\"data row29 col34\" >1</td>\n",
       "      <td id=\"T_2bbcf_row29_col35\" class=\"data row29 col35\" >65</td>\n",
       "      <td id=\"T_2bbcf_row29_col36\" class=\"data row29 col36\" >61</td>\n",
       "      <td id=\"T_2bbcf_row29_col37\" class=\"data row29 col37\" >64</td>\n",
       "      <td id=\"T_2bbcf_row29_col38\" class=\"data row29 col38\" >68</td>\n",
       "      <td id=\"T_2bbcf_row29_col39\" class=\"data row29 col39\" >53</td>\n",
       "      <td id=\"T_2bbcf_row29_col40\" class=\"data row29 col40\" >40</td>\n",
       "    </tr>\n",
       "    <tr>\n",
       "      <th id=\"T_2bbcf_level0_row30\" class=\"row_heading level0 row30\" >11362</th>\n",
       "      <td id=\"T_2bbcf_row30_col0\" class=\"data row30 col0\" >A. Solano</td>\n",
       "      <td id=\"T_2bbcf_row30_col1\" class=\"data row30 col1\" >Andrés Solano</td>\n",
       "      <td id=\"T_2bbcf_row30_col2\" class=\"data row30 col2\" >Colombia</td>\n",
       "      <td id=\"T_2bbcf_row30_col3\" class=\"data row30 col3\" >22</td>\n",
       "      <td id=\"T_2bbcf_row30_col4\" class=\"data row30 col4\" >64</td>\n",
       "      <td id=\"T_2bbcf_row30_col5\" class=\"data row30 col5\" >FC Barcelona</td>\n",
       "      <td id=\"T_2bbcf_row30_col6\" class=\"data row30 col6\" >RB</td>\n",
       "      <td id=\"T_2bbcf_row30_col7\" class=\"data row30 col7\" >176cm</td>\n",
       "      <td id=\"T_2bbcf_row30_col8\" class=\"data row30 col8\" >69kg</td>\n",
       "      <td id=\"T_2bbcf_row30_col9\" class=\"data row30 col9\" >Right</td>\n",
       "      <td id=\"T_2bbcf_row30_col10\" class=\"data row30 col10\" >64</td>\n",
       "      <td id=\"T_2bbcf_row30_col11\" class=\"data row30 col11\" >RB</td>\n",
       "      <td id=\"T_2bbcf_row30_col12\" class=\"data row30 col12\" >1300000.000000</td>\n",
       "      <td id=\"T_2bbcf_row30_col13\" class=\"data row30 col13\" >8000.000000</td>\n",
       "      <td id=\"T_2bbcf_row30_col14\" class=\"data row30 col14\" >0</td>\n",
       "      <td id=\"T_2bbcf_row30_col15\" class=\"data row30 col15\" >251</td>\n",
       "      <td id=\"T_2bbcf_row30_col16\" class=\"data row30 col16\" >60</td>\n",
       "      <td id=\"T_2bbcf_row30_col17\" class=\"data row30 col17\" >34</td>\n",
       "      <td id=\"T_2bbcf_row30_col18\" class=\"data row30 col18\" >52</td>\n",
       "      <td id=\"T_2bbcf_row30_col19\" class=\"data row30 col19\" >64</td>\n",
       "      <td id=\"T_2bbcf_row30_col20\" class=\"data row30 col20\" >62</td>\n",
       "      <td id=\"T_2bbcf_row30_col21\" class=\"data row30 col21\" >64</td>\n",
       "      <td id=\"T_2bbcf_row30_col22\" class=\"data row30 col22\" >49</td>\n",
       "      <td id=\"T_2bbcf_row30_col23\" class=\"data row30 col23\" >62</td>\n",
       "      <td id=\"T_2bbcf_row30_col24\" class=\"data row30 col24\" >59</td>\n",
       "      <td id=\"T_2bbcf_row30_col25\" class=\"data row30 col25\" >46</td>\n",
       "      <td id=\"T_2bbcf_row30_col26\" class=\"data row30 col26\" >40</td>\n",
       "      <td id=\"T_2bbcf_row30_col27\" class=\"data row30 col27\" >46</td>\n",
       "      <td id=\"T_2bbcf_row30_col28\" class=\"data row30 col28\" >10</td>\n",
       "      <td id=\"T_2bbcf_row30_col29\" class=\"data row30 col29\" >331</td>\n",
       "      <td id=\"T_2bbcf_row30_col30\" class=\"data row30 col30\" >3</td>\n",
       "      <td id=\"T_2bbcf_row30_col31\" class=\"data row30 col31\" >2</td>\n",
       "      <td id=\"T_2bbcf_row30_col32\" class=\"data row30 col32\" >Medium</td>\n",
       "      <td id=\"T_2bbcf_row30_col33\" class=\"data row30 col33\" >Medium</td>\n",
       "      <td id=\"T_2bbcf_row30_col34\" class=\"data row30 col34\" >1</td>\n",
       "      <td id=\"T_2bbcf_row30_col35\" class=\"data row30 col35\" >63</td>\n",
       "      <td id=\"T_2bbcf_row30_col36\" class=\"data row30 col36\" >35</td>\n",
       "      <td id=\"T_2bbcf_row30_col37\" class=\"data row30 col37\" >54</td>\n",
       "      <td id=\"T_2bbcf_row30_col38\" class=\"data row30 col38\" >62</td>\n",
       "      <td id=\"T_2bbcf_row30_col39\" class=\"data row30 col39\" >61</td>\n",
       "      <td id=\"T_2bbcf_row30_col40\" class=\"data row30 col40\" >56</td>\n",
       "    </tr>\n",
       "    <tr>\n",
       "      <th id=\"T_2bbcf_level0_row31\" class=\"row_heading level0 row31\" >11868</th>\n",
       "      <td id=\"T_2bbcf_row31_col0\" class=\"data row31 col0\" >J. Zeballos</td>\n",
       "      <td id=\"T_2bbcf_row31_col1\" class=\"data row31 col1\" >Joaquín Zeballos</td>\n",
       "      <td id=\"T_2bbcf_row31_col2\" class=\"data row31 col2\" >Uruguay</td>\n",
       "      <td id=\"T_2bbcf_row31_col3\" class=\"data row31 col3\" >23</td>\n",
       "      <td id=\"T_2bbcf_row31_col4\" class=\"data row31 col4\" >64</td>\n",
       "      <td id=\"T_2bbcf_row31_col5\" class=\"data row31 col5\" >FC Barcelona</td>\n",
       "      <td id=\"T_2bbcf_row31_col6\" class=\"data row31 col6\" >ST</td>\n",
       "      <td id=\"T_2bbcf_row31_col7\" class=\"data row31 col7\" >178cm</td>\n",
       "      <td id=\"T_2bbcf_row31_col8\" class=\"data row31 col8\" >75kg</td>\n",
       "      <td id=\"T_2bbcf_row31_col9\" class=\"data row31 col9\" >Right</td>\n",
       "      <td id=\"T_2bbcf_row31_col10\" class=\"data row31 col10\" >66</td>\n",
       "      <td id=\"T_2bbcf_row31_col11\" class=\"data row31 col11\" >ST</td>\n",
       "      <td id=\"T_2bbcf_row31_col12\" class=\"data row31 col12\" >1300000.000000</td>\n",
       "      <td id=\"T_2bbcf_row31_col13\" class=\"data row31 col13\" >2000.000000</td>\n",
       "      <td id=\"T_2bbcf_row31_col14\" class=\"data row31 col14\" >0</td>\n",
       "      <td id=\"T_2bbcf_row31_col15\" class=\"data row31 col15\" >244</td>\n",
       "      <td id=\"T_2bbcf_row31_col16\" class=\"data row31 col16\" >64</td>\n",
       "      <td id=\"T_2bbcf_row31_col17\" class=\"data row31 col17\" >38</td>\n",
       "      <td id=\"T_2bbcf_row31_col18\" class=\"data row31 col18\" >44</td>\n",
       "      <td id=\"T_2bbcf_row31_col19\" class=\"data row31 col19\" >55</td>\n",
       "      <td id=\"T_2bbcf_row31_col20\" class=\"data row31 col20\" >58</td>\n",
       "      <td id=\"T_2bbcf_row31_col21\" class=\"data row31 col21\" >63</td>\n",
       "      <td id=\"T_2bbcf_row31_col22\" class=\"data row31 col22\" >62</td>\n",
       "      <td id=\"T_2bbcf_row31_col23\" class=\"data row31 col23\" >65</td>\n",
       "      <td id=\"T_2bbcf_row31_col24\" class=\"data row31 col24\" >52</td>\n",
       "      <td id=\"T_2bbcf_row31_col25\" class=\"data row31 col25\" >56</td>\n",
       "      <td id=\"T_2bbcf_row31_col26\" class=\"data row31 col26\" >70</td>\n",
       "      <td id=\"T_2bbcf_row31_col27\" class=\"data row31 col27\" >56</td>\n",
       "      <td id=\"T_2bbcf_row31_col28\" class=\"data row31 col28\" >12</td>\n",
       "      <td id=\"T_2bbcf_row31_col29\" class=\"data row31 col29\" >313</td>\n",
       "      <td id=\"T_2bbcf_row31_col30\" class=\"data row31 col30\" >3</td>\n",
       "      <td id=\"T_2bbcf_row31_col31\" class=\"data row31 col31\" >2</td>\n",
       "      <td id=\"T_2bbcf_row31_col32\" class=\"data row31 col32\" >Medium</td>\n",
       "      <td id=\"T_2bbcf_row31_col33\" class=\"data row31 col33\" >Medium</td>\n",
       "      <td id=\"T_2bbcf_row31_col34\" class=\"data row31 col34\" >1</td>\n",
       "      <td id=\"T_2bbcf_row31_col35\" class=\"data row31 col35\" >61</td>\n",
       "      <td id=\"T_2bbcf_row31_col36\" class=\"data row31 col36\" >67</td>\n",
       "      <td id=\"T_2bbcf_row31_col37\" class=\"data row31 col37\" >51</td>\n",
       "      <td id=\"T_2bbcf_row31_col38\" class=\"data row31 col38\" >61</td>\n",
       "      <td id=\"T_2bbcf_row31_col39\" class=\"data row31 col39\" >21</td>\n",
       "      <td id=\"T_2bbcf_row31_col40\" class=\"data row31 col40\" >52</td>\n",
       "    </tr>\n",
       "    <tr>\n",
       "      <th id=\"T_2bbcf_level0_row32\" class=\"row_heading level0 row32\" >11960</th>\n",
       "      <td id=\"T_2bbcf_row32_col0\" class=\"data row32 col0\" >K. de la Fuente</td>\n",
       "      <td id=\"T_2bbcf_row32_col1\" class=\"data row32 col1\" >Konrad de la Fuente</td>\n",
       "      <td id=\"T_2bbcf_row32_col2\" class=\"data row32 col2\" >United States</td>\n",
       "      <td id=\"T_2bbcf_row32_col3\" class=\"data row32 col3\" >18</td>\n",
       "      <td id=\"T_2bbcf_row32_col4\" class=\"data row32 col4\" >63</td>\n",
       "      <td id=\"T_2bbcf_row32_col5\" class=\"data row32 col5\" >FC Barcelona</td>\n",
       "      <td id=\"T_2bbcf_row32_col6\" class=\"data row32 col6\" >LW, RW</td>\n",
       "      <td id=\"T_2bbcf_row32_col7\" class=\"data row32 col7\" >170cm</td>\n",
       "      <td id=\"T_2bbcf_row32_col8\" class=\"data row32 col8\" >63kg</td>\n",
       "      <td id=\"T_2bbcf_row32_col9\" class=\"data row32 col9\" >Right</td>\n",
       "      <td id=\"T_2bbcf_row32_col10\" class=\"data row32 col10\" >64</td>\n",
       "      <td id=\"T_2bbcf_row32_col11\" class=\"data row32 col11\" >RM</td>\n",
       "      <td id=\"T_2bbcf_row32_col12\" class=\"data row32 col12\" >1200000.000000</td>\n",
       "      <td id=\"T_2bbcf_row32_col13\" class=\"data row32 col13\" >10000.000000</td>\n",
       "      <td id=\"T_2bbcf_row32_col14\" class=\"data row32 col14\" >2M</td>\n",
       "      <td id=\"T_2bbcf_row32_col15\" class=\"data row32 col15\" >257</td>\n",
       "      <td id=\"T_2bbcf_row32_col16\" class=\"data row32 col16\" >70</td>\n",
       "      <td id=\"T_2bbcf_row32_col17\" class=\"data row32 col17\" >45</td>\n",
       "      <td id=\"T_2bbcf_row32_col18\" class=\"data row32 col18\" >41</td>\n",
       "      <td id=\"T_2bbcf_row32_col19\" class=\"data row32 col19\" >63</td>\n",
       "      <td id=\"T_2bbcf_row32_col20\" class=\"data row32 col20\" >78</td>\n",
       "      <td id=\"T_2bbcf_row32_col21\" class=\"data row32 col21\" >76</td>\n",
       "      <td id=\"T_2bbcf_row32_col22\" class=\"data row32 col22\" >56</td>\n",
       "      <td id=\"T_2bbcf_row32_col23\" class=\"data row32 col23\" >51</td>\n",
       "      <td id=\"T_2bbcf_row32_col24\" class=\"data row32 col24\" >53</td>\n",
       "      <td id=\"T_2bbcf_row32_col25\" class=\"data row32 col25\" >57</td>\n",
       "      <td id=\"T_2bbcf_row32_col26\" class=\"data row32 col26\" >50</td>\n",
       "      <td id=\"T_2bbcf_row32_col27\" class=\"data row32 col27\" >61</td>\n",
       "      <td id=\"T_2bbcf_row32_col28\" class=\"data row32 col28\" >14</td>\n",
       "      <td id=\"T_2bbcf_row32_col29\" class=\"data row32 col29\" >324</td>\n",
       "      <td id=\"T_2bbcf_row32_col30\" class=\"data row32 col30\" >4</td>\n",
       "      <td id=\"T_2bbcf_row32_col31\" class=\"data row32 col31\" >3</td>\n",
       "      <td id=\"T_2bbcf_row32_col32\" class=\"data row32 col32\" >Medium</td>\n",
       "      <td id=\"T_2bbcf_row32_col33\" class=\"data row32 col33\" >Medium</td>\n",
       "      <td id=\"T_2bbcf_row32_col34\" class=\"data row32 col34\" >1</td>\n",
       "      <td id=\"T_2bbcf_row32_col35\" class=\"data row32 col35\" >77</td>\n",
       "      <td id=\"T_2bbcf_row32_col36\" class=\"data row32 col36\" >58</td>\n",
       "      <td id=\"T_2bbcf_row32_col37\" class=\"data row32 col37\" >53</td>\n",
       "      <td id=\"T_2bbcf_row32_col38\" class=\"data row32 col38\" >68</td>\n",
       "      <td id=\"T_2bbcf_row32_col39\" class=\"data row32 col39\" >18</td>\n",
       "      <td id=\"T_2bbcf_row32_col40\" class=\"data row32 col40\" >50</td>\n",
       "    </tr>\n",
       "  </tbody>\n",
       "</table>\n"
      ],
      "text/plain": [
       "<pandas.io.formats.style.Styler at 0x2435d1c7c20>"
      ]
     },
     "execution_count": 42,
     "metadata": {},
     "output_type": "execute_result"
    }
   ],
   "source": [
    "barca_team_all_players=fifa[fifa['Club']=='FC Barcelona']\n",
    "# Create a colormap\n",
    "cm = sns.light_palette(\"yellow\", as_cmap=True)\n",
    "\n",
    "# Apply background gradient and format the Overall Score\n",
    "styled_df = barca_team_all_players.style.background_gradient(cmap=cm).format({\"Overall Score\": \"{:.2f}\"})\n",
    "\n",
    "# Display the styled DataFrame\n",
    "styled_df\n"
   ]
  },
  {
   "cell_type": "markdown",
   "id": "5b8840d2",
   "metadata": {
    "papermill": {
     "duration": 0.023111,
     "end_time": "2024-09-19T09:59:59.823106",
     "exception": false,
     "start_time": "2024-09-19T09:59:59.799995",
     "status": "completed"
    },
    "tags": []
   },
   "source": [
    "# FIFA TEAM IN 21"
   ]
  },
  {
   "cell_type": "code",
   "execution_count": 43,
   "id": "fb2037bd",
   "metadata": {
    "papermill": {
     "duration": 0.057722,
     "end_time": "2024-09-19T09:59:59.904951",
     "exception": false,
     "start_time": "2024-09-19T09:59:59.847229",
     "status": "completed"
    },
    "tags": []
   },
   "outputs": [
    {
     "name": "stderr",
     "output_type": "stream",
     "text": [
      "C:\\Users\\Haris\\AppData\\Local\\Temp\\ipykernel_21672\\4158501163.py:2: DeprecationWarning:\n",
      "\n",
      "DataFrameGroupBy.apply operated on the grouping columns. This behavior is deprecated, and in a future version of pandas the grouping columns will be excluded from the operation. Either pass `include_groups=False` to exclude the groupings or explicitly select the grouping columns after groupby to silence this warning.\n",
      "\n"
     ]
    }
   ],
   "source": [
    "FIFA_TEAM_21=fifa[['Name','Age','BOV','Best Position','Club']]\n",
    "pos_play=FIFA_TEAM_21.groupby('Best Position').apply(lambda x:np.max(x['BOV'])).reset_index(name='Overall Score')\n",
    "player_pos=pd.merge(FIFA_TEAM_21,pos_play,how='inner',left_on=['Best Position','BOV'],right_on=['Best Position','Overall Score'])\n",
    "pos_best=player_pos[['Name','Club','Age','Best Position','Overall Score']]\n",
    "cm = sns.light_palette(\"yellow\", as_cmap=True) \n",
    "#pos_best.style.background_gradient(cmap=cm).set_precision(2)"
   ]
  },
  {
   "cell_type": "code",
   "execution_count": 44,
   "id": "da4ec4c6",
   "metadata": {
    "papermill": {
     "duration": 0.048226,
     "end_time": "2024-09-19T09:59:59.976908",
     "exception": false,
     "start_time": "2024-09-19T09:59:59.928682",
     "status": "completed"
    },
    "tags": []
   },
   "outputs": [
    {
     "data": {
      "text/html": [
       "<style type=\"text/css\">\n",
       "#T_bf30f_row0_col2 {\n",
       "  background-color: #fdfd1f;\n",
       "  color: #000000;\n",
       "}\n",
       "#T_bf30f_row0_col4, #T_bf30f_row1_col2 {\n",
       "  background-color: #ffff00;\n",
       "  color: #000000;\n",
       "}\n",
       "#T_bf30f_row1_col4 {\n",
       "  background-color: #fefe18;\n",
       "  color: #000000;\n",
       "}\n",
       "#T_bf30f_row2_col2, #T_bf30f_row11_col2 {\n",
       "  background-color: #f8f87f;\n",
       "  color: #000000;\n",
       "}\n",
       "#T_bf30f_row2_col4, #T_bf30f_row3_col4, #T_bf30f_row4_col4 {\n",
       "  background-color: #fcfc31;\n",
       "  color: #000000;\n",
       "}\n",
       "#T_bf30f_row3_col2 {\n",
       "  background-color: #f9f95f;\n",
       "  color: #000000;\n",
       "}\n",
       "#T_bf30f_row4_col2, #T_bf30f_row5_col2, #T_bf30f_row6_col2 {\n",
       "  background-color: #f9f96e;\n",
       "  color: #000000;\n",
       "}\n",
       "#T_bf30f_row5_col4 {\n",
       "  background-color: #fbfb4a;\n",
       "  color: #000000;\n",
       "}\n",
       "#T_bf30f_row6_col4, #T_bf30f_row7_col4 {\n",
       "  background-color: #f9f962;\n",
       "  color: #000000;\n",
       "}\n",
       "#T_bf30f_row7_col2 {\n",
       "  background-color: #fcfc2f;\n",
       "  color: #000000;\n",
       "}\n",
       "#T_bf30f_row8_col2 {\n",
       "  background-color: #fafa4f;\n",
       "  color: #000000;\n",
       "}\n",
       "#T_bf30f_row8_col4 {\n",
       "  background-color: #f8f87b;\n",
       "  color: #000000;\n",
       "}\n",
       "#T_bf30f_row9_col2, #T_bf30f_row15_col4, #T_bf30f_row16_col4 {\n",
       "  background-color: #f2f2dd;\n",
       "  color: #000000;\n",
       "}\n",
       "#T_bf30f_row9_col4, #T_bf30f_row10_col4, #T_bf30f_row11_col4 {\n",
       "  background-color: #f6f693;\n",
       "  color: #000000;\n",
       "}\n",
       "#T_bf30f_row10_col2, #T_bf30f_row15_col2, #T_bf30f_row16_col2 {\n",
       "  background-color: #f7f78e;\n",
       "  color: #000000;\n",
       "}\n",
       "#T_bf30f_row12_col2 {\n",
       "  background-color: #f3f3ce;\n",
       "  color: #000000;\n",
       "}\n",
       "#T_bf30f_row12_col4, #T_bf30f_row13_col4 {\n",
       "  background-color: #f5f5ad;\n",
       "  color: #000000;\n",
       "}\n",
       "#T_bf30f_row13_col2, #T_bf30f_row14_col2 {\n",
       "  background-color: #f5f5ae;\n",
       "  color: #000000;\n",
       "}\n",
       "#T_bf30f_row14_col4 {\n",
       "  background-color: #f3f3c5;\n",
       "  color: #000000;\n",
       "}\n",
       "</style>\n",
       "<table id=\"T_bf30f\">\n",
       "  <thead>\n",
       "    <tr>\n",
       "      <th class=\"blank level0\" >&nbsp;</th>\n",
       "      <th id=\"T_bf30f_level0_col0\" class=\"col_heading level0 col0\" >Name</th>\n",
       "      <th id=\"T_bf30f_level0_col1\" class=\"col_heading level0 col1\" >Club</th>\n",
       "      <th id=\"T_bf30f_level0_col2\" class=\"col_heading level0 col2\" >Age</th>\n",
       "      <th id=\"T_bf30f_level0_col3\" class=\"col_heading level0 col3\" >Best Position</th>\n",
       "      <th id=\"T_bf30f_level0_col4\" class=\"col_heading level0 col4\" >Overall Score</th>\n",
       "    </tr>\n",
       "  </thead>\n",
       "  <tbody>\n",
       "    <tr>\n",
       "      <th id=\"T_bf30f_level0_row0\" class=\"row_heading level0 row0\" >0</th>\n",
       "      <td id=\"T_bf30f_row0_col0\" class=\"data row0 col0\" >L. Messi</td>\n",
       "      <td id=\"T_bf30f_row0_col1\" class=\"data row0 col1\" >FC Barcelona</td>\n",
       "      <td id=\"T_bf30f_row0_col2\" class=\"data row0 col2\" >33</td>\n",
       "      <td id=\"T_bf30f_row0_col3\" class=\"data row0 col3\" >RW</td>\n",
       "      <td id=\"T_bf30f_row0_col4\" class=\"data row0 col4\" >93.00</td>\n",
       "    </tr>\n",
       "    <tr>\n",
       "      <th id=\"T_bf30f_level0_row1\" class=\"row_heading level0 row1\" >1</th>\n",
       "      <td id=\"T_bf30f_row1_col0\" class=\"data row1 col0\" >Cristiano Ronaldo</td>\n",
       "      <td id=\"T_bf30f_row1_col1\" class=\"data row1 col1\" >Juventus</td>\n",
       "      <td id=\"T_bf30f_row1_col2\" class=\"data row1 col2\" >35</td>\n",
       "      <td id=\"T_bf30f_row1_col3\" class=\"data row1 col3\" >ST</td>\n",
       "      <td id=\"T_bf30f_row1_col4\" class=\"data row1 col4\" >92.00</td>\n",
       "    </tr>\n",
       "    <tr>\n",
       "      <th id=\"T_bf30f_level0_row2\" class=\"row_heading level0 row2\" >2</th>\n",
       "      <td id=\"T_bf30f_row2_col0\" class=\"data row2 col0\" >J. Oblak</td>\n",
       "      <td id=\"T_bf30f_row2_col1\" class=\"data row2 col1\" >Atlético Madrid</td>\n",
       "      <td id=\"T_bf30f_row2_col2\" class=\"data row2 col2\" >27</td>\n",
       "      <td id=\"T_bf30f_row2_col3\" class=\"data row2 col3\" >GK</td>\n",
       "      <td id=\"T_bf30f_row2_col4\" class=\"data row2 col4\" >91.00</td>\n",
       "    </tr>\n",
       "    <tr>\n",
       "      <th id=\"T_bf30f_level0_row3\" class=\"row_heading level0 row3\" >3</th>\n",
       "      <td id=\"T_bf30f_row3_col0\" class=\"data row3 col0\" >K. De Bruyne</td>\n",
       "      <td id=\"T_bf30f_row3_col1\" class=\"data row3 col1\" >Manchester City</td>\n",
       "      <td id=\"T_bf30f_row3_col2\" class=\"data row3 col2\" >29</td>\n",
       "      <td id=\"T_bf30f_row3_col3\" class=\"data row3 col3\" >CAM</td>\n",
       "      <td id=\"T_bf30f_row3_col4\" class=\"data row3 col4\" >91.00</td>\n",
       "    </tr>\n",
       "    <tr>\n",
       "      <th id=\"T_bf30f_level0_row4\" class=\"row_heading level0 row4\" >4</th>\n",
       "      <td id=\"T_bf30f_row4_col0\" class=\"data row4 col0\" >Neymar Jr</td>\n",
       "      <td id=\"T_bf30f_row4_col1\" class=\"data row4 col1\" >Paris Saint-Germain</td>\n",
       "      <td id=\"T_bf30f_row4_col2\" class=\"data row4 col2\" >28</td>\n",
       "      <td id=\"T_bf30f_row4_col3\" class=\"data row4 col3\" >LW</td>\n",
       "      <td id=\"T_bf30f_row4_col4\" class=\"data row4 col4\" >91.00</td>\n",
       "    </tr>\n",
       "    <tr>\n",
       "      <th id=\"T_bf30f_level0_row5\" class=\"row_heading level0 row5\" >5</th>\n",
       "      <td id=\"T_bf30f_row5_col0\" class=\"data row5 col0\" >V. van Dijk</td>\n",
       "      <td id=\"T_bf30f_row5_col1\" class=\"data row5 col1\" >Liverpool</td>\n",
       "      <td id=\"T_bf30f_row5_col2\" class=\"data row5 col2\" >28</td>\n",
       "      <td id=\"T_bf30f_row5_col3\" class=\"data row5 col3\" >CB</td>\n",
       "      <td id=\"T_bf30f_row5_col4\" class=\"data row5 col4\" >90.00</td>\n",
       "    </tr>\n",
       "    <tr>\n",
       "      <th id=\"T_bf30f_level0_row6\" class=\"row_heading level0 row6\" >6</th>\n",
       "      <td id=\"T_bf30f_row6_col0\" class=\"data row6 col0\" >Casemiro</td>\n",
       "      <td id=\"T_bf30f_row6_col1\" class=\"data row6 col1\" >Real Madrid</td>\n",
       "      <td id=\"T_bf30f_row6_col2\" class=\"data row6 col2\" >28</td>\n",
       "      <td id=\"T_bf30f_row6_col3\" class=\"data row6 col3\" >CDM</td>\n",
       "      <td id=\"T_bf30f_row6_col4\" class=\"data row6 col4\" >89.00</td>\n",
       "    </tr>\n",
       "    <tr>\n",
       "      <th id=\"T_bf30f_level0_row7\" class=\"row_heading level0 row7\" >7</th>\n",
       "      <td id=\"T_bf30f_row7_col0\" class=\"data row7 col0\" >K. Benzema</td>\n",
       "      <td id=\"T_bf30f_row7_col1\" class=\"data row7 col1\" >Real Madrid</td>\n",
       "      <td id=\"T_bf30f_row7_col2\" class=\"data row7 col2\" >32</td>\n",
       "      <td id=\"T_bf30f_row7_col3\" class=\"data row7 col3\" >CF</td>\n",
       "      <td id=\"T_bf30f_row7_col4\" class=\"data row7 col4\" >89.00</td>\n",
       "    </tr>\n",
       "    <tr>\n",
       "      <th id=\"T_bf30f_level0_row8\" class=\"row_heading level0 row8\" >8</th>\n",
       "      <td id=\"T_bf30f_row8_col0\" class=\"data row8 col0\" >T. Kroos</td>\n",
       "      <td id=\"T_bf30f_row8_col1\" class=\"data row8 col1\" >Real Madrid</td>\n",
       "      <td id=\"T_bf30f_row8_col2\" class=\"data row8 col2\" >30</td>\n",
       "      <td id=\"T_bf30f_row8_col3\" class=\"data row8 col3\" >CM</td>\n",
       "      <td id=\"T_bf30f_row8_col4\" class=\"data row8 col4\" >88.00</td>\n",
       "    </tr>\n",
       "    <tr>\n",
       "      <th id=\"T_bf30f_level0_row9\" class=\"row_heading level0 row9\" >9</th>\n",
       "      <td id=\"T_bf30f_row9_col0\" class=\"data row9 col0\" >T. Alexander-Arnold</td>\n",
       "      <td id=\"T_bf30f_row9_col1\" class=\"data row9 col1\" >Liverpool</td>\n",
       "      <td id=\"T_bf30f_row9_col2\" class=\"data row9 col2\" >21</td>\n",
       "      <td id=\"T_bf30f_row9_col3\" class=\"data row9 col3\" >RB</td>\n",
       "      <td id=\"T_bf30f_row9_col4\" class=\"data row9 col4\" >87.00</td>\n",
       "    </tr>\n",
       "    <tr>\n",
       "      <th id=\"T_bf30f_level0_row10\" class=\"row_heading level0 row10\" >10</th>\n",
       "      <td id=\"T_bf30f_row10_col0\" class=\"data row10 col0\" >A. Robertson</td>\n",
       "      <td id=\"T_bf30f_row10_col1\" class=\"data row10 col1\" >Liverpool</td>\n",
       "      <td id=\"T_bf30f_row10_col2\" class=\"data row10 col2\" >26</td>\n",
       "      <td id=\"T_bf30f_row10_col3\" class=\"data row10 col3\" >LB</td>\n",
       "      <td id=\"T_bf30f_row10_col4\" class=\"data row10 col4\" >87.00</td>\n",
       "    </tr>\n",
       "    <tr>\n",
       "      <th id=\"T_bf30f_level0_row11\" class=\"row_heading level0 row11\" >11</th>\n",
       "      <td id=\"T_bf30f_row11_col0\" class=\"data row11 col0\" >H. Son</td>\n",
       "      <td id=\"T_bf30f_row11_col1\" class=\"data row11 col1\" >Tottenham Hotspur</td>\n",
       "      <td id=\"T_bf30f_row11_col2\" class=\"data row11 col2\" >27</td>\n",
       "      <td id=\"T_bf30f_row11_col3\" class=\"data row11 col3\" >LM</td>\n",
       "      <td id=\"T_bf30f_row11_col4\" class=\"data row11 col4\" >87.00</td>\n",
       "    </tr>\n",
       "    <tr>\n",
       "      <th id=\"T_bf30f_level0_row12\" class=\"row_heading level0 row12\" >12</th>\n",
       "      <td id=\"T_bf30f_row12_col0\" class=\"data row12 col0\" >M. Rashford</td>\n",
       "      <td id=\"T_bf30f_row12_col1\" class=\"data row12 col1\" >Manchester United</td>\n",
       "      <td id=\"T_bf30f_row12_col2\" class=\"data row12 col2\" >22</td>\n",
       "      <td id=\"T_bf30f_row12_col3\" class=\"data row12 col3\" >RM</td>\n",
       "      <td id=\"T_bf30f_row12_col4\" class=\"data row12 col4\" >86.00</td>\n",
       "    </tr>\n",
       "    <tr>\n",
       "      <th id=\"T_bf30f_level0_row13\" class=\"row_heading level0 row13\" >13</th>\n",
       "      <td id=\"T_bf30f_row13_col0\" class=\"data row13 col0\" >K. Coman</td>\n",
       "      <td id=\"T_bf30f_row13_col1\" class=\"data row13 col1\" >FC Bayern München</td>\n",
       "      <td id=\"T_bf30f_row13_col2\" class=\"data row13 col2\" >24</td>\n",
       "      <td id=\"T_bf30f_row13_col3\" class=\"data row13 col3\" >RM</td>\n",
       "      <td id=\"T_bf30f_row13_col4\" class=\"data row13 col4\" >86.00</td>\n",
       "    </tr>\n",
       "    <tr>\n",
       "      <th id=\"T_bf30f_level0_row14\" class=\"row_heading level0 row14\" >14</th>\n",
       "      <td id=\"T_bf30f_row14_col0\" class=\"data row14 col0\" >Grimaldo</td>\n",
       "      <td id=\"T_bf30f_row14_col1\" class=\"data row14 col1\" >SL Benfica</td>\n",
       "      <td id=\"T_bf30f_row14_col2\" class=\"data row14 col2\" >24</td>\n",
       "      <td id=\"T_bf30f_row14_col3\" class=\"data row14 col3\" >LWB</td>\n",
       "      <td id=\"T_bf30f_row14_col4\" class=\"data row14 col4\" >85.00</td>\n",
       "    </tr>\n",
       "    <tr>\n",
       "      <th id=\"T_bf30f_level0_row15\" class=\"row_heading level0 row15\" >15</th>\n",
       "      <td id=\"T_bf30f_row15_col0\" class=\"data row15 col0\" >João Cancelo</td>\n",
       "      <td id=\"T_bf30f_row15_col1\" class=\"data row15 col1\" >Manchester City</td>\n",
       "      <td id=\"T_bf30f_row15_col2\" class=\"data row15 col2\" >26</td>\n",
       "      <td id=\"T_bf30f_row15_col3\" class=\"data row15 col3\" >RWB</td>\n",
       "      <td id=\"T_bf30f_row15_col4\" class=\"data row15 col4\" >84.00</td>\n",
       "    </tr>\n",
       "    <tr>\n",
       "      <th id=\"T_bf30f_level0_row16\" class=\"row_heading level0 row16\" >16</th>\n",
       "      <td id=\"T_bf30f_row16_col0\" class=\"data row16 col0\" >Nélson Semedo</td>\n",
       "      <td id=\"T_bf30f_row16_col1\" class=\"data row16 col1\" >Wolverhampton Wanderers</td>\n",
       "      <td id=\"T_bf30f_row16_col2\" class=\"data row16 col2\" >26</td>\n",
       "      <td id=\"T_bf30f_row16_col3\" class=\"data row16 col3\" >RWB</td>\n",
       "      <td id=\"T_bf30f_row16_col4\" class=\"data row16 col4\" >84.00</td>\n",
       "    </tr>\n",
       "  </tbody>\n",
       "</table>\n"
      ],
      "text/plain": [
       "<pandas.io.formats.style.Styler at 0x2435cfb7c80>"
      ]
     },
     "execution_count": 44,
     "metadata": {},
     "output_type": "execute_result"
    }
   ],
   "source": [
    "import pandas as pd\n",
    "import seaborn as sns\n",
    "\n",
    "# Sample DataFrame (replace this with your actual DataFrame)\n",
    "pos_best = player_pos[['Name', 'Club', 'Age', 'Best Position', 'Overall Score']]\n",
    "\n",
    "# Create a colormap\n",
    "cm = sns.light_palette(\"yellow\", as_cmap=True)\n",
    "\n",
    "# Apply background gradient and format the Overall Score\n",
    "styled_df = pos_best.style.background_gradient(cmap=cm).format({\"Overall Score\": \"{:.2f}\"})\n",
    "\n",
    "# Display the styled DataFrame\n",
    "styled_df\n"
   ]
  },
  {
   "cell_type": "code",
   "execution_count": null,
   "id": "75388e1d",
   "metadata": {},
   "outputs": [],
   "source": [
    "fifa.drop(columns=[\"ID\",\"photoUrl\",\"Volleys\",\"Loan Date End\",\"Short Passing\",\"Curve\",\"playerUrl\",\"Contract\",\"POT\",\"Joined\",\"Crossing\",\"Attacking\",\"Heading Accuracy\",\"Finishing\",\"Movement\",\"Agility\",\"Reactions\",\"Balance\",\"Power\",\"Strength\",\"Long Shots\",\"Mentality\",\"Aggression\",\"Interceptions\",\"Positioning\",\"Composure\",\"Marking\",\"Standing Tackle\",\"Sliding Tackle\",\"GK Diving\",\"GK Handling\",\"GK Kicking\",\"GK Positioning\",\"Total Stats\",\"Hits\",\"Defending\"],axis=1,inplace=True)"
   ]
  },
  {
   "cell_type": "code",
   "execution_count": null,
   "id": "a9a1c3e3",
   "metadata": {},
   "outputs": [],
   "source": []
  },
  {
   "cell_type": "code",
   "execution_count": null,
   "id": "71fa89e3",
   "metadata": {},
   "outputs": [],
   "source": []
  },
  {
   "cell_type": "code",
   "execution_count": null,
   "id": "129c4d79",
   "metadata": {},
   "outputs": [],
   "source": []
  },
  {
   "cell_type": "code",
   "execution_count": null,
   "id": "fd6a8be4",
   "metadata": {},
   "outputs": [],
   "source": []
  },
  {
   "cell_type": "code",
   "execution_count": 45,
   "id": "32532eb6",
   "metadata": {},
   "outputs": [
    {
     "name": "stdout",
     "output_type": "stream",
     "text": [
      "Datasets have been split and saved as CSV files.\n"
     ]
    }
   ],
   "source": [
    "from sklearn.model_selection import train_test_split\n",
    "from sklearn.preprocessing import LabelEncoder, StandardScaler\n",
    "import pandas as pd\n",
    "\n",
    "# Encode categorical variables\n",
    "encoder = LabelEncoder()\n",
    "fifa['Preferred Foot'] = encoder.fit_transform(fifa['Preferred Foot'])\n",
    "fifa['Best Position'] = encoder.fit_transform(fifa['Best Position'])\n",
    "fifa['Club'] = encoder.fit_transform(fifa['Club'])\n",
    "\n",
    "# Select features and target\n",
    "X = fifa[['Age', 'Preferred Foot', 'Skill', 'PAC', 'DEF', 'DRI', 'PHY', 'Value', 'Wage']]\n",
    "y = fifa['BOV']  # Target: Best Overall Value\n",
    "\n",
    "# Scale features\n",
    "scaler = StandardScaler()\n",
    "X_scaled = scaler.fit_transform(X)\n",
    "\n",
    "# Split dataset into training (60%), validation (20%), and test (20%) sets\n",
    "X_train, X_temp, y_train, y_temp = train_test_split(X_scaled, y, test_size=0.4, random_state=42)  # 40% goes to temp\n",
    "X_val, X_test, y_val, y_test = train_test_split(X_temp, y_temp, test_size=0.5, random_state=42)  # Split temp into 20% each\n",
    "\n",
    "# Save splits to CSV files\n",
    "train_df = pd.DataFrame(X_train, columns=X.columns)\n",
    "train_df['BOV'] = y_train.reset_index(drop=True)\n",
    "train_df.to_csv('train_dataset.csv', index=False)\n",
    "\n",
    "val_df = pd.DataFrame(X_val, columns=X.columns)\n",
    "val_df['BOV'] = y_val.reset_index(drop=True)\n",
    "val_df.to_csv('validation_dataset.csv', index=False)\n",
    "\n",
    "test_df = pd.DataFrame(X_test, columns=X.columns)\n",
    "test_df['BOV'] = y_test.reset_index(drop=True)\n",
    "test_df.to_csv('test_dataset.csv', index=False)\n",
    "\n",
    "print(\"Datasets have been split and saved as CSV files.\")\n"
   ]
  },
  {
   "cell_type": "code",
   "execution_count": 44,
   "id": "21b3c9b2-c9ce-45a4-bd21-8756045df21e",
   "metadata": {},
   "outputs": [],
   "source": [
    "from sklearn.model_selection import train_test_split\n",
    "from sklearn.preprocessing import LabelEncoder, StandardScaler\n",
    "\n",
    "# Encode categorical variables\n",
    "encoder = LabelEncoder()\n",
    "fifa['Preferred Foot'] = encoder.fit_transform(fifa['Preferred Foot'])\n",
    "fifa['Best Position'] = encoder.fit_transform(fifa['Best Position'])\n",
    "fifa['Club'] = encoder.fit_transform(fifa['Club'])\n",
    "\n",
    "# Select features and target\n",
    "X = fifa[['Age', 'Preferred Foot', 'Skill', 'PAC', 'DEF', 'DRI', 'PHY', 'Value', 'Wage']]\n",
    "y = fifa['BOV']  # Target: Best Overall Value\n",
    "\n",
    "# Scale features\n",
    "scaler = StandardScaler()\n",
    "X_scaled = scaler.fit_transform(X)\n",
    "\n",
    "# Train-Test split\n",
    "X_train, X_test, y_train, y_test = train_test_split(X_scaled, y, test_size=0.2, random_state=42)\n",
    "\n",
    "\n",
    "\n"
   ]
  },
  {
   "cell_type": "code",
   "execution_count": 46,
   "id": "12f5f36b-c938-4249-a7fd-3235817f944a",
   "metadata": {},
   "outputs": [
    {
     "name": "stdout",
     "output_type": "stream",
     "text": [
      "Random Forest Regressor - Mean Squared Error: 0.83, R2 Score: 0.98\n"
     ]
    }
   ],
   "source": [
    "from sklearn.ensemble import RandomForestRegressor\n",
    "from sklearn.metrics import mean_squared_error, r2_score\n",
    "\n",
    "\n",
    "\n",
    "# Random Forest Regressor\n",
    "rf_model = RandomForestRegressor(random_state=42, n_estimators=100)\n",
    "rf_model.fit(X_train, y_train)\n",
    "y_pred_rf = rf_model.predict(X_test)\n",
    "\n",
    "# Model Evaluation\n",
    "def evaluate_model(y_true, y_pred, model_name):\n",
    "    mse = mean_squared_error(y_true, y_pred)\n",
    "    r2 = r2_score(y_true, y_pred)\n",
    "    print(f\"{model_name} - Mean Squared Error: {mse:.2f}, R2 Score: {r2:.2f}\")\n",
    "\n",
    "\n",
    "evaluate_model(y_test, y_pred_rf, \"Random Forest Regressor\")\n"
   ]
  },
  {
   "cell_type": "code",
   "execution_count": 47,
   "id": "71da85ef-b34b-482f-a3c7-8856b9be294c",
   "metadata": {},
   "outputs": [
    {
     "data": {
      "image/png": "[encoded data removed]",
      "text/plain": [
       "<Figure size 640x480 with 1 Axes>"
      ]
     },
     "metadata": {},
     "output_type": "display_data"
    }
   ],
   "source": [
    "import matplotlib.pyplot as plt\n",
    "\n",
    "plt.scatter(y_test, y_pred_rf, alpha=0.7)\n",
    "plt.plot([min(y_test), max(y_test)], [min(y_test), max(y_test)], color=\"red\", linestyle=\"--\")\n",
    "plt.xlabel(\"Actual Values\")\n",
    "plt.ylabel(\"Predicted Values\")\n",
    "plt.title(\"Actual vs. Predicted\")\n",
    "plt.show()\n"
   ]
  },
  {
   "cell_type": "markdown",
   "id": "8f85f009-401e-4755-8107-34a4ee04d030",
   "metadata": {},
   "source": [
    "# Save the model to a .pkl file"
   ]
  },
  {
   "cell_type": "code",
   "execution_count": 48,
   "id": "08ca2d40-577b-4d72-a8f8-c8a2cec10112",
   "metadata": {},
   "outputs": [
    {
     "name": "stdout",
     "output_type": "stream",
     "text": [
      "Model saved to random_forest_model.pkl\n"
     ]
    }
   ],
   "source": [
    "import pickle\n",
    "\n",
    "# Save the model to a .pkl file\n",
    "model_filename = \"random_forest_model.pkl\"#random_forest_model.pkl\n",
    "with open(model_filename, \"wb\") as file:\n",
    "    pickle.dump(rf_model, file)\n",
    "\n",
    "print(f\"Model saved to {model_filename}\")\n"
   ]
  },
  {
   "cell_type": "markdown",
   "id": "cba6a957-ae8c-47dd-96ee-9fe1a445c3bf",
   "metadata": {},
   "source": [
    "# Loading the Model Later\n",
    "To load the saved model for inference or further evaluation"
   ]
  },
  {
   "cell_type": "code",
   "execution_count": 49,
   "id": "91b205e7-3278-4250-a083-89140d7d73b3",
   "metadata": {},
   "outputs": [
    {
     "name": "stdout",
     "output_type": "stream",
     "text": [
      "Loaded Random Forest Regressor - Mean Squared Error: 0.83, R2 Score: 0.98\n"
     ]
    }
   ],
   "source": [
    "with open(model_filename, \"rb\") as file:\n",
    "    loaded_model = pickle.load(file)\n",
    "\n",
    "# Example usage\n",
    "y_pred_loaded = loaded_model.predict(X_test)\n",
    "evaluate_model(y_test, y_pred_loaded, \"Loaded Random Forest Regressor\")\n"
   ]
  },
  {
   "cell_type": "code",
   "execution_count": 60,
   "id": "7e262cf4-378d-4808-b955-7e923abd59c5",
   "metadata": {},
   "outputs": [
    {
     "name": "stdout",
     "output_type": "stream",
     "text": [
      "Overwriting fifa_app.py\n"
     ]
    }
   ],
   "source": [
    "\n"
   ]
  },
  {
   "cell_type": "code",
   "execution_count": null,
   "id": "1dd7850d-9116-45e5-921b-27af669a2032",
   "metadata": {},
   "outputs": [],
   "source": []
  }
 ],
 "metadata": {
  "kaggle": {
   "accelerator": "none",
   "dataSources": [
    {
     "datasetId": 3537555,
     "sourceId": 6165863,
     "sourceType": "datasetVersion"
    }
   ],
   "dockerImageVersionId": 30761,
   "isGpuEnabled": false,
   "isInternetEnabled": true,
   "language": "python",
   "sourceType": "notebook"
  },
  "kernelspec": {
   "display_name": "base",
   "language": "python",
   "name": "python3"
  },
  "language_info": {
   "codemirror_mode": {
    "name": "ipython",
    "version": 3
   },
   "file_extension": ".py",
   "mimetype": "text/x-python",
   "name": "python",
   "nbconvert_exporter": "python",
   "pygments_lexer": "ipython3",
   "version": "3.12.4"
  },
  "papermill": {
   "default_parameters": {},
   "duration": 12.76479,
   "end_time": "2024-09-19T10:00:00.825400",
   "environment_variables": {},
   "exception": null,
   "input_path": "__notebook__.ipynb",
   "output_path": "__notebook__.ipynb",
   "parameters": {},
   "start_time": "2024-09-19T09:59:48.060610",
   "version": "2.6.0"
  }
 },
 "nbformat": 4,
 "nbformat_minor": 5
}
